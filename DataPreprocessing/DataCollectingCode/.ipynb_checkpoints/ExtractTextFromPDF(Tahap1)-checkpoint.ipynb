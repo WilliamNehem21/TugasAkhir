{
 "cells": [
  {
   "cell_type": "code",
   "execution_count": 10,
   "id": "409d6fee",
   "metadata": {},
   "outputs": [],
   "source": [
    "from PyPDF2 import PdfReader \n",
    "import PyPDF2\n",
    "import fitz\n",
    "import os\n",
    "#import pdfplumber\n",
    "from pdfminer.high_level import extract_text"
   ]
  },
  {
   "cell_type": "code",
   "execution_count": 8,
   "id": "1f97d00c",
   "metadata": {},
   "outputs": [],
   "source": [
    "directory_path = '/Users/williamnehemia/Documents/Skripsi/TugasAkhir/DataPaper'\n",
    "\n",
    "files = os.listdir(directory_path)\n",
    "files_new = []\n",
    "\n",
    "for file in files:\n",
    "    if '.pdf' in file:\n",
    "        files_new.append(file)"
   ]
  },
  {
   "cell_type": "code",
   "execution_count": 22,
   "id": "844dbd1b",
   "metadata": {},
   "outputs": [],
   "source": [
    "# PyPDF2\n",
    "# looping untuk semua file yang ingin di extract\n",
    "for file in files_new: \n",
    "    # baca file pdf\n",
    "    reader = PdfReader('/Users/williamnehemia/Documents/Skripsi/TugasAkhir/DataPaper/' + file) \n",
    "    \n",
    "    # ambil jumlah halaman\n",
    "    pages = reader.numPages\n",
    "    \n",
    "    text = \"\"\n",
    "    \n",
    "    # looping setiap halaman untuk diambil teksnya\n",
    "    for page in range(0, pages):\n",
    "        text += reader.pages[page].extract_text()\n",
    "        \n",
    "    # menghilangkan format pdf dari nama file yang diambil \n",
    "    new_name_file = file.replace('.pdf', '')\n",
    "    \n",
    "    # mencatat hasil extract teks dari pdf ke txt\n",
    "    with open('/Users/williamnehemia/Documents/Skripsi/TugasAkhir/DataPaperExtracted/' + new_name_file + \".txt\", 'w') as f:\n",
    "        f.write(text)"
   ]
  },
  {
   "cell_type": "code",
   "execution_count": 17,
   "id": "f2f5ae52",
   "metadata": {},
   "outputs": [],
   "source": [
    "# PyMuPDF\n",
    "for file in files_new:\n",
    "    text = \"\"\n",
    "    doc = fitz.open('/Users/williamnehemia/Documents/Skripsi/TugasAkhir/DataPaper/' + file)\n",
    "    for page_num in range(doc.page_count):\n",
    "        page = doc.load_page(page_num)\n",
    "        text += page.get_text()\n",
    "    \n",
    "    \n",
    "    \n",
    "    new_name_file = file.replace('.pdf', '')\n",
    "    doc.close()\n",
    "    with open('/Users/williamnehemia/Documents/Skripsi/TugasAkhir/DataPaperExtractPyMuPDF/' + new_name_file + \".txt\", 'w') as f:\n",
    "        f.write(text)"
   ]
  },
  {
   "cell_type": "code",
   "execution_count": 20,
   "id": "e94f600e",
   "metadata": {},
   "outputs": [
    {
     "ename": "AssertionError",
     "evalue": "",
     "output_type": "error",
     "traceback": [
      "\u001b[0;31m---------------------------------------------------------------------------\u001b[0m",
      "\u001b[0;31mAssertionError\u001b[0m                            Traceback (most recent call last)",
      "Cell \u001b[0;32mIn[20], line 5\u001b[0m\n\u001b[1;32m      3\u001b[0m text \u001b[38;5;241m=\u001b[39m \u001b[38;5;124m\"\u001b[39m\u001b[38;5;124m\"\u001b[39m\n\u001b[1;32m      4\u001b[0m pdf \u001b[38;5;241m=\u001b[39m pdfplumber\u001b[38;5;241m.\u001b[39mopen(\u001b[38;5;124m'\u001b[39m\u001b[38;5;124m/Users/williamnehemia/Documents/Skripsi/TugasAkhir/DataPaper/\u001b[39m\u001b[38;5;124m'\u001b[39m \u001b[38;5;241m+\u001b[39m file)\n\u001b[0;32m----> 5\u001b[0m \u001b[38;5;28;01mfor\u001b[39;00m page \u001b[38;5;129;01min\u001b[39;00m pdf\u001b[38;5;241m.\u001b[39mpages:\n\u001b[1;32m      6\u001b[0m     text \u001b[38;5;241m+\u001b[39m\u001b[38;5;241m=\u001b[39m page\u001b[38;5;241m.\u001b[39mextract_text()\n\u001b[1;32m      7\u001b[0m new_name_file \u001b[38;5;241m=\u001b[39m file\u001b[38;5;241m.\u001b[39mreplace(\u001b[38;5;124m'\u001b[39m\u001b[38;5;124m.pdf\u001b[39m\u001b[38;5;124m'\u001b[39m, \u001b[38;5;124m'\u001b[39m\u001b[38;5;124m'\u001b[39m)\n",
      "File \u001b[0;32m~/anaconda3/envs/spyder_anaconda_skripsi/lib/python3.11/site-packages/pdfplumber/pdf.py:133\u001b[0m, in \u001b[0;36mPDF.pages\u001b[0;34m(self)\u001b[0m\n\u001b[1;32m    131\u001b[0m pp \u001b[38;5;241m=\u001b[39m \u001b[38;5;28mself\u001b[39m\u001b[38;5;241m.\u001b[39mpages_to_parse\n\u001b[1;32m    132\u001b[0m \u001b[38;5;28mself\u001b[39m\u001b[38;5;241m.\u001b[39m_pages: List[Page] \u001b[38;5;241m=\u001b[39m []\n\u001b[0;32m--> 133\u001b[0m \u001b[38;5;28;01mfor\u001b[39;00m i, page \u001b[38;5;129;01min\u001b[39;00m \u001b[38;5;28menumerate\u001b[39m(PDFPage\u001b[38;5;241m.\u001b[39mcreate_pages(\u001b[38;5;28mself\u001b[39m\u001b[38;5;241m.\u001b[39mdoc)):\n\u001b[1;32m    134\u001b[0m     page_number \u001b[38;5;241m=\u001b[39m i \u001b[38;5;241m+\u001b[39m \u001b[38;5;241m1\u001b[39m\n\u001b[1;32m    135\u001b[0m     \u001b[38;5;28;01mif\u001b[39;00m pp \u001b[38;5;129;01mis\u001b[39;00m \u001b[38;5;129;01mnot\u001b[39;00m \u001b[38;5;28;01mNone\u001b[39;00m \u001b[38;5;129;01mand\u001b[39;00m page_number \u001b[38;5;129;01mnot\u001b[39;00m \u001b[38;5;129;01min\u001b[39;00m pp:\n",
      "File \u001b[0;32m~/anaconda3/envs/spyder_anaconda_skripsi/lib/python3.11/site-packages/pdfminer/pdfpage.py:124\u001b[0m, in \u001b[0;36mPDFPage.create_pages\u001b[0;34m(cls, document)\u001b[0m\n\u001b[1;32m    122\u001b[0m     objects \u001b[38;5;241m=\u001b[39m search(document\u001b[38;5;241m.\u001b[39mcatalog[\u001b[38;5;124m\"\u001b[39m\u001b[38;5;124mPages\u001b[39m\u001b[38;5;124m\"\u001b[39m], document\u001b[38;5;241m.\u001b[39mcatalog)\n\u001b[1;32m    123\u001b[0m     \u001b[38;5;28;01mfor\u001b[39;00m (objid, tree) \u001b[38;5;129;01min\u001b[39;00m objects:\n\u001b[0;32m--> 124\u001b[0m         \u001b[38;5;28;01myield\u001b[39;00m \u001b[38;5;28mcls\u001b[39m(document, objid, tree, \u001b[38;5;28mnext\u001b[39m(page_labels))\n\u001b[1;32m    125\u001b[0m         pages \u001b[38;5;241m=\u001b[39m \u001b[38;5;28;01mTrue\u001b[39;00m\n\u001b[1;32m    126\u001b[0m \u001b[38;5;28;01mif\u001b[39;00m \u001b[38;5;129;01mnot\u001b[39;00m pages:\n\u001b[1;32m    127\u001b[0m     \u001b[38;5;66;03m# fallback when /Pages is missing.\u001b[39;00m\n",
      "File \u001b[0;32m~/anaconda3/envs/spyder_anaconda_skripsi/lib/python3.11/site-packages/pdfminer/pdfdocument.py:1053\u001b[0m, in \u001b[0;36mPageLabels.labels\u001b[0;34m(self)\u001b[0m\n\u001b[1;32m   1050\u001b[0m     values \u001b[38;5;241m=\u001b[39m \u001b[38;5;28mrange\u001b[39m(first_value, first_value \u001b[38;5;241m+\u001b[39m range_length)\n\u001b[1;32m   1052\u001b[0m \u001b[38;5;28;01mfor\u001b[39;00m value \u001b[38;5;129;01min\u001b[39;00m values:\n\u001b[0;32m-> 1053\u001b[0m     label \u001b[38;5;241m=\u001b[39m \u001b[38;5;28mself\u001b[39m\u001b[38;5;241m.\u001b[39m_format_page_label(value, style)\n\u001b[1;32m   1054\u001b[0m     \u001b[38;5;28;01myield\u001b[39;00m prefix \u001b[38;5;241m+\u001b[39m label\n",
      "File \u001b[0;32m~/anaconda3/envs/spyder_anaconda_skripsi/lib/python3.11/site-packages/pdfminer/pdfdocument.py:1066\u001b[0m, in \u001b[0;36mPageLabels._format_page_label\u001b[0;34m(value, style)\u001b[0m\n\u001b[1;32m   1064\u001b[0m     label \u001b[38;5;241m=\u001b[39m format_int_roman(value)\u001b[38;5;241m.\u001b[39mupper()\n\u001b[1;32m   1065\u001b[0m \u001b[38;5;28;01melif\u001b[39;00m style \u001b[38;5;129;01mis\u001b[39;00m LIT(\u001b[38;5;124m\"\u001b[39m\u001b[38;5;124mr\u001b[39m\u001b[38;5;124m\"\u001b[39m):  \u001b[38;5;66;03m# Lowercase roman numerals\u001b[39;00m\n\u001b[0;32m-> 1066\u001b[0m     label \u001b[38;5;241m=\u001b[39m format_int_roman(value)\n\u001b[1;32m   1067\u001b[0m \u001b[38;5;28;01melif\u001b[39;00m style \u001b[38;5;129;01mis\u001b[39;00m LIT(\u001b[38;5;124m\"\u001b[39m\u001b[38;5;124mA\u001b[39m\u001b[38;5;124m\"\u001b[39m):  \u001b[38;5;66;03m# Uppercase letters A-Z, AA-ZZ...\u001b[39;00m\n\u001b[1;32m   1068\u001b[0m     label \u001b[38;5;241m=\u001b[39m format_int_alpha(value)\u001b[38;5;241m.\u001b[39mupper()\n",
      "File \u001b[0;32m~/anaconda3/envs/spyder_anaconda_skripsi/lib/python3.11/site-packages/pdfminer/utils.py:770\u001b[0m, in \u001b[0;36mformat_int_roman\u001b[0;34m(value)\u001b[0m\n\u001b[1;32m    767\u001b[0m \u001b[38;5;28;01mdef\u001b[39;00m \u001b[38;5;21mformat_int_roman\u001b[39m(value: \u001b[38;5;28mint\u001b[39m) \u001b[38;5;241m-\u001b[39m\u001b[38;5;241m>\u001b[39m \u001b[38;5;28mstr\u001b[39m:\n\u001b[1;32m    768\u001b[0m \u001b[38;5;250m    \u001b[39m\u001b[38;5;124;03m\"\"\"Format a number as lowercase Roman numerals.\"\"\"\u001b[39;00m\n\u001b[0;32m--> 770\u001b[0m     \u001b[38;5;28;01massert\u001b[39;00m \u001b[38;5;241m0\u001b[39m \u001b[38;5;241m<\u001b[39m value \u001b[38;5;241m<\u001b[39m \u001b[38;5;241m4000\u001b[39m\n\u001b[1;32m    771\u001b[0m     result: List[\u001b[38;5;28mstr\u001b[39m] \u001b[38;5;241m=\u001b[39m []\n\u001b[1;32m    772\u001b[0m     index \u001b[38;5;241m=\u001b[39m \u001b[38;5;241m0\u001b[39m\n",
      "\u001b[0;31mAssertionError\u001b[0m: "
     ]
    }
   ],
   "source": [
    "# pdfplumber\n",
    "for file in files_new:\n",
    "    text = \"\"\n",
    "    pdf = pdfplumber.open('/Users/williamnehemia/Documents/Skripsi/TugasAkhir/DataPaper/' + file)\n",
    "    for page in pdf.pages:\n",
    "        text += page.extract_text()\n",
    "    new_name_file = file.replace('.pdf', '')\n",
    "    with open('/Users/williamnehemia/Documents/Skripsi/TugasAkhir/DataPaperExtractPDFPlumber/' + new_name_file + \".txt\", 'w') as f:\n",
    "        f.write(text)"
   ]
  },
  {
   "cell_type": "code",
   "execution_count": 11,
   "id": "1722a025",
   "metadata": {},
   "outputs": [
    {
     "ename": "AssertionError",
     "evalue": "",
     "output_type": "error",
     "traceback": [
      "\u001b[0;31m---------------------------------------------------------------------------\u001b[0m",
      "\u001b[0;31mAssertionError\u001b[0m                            Traceback (most recent call last)",
      "Cell \u001b[0;32mIn[11], line 5\u001b[0m\n\u001b[1;32m      3\u001b[0m text \u001b[38;5;241m=\u001b[39m \u001b[38;5;124m\"\u001b[39m\u001b[38;5;124m\"\u001b[39m\n\u001b[1;32m      4\u001b[0m pdf \u001b[38;5;241m=\u001b[39m \u001b[38;5;124m'\u001b[39m\u001b[38;5;124m/Users/williamnehemia/Documents/Skripsi/TugasAkhir/DataPaper/\u001b[39m\u001b[38;5;124m'\u001b[39m \u001b[38;5;241m+\u001b[39m file\n\u001b[0;32m----> 5\u001b[0m text \u001b[38;5;241m=\u001b[39m extract_text(pdf)\n\u001b[1;32m      6\u001b[0m new_name_file \u001b[38;5;241m=\u001b[39m file\u001b[38;5;241m.\u001b[39mreplace(\u001b[38;5;124m'\u001b[39m\u001b[38;5;124m.pdf\u001b[39m\u001b[38;5;124m'\u001b[39m, \u001b[38;5;124m'\u001b[39m\u001b[38;5;124m'\u001b[39m)\n\u001b[1;32m      7\u001b[0m \u001b[38;5;28;01mwith\u001b[39;00m \u001b[38;5;28mopen\u001b[39m(\u001b[38;5;124m'\u001b[39m\u001b[38;5;124m/Users/williamnehemia/Documents/Skripsi/TugasAkhir/DataPaperExtractedPdfMiner/\u001b[39m\u001b[38;5;124m'\u001b[39m \u001b[38;5;241m+\u001b[39m new_name_file \u001b[38;5;241m+\u001b[39m \u001b[38;5;124m\"\u001b[39m\u001b[38;5;124m.txt\u001b[39m\u001b[38;5;124m\"\u001b[39m, \u001b[38;5;124m'\u001b[39m\u001b[38;5;124mw\u001b[39m\u001b[38;5;124m'\u001b[39m) \u001b[38;5;28;01mas\u001b[39;00m f:\n",
      "File \u001b[0;32m~/anaconda3/envs/spyder_anaconda_skripsi/lib/python3.11/site-packages/pdfminer/high_level.py:168\u001b[0m, in \u001b[0;36mextract_text\u001b[0;34m(pdf_file, password, page_numbers, maxpages, caching, codec, laparams)\u001b[0m\n\u001b[1;32m    165\u001b[0m device \u001b[38;5;241m=\u001b[39m TextConverter(rsrcmgr, output_string, codec\u001b[38;5;241m=\u001b[39mcodec, laparams\u001b[38;5;241m=\u001b[39mlaparams)\n\u001b[1;32m    166\u001b[0m interpreter \u001b[38;5;241m=\u001b[39m PDFPageInterpreter(rsrcmgr, device)\n\u001b[0;32m--> 168\u001b[0m \u001b[38;5;28;01mfor\u001b[39;00m page \u001b[38;5;129;01min\u001b[39;00m PDFPage\u001b[38;5;241m.\u001b[39mget_pages(\n\u001b[1;32m    169\u001b[0m     fp,\n\u001b[1;32m    170\u001b[0m     page_numbers,\n\u001b[1;32m    171\u001b[0m     maxpages\u001b[38;5;241m=\u001b[39mmaxpages,\n\u001b[1;32m    172\u001b[0m     password\u001b[38;5;241m=\u001b[39mpassword,\n\u001b[1;32m    173\u001b[0m     caching\u001b[38;5;241m=\u001b[39mcaching,\n\u001b[1;32m    174\u001b[0m ):\n\u001b[1;32m    175\u001b[0m     interpreter\u001b[38;5;241m.\u001b[39mprocess_page(page)\n\u001b[1;32m    177\u001b[0m \u001b[38;5;28;01mreturn\u001b[39;00m output_string\u001b[38;5;241m.\u001b[39mgetvalue()\n",
      "File \u001b[0;32m~/anaconda3/envs/spyder_anaconda_skripsi/lib/python3.11/site-packages/pdfminer/pdfpage.py:168\u001b[0m, in \u001b[0;36mPDFPage.get_pages\u001b[0;34m(cls, fp, pagenos, maxpages, password, caching, check_extractable)\u001b[0m\n\u001b[1;32m    166\u001b[0m         log\u001b[38;5;241m.\u001b[39mwarning(warning_msg)\n\u001b[1;32m    167\u001b[0m \u001b[38;5;66;03m# Process each page contained in the document.\u001b[39;00m\n\u001b[0;32m--> 168\u001b[0m \u001b[38;5;28;01mfor\u001b[39;00m (pageno, page) \u001b[38;5;129;01min\u001b[39;00m \u001b[38;5;28menumerate\u001b[39m(\u001b[38;5;28mcls\u001b[39m\u001b[38;5;241m.\u001b[39mcreate_pages(doc)):\n\u001b[1;32m    169\u001b[0m     \u001b[38;5;28;01mif\u001b[39;00m pagenos \u001b[38;5;129;01mand\u001b[39;00m (pageno \u001b[38;5;129;01mnot\u001b[39;00m \u001b[38;5;129;01min\u001b[39;00m pagenos):\n\u001b[1;32m    170\u001b[0m         \u001b[38;5;28;01mcontinue\u001b[39;00m\n",
      "File \u001b[0;32m~/anaconda3/envs/spyder_anaconda_skripsi/lib/python3.11/site-packages/pdfminer/pdfpage.py:124\u001b[0m, in \u001b[0;36mPDFPage.create_pages\u001b[0;34m(cls, document)\u001b[0m\n\u001b[1;32m    122\u001b[0m     objects \u001b[38;5;241m=\u001b[39m search(document\u001b[38;5;241m.\u001b[39mcatalog[\u001b[38;5;124m\"\u001b[39m\u001b[38;5;124mPages\u001b[39m\u001b[38;5;124m\"\u001b[39m], document\u001b[38;5;241m.\u001b[39mcatalog)\n\u001b[1;32m    123\u001b[0m     \u001b[38;5;28;01mfor\u001b[39;00m (objid, tree) \u001b[38;5;129;01min\u001b[39;00m objects:\n\u001b[0;32m--> 124\u001b[0m         \u001b[38;5;28;01myield\u001b[39;00m \u001b[38;5;28mcls\u001b[39m(document, objid, tree, \u001b[38;5;28mnext\u001b[39m(page_labels))\n\u001b[1;32m    125\u001b[0m         pages \u001b[38;5;241m=\u001b[39m \u001b[38;5;28;01mTrue\u001b[39;00m\n\u001b[1;32m    126\u001b[0m \u001b[38;5;28;01mif\u001b[39;00m \u001b[38;5;129;01mnot\u001b[39;00m pages:\n\u001b[1;32m    127\u001b[0m     \u001b[38;5;66;03m# fallback when /Pages is missing.\u001b[39;00m\n",
      "File \u001b[0;32m~/anaconda3/envs/spyder_anaconda_skripsi/lib/python3.11/site-packages/pdfminer/pdfdocument.py:1053\u001b[0m, in \u001b[0;36mPageLabels.labels\u001b[0;34m(self)\u001b[0m\n\u001b[1;32m   1050\u001b[0m     values \u001b[38;5;241m=\u001b[39m \u001b[38;5;28mrange\u001b[39m(first_value, first_value \u001b[38;5;241m+\u001b[39m range_length)\n\u001b[1;32m   1052\u001b[0m \u001b[38;5;28;01mfor\u001b[39;00m value \u001b[38;5;129;01min\u001b[39;00m values:\n\u001b[0;32m-> 1053\u001b[0m     label \u001b[38;5;241m=\u001b[39m \u001b[38;5;28mself\u001b[39m\u001b[38;5;241m.\u001b[39m_format_page_label(value, style)\n\u001b[1;32m   1054\u001b[0m     \u001b[38;5;28;01myield\u001b[39;00m prefix \u001b[38;5;241m+\u001b[39m label\n",
      "File \u001b[0;32m~/anaconda3/envs/spyder_anaconda_skripsi/lib/python3.11/site-packages/pdfminer/pdfdocument.py:1066\u001b[0m, in \u001b[0;36mPageLabels._format_page_label\u001b[0;34m(value, style)\u001b[0m\n\u001b[1;32m   1064\u001b[0m     label \u001b[38;5;241m=\u001b[39m format_int_roman(value)\u001b[38;5;241m.\u001b[39mupper()\n\u001b[1;32m   1065\u001b[0m \u001b[38;5;28;01melif\u001b[39;00m style \u001b[38;5;129;01mis\u001b[39;00m LIT(\u001b[38;5;124m\"\u001b[39m\u001b[38;5;124mr\u001b[39m\u001b[38;5;124m\"\u001b[39m):  \u001b[38;5;66;03m# Lowercase roman numerals\u001b[39;00m\n\u001b[0;32m-> 1066\u001b[0m     label \u001b[38;5;241m=\u001b[39m format_int_roman(value)\n\u001b[1;32m   1067\u001b[0m \u001b[38;5;28;01melif\u001b[39;00m style \u001b[38;5;129;01mis\u001b[39;00m LIT(\u001b[38;5;124m\"\u001b[39m\u001b[38;5;124mA\u001b[39m\u001b[38;5;124m\"\u001b[39m):  \u001b[38;5;66;03m# Uppercase letters A-Z, AA-ZZ...\u001b[39;00m\n\u001b[1;32m   1068\u001b[0m     label \u001b[38;5;241m=\u001b[39m format_int_alpha(value)\u001b[38;5;241m.\u001b[39mupper()\n",
      "File \u001b[0;32m~/anaconda3/envs/spyder_anaconda_skripsi/lib/python3.11/site-packages/pdfminer/utils.py:770\u001b[0m, in \u001b[0;36mformat_int_roman\u001b[0;34m(value)\u001b[0m\n\u001b[1;32m    767\u001b[0m \u001b[38;5;28;01mdef\u001b[39;00m \u001b[38;5;21mformat_int_roman\u001b[39m(value: \u001b[38;5;28mint\u001b[39m) \u001b[38;5;241m-\u001b[39m\u001b[38;5;241m>\u001b[39m \u001b[38;5;28mstr\u001b[39m:\n\u001b[1;32m    768\u001b[0m \u001b[38;5;250m    \u001b[39m\u001b[38;5;124;03m\"\"\"Format a number as lowercase Roman numerals.\"\"\"\u001b[39;00m\n\u001b[0;32m--> 770\u001b[0m     \u001b[38;5;28;01massert\u001b[39;00m \u001b[38;5;241m0\u001b[39m \u001b[38;5;241m<\u001b[39m value \u001b[38;5;241m<\u001b[39m \u001b[38;5;241m4000\u001b[39m\n\u001b[1;32m    771\u001b[0m     result: List[\u001b[38;5;28mstr\u001b[39m] \u001b[38;5;241m=\u001b[39m []\n\u001b[1;32m    772\u001b[0m     index \u001b[38;5;241m=\u001b[39m \u001b[38;5;241m0\u001b[39m\n",
      "\u001b[0;31mAssertionError\u001b[0m: "
     ]
    }
   ],
   "source": [
    "#pdfminer\n",
    "for file in files_new:\n",
    "    text = \"\"\n",
    "    pdf = '/Users/williamnehemia/Documents/Skripsi/TugasAkhir/DataPaper/' + file\n",
    "    text = extract_text(pdf)\n",
    "    new_name_file = file.replace('.pdf', '')\n",
    "    with open('/Users/williamnehemia/Documents/Skripsi/TugasAkhir/DataPaperExtractedPdfMiner/' + new_name_file + \".txt\", 'w') as f:\n",
    "        f.write(text)"
   ]
  },
  {
   "cell_type": "code",
   "execution_count": null,
   "id": "2fcb4bdd",
   "metadata": {},
   "outputs": [],
   "source": []
  }
 ],
 "metadata": {
  "kernelspec": {
   "display_name": "Python 3 (ipykernel)",
   "language": "python",
   "name": "python3"
  },
  "language_info": {
   "codemirror_mode": {
    "name": "ipython",
    "version": 3
   },
   "file_extension": ".py",
   "mimetype": "text/x-python",
   "name": "python",
   "nbconvert_exporter": "python",
   "pygments_lexer": "ipython3",
   "version": "3.11.5"
  }
 },
 "nbformat": 4,
 "nbformat_minor": 5
}
