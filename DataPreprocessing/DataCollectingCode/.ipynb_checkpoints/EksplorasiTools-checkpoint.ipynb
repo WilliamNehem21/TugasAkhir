{
 "cells": [
  {
   "cell_type": "code",
   "execution_count": null,
   "id": "4f07e2e8",
   "metadata": {},
   "outputs": [],
   "source": [
    "# Menyimpan seluruh text yang akan digunakan untuk mencoba library word2vec dan fasttext\n",
    "import os\n",
    "directory_path = '/Users/williamnehemia/Documents/Skripsi/TugasAkhir/DataTahap7(DataCleaning)'\n",
    "\n",
    "files = os.listdir(directory_path)\n",
    "files_new = []\n",
    "\n",
    "for file in files:\n",
    "    if '.DS_Store' not in file:\n",
    "        files_new.append(file)\n",
    "all_text = \"\"\n",
    "for file in files_new:\n",
    "    jumlah_paragraf_curr = 0\n",
    "    with open('/Users/williamnehemia/Documents/Skripsi/TugasAkhir/DataTahap7(DataCleaning)/' + file, 'r') as fileNow:\n",
    "        content = fileNow.read()\n",
    "        lines = content.splitlines()\n",
    "        for line in lines:\n",
    "            all_text += \" \" + line\n",
    "with open('/Users/williamnehemia/Documents/Skripsi/TugasAkhir/data.txt', 'w') as file:\n",
    "    file.write(all_text)"
   ]
  },
  {
   "cell_type": "code",
   "execution_count": null,
   "id": "1dd4190e",
   "metadata": {},
   "outputs": [],
   "source": [
    "# Mengambil text yang disimpan\n",
    "import nltk\n",
    "text = \"\"\n",
    "with open('/Users/williamnehemia/Documents/Skripsi/TugasAkhir/data.txt', 'r') as file:\n",
    "    text = file.read()\n",
    "text_tokenize = nltk.word_tokenize(text)"
   ]
  },
  {
   "cell_type": "markdown",
   "id": "081bac57",
   "metadata": {},
   "source": [
    "NLTK"
   ]
  },
  {
   "cell_type": "code",
   "execution_count": null,
   "id": "fe740d38",
   "metadata": {},
   "outputs": [],
   "source": [
    "# import library\n",
    "import nltk"
   ]
  },
  {
   "cell_type": "code",
   "execution_count": null,
   "id": "79732dbd",
   "metadata": {},
   "outputs": [],
   "source": [
    "# Mencoba method word_tokenize untuk tokenisasi\n",
    "sentence = \"in this section, a brief introduction to deep graph learning in molecular docking is provided. detailed descriptions of the field and its applications in multiple areas can be found in. in simple terms, a graph is a data structure consisting of a set of nodes connected by edges\"\n",
    "tokens = nltk.word_tokenize(sentence)\n",
    "print(tokens)"
   ]
  },
  {
   "cell_type": "code",
   "execution_count": null,
   "id": "f84c4d15",
   "metadata": {},
   "outputs": [],
   "source": [
    "# Stopwords yang disediakan oleh library nltk\n",
    "stopwords = nltk.corpus.stopwords.words(\"english\")\n",
    "print(stopwords)"
   ]
  },
  {
   "cell_type": "markdown",
   "id": "4a5fdf25",
   "metadata": {},
   "source": [
    "Word2vec"
   ]
  },
  {
   "cell_type": "code",
   "execution_count": null,
   "id": "133fa892",
   "metadata": {},
   "outputs": [],
   "source": [
    "# Generate text yang dapat diiterasi\n",
    "from gensim.test.utils import datapath\n",
    "from gensim import utils\n",
    "from gensim.models import Word2Vec\n",
    "\n",
    "class MyText:\n",
    "    \"\"\"An iterator that yields sentences (lists of str).\"\"\"\n",
    "\n",
    "    def __iter__(self):\n",
    "        corpus_path = datapath('/Users/williamnehemia/Documents/Skripsi/TugasAkhir/data.txt')\n",
    "        for line in open(corpus_path):\n",
    "            # assume there's one document per line, tokens separated by whitespace\n",
    "            yield utils.simple_preprocess(line)\n",
    "text = MyText()"
   ]
  },
  {
   "cell_type": "code",
   "execution_count": null,
   "id": "7985994b",
   "metadata": {},
   "outputs": [],
   "source": [
    "# Mencoba membuat model word2vec dengan cbow dan menyimpannya\n",
    "from gensim.models import Word2Vec\n",
    "\n",
    "model = Word2Vec(sentences=text, vector_size=20, min_count=5, workers = 10, compute_loss=True,  window=5, sg = 0, cbow_mean = 0, alpha = 0.01, seed = 10, epochs = 1000)\n",
    "model.save(\"word2vec_cbow.model\")\n",
    "\n"
   ]
  },
  {
   "cell_type": "code",
   "execution_count": null,
   "id": "e4fa0631",
   "metadata": {},
   "outputs": [],
   "source": [
    "# Mencoba membuat model word2vec dengan skipgram dan menyimpannya\n",
    "from gensim.models import Word2Vec\n",
    "\n",
    "model = Word2Vec(sentences=text, vector_size=150, min_count=5, workers = 10, compute_loss=True,  window=5, sg = 1, alpha = 0.01, seed = 10, epochs = 1000)\n",
    "model.save(\"word2vec_skipgram.model\")\n"
   ]
  },
  {
   "cell_type": "code",
   "execution_count": null,
   "id": "36f988e6",
   "metadata": {},
   "outputs": [],
   "source": [
    "# Load model word2vec yang telah disimpan\n",
    "model_cbow = Word2Vec.load(\"word2vec_cbow.model\")\n",
    "model_skipgram = Word2Vec.load(\"word2vec_skipgram.model\")"
   ]
  },
  {
   "cell_type": "code",
   "execution_count": null,
   "id": "376bf1d8",
   "metadata": {},
   "outputs": [],
   "source": [
    "# Print vektor dari kata 'data' dari model word2vec cbow\n",
    "vec_computer = model_cbow.wv['data']\n",
    "print(vec_computer)"
   ]
  },
  {
   "cell_type": "code",
   "execution_count": null,
   "id": "c73e97e4",
   "metadata": {},
   "outputs": [],
   "source": [
    "# Print vektor dari kata 'data' dari model word2vec cbow\n",
    "vec_computer = model_skipgram.wv['data']\n",
    "print(vec_computer)"
   ]
  },
  {
   "cell_type": "code",
   "execution_count": null,
   "id": "c705709b",
   "metadata": {},
   "outputs": [],
   "source": [
    "# Print kesamaan dari 2 kata dengan model word2vec cbow \n",
    "model_cbow.wv.similarity('network', 'internet')"
   ]
  },
  {
   "cell_type": "code",
   "execution_count": null,
   "id": "afd9b4ef",
   "metadata": {},
   "outputs": [],
   "source": [
    "# Print kesamaan dari 2 kata dengan model word2vec skipgram \n",
    "model_skipgram.wv.similarity('network', 'internet')"
   ]
  },
  {
   "cell_type": "code",
   "execution_count": null,
   "id": "cd3afc7a",
   "metadata": {},
   "outputs": [],
   "source": [
    "# Print 5 kata yang paling mirip dengan kata 'algorithm' dari model word2vec cbow \n",
    "print(model_cbow.wv.most_similar(positive=['model'], negative=['algorithm'],topn=5))"
   ]
  },
  {
   "cell_type": "code",
   "execution_count": null,
   "id": "22f27add",
   "metadata": {},
   "outputs": [],
   "source": [
    "# Print 5 kata yang paling tidak mirip dengan kata 'algorithm' dari model word2vec cbow \n",
    "print(model_cbow.wv.most_similar(negative=['data'], topn=5))"
   ]
  },
  {
   "cell_type": "code",
   "execution_count": null,
   "id": "0890020e",
   "metadata": {},
   "outputs": [],
   "source": [
    "# Print 5 kata yang paling mirip dengan kata 'algorithm' dari model word2vec skipgram \n",
    "print(model_skipgram.wv.most_similar(positive=['algorithm'], topn=5))"
   ]
  },
  {
   "cell_type": "code",
   "execution_count": null,
   "id": "7eefbeac",
   "metadata": {},
   "outputs": [],
   "source": [
    "# Print training loss dari model word2vec cbow\n",
    "training_loss = model_cbow.get_latest_training_loss()\n",
    "print(training_loss)"
   ]
  },
  {
   "cell_type": "code",
   "execution_count": null,
   "id": "35d6e37a",
   "metadata": {},
   "outputs": [],
   "source": [
    "# Print training loss dari model word2vec skipgram\n",
    "training_loss = model_skipgram.get_latest_training_loss()\n",
    "print(training_loss)"
   ]
  },
  {
   "cell_type": "code",
   "execution_count": null,
   "id": "8be9a950",
   "metadata": {},
   "outputs": [],
   "source": [
    "# Mencoba melanjutkan training model word2vec cbow dengan data baru\n",
    "import gensim\n",
    "model_cbow = gensim.models.Word2Vec.load('/Users/williamnehemia/Documents/Skripsi/TugasAkhir/DataCollectingCode/word2vec_cbow.model')\n",
    "more_sentences = [\n",
    "    ['with', 'the', 'rapid', 'progression', 'of', 'technology',\n",
    "     'machine', 'learning', 'is', 'becoming', 'increasingly', 'sophisticated', 'prompting'\n",
    "     'researchers', 'to', 'investigate', 'its', 'potential', 'in', 'detecting', 'malware' ],\n",
    "]\n",
    "\n",
    "model_cbow.train(corpus_iterable = more_sentences, total_examples=model_cbow.corpus_count, epochs=model_cbow.epochs, compute_loss=True, start_alpha=0.01)\n",
    "\n",
    "\n"
   ]
  },
  {
   "cell_type": "markdown",
   "id": "7f2b5baa",
   "metadata": {},
   "source": [
    "fasttext"
   ]
  },
  {
   "cell_type": "code",
   "execution_count": null,
   "id": "060feff5",
   "metadata": {},
   "outputs": [],
   "source": [
    "# Import library\n",
    "import fasttext"
   ]
  },
  {
   "cell_type": "code",
   "execution_count": null,
   "id": "0ad657a4",
   "metadata": {},
   "outputs": [],
   "source": [
    "# Membuat model word embedding fasttext menggunakan CBOW\n",
    "model_cbow = fasttext.train_unsupervised(input='/Users/williamnehemia/Documents/Skripsi/TugasAkhir/data.txt', model='cbow', lr=0.01, dim=20, ws=5, epoch=100, minCount=5, minn=3, maxn=3, thread=10)\n"
   ]
  },
  {
   "cell_type": "code",
   "execution_count": null,
   "id": "a3ac7a6b",
   "metadata": {},
   "outputs": [],
   "source": [
    "# Membuat model word embedding fasttext menggunakan skipgram\n",
    "model_skipgram = fasttext.train_unsupervised(input='/Users/williamnehemia/Documents/Skripsi/TugasAkhir/data.txt', model='skipgram', lr=0.01, dim=20, ws=5, epoch=100, minCount=5, minn=3, maxn=3, thread=10)\n"
   ]
  },
  {
   "cell_type": "code",
   "execution_count": null,
   "id": "1c3500b7",
   "metadata": {},
   "outputs": [],
   "source": [
    "# Menyimpan model fasttext menggunakan CBOW\n",
    "model_cbow.save_model(\"model_cbow_fasttext.bin\")\n"
   ]
  },
  {
   "cell_type": "code",
   "execution_count": null,
   "id": "21217088",
   "metadata": {},
   "outputs": [],
   "source": [
    "# Menyimpan model fasttext menggunakan skipgram\n",
    "model_skipgram.save_model(\"model_skipgram_fasttext.bin\")"
   ]
  },
  {
   "cell_type": "code",
   "execution_count": null,
   "id": "435f0883",
   "metadata": {},
   "outputs": [],
   "source": [
    "# Load model fasttext menggunakan CBOW yang telah dibuat\n",
    "model_cbow = fasttext.load_model(\"model_cbow_fasttext.bin\")\n"
   ]
  },
  {
   "cell_type": "code",
   "execution_count": null,
   "id": "d9fbea06",
   "metadata": {},
   "outputs": [],
   "source": [
    "# Load model fasttext menggunakan skipgram yang telah dibuat\n",
    "model_skipgram = fasttext.load_model(\"model_skipgram_fasttext.bin\")\n"
   ]
  },
  {
   "cell_type": "code",
   "execution_count": null,
   "id": "858c3783",
   "metadata": {},
   "outputs": [],
   "source": [
    "# Print kata yang terdapat pada model fasttext menggunakan CBOW\n",
    "print(model_cbow.get_words())   "
   ]
  },
  {
   "cell_type": "code",
   "execution_count": null,
   "id": "264879ec",
   "metadata": {},
   "outputs": [],
   "source": [
    "# Print kata yang terdapat pada model fasttext menggunakan skipgram\n",
    "print(model_skipgram.get_words())  "
   ]
  },
  {
   "cell_type": "code",
   "execution_count": null,
   "id": "2ce3ade3",
   "metadata": {},
   "outputs": [],
   "source": [
    "# Print label yang terdapat pada model fasttext menggunakan skipgram\n",
    "print(model_cbow.labels)"
   ]
  },
  {
   "cell_type": "code",
   "execution_count": null,
   "id": "38cd94e2",
   "metadata": {},
   "outputs": [],
   "source": [
    "# Mengambil word vector dari kata 'data' dari model fasttext dengan CBOW\n",
    "print(model_cbow.get_word_vector(\"data\"))"
   ]
  },
  {
   "cell_type": "code",
   "execution_count": null,
   "id": "3b8b1f9e",
   "metadata": {},
   "outputs": [],
   "source": [
    "# Mengambil word vector dari kata 'data' dari model fasttext dengan skipgram\n",
    "print(model_skipgram.get_word_vector(\"data\"))"
   ]
  },
  {
   "cell_type": "markdown",
   "id": "e6ffa5ce",
   "metadata": {},
   "source": [
    "LogisticRegregression"
   ]
  },
  {
   "cell_type": "code",
   "execution_count": null,
   "id": "de7ee13b",
   "metadata": {},
   "outputs": [],
   "source": [
    "# Mencoba membuat model logistic regression, melatihnya, dan memprediksi\n",
    "from sklearn.datasets import load_iris\n",
    "from sklearn.linear_model import LogisticRegression\n",
    "x, y = load_iris(return_X_y=True)\n",
    "\n",
    "model = LogisticRegression(penalty='l2', C=1, max_iter=100, fit_intercept=True, random_state=0, n_jobs=10)\n",
    "model = model.fit(x, y)\n",
    "\n",
    "print(model.predict([[5.1, 3.5, 1.4, 0.2]]))"
   ]
  },
  {
   "cell_type": "code",
   "execution_count": null,
   "id": "5243b78f",
   "metadata": {},
   "outputs": [],
   "source": [
    "# Mencoba menghitung rata rata accuracy dari data\n",
    "print(model.score(x, y))\n"
   ]
  },
  {
   "cell_type": "markdown",
   "id": "3d0e7f1e",
   "metadata": {},
   "source": [
    "svm"
   ]
  },
  {
   "cell_type": "code",
   "execution_count": null,
   "id": "7f0fae4e",
   "metadata": {},
   "outputs": [],
   "source": [
    "# Mencoba untuk membuat model, melatih, dan memprediksi dari svc\n",
    "from sklearn.datasets import load_iris\n",
    "from sklearn.model_selection import train_test_split\n",
    "from sklearn.svm import SVC\n",
    "\n",
    "iris = load_iris()\n",
    "x = iris.data\n",
    "y = iris.target\n",
    "\n",
    "x_train, x_test, y_train, y_test = train_test_split(x, y, test_size=0.3, random_state=42)\n",
    "\n",
    "model = SVC(C=1.0, kernel='poly', degree=2 , gamma='scale')\n",
    "model.fit(x_train, y_train)\n",
    "print(model.predict(x_test))"
   ]
  },
  {
   "cell_type": "code",
   "execution_count": null,
   "id": "69728b5a",
   "metadata": {},
   "outputs": [],
   "source": [
    "# Mencoba menghitung rata rata accuracy dari data\n",
    "print(model.score(x_test, y_test))"
   ]
  },
  {
   "cell_type": "code",
   "execution_count": null,
   "id": "c1c6598f",
   "metadata": {},
   "outputs": [],
   "source": []
  }
 ],
 "metadata": {
  "kernelspec": {
   "display_name": "Python 3 (ipykernel)",
   "language": "python",
   "name": "python3"
  },
  "language_info": {
   "codemirror_mode": {
    "name": "ipython",
    "version": 3
   },
   "file_extension": ".py",
   "mimetype": "text/x-python",
   "name": "python",
   "nbconvert_exporter": "python",
   "pygments_lexer": "ipython3",
   "version": "3.11.5"
  }
 },
 "nbformat": 4,
 "nbformat_minor": 5
}
