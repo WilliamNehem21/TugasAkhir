{
 "cells": [
  {
   "cell_type": "code",
   "execution_count": 1,
   "id": "44eb4b82",
   "metadata": {},
   "outputs": [],
   "source": [
    "# import library\n",
    "import os\n",
    "import shutil\n",
    "import shutil"
   ]
  },
  {
   "cell_type": "code",
   "execution_count": 2,
   "id": "e85a82a3",
   "metadata": {},
   "outputs": [],
   "source": [
    "# Ambil file asli sebanyak 200\n",
    "directory_path_real = '/Users/williamnehemia/Documents/Skripsi/TugasAkhir/WordEmbeddingModel/Data/Data_asli'\n",
    "\n",
    "files_real = os.listdir(directory_path_real)\n",
    "list_files_real = []\n",
    "counter = 0\n",
    "\n",
    "# Ambil daftar nama file\n",
    "for file in files_real:\n",
    "    if '.DS_Store' not in file:\n",
    "        list_files_real.append(file)\n",
    "        \n",
    "all_text_real = \"\"\n",
    "for file in list_files_real:\n",
    "    with open('/Users/williamnehemia/Documents/Skripsi/TugasAkhir/WordEmbeddingModel/Data/Data_asli/' + file, 'r') as fileNow:\n",
    "        content = fileNow.read()\n",
    "        lines = content.splitlines()\n",
    "        if counter < 200:\n",
    "            counter += 1\n",
    "            # sumber file\n",
    "            source_file = '/Users/williamnehemia/Documents/Skripsi/TugasAkhir/WordEmbeddingModel/Data/Data_asli/' + file\n",
    "            \n",
    "            # file tujuan\n",
    "            destination_folder = '/Users/williamnehemia/Documents/Skripsi/TugasAkhir/ToolsExploration/Data/Data_asli'\n",
    "            \n",
    "            # menyalin file ke folder baru\n",
    "            shutil.copy(source_file, destination_folder)\n"
   ]
  },
  {
   "cell_type": "code",
   "execution_count": 3,
   "id": "91feb6b1",
   "metadata": {},
   "outputs": [],
   "source": [
    "# Ambil file parafrasa sebanyak 200\n",
    "directory_path_paraphrased = '/Users/williamnehemia/Documents/Skripsi/TugasAkhir/WordEmbeddingModel/Data/Data_parafrasa'\n",
    "\n",
    "files_paraphrased = os.listdir(directory_path_paraphrased)\n",
    "list_files_paraphrased = []\n",
    "counter = 0\n",
    "\n",
    "# Ambil daftar nama file\n",
    "for file in files_paraphrased:\n",
    "    if '.DS_Store' not in file:\n",
    "        list_files_paraphrased.append(file)\n",
    "        \n",
    "all_text_paraphrased = \"\"\n",
    "for file in list_files_paraphrased:\n",
    "    with open('/Users/williamnehemia/Documents/Skripsi/TugasAkhir/WordEmbeddingModel/Data/Data_parafrasa/' + file, 'r') as fileNow:\n",
    "        content = fileNow.read()\n",
    "        lines = content.splitlines()\n",
    "        if counter < 200:\n",
    "            counter += 1\n",
    "            # sumber file\n",
    "            source_file = '/Users/williamnehemia/Documents/Skripsi/TugasAkhir/WordEmbeddingModel/Data/Data_parafrasa/' + file\n",
    "            \n",
    "            # file tujuan\n",
    "            destination_folder = '/Users/williamnehemia/Documents/Skripsi/TugasAkhir/ToolsExploration/Data/Data_parafrasa'\n",
    "            \n",
    "            # menyalin file ke folder baru\n",
    "            shutil.copy(source_file, destination_folder)\n",
    "        \n",
    "        \n"
   ]
  },
  {
   "cell_type": "code",
   "execution_count": null,
   "id": "bb407863",
   "metadata": {},
   "outputs": [],
   "source": []
  }
 ],
 "metadata": {
  "kernelspec": {
   "display_name": "Python 3 (ipykernel)",
   "language": "python",
   "name": "python3"
  },
  "language_info": {
   "codemirror_mode": {
    "name": "ipython",
    "version": 3
   },
   "file_extension": ".py",
   "mimetype": "text/x-python",
   "name": "python",
   "nbconvert_exporter": "python",
   "pygments_lexer": "ipython3",
   "version": "3.11.5"
  }
 },
 "nbformat": 4,
 "nbformat_minor": 5
}
