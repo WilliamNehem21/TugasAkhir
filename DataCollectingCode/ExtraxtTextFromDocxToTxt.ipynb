{
 "cells": [
  {
   "cell_type": "code",
   "execution_count": 1,
   "id": "f9da8e46",
   "metadata": {},
   "outputs": [],
   "source": [
    "from docx import Document\n",
    "import os"
   ]
  },
  {
   "cell_type": "code",
   "execution_count": 2,
   "id": "e59791f3",
   "metadata": {},
   "outputs": [],
   "source": [
    "directory_path = '/Users/williamnehemia/Documents/Skripsi/TugasAkhir/DataExtractedInDocx2'\n",
    "\n",
    "files = os.listdir(directory_path)\n",
    "files_new = []\n",
    "\n",
    "for file in files:\n",
    "    files_new.append(file)"
   ]
  },
  {
   "cell_type": "code",
   "execution_count": null,
   "id": "cc8dd140",
   "metadata": {},
   "outputs": [],
   "source": [
    "for file in files_new:\n",
    "    docx_file = Document(file)\n",
    "    new_name_file = file.replace('.docx', '')\n",
    "    txt_file = '/Users/williamnehemia/Documents/Skripsi/TugasAkhir/DataPaperExtractDocxToTxt/' + new_name_file + '.txt'\n",
    "    with open(txt_file, 'w', encoding='utf-8') as txt_output:\n",
    "        for para in docx_file.paragraphs:\n",
    "            txt_output.write(para.text + '\\n')"
   ]
  }
 ],
 "metadata": {
  "kernelspec": {
   "display_name": "Python 3 (ipykernel)",
   "language": "python",
   "name": "python3"
  },
  "language_info": {
   "codemirror_mode": {
    "name": "ipython",
    "version": 3
   },
   "file_extension": ".py",
   "mimetype": "text/x-python",
   "name": "python",
   "nbconvert_exporter": "python",
   "pygments_lexer": "ipython3",
   "version": "3.11.5"
  }
 },
 "nbformat": 4,
 "nbformat_minor": 5
}
