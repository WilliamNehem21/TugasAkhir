{
 "cells": [
  {
   "cell_type": "code",
   "execution_count": 6,
   "id": "e8b6d98b",
   "metadata": {},
   "outputs": [],
   "source": [
    "from docx import Document\n",
    "import os"
   ]
  },
  {
   "cell_type": "code",
   "execution_count": 7,
   "id": "fa4504b6",
   "metadata": {},
   "outputs": [],
   "source": [
    "directory_path = '/Users/williamnehemia/Documents/Skripsi/TugasAkhir/DataExtractedInDocx2'\n",
    "\n",
    "files = os.listdir(directory_path)\n",
    "files_new = []\n",
    "\n",
    "for file in files:\n",
    "    if '.DS_Store' not in file:\n",
    "        files_new.append(file)"
   ]
  },
  {
   "cell_type": "code",
   "execution_count": 8,
   "id": "b79089d9",
   "metadata": {},
   "outputs": [],
   "source": [
    "for file in files_new:\n",
    "    docx_file = Document('/Users/williamnehemia/Documents/Skripsi/TugasAkhir/DataExtractedInDocx2/' + file)\n",
    "    new_name_file = file.replace('.docx', '')\n",
    "    txt_file = '/Users/williamnehemia/Documents/Skripsi/TugasAkhir/DataPaperExtractDocxToTxt/' + new_name_file + '.txt'\n",
    "    with open(txt_file, 'w', encoding='utf-8') as txt_output:\n",
    "        for para in docx_file.paragraphs:\n",
    "            txt_output.write(para.text + '\\n')"
   ]
  },
  {
   "cell_type": "code",
   "execution_count": null,
   "id": "47a09dbc",
   "metadata": {},
   "outputs": [],
   "source": []
  }
 ],
 "metadata": {
  "kernelspec": {
   "display_name": "Python 3 (ipykernel)",
   "language": "python",
   "name": "python3"
  },
  "language_info": {
   "codemirror_mode": {
    "name": "ipython",
    "version": 3
   },
   "file_extension": ".py",
   "mimetype": "text/x-python",
   "name": "python",
   "nbconvert_exporter": "python",
   "pygments_lexer": "ipython3",
   "version": "3.11.5"
  }
 },
 "nbformat": 4,
 "nbformat_minor": 5
}
