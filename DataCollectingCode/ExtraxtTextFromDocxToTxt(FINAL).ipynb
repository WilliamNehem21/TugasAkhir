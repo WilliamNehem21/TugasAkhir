{
 "cells": [
  {
   "cell_type": "code",
   "execution_count": 1,
   "id": "e8b6d98b",
   "metadata": {},
   "outputs": [],
   "source": [
    "# Import library\n",
    "from docx import Document\n",
    "import os"
   ]
  },
  {
   "cell_type": "code",
   "execution_count": 7,
   "id": "fa4504b6",
   "metadata": {},
   "outputs": [],
   "source": [
    "# List nama file untuk paper Tahap 1\n",
    "directory_path = '/Users/williamnehemia/Documents/Skripsi/TugasAkhir/DataExtractedInDocx2(FINAL)'\n",
    "\n",
    "files = os.listdir(directory_path)\n",
    "files_new = []\n",
    "\n",
    "for file in files:\n",
    "    if '.DS_Store' not in file:\n",
    "        files_new.append(file)"
   ]
  },
  {
   "cell_type": "code",
   "execution_count": 8,
   "id": "b79089d9",
   "metadata": {},
   "outputs": [],
   "source": [
    "# Ubah file docx ke txt untuk paper Tahap 1\n",
    "for file in files_new:\n",
    "    docx_file = Document('/Users/williamnehemia/Documents/Skripsi/TugasAkhir/DataExtractedInDocx2(FINAL)/' + file)\n",
    "    new_name_file = file.replace('.docx', '')\n",
    "    txt_file = '/Users/williamnehemia/Documents/Skripsi/TugasAkhir/DataPaperExtractDocxToTxt(FINAL)/' + new_name_file + '.txt'\n",
    "    with open(txt_file, 'w', encoding='utf-8') as txt_output:\n",
    "        for para in docx_file.paragraphs:\n",
    "            txt_output.write(para.text + '\\n')"
   ]
  },
  {
   "cell_type": "code",
   "execution_count": 2,
   "id": "47a09dbc",
   "metadata": {},
   "outputs": [],
   "source": [
    "# List nama file untuk paper Tahap 2\n",
    "directory_path = '/Users/williamnehemia/Documents/Skripsi/TugasAkhir/DataExtractedInDocx2(FINAL)2'\n",
    "\n",
    "files = os.listdir(directory_path)\n",
    "files_new = []\n",
    "\n",
    "for file in files:\n",
    "    if '.DS_Store' not in file:\n",
    "        files_new.append(file)"
   ]
  },
  {
   "cell_type": "code",
   "execution_count": 3,
   "id": "78e391b6",
   "metadata": {},
   "outputs": [],
   "source": [
    "# Ubah file docx ke txt untuk paper Tahap 1\n",
    "for file in files_new:\n",
    "    docx_file = Document('/Users/williamnehemia/Documents/Skripsi/TugasAkhir/DataExtractedInDocx2(FINAL)2/' + file)\n",
    "    new_name_file = file.replace('.docx', '')\n",
    "    txt_file = '/Users/williamnehemia/Documents/Skripsi/TugasAkhir/DataPaperExtractDocxToTxt(FINAL)2/' + new_name_file + '.txt'\n",
    "    with open(txt_file, 'w', encoding='utf-8') as txt_output:\n",
    "        for para in docx_file.paragraphs:\n",
    "            txt_output.write(para.text + '\\n')"
   ]
  },
  {
   "cell_type": "code",
   "execution_count": null,
   "id": "661e343e",
   "metadata": {},
   "outputs": [],
   "source": []
  }
 ],
 "metadata": {
  "kernelspec": {
   "display_name": "Python 3 (ipykernel)",
   "language": "python",
   "name": "python3"
  },
  "language_info": {
   "codemirror_mode": {
    "name": "ipython",
    "version": 3
   },
   "file_extension": ".py",
   "mimetype": "text/x-python",
   "name": "python",
   "nbconvert_exporter": "python",
   "pygments_lexer": "ipython3",
   "version": "3.11.5"
  }
 },
 "nbformat": 4,
 "nbformat_minor": 5
}
