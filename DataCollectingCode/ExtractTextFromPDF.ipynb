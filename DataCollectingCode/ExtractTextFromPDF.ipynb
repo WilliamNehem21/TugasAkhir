{
 "cells": [
  {
   "cell_type": "code",
   "execution_count": null,
   "id": "598da551",
   "metadata": {},
   "outputs": [],
   "source": [
    "from PyPDF2 import PdfReader \n",
    "import PyPDF2\n",
    "\n",
    "import os"
   ]
  },
  {
   "cell_type": "code",
   "execution_count": null,
   "id": "ba5941cc",
   "metadata": {},
   "outputs": [],
   "source": [
    "directory_path = '/Users/williamnehemia/Documents/Skripsi/TugasAkhir/DataPaper'\n",
    "\n",
    "files = os.listdir(directory_path)\n",
    "files_new = []\n",
    "\n",
    "for file in files:\n",
    "    if '.pdf' in file:\n",
    "        files_new.append(file)"
   ]
  },
  {
   "cell_type": "code",
   "execution_count": null,
   "id": "43426b36",
   "metadata": {},
   "outputs": [],
   "source": [
    "# PyPDF2\n",
    "for file in files_new:\n",
    "    reader = PdfReader('/Users/williamnehemia/Documents/Skripsi/TugasAkhir/DataPaper/Physical Sciences and Engineering/' + file)\n",
    "    pages = reader.numPages\n",
    "    \n",
    "    text = \"\"\n",
    "    for page in range(0, pages):\n",
    "        text += reader.pages[page].extract_text()\n",
    "    \n",
    "    print(text)\n",
    "    print(\"----------------------------------------------------------------------------------------------\")"
   ]
  }
 ],
 "metadata": {
  "kernelspec": {
   "display_name": "Python 3 (ipykernel)",
   "language": "python",
   "name": "python3"
  },
  "language_info": {
   "codemirror_mode": {
    "name": "ipython",
    "version": 3
   },
   "file_extension": ".py",
   "mimetype": "text/x-python",
   "name": "python",
   "nbconvert_exporter": "python",
   "pygments_lexer": "ipython3",
   "version": "3.11.5"
  }
 },
 "nbformat": 4,
 "nbformat_minor": 5
}
