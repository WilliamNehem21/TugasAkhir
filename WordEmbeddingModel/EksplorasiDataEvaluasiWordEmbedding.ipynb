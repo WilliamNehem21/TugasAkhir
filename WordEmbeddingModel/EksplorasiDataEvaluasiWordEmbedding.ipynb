{
 "cells": [
  {
   "cell_type": "code",
   "execution_count": 1,
   "id": "b321f802",
   "metadata": {},
   "outputs": [],
   "source": [
    "# import library\n",
    "import os\n",
    "import pandas as pd\n",
    "import matplotlib.pyplot as plt"
   ]
  },
  {
   "cell_type": "code",
   "execution_count": 2,
   "id": "54bb5807",
   "metadata": {},
   "outputs": [],
   "source": [
    "# list file relatedness dari github\n",
    "dir_relatedness_github = '/Users/williamnehemia/Documents/Skripsi/TugasAkhir/DataEvaluasiGitHub/word-similarity/monolingual/en'\n",
    "relatedness_github_files = os.listdir(dir_relatedness_github)\n",
    "list_file_relatedness_github = []\n",
    "num_of_row_relatedness_github = []\n",
    "num_of_words_relatedness_github = []\n",
    "\n",
    "\n"
   ]
  },
  {
   "cell_type": "code",
   "execution_count": 3,
   "id": "b05644f9",
   "metadata": {},
   "outputs": [
    {
     "name": "stdout",
     "output_type": "stream",
     "text": [
      "mc-30.csv\n",
      "banyak pasangan kata 30\n",
      "banyak kata 39\n"
     ]
    }
   ],
   "source": [
    "# hitung banyak kata di mc-30\n",
    "num_lines = 0\n",
    "list_word = []\n",
    "list_file_relatedness_github.append(\"mc-30\")\n",
    "\n",
    "dir_file = \"/Users/williamnehemia/Documents/Skripsi/TugasAkhir/DataEvaluasiGitHub/word-similarity/monolingual/en/mc-30.csv\"\n",
    "\n",
    "df = pd.read_csv(dir_file)\n",
    "\n",
    "for index, row in df.iterrows():\n",
    "    num_lines += 1\n",
    "    word_1 = row[\"word1\"].lower()\n",
    "    word_2 = row[\"word2\"].lower()\n",
    "    \n",
    "    if word_1 not in list_word:\n",
    "        list_word.append(word_1)\n",
    "    \n",
    "    if word_2 not in list_word:\n",
    "        list_word.append(word_2)\n",
    "\n",
    "print(\"mc-30.csv\")\n",
    "print(\"banyak pasangan kata\", num_lines)\n",
    "print(\"banyak kata\", len(list_word))\n",
    "\n",
    "num_of_row_relatedness_github.append(num_lines)\n",
    "num_of_words_relatedness_github.append(len(list_word))\n"
   ]
  },
  {
   "cell_type": "code",
   "execution_count": 4,
   "id": "aedacf9a",
   "metadata": {},
   "outputs": [
    {
     "name": "stdout",
     "output_type": "stream",
     "text": [
      "men.csv\n",
      "banyak pasangan kata 3000\n",
      "banyak kata 751\n"
     ]
    }
   ],
   "source": [
    "# hitung banyak kata di men\n",
    "num_lines = 0\n",
    "list_word = []\n",
    "list_file_relatedness_github.append(\"men\")\n",
    "\n",
    "dir_file = \"/Users/williamnehemia/Documents/Skripsi/TugasAkhir/DataEvaluasiGitHub/word-similarity/monolingual/en/men.csv\"\n",
    "\n",
    "df = pd.read_csv(dir_file)\n",
    "\n",
    "for index, row in df.iterrows():\n",
    "    num_lines += 1\n",
    "    word_1 = row[\"word1\"].lower()\n",
    "    word_2 = row[\"word2\"].lower()\n",
    "    \n",
    "    if word_1 not in list_word:\n",
    "        list_word.append(word_1)\n",
    "    \n",
    "    if word_2 not in list_word:\n",
    "        list_word.append(word_2)\n",
    "\n",
    "print(\"men.csv\")\n",
    "print(\"banyak pasangan kata\", num_lines)\n",
    "print(\"banyak kata\", len(list_word))\n",
    "\n",
    "num_of_row_relatedness_github.append(num_lines)\n",
    "num_of_words_relatedness_github.append(len(list_word))\n"
   ]
  },
  {
   "cell_type": "code",
   "execution_count": 5,
   "id": "6c3f34e4",
   "metadata": {},
   "outputs": [
    {
     "name": "stdout",
     "output_type": "stream",
     "text": [
      "mturk-287.csv\n",
      "banyak pasangan kata 287\n",
      "banyak kata 499\n"
     ]
    }
   ],
   "source": [
    "# hitung banyak kata di mturk-287\n",
    "num_lines = 0\n",
    "list_word = []\n",
    "list_file_relatedness_github.append(\"mturk-287\")\n",
    "\n",
    "dir_file = \"/Users/williamnehemia/Documents/Skripsi/TugasAkhir/DataEvaluasiGitHub/word-similarity/monolingual/en/mturk-287.csv\"\n",
    "\n",
    "df = pd.read_csv(dir_file)\n",
    "\n",
    "for index, row in df.iterrows():\n",
    "    num_lines += 1\n",
    "    word_1 = row[\"word1\"].lower()\n",
    "    word_2 = row[\"word2\"].lower()\n",
    "    \n",
    "    if word_1 not in list_word:\n",
    "        list_word.append(word_1)\n",
    "    \n",
    "    if word_2 not in list_word:\n",
    "        list_word.append(word_2)\n",
    "\n",
    "print(\"mturk-287.csv\")\n",
    "print(\"banyak pasangan kata\", num_lines)\n",
    "print(\"banyak kata\", len(list_word))\n",
    "\n",
    "num_of_row_relatedness_github.append(num_lines)\n",
    "num_of_words_relatedness_github.append(len(list_word))\n"
   ]
  },
  {
   "cell_type": "code",
   "execution_count": 6,
   "id": "3006a857",
   "metadata": {},
   "outputs": [
    {
     "name": "stdout",
     "output_type": "stream",
     "text": [
      "mturk-771.csv\n",
      "banyak pasangan kata 771\n",
      "banyak kata 1113\n"
     ]
    }
   ],
   "source": [
    "# hitung banyak kata di mturk-771\n",
    "num_lines = 0\n",
    "list_word = []\n",
    "list_file_relatedness_github.append(\"mturk-771\")\n",
    "\n",
    "dir_file = \"/Users/williamnehemia/Documents/Skripsi/TugasAkhir/DataEvaluasiGitHub/word-similarity/monolingual/en/mturk-771.csv\"\n",
    "\n",
    "df = pd.read_csv(dir_file)\n",
    "\n",
    "for index, row in df.iterrows():\n",
    "    num_lines += 1\n",
    "    word_1 = row[\"word1\"].lower()\n",
    "    word_2 = row[\"word2\"].lower()\n",
    "    \n",
    "    if word_1 not in list_word:\n",
    "        list_word.append(word_1)\n",
    "    \n",
    "    if word_2 not in list_word:\n",
    "        list_word.append(word_2)\n",
    "\n",
    "print(\"mturk-771.csv\")\n",
    "print(\"banyak pasangan kata\", num_lines)\n",
    "print(\"banyak kata\", len(list_word))\n",
    "\n",
    "num_of_row_relatedness_github.append(num_lines)\n",
    "num_of_words_relatedness_github.append(len(list_word))\n"
   ]
  },
  {
   "cell_type": "code",
   "execution_count": 7,
   "id": "6a61db2c",
   "metadata": {},
   "outputs": [
    {
     "name": "stdout",
     "output_type": "stream",
     "text": [
      "rg-65.csv\n",
      "banyak pasangan kata 65\n",
      "banyak kata 48\n"
     ]
    }
   ],
   "source": [
    "# hitung banyak kata di rg-65\n",
    "num_lines = 0\n",
    "list_word = []\n",
    "list_file_relatedness_github.append(\"rg-65\")\n",
    "\n",
    "dir_file = \"/Users/williamnehemia/Documents/Skripsi/TugasAkhir/DataEvaluasiGitHub/word-similarity/monolingual/en/rg-65.csv\"\n",
    "\n",
    "df = pd.read_csv(dir_file)\n",
    "\n",
    "for index, row in df.iterrows():\n",
    "    num_lines += 1\n",
    "    word_1 = row[\"word1\"].lower()\n",
    "    word_2 = row[\"word2\"].lower()\n",
    "    \n",
    "    if word_1 not in list_word:\n",
    "        list_word.append(word_1)\n",
    "    \n",
    "    if word_2 not in list_word:\n",
    "        list_word.append(word_2)\n",
    "\n",
    "print(\"rg-65.csv\")\n",
    "print(\"banyak pasangan kata\", num_lines)\n",
    "print(\"banyak kata\", len(list_word))\n",
    "\n",
    "num_of_row_relatedness_github.append(num_lines)\n",
    "num_of_words_relatedness_github.append(len(list_word))\n"
   ]
  },
  {
   "cell_type": "code",
   "execution_count": 8,
   "id": "bd2042d8",
   "metadata": {},
   "outputs": [
    {
     "name": "stdout",
     "output_type": "stream",
     "text": [
      "rw.csv\n",
      "banyak pasangan kata 2034\n",
      "banyak kata 2951\n"
     ]
    }
   ],
   "source": [
    "# hitung banyak kata di rw\n",
    "num_lines = 0\n",
    "list_word = []\n",
    "list_file_relatedness_github.append(\"rw\")\n",
    "\n",
    "dir_file = \"/Users/williamnehemia/Documents/Skripsi/TugasAkhir/DataEvaluasiGitHub/word-similarity/monolingual/en/rw.csv\"\n",
    "\n",
    "df = pd.read_csv(dir_file)\n",
    "\n",
    "for index, row in df.iterrows():\n",
    "    num_lines += 1\n",
    "    word_1 = row[\"word1\"].lower()\n",
    "    word_2 = row[\"word2\"].lower()\n",
    "    \n",
    "    if word_1 not in list_word:\n",
    "        list_word.append(word_1)\n",
    "    \n",
    "    if word_2 not in list_word:\n",
    "        list_word.append(word_2)\n",
    "\n",
    "print(\"rw.csv\")\n",
    "print(\"banyak pasangan kata\", num_lines)\n",
    "print(\"banyak kata\", len(list_word))\n",
    "\n",
    "num_of_row_relatedness_github.append(num_lines)\n",
    "num_of_words_relatedness_github.append(len(list_word))\n"
   ]
  },
  {
   "cell_type": "code",
   "execution_count": 9,
   "id": "65e364c0",
   "metadata": {},
   "outputs": [
    {
     "name": "stdout",
     "output_type": "stream",
     "text": [
      "semeval17.csv\n",
      "banyak pasangan kata 500\n",
      "banyak kata 915\n"
     ]
    }
   ],
   "source": [
    "# hitung banyak kata di semeval17\n",
    "num_lines = 0\n",
    "list_word = []\n",
    "list_file_relatedness_github.append(\"semeval17\")\n",
    "\n",
    "dir_file = \"/Users/williamnehemia/Documents/Skripsi/TugasAkhir/DataEvaluasiGitHub/word-similarity/monolingual/en/semeval17.csv\"\n",
    "\n",
    "df = pd.read_csv(dir_file)\n",
    "\n",
    "for index, row in df.iterrows():\n",
    "    num_lines += 1\n",
    "    word_1 = row[\"word1\"].lower()\n",
    "    word_2 = row[\"word2\"].lower()\n",
    "    \n",
    "    if word_1 not in list_word:\n",
    "        list_word.append(word_1)\n",
    "    \n",
    "    if word_2 not in list_word:\n",
    "        list_word.append(word_2)\n",
    "\n",
    "print(\"semeval17.csv\")\n",
    "print(\"banyak pasangan kata\", num_lines)\n",
    "print(\"banyak kata\", len(list_word))\n",
    "\n",
    "num_of_row_relatedness_github.append(num_lines)\n",
    "num_of_words_relatedness_github.append(len(list_word))\n"
   ]
  },
  {
   "cell_type": "code",
   "execution_count": 10,
   "id": "05bddcfb",
   "metadata": {},
   "outputs": [
    {
     "name": "stdout",
     "output_type": "stream",
     "text": [
      "simlex999.csv\n",
      "banyak pasangan kata 999\n",
      "banyak kata 1028\n"
     ]
    }
   ],
   "source": [
    "# hitung banyak kata di simlex999\n",
    "num_lines = 0\n",
    "list_word = []\n",
    "list_file_relatedness_github.append(\"simlex999\")\n",
    "\n",
    "dir_file = \"/Users/williamnehemia/Documents/Skripsi/TugasAkhir/DataEvaluasiGitHub/word-similarity/monolingual/en/simlex999.csv\"\n",
    "\n",
    "df = pd.read_csv(dir_file)\n",
    "\n",
    "for index, row in df.iterrows():\n",
    "    num_lines += 1\n",
    "    word_1 = row[\"word1\"].lower()\n",
    "    word_2 = row[\"word2\"].lower()\n",
    "    \n",
    "    if word_1 not in list_word:\n",
    "        list_word.append(word_1)\n",
    "    \n",
    "    if word_2 not in list_word:\n",
    "        list_word.append(word_2)\n",
    "\n",
    "print(\"simlex999.csv\")\n",
    "print(\"banyak pasangan kata\", num_lines)\n",
    "print(\"banyak kata\", len(list_word))\n",
    "\n",
    "num_of_row_relatedness_github.append(num_lines)\n",
    "num_of_words_relatedness_github.append(len(list_word))\n"
   ]
  },
  {
   "cell_type": "code",
   "execution_count": 11,
   "id": "2c3aec78",
   "metadata": {},
   "outputs": [
    {
     "name": "stdout",
     "output_type": "stream",
     "text": [
      "simverb-3500.csv\n",
      "banyak pasangan kata 3500\n",
      "banyak kata 827\n"
     ]
    }
   ],
   "source": [
    "# hitung banyak kata di simverb-3500\n",
    "num_lines = 0\n",
    "list_word = []\n",
    "list_file_relatedness_github.append(\"simverb-3500\")\n",
    "\n",
    "dir_file = \"/Users/williamnehemia/Documents/Skripsi/TugasAkhir/DataEvaluasiGitHub/word-similarity/monolingual/en/simverb-3500.csv\"\n",
    "\n",
    "df = pd.read_csv(dir_file)\n",
    "\n",
    "for index, row in df.iterrows():\n",
    "    num_lines += 1\n",
    "    word_1 = row[\"word1\"].lower()\n",
    "    word_2 = row[\"word2\"].lower()\n",
    "    \n",
    "    if word_1 not in list_word:\n",
    "        list_word.append(word_1)\n",
    "    \n",
    "    if word_2 not in list_word:\n",
    "        list_word.append(word_2)\n",
    "\n",
    "print(\"simverb-3500.csv\")\n",
    "print(\"banyak pasangan kata\", num_lines)\n",
    "print(\"banyak kata\", len(list_word))\n",
    "\n",
    "num_of_row_relatedness_github.append(num_lines)\n",
    "num_of_words_relatedness_github.append(len(list_word))\n"
   ]
  },
  {
   "cell_type": "code",
   "execution_count": 12,
   "id": "bad8bcf0",
   "metadata": {},
   "outputs": [
    {
     "name": "stdout",
     "output_type": "stream",
     "text": [
      "verb-143.csv\n",
      "banyak pasangan kata 130\n",
      "banyak kata 147\n"
     ]
    }
   ],
   "source": [
    "# hitung banyak kata di verb-143\n",
    "num_lines = 0\n",
    "list_word = []\n",
    "list_file_relatedness_github.append(\"verb-143\")\n",
    "\n",
    "dir_file = \"/Users/williamnehemia/Documents/Skripsi/TugasAkhir/DataEvaluasiGitHub/word-similarity/monolingual/en/verb-143.csv\"\n",
    "\n",
    "df = pd.read_csv(dir_file)\n",
    "\n",
    "for index, row in df.iterrows():\n",
    "    num_lines += 1\n",
    "    word_1 = row[\"word1\"].lower()\n",
    "    word_2 = row[\"word2\"].lower()\n",
    "    \n",
    "    if word_1 not in list_word:\n",
    "        list_word.append(word_1)\n",
    "    \n",
    "    if word_2 not in list_word:\n",
    "        list_word.append(word_2)\n",
    "\n",
    "print(\"verb-143.csv\")\n",
    "print(\"banyak pasangan kata\", num_lines)\n",
    "print(\"banyak kata\", len(list_word))\n",
    "\n",
    "num_of_row_relatedness_github.append(num_lines)\n",
    "num_of_words_relatedness_github.append(len(list_word))\n"
   ]
  },
  {
   "cell_type": "code",
   "execution_count": 13,
   "id": "defcd285",
   "metadata": {},
   "outputs": [
    {
     "name": "stdout",
     "output_type": "stream",
     "text": [
      "wordsim353-rel.csv\n",
      "banyak pasangan kata 252\n",
      "banyak kata 346\n"
     ]
    }
   ],
   "source": [
    "# hitung banyak kata di wordsim353-rel (sama kayak yg dari sebelumnya)\n",
    "num_lines = 0\n",
    "list_word = []\n",
    "list_file_relatedness_github.append(\"wordsim353-rel\")\n",
    "\n",
    "dir_file = \"/Users/williamnehemia/Documents/Skripsi/TugasAkhir/DataEvaluasiGitHub/word-similarity/monolingual/en/wordsim353-rel.csv\"\n",
    "\n",
    "df = pd.read_csv(dir_file)\n",
    "\n",
    "for index, row in df.iterrows():\n",
    "    num_lines += 1\n",
    "    word_1 = row[\"word1\"].lower()\n",
    "    word_2 = row[\"word2\"].lower()\n",
    "    \n",
    "    if word_1 not in list_word:\n",
    "        list_word.append(word_1)\n",
    "    \n",
    "    if word_2 not in list_word:\n",
    "        list_word.append(word_2)\n",
    "\n",
    "print(\"wordsim353-rel.csv\")\n",
    "print(\"banyak pasangan kata\", num_lines)\n",
    "print(\"banyak kata\", len(list_word))\n",
    "\n",
    "num_of_row_relatedness_github.append(num_lines)\n",
    "num_of_words_relatedness_github.append(len(list_word))\n"
   ]
  },
  {
   "cell_type": "code",
   "execution_count": 14,
   "id": "4dfe13f9",
   "metadata": {},
   "outputs": [
    {
     "name": "stdout",
     "output_type": "stream",
     "text": [
      "wordsim353-sim.csv\n",
      "banyak pasangan kata 203\n",
      "banyak kata 277\n"
     ]
    }
   ],
   "source": [
    "# hitung banyak kata di wordsim353-sim (sama kayak yg dari sebelumnya)\n",
    "num_lines = 0\n",
    "list_word = []\n",
    "list_file_relatedness_github.append(\"wordsim353-sim\")\n",
    "\n",
    "dir_file = \"/Users/williamnehemia/Documents/Skripsi/TugasAkhir/DataEvaluasiGitHub/word-similarity/monolingual/en/wordsim353-sim.csv\"\n",
    "\n",
    "df = pd.read_csv(dir_file)\n",
    "\n",
    "for index, row in df.iterrows():\n",
    "    num_lines += 1\n",
    "    word_1 = row[\"word1\"].lower()\n",
    "    word_2 = row[\"word2\"].lower()\n",
    "    \n",
    "    if word_1 not in list_word:\n",
    "        list_word.append(word_1)\n",
    "    \n",
    "    if word_2 not in list_word:\n",
    "        list_word.append(word_2)\n",
    "\n",
    "print(\"wordsim353-sim.csv\")\n",
    "print(\"banyak pasangan kata\", num_lines)\n",
    "print(\"banyak kata\", len(list_word))\n",
    "\n",
    "num_of_row_relatedness_github.append(num_lines)\n",
    "num_of_words_relatedness_github.append(len(list_word))\n"
   ]
  },
  {
   "cell_type": "code",
   "execution_count": 15,
   "id": "9c121a78",
   "metadata": {},
   "outputs": [
    {
     "name": "stdout",
     "output_type": "stream",
     "text": [
      "yp-130.csv\n",
      "banyak pasangan kata 130\n",
      "banyak kata 147\n"
     ]
    }
   ],
   "source": [
    "# hitung banyak kata di yp-130\n",
    "num_lines = 0\n",
    "list_word = []\n",
    "list_file_relatedness_github.append(\"yp-130\")\n",
    "\n",
    "dir_file = \"/Users/williamnehemia/Documents/Skripsi/TugasAkhir/DataEvaluasiGitHub/word-similarity/monolingual/en/yp-130.csv\"\n",
    "\n",
    "df = pd.read_csv(dir_file)\n",
    "\n",
    "for index, row in df.iterrows():\n",
    "    num_lines += 1\n",
    "    word_1 = row[\"word1\"].lower()\n",
    "    word_2 = row[\"word2\"].lower()\n",
    "    \n",
    "    if word_1 not in list_word:\n",
    "        list_word.append(word_1)\n",
    "    \n",
    "    if word_2 not in list_word:\n",
    "        list_word.append(word_2)\n",
    "\n",
    "print(\"yp-130.csv\")\n",
    "print(\"banyak pasangan kata\", num_lines)\n",
    "print(\"banyak kata\", len(list_word))\n",
    "\n",
    "num_of_row_relatedness_github.append(num_lines)\n",
    "num_of_words_relatedness_github.append(len(list_word))\n"
   ]
  },
  {
   "cell_type": "code",
   "execution_count": 19,
   "id": "12f7e22c",
   "metadata": {
    "scrolled": false
   },
   "outputs": [
    {
     "data": {
      "image/png": "[encoded data removed]",
      "text/plain": [
       "<Figure size 640x480 with 1 Axes>"
      ]
     },
     "metadata": {},
     "output_type": "display_data"
    }
   ],
   "source": [
    "# mengurutkan jumlah pasangan kata relatedness\n",
    "x_values, y_values = zip(*sorted(zip(num_of_row_relatedness_github, list_file_relatedness_github), reverse=False))\n",
    "\n",
    "# buat bar chart banyak pasangan kata relatedness github\n",
    "plt.barh(y_values, x_values)\n",
    " \n",
    "# memberi label sumbu y\n",
    "plt.ylabel(\"nama file\")\n",
    " \n",
    "# memberi label sumbu x\n",
    "plt.xlabel(\"banyak pasangan kata\") \n",
    "\n",
    "# memberi judul visualisasi\n",
    "plt.title(\"Banyak Pasangan Kata pada Relatedness\")\n",
    "\n",
    "# menampilkan visualisasi\n",
    "plt.show()"
   ]
  },
  {
   "cell_type": "code",
   "execution_count": 20,
   "id": "dd4ce7f2",
   "metadata": {},
   "outputs": [
    {
     "data": {
      "image/png": "[encoded data removed]",
      "text/plain": [
       "<Figure size 640x480 with 1 Axes>"
      ]
     },
     "metadata": {},
     "output_type": "display_data"
    }
   ],
   "source": [
    "# mengurutkan jumlah kata relatedness\n",
    "x_values, y_values = zip(*sorted(zip(num_of_words_relatedness_github, list_file_relatedness_github), reverse=False))\n",
    "\n",
    "\n",
    "# buat bar chart banyak kata relatedness github\n",
    "plt.barh(y_values, x_values)\n",
    " \n",
    "# memberi label sumbu y\n",
    "plt.ylabel(\"nama file\")\n",
    "\n",
    "# memberi label sumbu x\n",
    "plt.xlabel(\"banyak kata\") \n",
    "\n",
    "# memberi judul visualisasi\n",
    "plt.title(\"Banyak Kata pada Relatedness\")\n",
    "\n",
    "# menampilkan visualisasi\n",
    "plt.show()"
   ]
  },
  {
   "cell_type": "code",
   "execution_count": 21,
   "id": "9bee60f3",
   "metadata": {},
   "outputs": [],
   "source": [
    "# list file word analogy dari github\n",
    "dir_word_analogy_github = '/Users/williamnehemia/Documents/Skripsi/TugasAkhir/DataEvaluasiGitHub/word-analogy/monolingual/en'\n",
    "word_analogy_github_files = os.listdir(dir_word_analogy_github)\n",
    "list_file_word_analogy_github = []\n",
    "num_of_row_word_analogy_github = []\n",
    "num_of_words_word_analogy_github= []\n",
    "num_of_category_word_analogy_github = []\n",
    "\n",
    "\n"
   ]
  },
  {
   "cell_type": "code",
   "execution_count": 22,
   "id": "5c2047b6",
   "metadata": {},
   "outputs": [
    {
     "name": "stdout",
     "output_type": "stream",
     "text": [
      "google-analogies.csv\n",
      "banyak analogi kata 19544\n",
      "banyak kata 905\n",
      "banyak kategori 14\n",
      "['capital-common-countries', 'capital-world', 'currency', 'city-in-state', 'family', 'gram1-adjective-to-adverb', 'gram2-opposite', 'gram3-comparative', 'gram4-superlative', 'gram5-present-participle', 'gram6-nationality-adjective', 'gram7-past-tense', 'gram8-plural', 'gram9-plural-verbs']\n"
     ]
    }
   ],
   "source": [
    "# hitung jumlah kategori, jumlah kata, jumlah analogi kata, dan jenis kategori google-analogies\n",
    "num_lines = 0\n",
    "list_word = []\n",
    "list_category = []\n",
    "list_file_word_analogy_github.append(\"google-analogies\")\n",
    "\n",
    "dir_file = \"/Users/williamnehemia/Documents/Skripsi/TugasAkhir/DataEvaluasiGitHub/word-analogy/monolingual/en/google-analogies.csv\"\n",
    "\n",
    "df = pd.read_csv(dir_file)\n",
    "\n",
    "for index, row in df.iterrows():\n",
    "    type_row = row[\"type\"]\n",
    "    word_1 = row[\"word1\"].lower()\n",
    "    word_2 = row[\"word2\"].lower()\n",
    "    word_3 = row[\"word3\"].lower()\n",
    "    target_word = row[\"target\"].lower()\n",
    "    num_lines += 1\n",
    "    \n",
    "    if type_row not in list_category:\n",
    "        list_category.append(type_row)\n",
    "    \n",
    "    if word_1 not in list_word:\n",
    "        list_word.append(word_1)\n",
    "    \n",
    "    if word_2 not in list_word:\n",
    "        list_word.append(word_2)\n",
    "        \n",
    "    if word_3 not in list_word:\n",
    "        list_word.append(word_3)\n",
    "        \n",
    "    if target_word not in list_word:\n",
    "        list_word.append(target_word)\n",
    "\n",
    "print(\"google-analogies.csv\")\n",
    "print(\"banyak analogi kata\", num_lines)\n",
    "print(\"banyak kata\", len(list_word))\n",
    "print(\"banyak kategori\", len(list_category))\n",
    "print(list_category)\n",
    "\n",
    "num_of_row_word_analogy_github.append(num_lines)\n",
    "num_of_words_word_analogy_github.append(len(list_word))\n",
    "num_of_category_word_analogy_github.append(len(list_category))\n"
   ]
  },
  {
   "cell_type": "code",
   "execution_count": 23,
   "id": "335dc8e5",
   "metadata": {},
   "outputs": [
    {
     "name": "stdout",
     "output_type": "stream",
     "text": [
      "jair.csv\n",
      "banyak analogi kata 430\n",
      "banyak kata 270\n",
      "banyak kategori 20\n",
      "[0, 1, 2, 3, 4, 5, 6, 7, 8, 9, 10, 11, 12, 13, 14, 15, 16, 17, 18, 19]\n"
     ]
    }
   ],
   "source": [
    "# hitung jumlah kategori, jumlah kata, jumlah analogi kata, dan jenis kategori jair\n",
    "num_lines = 0\n",
    "list_word = []\n",
    "list_category = []\n",
    "\n",
    "list_file_word_analogy_github.append(\"jair\")\n",
    "\n",
    "dir_file = \"/Users/williamnehemia/Documents/Skripsi/TugasAkhir/DataEvaluasiGitHub/word-analogy/monolingual/en/jair.csv\"\n",
    "\n",
    "df = pd.read_csv(dir_file)\n",
    "\n",
    "for index, row in df.iterrows():\n",
    "    type_row = row[\"type\"]\n",
    "    word_1 = row[\"word1\"].lower()\n",
    "    word_2 = row[\"word2\"].lower()\n",
    "    word_3 = row[\"word3\"].lower()\n",
    "    target_word = row[\"target\"].lower()\n",
    "    num_lines += 1\n",
    "    \n",
    "    if type_row not in list_category:\n",
    "        list_category.append(type_row)\n",
    "    \n",
    "    if word_1 not in list_word:\n",
    "        list_word.append(word_1)\n",
    "    \n",
    "    if word_2 not in list_word:\n",
    "        list_word.append(word_2)\n",
    "        \n",
    "    if word_3 not in list_word:\n",
    "        list_word.append(word_3)\n",
    "        \n",
    "    if target_word not in list_word:\n",
    "        list_word.append(target_word)\n",
    "\n",
    "print(\"jair.csv\")\n",
    "print(\"banyak analogi kata\", num_lines)\n",
    "print(\"banyak kata\", len(list_word))\n",
    "print(\"banyak kategori\", len(list_category))\n",
    "print(list_category)\n",
    "\n",
    "num_of_row_word_analogy_github.append(num_lines)\n",
    "num_of_words_word_analogy_github.append(len(list_word))\n",
    "num_of_category_word_analogy_github.append(len(list_category))\n"
   ]
  },
  {
   "cell_type": "code",
   "execution_count": 24,
   "id": "a5fe5101",
   "metadata": {},
   "outputs": [
    {
     "name": "stdout",
     "output_type": "stream",
     "text": [
      "msr.csv\n",
      "banyak analogi kata 8000\n",
      "banyak kata 966\n",
      "banyak kategori 16\n",
      "['JJ_JJR', 'JJR_JJ', 'JJ_JJS', 'JJS_JJ', 'JJS_JJR', 'JJR_JJS', 'NN_NNS', 'NNS_NN', 'NN_NNPOS', 'NNPOS_NN', 'VB_VBD', 'VBD_VB', 'VB_VBZ', 'VBZ_VB', 'VBZ_VBD', 'VBD_VBZ']\n"
     ]
    }
   ],
   "source": [
    "# hitung jumlah kategori, jumlah kata, jumlah analogi kata, dan jenis kategori msr\n",
    "num_lines = 0\n",
    "list_word = []\n",
    "list_category = []\n",
    "\n",
    "list_file_word_analogy_github.append(\"msr\")\n",
    "\n",
    "dir_file = \"/Users/williamnehemia/Documents/Skripsi/TugasAkhir/DataEvaluasiGitHub/word-analogy/monolingual/en/msr.csv\"\n",
    "\n",
    "df = pd.read_csv(dir_file)\n",
    "\n",
    "for index, row in df.iterrows():\n",
    "    type_row = row[\"type\"]\n",
    "    word_1 = row[\"word1\"].lower()\n",
    "    word_2 = row[\"word2\"].lower()\n",
    "    word_3 = row[\"word3\"].lower()\n",
    "    target_word = row[\"target\"].lower()\n",
    "    num_lines += 1\n",
    "    \n",
    "    if type_row not in list_category:\n",
    "        list_category.append(type_row)\n",
    "    \n",
    "    if word_1 not in list_word:\n",
    "        list_word.append(word_1)\n",
    "    \n",
    "    if word_2 not in list_word:\n",
    "        list_word.append(word_2)\n",
    "        \n",
    "    if word_3 not in list_word:\n",
    "        list_word.append(word_3)\n",
    "        \n",
    "    if target_word not in list_word:\n",
    "        list_word.append(target_word)\n",
    "\n",
    "print(\"msr.csv\")\n",
    "print(\"banyak analogi kata\", num_lines)\n",
    "print(\"banyak kata\", len(list_word))\n",
    "print(\"banyak kategori\", len(list_category))\n",
    "print(list_category)\n",
    "\n",
    "num_of_row_word_analogy_github.append(num_lines)\n",
    "num_of_words_word_analogy_github.append(len(list_word))\n",
    "num_of_category_word_analogy_github.append(len(list_category))\n"
   ]
  },
  {
   "cell_type": "code",
   "execution_count": 25,
   "id": "14563b6c",
   "metadata": {},
   "outputs": [
    {
     "name": "stdout",
     "output_type": "stream",
     "text": [
      "sat.csv\n",
      "banyak analogi kata 5610\n",
      "banyak kata 3113\n",
      "banyak kategori 374\n",
      "[0, 1, 2, 3, 4, 5, 6, 7, 8, 9, 10, 11, 12, 13, 14, 15, 16, 17, 18, 19, 20, 21, 22, 23, 24, 25, 26, 27, 28, 29, 30, 31, 32, 33, 34, 35, 36, 37, 38, 39, 40, 41, 42, 43, 44, 45, 46, 47, 48, 49, 50, 51, 52, 53, 54, 55, 56, 57, 58, 59, 60, 61, 62, 63, 64, 65, 66, 67, 68, 69, 70, 71, 72, 73, 74, 75, 76, 77, 78, 79, 80, 81, 82, 83, 84, 85, 86, 87, 88, 89, 90, 91, 92, 93, 94, 95, 96, 97, 98, 99, 100, 101, 102, 103, 104, 105, 106, 107, 108, 109, 110, 111, 112, 113, 114, 115, 116, 117, 118, 119, 120, 121, 122, 123, 124, 125, 126, 127, 128, 129, 130, 131, 132, 133, 134, 135, 136, 137, 138, 139, 140, 141, 142, 143, 144, 145, 146, 147, 148, 149, 150, 151, 152, 153, 154, 155, 156, 157, 158, 159, 160, 161, 162, 163, 164, 165, 166, 167, 168, 169, 170, 171, 172, 173, 174, 175, 176, 177, 178, 179, 180, 181, 182, 183, 184, 185, 186, 187, 188, 189, 190, 191, 192, 193, 194, 195, 196, 197, 198, 199, 200, 201, 202, 203, 204, 205, 206, 207, 208, 209, 210, 211, 212, 213, 214, 215, 216, 217, 218, 219, 220, 221, 222, 223, 224, 225, 226, 227, 228, 229, 230, 231, 232, 233, 234, 235, 236, 237, 238, 239, 240, 241, 242, 243, 244, 245, 246, 247, 248, 249, 250, 251, 252, 253, 254, 255, 256, 257, 258, 259, 260, 261, 262, 263, 264, 265, 266, 267, 268, 269, 270, 271, 272, 273, 274, 275, 276, 277, 278, 279, 280, 281, 282, 283, 284, 285, 286, 287, 288, 289, 290, 291, 292, 293, 294, 295, 296, 297, 298, 299, 300, 301, 302, 303, 304, 305, 306, 307, 308, 309, 310, 311, 312, 313, 314, 315, 316, 317, 318, 319, 320, 321, 322, 323, 324, 325, 326, 327, 328, 329, 330, 331, 332, 333, 334, 335, 336, 337, 338, 339, 340, 341, 342, 343, 344, 345, 346, 347, 348, 349, 350, 351, 352, 353, 354, 355, 356, 357, 358, 359, 360, 361, 362, 363, 364, 365, 366, 367, 368, 369, 370, 371, 372, 373]\n"
     ]
    }
   ],
   "source": [
    "# hitung jumlah kategori, jumlah kata, jumlah analogi kata, dan jenis kategori sat\n",
    "num_lines = 0\n",
    "list_word = []\n",
    "list_category = []\n",
    "\n",
    "list_file_word_analogy_github.append(\"sat\")\n",
    "\n",
    "dir_file = \"/Users/williamnehemia/Documents/Skripsi/TugasAkhir/DataEvaluasiGitHub/word-analogy/monolingual/en/sat.csv\"\n",
    "\n",
    "df = pd.read_csv(dir_file)\n",
    "\n",
    "for index, row in df.iterrows():\n",
    "    type_row = row[\"type\"]\n",
    "    word_1 = row[\"word1\"].lower()\n",
    "    word_2 = row[\"word2\"].lower()\n",
    "    word_3 = row[\"word3\"].lower()\n",
    "    target_word = row[\"target\"].lower()\n",
    "    num_lines += 1\n",
    "    \n",
    "    if type_row not in list_category:\n",
    "        list_category.append(type_row)\n",
    "    \n",
    "    if word_1 not in list_word:\n",
    "        list_word.append(word_1)\n",
    "    \n",
    "    if word_2 not in list_word:\n",
    "        list_word.append(word_2)\n",
    "        \n",
    "    if word_3 not in list_word:\n",
    "        list_word.append(word_3)\n",
    "        \n",
    "    if target_word not in list_word:\n",
    "        list_word.append(target_word)\n",
    "\n",
    "print(\"sat.csv\")\n",
    "print(\"banyak analogi kata\", num_lines)\n",
    "print(\"banyak kata\", len(list_word))\n",
    "print(\"banyak kategori\", len(list_category))\n",
    "print(list_category)\n",
    "\n",
    "num_of_row_word_analogy_github.append(num_lines)\n",
    "num_of_words_word_analogy_github.append(len(list_word))\n",
    "num_of_category_word_analogy_github.append(len(list_category))\n"
   ]
  },
  {
   "cell_type": "code",
   "execution_count": 26,
   "id": "4d45ac99",
   "metadata": {},
   "outputs": [
    {
     "name": "stdout",
     "output_type": "stream",
     "text": [
      "semeval.csv\n",
      "banyak analogi kata 10014\n",
      "banyak kata 3233\n",
      "banyak kategori 79\n",
      "['2c', '3h', '1c', '1b', '3a', '2j', '2i', '1e', '1d', '3c', '5d', '9h', '7c', '6g', '10e', '10d', '6f', '7b', '9i', '4c', '6d', '10f', '5h', '6e', '10c', '6a', '7e', '7d', '4h', '10b', '7f', '6b', '6c', '7g', '8h', '9a', '8e', '5b', '4f', '4g', '5c', '8d', '8f', '9b', '4e', '5a', '7h', '4d', '9c', '8g', '10a', '8c', '9g', '6h', '5e', '4a', '9f', '8b', '9d', '5g', '4b', '5f', '8a', '9e', '5i', '7a', '2e', '2d', '2f', '3b', '2g', '2h', '3g', '3f', '2b', '1a', '3d', '2a', '3e']\n"
     ]
    }
   ],
   "source": [
    "# hitung jumlah kategori, jumlah kata, jumlah analogi kata, dan jenis kategori semeval\n",
    "# https://drive.google.com/file/d/0BzcZKTSeYL8VenY0QkVpZVpxYnc/view?resourcekey=0-ZP-UARfJj39PcLroibHPHw\n",
    "num_lines = 0\n",
    "list_word = []\n",
    "list_category = []\n",
    "\n",
    "list_file_word_analogy_github.append(\"semeval\")\n",
    "\n",
    "dir_file = \"/Users/williamnehemia/Documents/Skripsi/TugasAkhir/DataEvaluasiGitHub/word-analogy/monolingual/en/semeval.csv\"\n",
    "\n",
    "df = pd.read_csv(dir_file)\n",
    "\n",
    "for index, row in df.iterrows():\n",
    "    type_row = row[\"type\"]\n",
    "    word_1 = row[\"word1\"].lower()\n",
    "    word_2 = row[\"word2\"].lower()\n",
    "    word_3 = row[\"word3\"].lower()\n",
    "    target_word = row[\"target\"].lower()\n",
    "    num_lines += 1\n",
    "    \n",
    "    if type_row not in list_category:\n",
    "        list_category.append(type_row)\n",
    "    \n",
    "    if word_1 not in list_word:\n",
    "        list_word.append(word_1)\n",
    "    \n",
    "    if word_2 not in list_word:\n",
    "        list_word.append(word_2)\n",
    "        \n",
    "    if word_3 not in list_word:\n",
    "        list_word.append(word_3)\n",
    "        \n",
    "    if target_word not in list_word:\n",
    "        list_word.append(target_word)\n",
    "\n",
    "print(\"semeval.csv\")\n",
    "print(\"banyak analogi kata\", num_lines)\n",
    "print(\"banyak kata\", len(list_word))\n",
    "print(\"banyak kategori\", len(list_category))\n",
    "print(list_category)\n",
    "\n",
    "num_of_row_word_analogy_github.append(num_lines)\n",
    "num_of_words_word_analogy_github.append(len(list_word))\n",
    "num_of_category_word_analogy_github.append(len(list_category))\n"
   ]
  },
  {
   "cell_type": "code",
   "execution_count": 27,
   "id": "085dea4e",
   "metadata": {},
   "outputs": [
    {
     "data": {
      "image/png": "[encoded data removed]",
      "text/plain": [
       "<Figure size 640x480 with 1 Axes>"
      ]
     },
     "metadata": {},
     "output_type": "display_data"
    }
   ],
   "source": [
    "# mengurutkan jumlah analogi kata \n",
    "x_values, y_values = zip(*sorted(zip(num_of_row_word_analogy_github, list_file_word_analogy_github), reverse=False))\n",
    "\n",
    "\n",
    "# buat bar chart banyak analogi kata github\n",
    "plt.barh(y_values, x_values)\n",
    " \n",
    "# memberi label sumbu y\n",
    "plt.ylabel(\"nama file\")\n",
    " \n",
    "# memberi label sumbu x\n",
    "plt.xlabel(\"banyak analogi kata\") \n",
    "\n",
    "# memberi judul visualisasi\n",
    "plt.title(\"Banyak Analogi Kata\")\n",
    "\n",
    "# menampilkan visualisasi\n",
    "plt.show()"
   ]
  },
  {
   "cell_type": "code",
   "execution_count": 28,
   "id": "10a7d20e",
   "metadata": {},
   "outputs": [
    {
     "data": {
      "image/png": "[encoded data removed]",
      "text/plain": [
       "<Figure size 640x480 with 1 Axes>"
      ]
     },
     "metadata": {},
     "output_type": "display_data"
    }
   ],
   "source": [
    "# mengurutkan jumlah kata pada analogi kata \n",
    "x_values, y_values = zip(*sorted(zip(num_of_words_word_analogy_github, list_file_word_analogy_github), reverse=False))\n",
    "\n",
    "\n",
    "# buat bar chart banyak kata pada analogi kata github\n",
    "plt.barh(y_values, x_values)\n",
    " \n",
    "# memberi label sumbu y\n",
    "plt.ylabel(\"nama file\")\n",
    " \n",
    "# memberi label sumbu x\n",
    "plt.xlabel(\"banyak kata\") \n",
    "\n",
    "# memberi judul visualisasi\n",
    "plt.title(\"Banyak Kata pada Analogi Kata\")\n",
    "\n",
    "# menampilkan visualisasi\n",
    "plt.show()"
   ]
  },
  {
   "cell_type": "code",
   "execution_count": 29,
   "id": "7130724f",
   "metadata": {},
   "outputs": [
    {
     "data": {
      "image/png": "[encoded data removed]",
      "text/plain": [
       "<Figure size 640x480 with 1 Axes>"
      ]
     },
     "metadata": {},
     "output_type": "display_data"
    }
   ],
   "source": [
    "# mengurutkan jumlah kategori pada analogi kata \n",
    "x_values, y_values = zip(*sorted(zip(num_of_category_word_analogy_github, list_file_word_analogy_github), reverse=False))\n",
    "\n",
    "# buat bar chart banyak kategori pada analogi kata github\n",
    "plt.barh(y_values, x_values)\n",
    " \n",
    "# memberi label sumbu y\n",
    "plt.ylabel(\"nama file\")\n",
    " \n",
    "# memberi label sumbu x\n",
    "plt.xlabel(\"banyak kategori\") \n",
    "\n",
    "# memberi judul visualisasi\n",
    "plt.title(\"Banyak Kategori pada Analogi Kata\")\n",
    "\n",
    "# menampilkan visualisasi\n",
    "plt.show()"
   ]
  },
  {
   "cell_type": "code",
   "execution_count": null,
   "id": "4128324b",
   "metadata": {},
   "outputs": [],
   "source": []
  },
  {
   "cell_type": "code",
   "execution_count": null,
   "id": "d46ea56c",
   "metadata": {},
   "outputs": [],
   "source": []
  },
  {
   "cell_type": "code",
   "execution_count": null,
   "id": "adc9184b",
   "metadata": {},
   "outputs": [],
   "source": []
  },
  {
   "cell_type": "code",
   "execution_count": null,
   "id": "cb6fc5db",
   "metadata": {},
   "outputs": [],
   "source": []
  }
 ],
 "metadata": {
  "kernelspec": {
   "display_name": "Python 3 (ipykernel)",
   "language": "python",
   "name": "python3"
  },
  "language_info": {
   "codemirror_mode": {
    "name": "ipython",
    "version": 3
   },
   "file_extension": ".py",
   "mimetype": "text/x-python",
   "name": "python",
   "nbconvert_exporter": "python",
   "pygments_lexer": "ipython3",
   "version": "3.11.5"
  }
 },
 "nbformat": 4,
 "nbformat_minor": 5
}
