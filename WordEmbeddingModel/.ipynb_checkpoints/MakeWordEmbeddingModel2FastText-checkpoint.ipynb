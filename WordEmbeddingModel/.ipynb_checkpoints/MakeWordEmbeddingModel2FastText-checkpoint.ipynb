{
 "cells": [
  {
   "cell_type": "code",
   "execution_count": 69,
   "id": "bbee066e",
   "metadata": {},
   "outputs": [],
   "source": [
    "# Import library\n",
    "import re\n",
    "import sys\n",
    "import os\n",
    "import shutil\n",
    "from nltk.tokenize import word_tokenize\n",
    "from nltk.tokenize import RegexpTokenizer\n",
    "import fasttext\n",
    "from sklearn.metrics.pairwise import cosine_similarity\n",
    "from scipy.stats import spearmanr\n",
    "import time\n",
    "import pandas as pd"
   ]
  },
  {
   "cell_type": "code",
   "execution_count": 70,
   "id": "a4fe4edb",
   "metadata": {},
   "outputs": [],
   "source": [
    "def relatedness(model):\n",
    "    # Baca file rw untuk evaluasi word embedding dengan teknik relatedness cbow\n",
    "    dir_file = '/Users/williamnehemia/Documents/Skripsi/TugasAkhir/DataEvaluasiGitHub/word-similarity/monolingual/en/rw.csv'\n",
    "    list_model_similarity = []\n",
    "    words_exist = []\n",
    "    words_not_exist = []\n",
    "    list_human_score = []\n",
    "    \n",
    "    df = pd.read_csv(dir_file)\n",
    "    list_human_score = df['similarity'].to_list()\n",
    "    \n",
    "    for index, row in df.iterrows():\n",
    "        word_1 = row[\"word1\"].lower()\n",
    "        word_2 = row[\"word2\"].lower()\n",
    "        try:\n",
    "            wv_1 = []\n",
    "            wv_2 = []\n",
    "            wv_1.append(model.get_word_vector(word_1))\n",
    "            \n",
    "            if word_1 not in words_exist:\n",
    "                words_exist.append(word_1)\n",
    "            \n",
    "            wv_2.append(model.get_word_vector(word_2))\n",
    "            \n",
    "            if word_2 not in words_exist:\n",
    "                words_exist.append(word_2)\n",
    "                \n",
    "            similarity = cosine_similarity(wv_1, wv_2)[0][0]\n",
    "            list_model_similarity.append(similarity)\n",
    "            \n",
    "        except:\n",
    "            if word_1 in words_exist: # kata 2 yang tidak ada di model\n",
    "                if word_2 not in words_not_exist:\n",
    "                    words_not_exist.append(word_2)\n",
    "            \n",
    "            if word_2 in words_exist: # kata 1 yang tidak ada di model\n",
    "                if word_1 not in words_not_exist:\n",
    "                    words_not_exist.append(word_1)\n",
    "        \n",
    "    \n",
    "   \n",
    "        \n",
    "\n",
    "    rho_model, p_model = spearmanr(list_model_similarity, list_human_score)\n",
    "    print(\"banyak kata ada di model\", len(words_exist))\n",
    "    print(\"banyak kata tidak ada di model\", len(words_not_exist))\n",
    "    return rho_model\n"
   ]
  },
  {
   "cell_type": "code",
   "execution_count": 71,
   "id": "9e9ac14b",
   "metadata": {},
   "outputs": [],
   "source": [
    "def word_analogy(model):\n",
    "    # Baca file word_analogy untuk evaluasi word embedding dengan teknik word analogy (menggunakan library)\n",
    "\n",
    "    dir_file = '/Users/williamnehemia/Documents/Skripsi/TugasAkhir/DataEvaluasiGitHub/word-analogy/monolingual/en/semeval.csv'\n",
    "    df = pd.read_csv(dir_file)\n",
    "    true_predicted = 0\n",
    "    false_predicted = 0\n",
    "    words_exist = []\n",
    "    words_not_exist = []\n",
    "    \n",
    "    for index, row in df.iterrows():\n",
    "        word_1 = row[\"word1\"].lower()\n",
    "        word_2 = row[\"word2\"].lower()\n",
    "        word_3 = row[\"word3\"].lower()\n",
    "        word_4 = row[\"target\"].lower()\n",
    "        word_predicted_curr = \"\"\n",
    "        try:\n",
    "            list_of_result_analogy = model.get_analogies(word_1, word_2, word_3)\n",
    "            word_predicted_curr = list_of_result_analogy[0][1] \n",
    "            if word_predicted_curr == word_4:\n",
    "                true_predicted += 1\n",
    "            else:\n",
    "                false_predicted += 1\n",
    "            \n",
    "            if word_1 not in words_exist:\n",
    "                words_exist.append(word_1)\n",
    "            \n",
    "            if word_2 not in words_exist:\n",
    "                words_exist.append(word_2)\n",
    "            \n",
    "            if word_3 not in words_exist:\n",
    "                words_exist.append(word_3)\n",
    "            \n",
    "            if word_4 not in words_exist:\n",
    "                words_exist.append(word_4)\n",
    "\n",
    "        except:\n",
    "            continue\n",
    "            \n",
    "        # untuk menambahkan word_1 jika tidak ada di model    \n",
    "        try:\n",
    "            word_vector = model.get_word_vector(word_1)\n",
    "        except:\n",
    "            if word_1 not in words_not_exist:\n",
    "                    words_not_exist.append(word_1)\n",
    "        \n",
    "        # untuk menambahkan word_2 jika tidak ada di model    \n",
    "        try:\n",
    "            word_vector = model.get_word_vector(word_2)\n",
    "        except:\n",
    "            if word_2 not in words_not_exist:\n",
    "                    words_not_exist.append(word_2)\n",
    "\n",
    "        # untuk menambahkan word_3 jika tidak ada di model    \n",
    "        try:\n",
    "            word_vector = model.get_word_vector(word_3)\n",
    "        except:\n",
    "            if word_3 not in words_not_exist:\n",
    "                    words_not_exist.append(word_3)\n",
    "        \n",
    "        # untuk menambahkan word_4 jika tidak ada di model    \n",
    "        try:\n",
    "            word_vector = model.get_word_vector(word_4)\n",
    "        except:\n",
    "            if word_4 not in words_not_exist:\n",
    "                    words_not_exist.append(word_4)\n",
    "\n",
    "    print(\"true_predicted\", true_predicted, true_predicted / (true_predicted+false_predicted))\n",
    "    print(\"false_predicted\", false_predicted, false_predicted / (true_predicted+false_predicted))\n",
    "    print(\"banyak kata ada di model\", len(words_exist))\n",
    "    print(\"banyak kata tidak ada di model\", len(words_not_exist))"
   ]
  },
  {
   "cell_type": "code",
   "execution_count": 72,
   "id": "d32bf080",
   "metadata": {},
   "outputs": [],
   "source": [
    "# Ambil jumlah paragraf dari file asli per dokumen\n",
    "directory_path_real = '/Users/williamnehemia/Documents/Skripsi/TugasAkhir/DataPreprocessing/DataTahap7(DataCleaning)'\n",
    "\n",
    "files_real = os.listdir(directory_path_real)\n",
    "list_files_real = []\n",
    "all_text_real = \"\"\n",
    "\n",
    "# Ambil daftar nama file\n",
    "for file in files_real:\n",
    "    if '.DS_Store' not in file:\n",
    "        list_files_real.append(file)\n",
    "        \n",
    "all_text_real = \"\"\n",
    "for file in list_files_real:\n",
    "    with open('/Users/williamnehemia/Documents/Skripsi/TugasAkhir/DataPreprocessing/DataTahap7(DataCleaning)/' + file, 'r') as fileNow:\n",
    "        content = fileNow.read()\n",
    "        all_text_real += content\n"
   ]
  },
  {
   "cell_type": "code",
   "execution_count": 73,
   "id": "b3912b12",
   "metadata": {},
   "outputs": [],
   "source": [
    "# Ambil jumlah paragraf dari file parafrasa per dokumen\n",
    "directory_path_paraphrased = '/Users/williamnehemia/Documents/Skripsi/TugasAkhir/WordEmbeddingModel/Data/Data_parafrasa'\n",
    "\n",
    "files_paraphrased = os.listdir(directory_path_paraphrased)\n",
    "list_files_paraphrased = []\n",
    "all_text_paraphrased = \"\"\n",
    "\n",
    "# Ambil daftar nama file\n",
    "for file in files_paraphrased:\n",
    "    if '.DS_Store' not in file:\n",
    "        list_files_paraphrased.append(file)\n",
    "        \n",
    "all_text_paraphrased = \"\"\n",
    "for file in list_files_paraphrased:\n",
    "    with open('/Users/williamnehemia/Documents/Skripsi/TugasAkhir/WordEmbeddingModel/Data/Data_parafrasa/' + file, 'r') as fileNow:\n",
    "        content = fileNow.read()\n",
    "        all_text_paraphrased += content\n",
    "        \n"
   ]
  },
  {
   "cell_type": "code",
   "execution_count": 74,
   "id": "0b7ddee6",
   "metadata": {},
   "outputs": [],
   "source": [
    "# Melakukan lowercase lagi\n",
    "all_text_real = all_text_real.lower()\n",
    "all_text_paraphrased = all_text_paraphrased.lower()"
   ]
  },
  {
   "cell_type": "code",
   "execution_count": 75,
   "id": "2d898285",
   "metadata": {},
   "outputs": [],
   "source": [
    "# Menggabungkan teks asli dan parafrasa\n",
    "all_text = all_text_real + '\\n' + all_text_paraphrased"
   ]
  },
  {
   "cell_type": "code",
   "execution_count": 76,
   "id": "db45969c",
   "metadata": {},
   "outputs": [],
   "source": [
    "# Hanya mengambil huruf dan titik\n",
    "all_text = re.sub(r'[^a-zA-Z.]', ' ', all_text)\n",
    "all_text = re.sub(r'\\s+', ' ', all_text)"
   ]
  },
  {
   "cell_type": "code",
   "execution_count": 77,
   "id": "5445f272",
   "metadata": {},
   "outputs": [],
   "source": [
    "# Buat file sementara\n",
    "with open('/Users/williamnehemia/Documents/Skripsi/TugasAkhir/WordEmbeddingModel/Data/dataCurr.txt', 'w') as file:\n",
    "    file.write(all_text)"
   ]
  },
  {
   "cell_type": "code",
   "execution_count": 49,
   "id": "67ae6d15",
   "metadata": {},
   "outputs": [
    {
     "name": "stderr",
     "output_type": "stream",
     "text": [
      "Read 4M words\n",
      "Number of words:  73023\n",
      "Number of labels: 0\n",
      "Progress:  99.9% words/sec/thread:  196221 lr:  0.000005 avg.loss:  1.779276 ETA:   0h 0m 0s  4.4% words/sec/thread:  289668 lr:  0.009561 avg.loss:  2.306376 ETA:   0h 2m22s  5.3% words/sec/thread:  284993 lr:  0.009466 avg.loss:  2.265436 ETA:   0h 2m22s0.009145 avg.loss:  2.182118 ETA:   0h 2m21s 12.6% words/sec/thread:  262765 lr:  0.008740 avg.loss:  2.094773 ETA:   0h 2m23savg.loss:  2.080030 ETA:   0h 2m25s 14.9% words/sec/thread:  247337 lr:  0.008510 avg.loss:  2.063075 ETA:   0h 2m28s 20.6% words/sec/thread:  238072 lr:  0.007943 avg.loss:  2.020056 ETA:   0h 2m23s 24.4% words/sec/thread:  230981 lr:  0.007556 avg.loss:  1.997369 ETA:   0h 2m20s 26.4% words/sec/thread:  226428 lr:  0.007358 avg.loss:  1.989278 ETA:   0h 2m19s 27.0% words/sec/thread:  226072 lr:  0.007304 avg.loss:  1.987154 ETA:   0h 2m19s 29.2% words/sec/thread:  224063 lr:  0.007084 avg.loss:  1.981219 ETA:   0h 2m16s% words/sec/thread:  220074 lr:  0.006537 avg.loss:  1.956773 ETA:   0h 2m 7s 35.7% words/sec/thread:  219265 lr:  0.006430 avg.loss:  1.953017 ETA:   0h 2m 6s 38.8% words/sec/thread:  214861 lr:  0.006118 avg.loss:  1.944793 ETA:   0h 2m 2s 40.5% words/sec/thread:  215010 lr:  0.005948 avg.loss:  1.942041 ETA:   0h 1m59savg.loss:  1.940695 ETA:   0h 1m57s 45.5% words/sec/thread:  213705 lr:  0.005445 avg.loss:  1.927814 ETA:   0h 1m49s 51.5% words/sec/thread:  215642 lr:  0.004847 avg.loss:  1.919906 ETA:   0h 1m36s 54.7% words/sec/thread:  215622 lr:  0.004530 avg.loss:  1.915715 ETA:   0h 1m30s 56.8% words/sec/thread:  216158 lr:  0.004316 avg.loss:  1.913637 ETA:   0h 1m25s215176 lr:  0.004173 avg.loss:  1.912485 ETA:   0h 1m23s 59.7% words/sec/thread:  210726 lr:  0.004029 avg.loss:  1.911638 ETA:   0h 1m22s 60.7% words/sec/thread:  208509 lr:  0.003934 avg.loss:  1.911213 ETA:   0h 1m21s 62.6% words/sec/thread:  205368 lr:  0.003741 avg.loss:  1.910736 ETA:   0h 1m18s 62.8% words/sec/thread:  205080 lr:  0.003720 avg.loss:  1.910573 ETA:   0h 1m18s 70.7% words/sec/thread:  193954 lr:  0.002930 avg.loss:  1.900302 ETA:   0h 1m 5s 74.9% words/sec/thread:  187858 lr:  0.002508 avg.loss:  1.892415 ETA:   0h 0m57s 0.002387 avg.loss:  1.890428 ETA:   0h 0m54s 88.2% words/sec/thread:  191346 lr:  0.001183 avg.loss:  1.839000 ETA:   0h 0m26s 89.7% words/sec/thread:  191817 lr:  0.001032 avg.loss:  1.831061 ETA:   0h 0m23s 98.6% words/sec/thread:  195777 lr:  0.000145 avg.loss:  1.785770 ETA:   0h 0m 3s 99.4% words/sec/thread:  196037 lr:  0.000057 avg.loss:  1.781662 ETA:   0h 0m 1s"
     ]
    },
    {
     "name": "stdout",
     "output_type": "stream",
     "text": [
      "Total training time: 0 hours 3 minutes 40 seconds\n"
     ]
    },
    {
     "name": "stderr",
     "output_type": "stream",
     "text": [
      "\r",
      "Progress: 100.0% words/sec/thread:  196238 lr: -0.000000 avg.loss:  1.779026 ETA:   0h 0m 0s\r",
      "Progress: 100.0% words/sec/thread:  196238 lr:  0.000000 avg.loss:  1.779026 ETA:   0h 0m 0s\n"
     ]
    }
   ],
   "source": [
    "# Membuat model word embedding fasttext menggunakan CBOW 1\n",
    "\n",
    "# waktu mulai\n",
    "start_time = time.time()\n",
    "\n",
    "model_cbow = fasttext.train_unsupervised(input='/Users/williamnehemia/Documents/Skripsi/TugasAkhir/WordEmbeddingModel/Data/dataCurr.txt', model='cbow', lr=0.01, dim=20, ws=5, epoch=100, minCount=1, minn=3, maxn=3, thread=10)\n",
    "\n",
    "# waktu selesai\n",
    "end_time = time.time()\n",
    "\n",
    "# hitung waktu training\n",
    "training_time = end_time - start_time\n",
    "\n",
    "# convert ke jam, menit, detik\n",
    "hours = int(training_time // 3600)\n",
    "minutes = int((training_time % 3600) // 60)\n",
    "seconds = int(training_time % 60)\n",
    "\n",
    "print(\"Total training time:\", hours, \"hours\", minutes, \"minutes\", seconds, \"seconds\")\n"
   ]
  },
  {
   "cell_type": "code",
   "execution_count": 50,
   "id": "b7205683",
   "metadata": {},
   "outputs": [],
   "source": [
    "# save model\n",
    "model_cbow.save_model(\"/Users/williamnehemia/Documents/Skripsi/Fastext_model/SetelahPembagianData/model_cbow_fasttext_1.bin\")\n"
   ]
  },
  {
   "cell_type": "code",
   "execution_count": 51,
   "id": "a784771c",
   "metadata": {},
   "outputs": [
    {
     "name": "stderr",
     "output_type": "stream",
     "text": [
      "Warning : `load_model` does not return WordVectorModel or SupervisedModel any more, but a `FastText` object which is very similar.\n"
     ]
    }
   ],
   "source": [
    "# load model\n",
    "model_cbow = fasttext.load_model(\"/Users/williamnehemia/Documents/Skripsi/Fastext_model/SetelahPembagianData/model_cbow_fasttext_1.bin\")\n"
   ]
  },
  {
   "cell_type": "code",
   "execution_count": 52,
   "id": "96056d8f",
   "metadata": {},
   "outputs": [
    {
     "name": "stdout",
     "output_type": "stream",
     "text": [
      "banyak kata ada di model 2951\n",
      "banyak kata tidak ada di model 0\n",
      "0.18404157070874463\n"
     ]
    }
   ],
   "source": [
    "# relatedness model cbow 1\n",
    "print(relatedness(model_cbow))"
   ]
  },
  {
   "cell_type": "code",
   "execution_count": 53,
   "id": "88f125de",
   "metadata": {},
   "outputs": [
    {
     "name": "stdout",
     "output_type": "stream",
     "text": [
      "true_predicted 1 9.986019572598362e-05\n",
      "false_predicted 10013 0.9999001398042741\n",
      "banyak kata ada di model 3233\n",
      "banyak kata tidak ada di model 0\n"
     ]
    }
   ],
   "source": [
    "# word analogy model cbow 1\n",
    "word_analogy(model_cbow)"
   ]
  },
  {
   "cell_type": "code",
   "execution_count": 54,
   "id": "fe28693d",
   "metadata": {},
   "outputs": [
    {
     "name": "stderr",
     "output_type": "stream",
     "text": [
      "Read 4M words\n",
      "Number of words:  73023\n",
      "Number of labels: 0\n",
      "Progress: 100.0% words/sec/thread:   70146 lr:  0.000000 avg.loss:  0.700793 ETA:   0h 0m 0s  2.0% words/sec/thread:  120453 lr:  0.009801 avg.loss:  2.090265 ETA:   0h 5m50s  3.4% words/sec/thread:  111408 lr:  0.009662 avg.loss:  2.075347 ETA:   0h 6m13s  4.4% words/sec/thread:  106813 lr:  0.009555 avg.loss:  2.069773 ETA:   0h 6m24s  6.0% words/sec/thread:   98863 lr:  0.009401 avg.loss:  2.068552 ETA:   0h 6m49s  6.1% words/sec/thread:   98532 lr:  0.009389 avg.loss:  2.069732 ETA:   0h 6m49s  6.7% words/sec/thread:   95575 lr:  0.009332 avg.loss:  2.074458 ETA:   0h 7m 0savg.loss:  2.076156 ETA:   0h 7m 9s  7.8% words/sec/thread:   89922 lr:  0.009220 avg.loss:  2.081098 ETA:   0h 7m21s  8.2% words/sec/thread:   88669 lr:  0.009179 avg.loss:  2.083637 ETA:   0h 7m25s  8.2% words/sec/thread:   88641 lr:  0.009177 avg.loss:  2.083841 ETA:   0h 7m25s  8.5% words/sec/thread:   88462 lr:  0.009147 avg.loss:  2.084312 ETA:   0h 7m24s  9.2% words/sec/thread:   87433 lr:  0.009076 avg.loss:  2.086625 ETA:   0h 7m26s 10.6% words/sec/thread:   85540 lr:  0.008938 avg.loss:  2.088360 ETA:   0h 7m29s 11.1% words/sec/thread:   85360 lr:  0.008885 avg.loss:  2.089168 ETA:   0h 7m27s 11.6% words/sec/thread:   85021 lr:  0.008837 avg.loss:  2.087833 ETA:   0h 7m27s 12.7% words/sec/thread:   83811 lr:  0.008731 avg.loss:  2.063483 ETA:   0h 7m28s 13.6% words/sec/thread:   83526 lr:  0.008638 avg.loss:  2.046735 ETA:   0h 7m24s 14.1% words/sec/thread:   83401 lr:  0.008587 avg.loss:  2.037555 ETA:   0h 7m22s19s 16.7% words/sec/thread:   79989 lr:  0.008327 avg.loss:  2.002612 ETA:   0h 7m27s 18.3% words/sec/thread:   74670 lr:  0.008175 avg.loss:  1.988566 ETA:   0h 7m51s 18.4% words/sec/thread:   74178 lr:  0.008159 avg.loss:  1.987018 ETA:   0h 7m53s 18.6% words/sec/thread:   73645 lr:  0.008142 avg.loss:  1.985353 ETA:   0h 7m55s 19.7% words/sec/thread:   71001 lr:  0.008027 avg.loss:  1.975341 ETA:   0h 8m 6s 19.9% words/sec/thread:   70702 lr:  0.008010 avg.loss:  1.973831 ETA:   0h 8m 7s 20.2% words/sec/thread:   70065 lr:  0.007976 avg.loss:  1.970018 ETA:   0h 8m 9s 20.4% words/sec/thread:   69664 lr:  0.007959 avg.loss:  1.968207 ETA:   0h 8m11s20.7% words/sec/thread:   69152 lr:  0.007934 avg.loss:  1.966455 ETA:   0h 8m13s 20.7% words/sec/thread:   69003 lr:  0.007927 avg.loss:  1.965824 ETA:   0h 8m14s 21.2% words/sec/thread:   68060 lr:  0.007876 avg.loss:  1.961854 ETA:   0h 8m17s 21.4% words/sec/thread:   67780 lr:  0.007859 avg.loss:  1.960699 ETA:   0h 8m18s 21.6% words/sec/thread:   67483 lr:  0.007843 avg.loss:  1.959656 ETA:   0h 8m20s  66947 lr:  0.007810 avg.loss:  1.957686 ETA:   0h 8m21s 22.1% words/sec/thread:   66694 lr:  0.007793 avg.loss:  1.956286 ETA:   0h 8m22s 22.5% words/sec/thread:   65919 lr:  0.007749 avg.loss:  1.953200 ETA:   0h 8m25s 22.7% words/sec/thread:   65522 lr:  0.007728 avg.loss:  1.951792 ETA:   0h 8m27s 23.2% words/sec/thread:   64453 lr:  0.007678 avg.loss:  1.948714 ETA:   0h 8m32s 23.4% words/sec/thread:   64169 lr:  0.007661 avg.loss:  1.947717 ETA:   0h 8m33s 23.9% words/sec/thread:   63563 lr:  0.007612 avg.loss:  1.945038 ETA:   0h 8m35s 0.007566 avg.loss:  1.942325 ETA:   0h 8m37s 24.7% words/sec/thread:   62347 lr:  0.007527 avg.loss:  1.940280 ETA:   0h 8m39s 25.1% words/sec/thread:   61823 lr:  0.007493 avg.loss:  1.933277 ETA:   0h 8m41s61626 lr:  0.007478 avg.loss:  1.923266 ETA:   0h 8m42s words/sec/thread:   61436 lr:  0.007462 avg.loss:  1.913801 ETA:   0h 8m42s 25.6% words/sec/thread:   61236 lr:  0.007445 avg.loss:  1.903232 ETA:   0h 8m43s 25.9% words/sec/thread:   60736 lr:  0.007412 avg.loss:  1.883650 ETA:   0h 8m45s 27.2% words/sec/thread:   59189 lr:  0.007277 avg.loss:  1.809451 ETA:   0h 8m49s  58575 lr:  0.007211 avg.loss:  1.775262 ETA:   0h 8m49s 28.4% words/sec/thread:   58106 lr:  0.007163 avg.loss:  1.751580 ETA:   0h 8m50s words/sec/thread:   57289 lr:  0.007034 avg.loss:  1.691029 ETA:   0h 8m48s 29.9% words/sec/thread:   57103 lr:  0.007012 avg.loss:  1.681156 ETA:   0h 8m48s 30.5% words/sec/thread:   56692 lr:  0.006947 avg.loss:  1.651739 ETA:   0h 8m47s 30.7% words/sec/thread:   56582 lr:  0.006933 avg.loss:  1.645392 ETA:   0h 8m47s44s 32.0% words/sec/thread:   55964 lr:  0.006801 avg.loss:  1.591460 ETA:   0h 8m42s 32.5% words/sec/thread:   55743 lr:  0.006752 avg.loss:  1.572574 ETA:   0h 8m41s 37.8% words/sec/thread:   58346 lr:  0.006220 avg.loss:  1.398134 ETA:   0h 7m38s 38.1% words/sec/thread:   58487 lr:  0.006193 avg.loss:  1.390469 ETA:   0h 7m35s 0.006175 avg.loss:  1.385694 ETA:   0h 7m33s 40.3% words/sec/thread:   59740 lr:  0.005970 avg.loss:  1.330894 ETA:   0h 7m 9s 41.6% words/sec/thread:   60122 lr:  0.005843 avg.loss:  1.299044 ETA:   0h 6m58s 47.7% words/sec/thread:   63170 lr:  0.005233 avg.loss:  1.171088 ETA:   0h 5m56s words/sec/thread:   64196 lr:  0.004976 avg.loss:  1.122511 ETA:   0h 5m33sss:  1.115211 ETA:   0h 5m30s64448 lr:  0.004854 avg.loss:  1.100881 ETA:   0h 5m24s 52.7% words/sec/thread:   64709 lr:  0.004733 avg.loss:  1.080994 ETA:   0h 5m14s words/sec/thread:   64808 lr:  0.004675 avg.loss:  1.071811 ETA:   0h 5m10sss:  1.065914 ETA:   0h 5m 7s 54.5% words/sec/thread:   65063 lr:  0.004553 avg.loss:  1.053510 ETA:   0h 5m 1s 1.013180 ETA:   0h 4m40s 82.1% words/sec/thread:   69707 lr:  0.001786 avg.loss:  0.793367 ETA:   0h 1m50s 82.7% words/sec/thread:   69718 lr:  0.001733 avg.loss:  0.790140 ETA:   0h 1m46s   69754 lr:  0.001676 avg.loss:  0.786696 ETA:   0h 1m43s84.8% words/sec/thread:   69790 lr:  0.001519 avg.loss:  0.777328 ETA:   0h 1m33s 85.2% words/sec/thread:   69820 lr:  0.001479 avg.loss:  0.775048 ETA:   0h 1m31s 88.1% words/sec/thread:   70019 lr:  0.001194 avg.loss:  0.759054 ETA:   0h 1m13s 93.2% words/sec/thread:   70327 lr:  0.000684 avg.loss:  0.732066 ETA:   0h 0m41savg.loss:  0.729988 ETA:   0h 0m39s 97.0% words/sec/thread:   70720 lr:  0.000301 avg.loss:  0.713742 ETA:   0h 0m18s   70754 lr:  0.000242 avg.loss:  0.711117 ETA:   0h 0m14s% words/sec/thread:   70438 lr:  0.000065 avg.loss:  0.703534 ETA:   0h 0m 3s 99.6% words/sec/thread:   70330 lr:  0.000040 avg.loss:  0.702483 ETA:   0h 0m 2s 99.8% words/sec/thread:   70241 lr:  0.000021 avg.loss:  0.701695 ETA:   0h 0m 1s\n"
     ]
    },
    {
     "name": "stdout",
     "output_type": "stream",
     "text": [
      "Total training time: 0 hours 10 minutes 14 seconds\n"
     ]
    }
   ],
   "source": [
    "# Membuat model word embedding fasttext menggunakan skip gram 1\n",
    "\n",
    "# waktu mulai\n",
    "start_time = time.time()\n",
    "\n",
    "model_sg = fasttext.train_unsupervised(input='/Users/williamnehemia/Documents/Skripsi/TugasAkhir/WordEmbeddingModel/Data/dataCurr.txt', model='skipgram', lr=0.01, dim=20, ws=5, epoch=100, minCount=1, minn=3, maxn=3, thread=10)\n",
    "\n",
    "# waktu selesai\n",
    "end_time = time.time()\n",
    "\n",
    "# hitung waktu training\n",
    "training_time = end_time - start_time\n",
    "\n",
    "# convert ke jam, menit, detik\n",
    "hours = int(training_time // 3600)\n",
    "minutes = int((training_time % 3600) // 60)\n",
    "seconds = int(training_time % 60)\n",
    "\n",
    "print(\"Total training time:\", hours, \"hours\", minutes, \"minutes\", seconds, \"seconds\")\n"
   ]
  },
  {
   "cell_type": "code",
   "execution_count": 55,
   "id": "e5b31650",
   "metadata": {},
   "outputs": [],
   "source": [
    "# save model\n",
    "model_sg.save_model(\"/Users/williamnehemia/Documents/Skripsi/Fastext_model/SetelahPembagianData/model_sg_fasttext_1.bin\")\n"
   ]
  },
  {
   "cell_type": "code",
   "execution_count": 56,
   "id": "4f602244",
   "metadata": {},
   "outputs": [
    {
     "name": "stderr",
     "output_type": "stream",
     "text": [
      "Warning : `load_model` does not return WordVectorModel or SupervisedModel any more, but a `FastText` object which is very similar.\n"
     ]
    }
   ],
   "source": [
    "# load model\n",
    "model_sg = fasttext.load_model(\"/Users/williamnehemia/Documents/Skripsi/Fastext_model/SetelahPembagianData/model_sg_fasttext_1.bin\")\n"
   ]
  },
  {
   "cell_type": "code",
   "execution_count": 57,
   "id": "5213a59e",
   "metadata": {},
   "outputs": [
    {
     "name": "stdout",
     "output_type": "stream",
     "text": [
      "banyak kata ada di model 2951\n",
      "banyak kata tidak ada di model 0\n",
      "0.19614537472060697\n"
     ]
    }
   ],
   "source": [
    "# relatedness model sg 1\n",
    "print(relatedness(model_sg))"
   ]
  },
  {
   "cell_type": "code",
   "execution_count": 58,
   "id": "3e661769",
   "metadata": {},
   "outputs": [
    {
     "name": "stdout",
     "output_type": "stream",
     "text": [
      "true_predicted 9 0.0008987417615338526\n",
      "false_predicted 10005 0.9991012582384662\n",
      "banyak kata ada di model 3233\n",
      "banyak kata tidak ada di model 0\n"
     ]
    }
   ],
   "source": [
    "# word analogy model sg 1\n",
    "word_analogy(model_sg)"
   ]
  },
  {
   "cell_type": "code",
   "execution_count": 59,
   "id": "d5928ad5",
   "metadata": {},
   "outputs": [
    {
     "name": "stderr",
     "output_type": "stream",
     "text": [
      "Read 4M words\n",
      "Number of words:  73023\n",
      "Number of labels: 0\n",
      "Progress: 100.0% words/sec/thread:  137938 lr:  0.000000 avg.loss:  2.090869 ETA:   0h 0m 0s  2.4% words/sec/thread:  267271 lr:  0.000976 avg.loss:  3.403772 ETA:   0h 2m37s  7.6% words/sec/thread:  244464 lr:  0.000924 avg.loss:  2.700732 ETA:   0h 2m42s 11.2% words/sec/thread:  228339 lr:  0.000888 avg.loss:  2.586280 ETA:   0h 2m47s 18.1% words/sec/thread:  214613 lr:  0.000819 avg.loss:  2.479659 ETA:   0h 2m44s 20.4% words/sec/thread:  209762 lr:  0.000796 avg.loss:  2.453553 ETA:   0h 2m43s 21.9% words/sec/thread:  206488 lr:  0.000781 avg.loss:  2.438140 ETA:   0h 2m42s 23.3% words/sec/thread:  204844 lr:  0.000767 avg.loss:  2.424301 ETA:   0h 2m41s 25.3% words/sec/thread:  203120 lr:  0.000747 avg.loss:  2.404988 ETA:   0h 2m38s 26.6% words/sec/thread:  201346 lr:  0.000734 avg.loss:  2.393816 ETA:   0h 2m36s 31.5% words/sec/thread:  198568 lr:  0.000685 avg.loss:  2.362891 ETA:   0h 2m28s 32.7% words/sec/thread:  194271 lr:  0.000673 avg.loss:  2.356984 ETA:   0h 2m29s 33.5% words/sec/thread:  193033 lr:  0.000665 avg.loss:  2.353294 ETA:   0h 2m28s 34.9% words/sec/thread:  191756 lr:  0.000651 avg.loss:  2.346675 ETA:   0h 2m25s 38.1% words/sec/thread:  190034 lr:  0.000619 avg.loss:  2.333477 ETA:   0h 2m20s 41.6% words/sec/thread:  189605 lr:  0.000584 avg.loss:  2.321407 ETA:   0h 2m12s 43.6% words/sec/thread:  189301 lr:  0.000564 avg.loss:  2.315262 ETA:   0h 2m 8s 45.5% words/sec/thread:  189243 lr:  0.000545 avg.loss:  2.309737 ETA:   0h 2m 3s 47.3% words/sec/thread:  189125 lr:  0.000527 avg.loss:  2.305308 ETA:   0h 1m59s 50.9% words/sec/thread:  188713 lr:  0.000491 avg.loss:  2.294887 ETA:   0h 1m51s53.7% words/sec/thread:  188644 lr:  0.000463 avg.loss:  2.287529 ETA:   0h 1m45s 188812 lr:  0.000443 avg.loss:  2.282912 ETA:   0h 1m40s 58.6% words/sec/thread:  186570 lr:  0.000414 avg.loss:  2.276832 ETA:   0h 1m35s 59.0% words/sec/thread:  185292 lr:  0.000410 avg.loss:  2.275231 ETA:   0h 1m35s 59.8% words/sec/thread:  183014 lr:  0.000402 avg.loss:  2.272942 ETA:   0h 1m34s60.3% words/sec/thread:  182071 lr:  0.000397 avg.loss:  2.271927 ETA:   0h 1m33s 61.9% words/sec/thread:  178286 lr:  0.000381 avg.loss:  2.268033 ETA:   0h 1m31s 62.4% words/sec/thread:  177033 lr:  0.000376 avg.loss:  2.265491 ETA:   0h 1m31s 64.4% words/sec/thread:  173364 lr:  0.000356 avg.loss:  2.252701 ETA:   0h 1m28s 65.3% words/sec/thread:  171650 lr:  0.000347 avg.loss:  2.247070 ETA:   0h 1m27s 67.0% words/sec/thread:  169152 lr:  0.000330 avg.loss:  2.237315 ETA:   0h 1m23s22s  0h 1m17s 72.0% words/sec/thread:  161362 lr:  0.000280 avg.loss:  2.208525 ETA:   0h 1m14s 72.1% words/sec/thread:  161208 lr:  0.000279 avg.loss:  2.207848 ETA:   0h 1m14s 0.000265 avg.loss:  2.200485 ETA:   0h 1m11s 73.9% words/sec/thread:  158850 lr:  0.000261 avg.loss:  2.198305 ETA:   0h 1m10s 74.8% words/sec/thread:  157818 lr:  0.000252 avg.loss:  2.193868 ETA:   0h 1m 8ss 75.2% words/sec/thread:  157313 lr:  0.000248 avg.loss:  2.191942 ETA:   0h 1m 7s 75.6% words/sec/thread:  156822 lr:  0.000244 avg.loss:  2.189860 ETA:   0h 1m 6s 76.1% words/sec/thread:  156311 lr:  0.000239 avg.loss:  2.187813 ETA:   0h 1m 5s ETA:   0h 1m 5s155435 lr:  0.000231 avg.loss:  2.184167 ETA:   0h 1m 3s 78.2% words/sec/thread:  154137 lr:  0.000218 avg.loss:  2.178064 ETA:   0h 1m 0s 79.5% words/sec/thread:  153023 lr:  0.000205 avg.loss:  2.170586 ETA:   0h 0m57s 79.9% words/sec/thread:  152600 lr:  0.000201 avg.loss:  2.168963 ETA:   0h 0m56savg.loss:  2.166656 ETA:   0h 0m55s 82.5% words/sec/thread:  150127 lr:  0.000175 avg.loss:  2.157193 ETA:   0h 0m50s  0.000164 avg.loss:  2.152719 ETA:   0h 0m47s 84.2% words/sec/thread:  148788 lr:  0.000158 avg.loss:  2.150020 ETA:   0h 0m45s 84.6% words/sec/thread:  148365 lr:  0.000154 avg.loss:  2.148320 ETA:   0h 0m44s 85.0% words/sec/thread:  147973 lr:  0.000150 avg.loss:  2.146610 ETA:   0h 0m43s85.3% words/sec/thread:  147715 lr:  0.000147 avg.loss:  2.145489 ETA:   0h 0m42s 2.144818 ETA:   0h 0m42s 85.5% words/sec/thread:  147573 lr:  0.000145 avg.loss:  2.144627 ETA:   0h 0m42s 86.0% words/sec/thread:  147270 lr:  0.000140 avg.loss:  2.142991 ETA:   0h 0m41s"
     ]
    },
    {
     "name": "stdout",
     "output_type": "stream",
     "text": [
      "Total training time: 0 hours 5 minutes 12 seconds\n"
     ]
    },
    {
     "name": "stderr",
     "output_type": "stream",
     "text": [
      "\r",
      "Progress: 100.0% words/sec/thread:  137906 lr: -0.000000 avg.loss:  2.090842 ETA:   0h 0m 0s\r",
      "Progress: 100.0% words/sec/thread:  137906 lr:  0.000000 avg.loss:  2.090842 ETA:   0h 0m 0s\n"
     ]
    }
   ],
   "source": [
    "# Membuat model word embedding fasttext menggunakan CBOW 2\n",
    "\n",
    "# waktu mulai\n",
    "start_time = time.time()\n",
    "\n",
    "model_cbow = fasttext.train_unsupervised(input='/Users/williamnehemia/Documents/Skripsi/TugasAkhir/WordEmbeddingModel/Data/dataCurr.txt', model='cbow', lr=0.001, dim=20, ws=5, epoch=100, minCount=1, minn=3, maxn=3, thread=10)\n",
    "\n",
    "# waktu selesai\n",
    "end_time = time.time()\n",
    "\n",
    "# hitung waktu training\n",
    "training_time = end_time - start_time\n",
    "\n",
    "# convert ke jam, menit, detik\n",
    "hours = int(training_time // 3600)\n",
    "minutes = int((training_time % 3600) // 60)\n",
    "seconds = int(training_time % 60)\n",
    "\n",
    "print(\"Total training time:\", hours, \"hours\", minutes, \"minutes\", seconds, \"seconds\")\n"
   ]
  },
  {
   "cell_type": "code",
   "execution_count": 60,
   "id": "a9ded4a5",
   "metadata": {},
   "outputs": [],
   "source": [
    "# save model\n",
    "model_cbow.save_model(\"/Users/williamnehemia/Documents/Skripsi/Fastext_model/SetelahPembagianData/model_cbow_fasttext_2.bin\")\n"
   ]
  },
  {
   "cell_type": "code",
   "execution_count": 61,
   "id": "88e1cab9",
   "metadata": {},
   "outputs": [
    {
     "name": "stderr",
     "output_type": "stream",
     "text": [
      "Warning : `load_model` does not return WordVectorModel or SupervisedModel any more, but a `FastText` object which is very similar.\n"
     ]
    }
   ],
   "source": [
    "# load model\n",
    "model_cbow = fasttext.load_model(\"/Users/williamnehemia/Documents/Skripsi/Fastext_model/SetelahPembagianData/model_cbow_fasttext_2.bin\")\n"
   ]
  },
  {
   "cell_type": "code",
   "execution_count": 62,
   "id": "f91bbd58",
   "metadata": {},
   "outputs": [
    {
     "name": "stdout",
     "output_type": "stream",
     "text": [
      "banyak kata ada di model 2951\n",
      "banyak kata tidak ada di model 0\n",
      "0.16557757338755275\n"
     ]
    }
   ],
   "source": [
    "# relatedness model cbow 2\n",
    "print(relatedness(model_cbow))"
   ]
  },
  {
   "cell_type": "code",
   "execution_count": 63,
   "id": "4bd1f001",
   "metadata": {},
   "outputs": [
    {
     "name": "stdout",
     "output_type": "stream",
     "text": [
      "true_predicted 0 0.0\n",
      "false_predicted 10014 1.0\n",
      "banyak kata ada di model 3233\n",
      "banyak kata tidak ada di model 0\n"
     ]
    }
   ],
   "source": [
    "# word analogy model cbow 2\n",
    "word_analogy(model_cbow)"
   ]
  },
  {
   "cell_type": "code",
   "execution_count": 64,
   "id": "59e66e93",
   "metadata": {},
   "outputs": [
    {
     "name": "stderr",
     "output_type": "stream",
     "text": [
      "Read 4M words\n",
      "Number of words:  73023\n",
      "Number of labels: 0\n",
      "Progress: 100.0% words/sec/thread:   69288 lr:  0.000000 avg.loss:  0.743549 ETA:   0h 0m 0s  1.8% words/sec/thread:  129548 lr:  0.000982 avg.loss:  2.941371 ETA:   0h 5m25savg.loss:  2.798698 ETA:   0h 5m40s  4.2% words/sec/thread:  108471 lr:  0.000958 avg.loss:  2.571348 ETA:   0h 6m19s  5.0% words/sec/thread:  108604 lr:  0.000950 avg.loss:  2.528103 ETA:   0h 6m16s  5.7% words/sec/thread:  107371 lr:  0.000943 avg.loss:  2.501015 ETA:   0h 6m17s  6.2% words/sec/thread:  104855 lr:  0.000938 avg.loss:  2.486565 ETA:   0h 6m24savg.loss:  2.476607 ETA:   0h 6m31s 7.0% words/sec/thread:  101213 lr:  0.000930 avg.loss:  2.465971 ETA:   0h 6m35s  8.6% words/sec/thread:   97813 lr:  0.000914 avg.loss:  2.436626 ETA:   0h 6m41s  0.000907 avg.loss:  2.426136 ETA:   0h 6m52s  9.9% words/sec/thread:   93647 lr:  0.000901 avg.loss:  2.416547 ETA:   0h 6m54s 11.0% words/sec/thread:   90153 lr:  0.000890 avg.loss:  2.392697 ETA:   0h 7m 4s 11.1% words/sec/thread:   88769 lr:  0.000889 avg.loss:  2.389913 ETA:   0h 7m10sm33s 22.4% words/sec/thread:   77924 lr:  0.000776 avg.loss:  2.147462 ETA:   0h 7m 8s 26.6% words/sec/thread:   78316 lr:  0.000734 avg.loss:  1.865104 ETA:   0h 6m43s 27.9% words/sec/thread:   74885 lr:  0.000721 avg.loss:  1.796464 ETA:   0h 6m54s% words/sec/thread:   73327 lr:  0.000715 avg.loss:  1.764686 ETA:   0h 6m59s29.9% words/sec/thread:   70705 lr:  0.000701 avg.loss:  1.696684 ETA:   0h 7m 6s 30.1% words/sec/thread:   70374 lr:  0.000699 avg.loss:  1.687726 ETA:   0h 7m 7s 30.5% words/sec/thread:   69959 lr:  0.000695 avg.loss:  1.673817 ETA:   0h 7m 7s 32.2% words/sec/thread:   67195 lr:  0.000678 avg.loss:  1.601352 ETA:   0h 7m13s 32.4% words/sec/thread:   66855 lr:  0.000676 avg.loss:  1.593420 ETA:   0h 7m14s 33.3% words/sec/thread:   66087 lr:  0.000667 avg.loss:  1.561900 ETA:   0h 7m14s 35.9% words/sec/thread:   66827 lr:  0.000641 avg.loss:  1.472617 ETA:   0h 6m52s 37.3% words/sec/thread:   67078 lr:  0.000627 avg.loss:  1.432414 ETA:   0h 6m42s 38.8% words/sec/thread:   67633 lr:  0.000612 avg.loss:  1.389675 ETA:   0h 6m29s 1.386149 ETA:   0h 6m28s 39.8% words/sec/thread:   67914 lr:  0.000602 avg.loss:  1.361712 ETA:   0h 6m21s 42.0% words/sec/thread:   68166 lr:  0.000580 avg.loss:  1.309765 ETA:   0h 6m 6savg.loss:  1.301114 ETA:   0h 6m 3s 43.0% words/sec/thread:   68305 lr:  0.000570 avg.loss:  1.287396 ETA:   0h 5m59s 43.5% words/sec/thread:   68403 lr:  0.000565 avg.loss:  1.276863 ETA:   0h 5m55s 44.2% words/sec/thread:   68523 lr:  0.000558 avg.loss:  1.260725 ETA:   0h 5m50s 44.7% words/sec/thread:   68630 lr:  0.000553 avg.loss:  1.250605 ETA:   0h 5m46s 45.7% words/sec/thread:   68802 lr:  0.000543 avg.loss:  1.231064 ETA:   0h 5m39s 47.4% words/sec/thread:   69323 lr:  0.000526 avg.loss:  1.199839 ETA:   0h 5m26s  0.000516 avg.loss:  1.182879 ETA:   0h 5m19s 50.2% words/sec/thread:   70072 lr:  0.000498 avg.loss:  1.151143 ETA:   0h 5m 5s.145053 ETA:   0h 5m 2s 54.7% words/sec/thread:   71279 lr:  0.000453 avg.loss:  1.085216 ETA:   0h 4m33s 56.1% words/sec/thread:   71595 lr:  0.000439 avg.loss:  1.067499 ETA:   0h 4m24s 56.9% words/sec/thread:   71819 lr:  0.000431 avg.loss:  1.057561 ETA:   0h 4m18s 57.7% words/sec/thread:   72019 lr:  0.000423 avg.loss:  1.047961 ETA:   0h 4m12s 58.1% words/sec/thread:   72045 lr:  0.000419 avg.loss:  1.042676 ETA:   0h 4m10s7s 60.2% words/sec/thread:   72529 lr:  0.000398 avg.loss:  1.017320 ETA:   0h 3m56s 60.5% words/sec/thread:   72596 lr:  0.000395 avg.loss:  1.014548 ETA:   0h 3m54s 3m48s 62.4% words/sec/thread:   72938 lr:  0.000376 avg.loss:  0.993679 ETA:   0h 3m41s0.981100 ETA:   0h 3m33ss 0.000241 avg.loss:  0.876785 ETA:   0h 2m20s77.0% words/sec/thread:   73933 lr:  0.000230 avg.loss:  0.868894 ETA:   0h 2m13s 80.9% words/sec/thread:   74314 lr:  0.000191 avg.loss:  0.843239 ETA:   0h 1m50s 85.5% words/sec/thread:   74668 lr:  0.000145 avg.loss:  0.815229 ETA:   0h 1m23s 85.6% words/sec/thread:   74662 lr:  0.000144 avg.loss:  0.814857 ETA:   0h 1m23s 88.0% words/sec/thread:   74641 lr:  0.000120 avg.loss:  0.801852 ETA:   0h 1m 9s 90.6% words/sec/thread:   73000 lr:  0.000094 avg.loss:  0.787560 ETA:   0h 0m55s 95.4% words/sec/thread:   70740 lr:  0.000046 avg.loss:  0.763826 ETA:   0h 0m27s 95.7% words/sec/thread:   70638 lr:  0.000043 avg.loss:  0.762783 ETA:   0h 0m26s 97.2% words/sec/thread:   70114 lr:  0.000028 avg.loss:  0.755909 ETA:   0h 0m17s 98.3% words/sec/thread:   69757 lr:  0.000017 avg.loss:  0.751240 ETA:   0h 0m10s 99.5% words/sec/thread:   69446 lr:  0.000005 avg.loss:  0.746099 ETA:   0h 0m 3s69377 lr:  0.000003 avg.loss:  0.744997 ETA:   0h 0m 1s"
     ]
    },
    {
     "name": "stdout",
     "output_type": "stream",
     "text": [
      "Total training time: 0 hours 10 minutes 22 seconds\n"
     ]
    },
    {
     "name": "stderr",
     "output_type": "stream",
     "text": [
      "\r",
      "Progress: 100.0% words/sec/thread:   69278 lr: -0.000000 avg.loss:  0.743535 ETA:   0h 0m 0s\r",
      "Progress: 100.0% words/sec/thread:   69278 lr:  0.000000 avg.loss:  0.743535 ETA:   0h 0m 0s\n"
     ]
    }
   ],
   "source": [
    "# Membuat model word embedding fasttext menggunakan skip gram 2\n",
    "\n",
    "# waktu mulai\n",
    "start_time = time.time()\n",
    "\n",
    "model_sg = fasttext.train_unsupervised(input='/Users/williamnehemia/Documents/Skripsi/TugasAkhir/WordEmbeddingModel/Data/dataCurr.txt', model='skipgram', lr=0.001, dim=20, ws=5, epoch=100, minCount=1, minn=3, maxn=3, thread=10)\n",
    "\n",
    "# waktu selesai\n",
    "end_time = time.time()\n",
    "\n",
    "# hitung waktu training\n",
    "training_time = end_time - start_time\n",
    "\n",
    "# convert ke jam, menit, detik\n",
    "hours = int(training_time // 3600)\n",
    "minutes = int((training_time % 3600) // 60)\n",
    "seconds = int(training_time % 60)\n",
    "\n",
    "print(\"Total training time:\", hours, \"hours\", minutes, \"minutes\", seconds, \"seconds\")\n"
   ]
  },
  {
   "cell_type": "code",
   "execution_count": 65,
   "id": "2b417753",
   "metadata": {},
   "outputs": [],
   "source": [
    "# save model\n",
    "model_sg.save_model(\"/Users/williamnehemia/Documents/Skripsi/Fastext_model/SetelahPembagianData/model_sg_fasttext_2.bin\")\n"
   ]
  },
  {
   "cell_type": "code",
   "execution_count": 66,
   "id": "2aa323c5",
   "metadata": {},
   "outputs": [
    {
     "name": "stderr",
     "output_type": "stream",
     "text": [
      "Warning : `load_model` does not return WordVectorModel or SupervisedModel any more, but a `FastText` object which is very similar.\n"
     ]
    }
   ],
   "source": [
    "# load model\n",
    "model_sg = fasttext.load_model(\"/Users/williamnehemia/Documents/Skripsi/Fastext_model/SetelahPembagianData/model_sg_fasttext_2.bin\")\n"
   ]
  },
  {
   "cell_type": "code",
   "execution_count": 67,
   "id": "f77ae068",
   "metadata": {},
   "outputs": [
    {
     "name": "stdout",
     "output_type": "stream",
     "text": [
      "banyak kata ada di model 2951\n",
      "banyak kata tidak ada di model 0\n",
      "0.21906551118069492\n"
     ]
    }
   ],
   "source": [
    "# relatedness model sg 2\n",
    "print(relatedness(model_sg))"
   ]
  },
  {
   "cell_type": "code",
   "execution_count": 68,
   "id": "c39da2a4",
   "metadata": {},
   "outputs": [
    {
     "name": "stdout",
     "output_type": "stream",
     "text": [
      "true_predicted 5 0.0004993009786299181\n",
      "false_predicted 10009 0.9995006990213701\n",
      "banyak kata ada di model 3233\n",
      "banyak kata tidak ada di model 0\n"
     ]
    }
   ],
   "source": [
    "# word analogy model sg 2\n",
    "word_analogy(model_sg)"
   ]
  },
  {
   "cell_type": "code",
   "execution_count": 78,
   "id": "def58308",
   "metadata": {},
   "outputs": [
    {
     "name": "stderr",
     "output_type": "stream",
     "text": [
      "Read 4M words\n",
      "Number of words:  73023\n",
      "Number of labels: 0\n",
      "Progress:  99.9% words/sec/thread:  205886 lr:  0.000103 avg.loss:  1.673700 ETA:   0h 0m 0s  4.0% words/sec/thread:  310853 lr:  0.096010 avg.loss:  2.097997 ETA:   0h 2m12s  5.0% words/sec/thread:  297037 lr:  0.094997 avg.loss:  2.076303 ETA:   0h 2m17s  6.4% words/sec/thread:  289698 lr:  0.093601 avg.loss:  2.058693 ETA:   0h 2m19s words/sec/thread:  287787 lr:  0.092550 avg.loss:  2.046057 ETA:   0h 2m18s 0.086194 avg.loss:  1.990080 ETA:   0h 2m13srogress:  15.1% words/sec/thread:  275502 lr:  0.084907 avg.loss:  1.984575 ETA:   0h 2m12s 16.8% words/sec/thread:  275045 lr:  0.083165 avg.loss:  1.977442 ETA:   0h 2m10s% words/sec/thread:  273548 lr:  0.080804 avg.loss:  1.965926 ETA:   0h 2m 7s 23.9% words/sec/thread:  272993 lr:  0.076116 avg.loss:  1.945600 ETA:   0h 1m59s 33.0% words/sec/thread:  263425 lr:  0.067006 avg.loss:  1.917091 ETA:   0h 1m49s 34.3% words/sec/thread:  262138 lr:  0.065739 avg.loss:  1.913362 ETA:   0h 1m47s 38.9% words/sec/thread:  254825 lr:  0.061147 avg.loss:  1.898414 ETA:   0h 1m43s1m40s 45.2% words/sec/thread:  231888 lr:  0.054849 avg.loss:  1.874793 ETA:   0h 1m41s 46.2% words/sec/thread:  220945 lr:  0.053772 avg.loss:  1.871183 ETA:   0h 1m44s 46.7% words/sec/thread:  218221 lr:  0.053302 avg.loss:  1.869337 ETA:   0h 1m45s 47.5% words/sec/thread:  213940 lr:  0.052545 avg.loss:  1.866691 ETA:   0h 1m45s0.048555 avg.loss:  1.849834 ETA:   0h 1m45s 1m45s% words/sec/thread:  184463 lr:  0.041023 avg.loss:  1.819316 ETA:   0h 1m35s 59.7% words/sec/thread:  183037 lr:  0.040347 avg.loss:  1.816570 ETA:   0h 1m34s 85.7% words/sec/thread:  199055 lr:  0.014317 avg.loss:  1.750862 ETA:   0h 0m30s"
     ]
    },
    {
     "name": "stdout",
     "output_type": "stream",
     "text": [
      "Total training time: 0 hours 3 minutes 29 seconds\n"
     ]
    },
    {
     "name": "stderr",
     "output_type": "stream",
     "text": [
      "\r",
      "Progress: 100.0% words/sec/thread:  205906 lr:  0.000045 avg.loss:  1.673422 ETA:   0h 0m 0s\r",
      "Progress: 100.0% words/sec/thread:  205902 lr: -0.000002 avg.loss:  1.673203 ETA:   0h 0m 0s\r",
      "Progress: 100.0% words/sec/thread:  205902 lr:  0.000000 avg.loss:  1.673203 ETA:   0h 0m 0s\n"
     ]
    }
   ],
   "source": [
    "# Membuat model word embedding fasttext menggunakan CBOW 3\n",
    "\n",
    "# waktu mulai\n",
    "start_time = time.time()\n",
    "\n",
    "model_cbow = fasttext.train_unsupervised(input='/Users/williamnehemia/Documents/Skripsi/TugasAkhir/WordEmbeddingModel/Data/dataCurr.txt', model='cbow', lr=0.1, dim=20, ws=5, epoch=100, minCount=1, minn=3, maxn=3, thread=10)\n",
    "\n",
    "# waktu selesai\n",
    "end_time = time.time()\n",
    "\n",
    "# hitung waktu training\n",
    "training_time = end_time - start_time\n",
    "\n",
    "# convert ke jam, menit, detik\n",
    "hours = int(training_time // 3600)\n",
    "minutes = int((training_time % 3600) // 60)\n",
    "seconds = int(training_time % 60)\n",
    "\n",
    "print(\"Total training time:\", hours, \"hours\", minutes, \"minutes\", seconds, \"seconds\")\n"
   ]
  },
  {
   "cell_type": "code",
   "execution_count": 79,
   "id": "8337f236",
   "metadata": {},
   "outputs": [],
   "source": [
    "# save model\n",
    "model_cbow.save_model(\"/Users/williamnehemia/Documents/Skripsi/Fastext_model/SetelahPembagianData/model_cbow_fasttext_3.bin\")\n"
   ]
  },
  {
   "cell_type": "code",
   "execution_count": 80,
   "id": "75ac79b0",
   "metadata": {},
   "outputs": [
    {
     "name": "stderr",
     "output_type": "stream",
     "text": [
      "Warning : `load_model` does not return WordVectorModel or SupervisedModel any more, but a `FastText` object which is very similar.\n"
     ]
    }
   ],
   "source": [
    "# load model\n",
    "model_cbow = fasttext.load_model(\"/Users/williamnehemia/Documents/Skripsi/Fastext_model/SetelahPembagianData/model_cbow_fasttext_3.bin\")\n"
   ]
  },
  {
   "cell_type": "code",
   "execution_count": 81,
   "id": "443f02d3",
   "metadata": {},
   "outputs": [
    {
     "name": "stdout",
     "output_type": "stream",
     "text": [
      "banyak kata ada di model 2951\n",
      "banyak kata tidak ada di model 0\n",
      "0.21762753307429641\n"
     ]
    }
   ],
   "source": [
    "# relatedness model cbow 3\n",
    "print(relatedness(model_cbow))"
   ]
  },
  {
   "cell_type": "code",
   "execution_count": 82,
   "id": "c35e863d",
   "metadata": {},
   "outputs": [
    {
     "name": "stdout",
     "output_type": "stream",
     "text": [
      "true_predicted 17 0.0016976233273417215\n",
      "false_predicted 9997 0.9983023766726583\n",
      "banyak kata ada di model 3233\n",
      "banyak kata tidak ada di model 0\n"
     ]
    }
   ],
   "source": [
    "# word analogy model cbow 3\n",
    "word_analogy(model_cbow)"
   ]
  },
  {
   "cell_type": "code",
   "execution_count": 83,
   "id": "798f5f34",
   "metadata": {},
   "outputs": [
    {
     "name": "stderr",
     "output_type": "stream",
     "text": [
      "Read 4M words\n",
      "Number of words:  73023\n",
      "Number of labels: 0\n"
     ]
    },
    {
     "name": "stderr",
     "output_type": "stream",
     "text": [
      "Progress:  84.4% words/sec/thread:   63099 lr:  0.015641 avg.loss:  0.768526 ETA:   0h 1m46s  2.6% words/sec/thread:  126285 lr:  0.097400 avg.loss:  1.844467 ETA:   0h 5m31s  4.4% words/sec/thread:  115366 lr:  0.095574 avg.loss:  1.849386 ETA:   0h 5m56s  6.6% words/sec/thread:  115307 lr:  0.093423 avg.loss:  1.856421 ETA:   0h 5m48s 10.9% words/sec/thread:  116144 lr:  0.089140 avg.loss:  1.860511 ETA:   0h 5m30s 11.6% words/sec/thread:  115383 lr:  0.088445 avg.loss:  1.860389 ETA:   0h 5m29s22s 15.9% words/sec/thread:  114311 lr:  0.084084 avg.loss:  1.806407 ETA:   0h 5m16s 17.7% words/sec/thread:  112511 lr:  0.082276 avg.loss:  1.783107 ETA:   0h 5m14s 18.1% words/sec/thread:  111751 lr:  0.081864 avg.loss:  1.778486 ETA:   0h 5m15s 18.4% words/sec/thread:  110879 lr:  0.081588 avg.loss:  1.775831 ETA:   0h 5m16s 18.8% words/sec/thread:  110263 lr:  0.081170 avg.loss:  1.771380 ETA:   0h 5m16s19.8% words/sec/thread:  109432 lr:  0.080224 avg.loss:  1.762308 ETA:   0h 5m15s 22.7% words/sec/thread:  106405 lr:  0.077298 avg.loss:  1.735773 ETA:   0h 5m12s 23.8% words/sec/thread:  105495 lr:  0.076240 avg.loss:  1.728527 ETA:   0h 5m10s 27.9% words/sec/thread:  103728 lr:  0.072093 avg.loss:  1.709304 ETA:   0h 4m59s 29.3% words/sec/thread:  103031 lr:  0.070694 avg.loss:  1.680820 ETA:   0h 4m55savg.loss:  1.664431 ETA:   0h 4m54s 32.4% words/sec/thread:  101253 lr:  0.067600 avg.loss:  1.563747 ETA:   0h 4m47s 33.7% words/sec/thread:  100537 lr:  0.066298 avg.loss:  1.517375 ETA:   0h 4m43s 34.4% words/sec/thread:  100184 lr:  0.065634 avg.loss:  1.493681 ETA:   0h 4m41savg.loss:  1.481545 ETA:   0h 4m41s   99541 lr:  0.065100 avg.loss:  1.475693 ETA:   0h 4m41s 0.062096 avg.loss:  1.386014 ETA:   0h 4m31s0.062038 avg.loss:  1.384457 ETA:   0h 4m31s 40.0% words/sec/thread:   97861 lr:  0.059996 avg.loss:  1.326187 ETA:   0h 4m23s 40.8% words/sec/thread:   97568 lr:  0.059216 avg.loss:  1.305145 ETA:   0h 4m21s 41.3% words/sec/thread:   97550 lr:  0.058693 avg.loss:  1.291540 ETA:   0h 4m18s 41.9% words/sec/thread:   97548 lr:  0.058069 avg.loss:  1.276257 ETA:   0h 4m16savg.loss:  1.265354 ETA:   0h 4m14s 43.8% words/sec/thread:   97417 lr:  0.056233 avg.loss:  1.234257 ETA:   0h 4m 8s 44.4% words/sec/thread:   97488 lr:  0.055555 avg.loss:  1.219699 ETA:   0h 4m 5s 44.5% words/sec/thread:   97483 lr:  0.055511 avg.loss:  1.218743 ETA:   0h 4m 5s 45.1% words/sec/thread:   97354 lr:  0.054855 avg.loss:  1.205082 ETA:   0h 4m 2s 45.5% words/sec/thread:   97252 lr:  0.054512 avg.loss:  1.198188 ETA:   0h 4m 1s 46.3% words/sec/thread:   97198 lr:  0.053706 avg.loss:  1.182378 ETA:   0h 3m57savg.loss:  1.174190 ETA:   0h 3m56s 47.8% words/sec/thread:   96944 lr:  0.052214 avg.loss:  1.155212 ETA:   0h 3m51s 48.3% words/sec/thread:   96193 lr:  0.051743 avg.loss:  1.147067 ETA:   0h 3m51s 3m51s 48.7% words/sec/thread:   95273 lr:  0.051344 avg.loss:  1.140229 ETA:   0h 3m51s 50.1% words/sec/thread:   92019 lr:  0.049886 avg.loss:  1.116223 ETA:   0h 3m53s91464 lr:  0.049646 avg.loss:  1.112352 ETA:   0h 3m53s 50.8% words/sec/thread:   90472 lr:  0.049204 avg.loss:  1.105335 ETA:   0h 3m53s 51.1% words/sec/thread:   89786 lr:  0.048884 avg.loss:  1.100158 ETA:   0h 3m54s 51.5% words/sec/thread:   89076 lr:  0.048527 avg.loss:  1.094524 ETA:   0h 3m54s 51.8% words/sec/thread:   88479 lr:  0.048156 avg.loss:  1.088879 ETA:   0h 3m54s 52.0% words/sec/thread:   88256 lr:  0.048015 avg.loss:  1.086800 ETA:   0h 3m54s 52.3% words/sec/thread:   87632 lr:  0.047678 avg.loss:  1.081834 ETA:   0h 3m54s 52.6% words/sec/thread:   87270 lr:  0.047439 avg.loss:  1.078381 ETA:   0h 3m53s 54.0% words/sec/thread:   85505 lr:  0.046047 avg.loss:  1.055377 ETA:   0h 3m51s 54.2% words/sec/thread:   85135 lr:  0.045794 avg.loss:  1.051409 ETA:   0h 3m51s 54.4% words/sec/thread:   84801 lr:  0.045563 avg.loss:  1.047757 ETA:   0h 3m51s 54.7% words/sec/thread:   84432 lr:  0.045257 avg.loss:  1.043028 ETA:   0h 3m50s 55.3% words/sec/thread:   83765 lr:  0.044699 avg.loss:  1.034591 ETA:   0h 3m49s 55.7% words/sec/thread:   83167 lr:  0.044284 avg.loss:  1.028324 ETA:   0h 3m49s 56.1% words/sec/thread:   82620 lr:  0.043920 avg.loss:  1.023057 ETA:   0h 3m48s56.4% words/sec/thread:   82119 lr:  0.043575 avg.loss:  1.018134 ETA:   0h 3m48svg.loss:  1.014867 ETA:   0h 3m47s 57.1% words/sec/thread:   81260 lr:  0.042851 avg.loss:  1.008091 ETA:   0h 3m46s 57.3% words/sec/thread:   81096 lr:  0.042699 avg.loss:  1.006101 ETA:   0h 3m46s 57.4% words/sec/thread:   80868 lr:  0.042554 avg.loss:  1.004165 ETA:   0h 3m46s 58.2% words/sec/thread:   79595 lr:  0.041764 avg.loss:  0.993961 ETA:   0h 3m45s 58.7% words/sec/thread:   78901 lr:  0.041262 avg.loss:  0.987494 ETA:   0h 3m45s 3m44s 59.6% words/sec/thread:   78087 lr:  0.040444 avg.loss:  0.977363 ETA:   0h 3m42s 60.4% words/sec/thread:   77097 lr:  0.039586 avg.loss:  0.966924 ETA:   0h 3m40s 60.5% words/sec/thread:   76937 lr:  0.039456 avg.loss:  0.965398 ETA:   0h 3m40s 61.0% words/sec/thread:   76537 lr:  0.039027 avg.loss:  0.960384 ETA:   0h 3m39s 61.6% words/sec/thread:   75968 lr:  0.038401 avg.loss:  0.952916 ETA:   0h 3m37s75430 lr:  0.037904 avg.loss:  0.947471 ETA:   0h 3m36s 62.9% words/sec/thread:   74701 lr:  0.037140 avg.loss:  0.939205 ETA:   0h 3m33s 63.1% words/sec/thread:   74471 lr:  0.036892 avg.loss:  0.936511 ETA:   0h 3m33s 63.7% words/sec/thread:   74006 lr:  0.036304 avg.loss:  0.930347 ETA:   0h 3m31s 0.035150 avg.loss:  0.918548 ETA:   0h 3m26s 65.1% words/sec/thread:   72978 lr:  0.034937 avg.loss:  0.916423 ETA:   0h 3m25s 65.9% words/sec/thread:   72466 lr:  0.034069 avg.loss:  0.907668 ETA:   0h 3m22s 66.9% words/sec/thread:   71818 lr:  0.033102 avg.loss:  0.898210 ETA:   0h 3m18s 67.0% words/sec/thread:   71731 lr:  0.032963 avg.loss:  0.896934 ETA:   0h 3m17s0.032492 avg.loss:  0.892542 ETA:   0h 3m15s 67.9% words/sec/thread:   71224 lr:  0.032127 avg.loss:  0.889236 ETA:   0h 3m14s 68.1% words/sec/thread:   71091 lr:  0.031950 avg.loss:  0.887693 ETA:   0h 3m13s 68.4% words/sec/thread:   70739 lr:  0.031563 avg.loss:  0.884331 ETA:   0h 3m11s 69.3% words/sec/thread:   70194 lr:  0.030724 avg.loss:  0.877058 ETA:   0h 3m 8s 69.7% words/sec/thread:   69923 lr:  0.030327 avg.loss:  0.873614 ETA:   0h 3m 6s 70.6% words/sec/thread:   69249 lr:  0.029403 avg.loss:  0.865893 ETA:   0h 3m 2s 70.8% words/sec/thread:   69115 lr:  0.029160 avg.loss:  0.863755 ETA:   0h 3m 1s 71.1% words/sec/thread:   68974 lr:  0.028897 avg.loss:  0.861553 ETA:   0h 3m 0s 71.3% words/sec/thread:   68861 lr:  0.028672 avg.loss:  0.859573 ETA:   0h 2m59savg.loss:  0.857750 ETA:   0h 2m58ss 72.5% words/sec/thread:   68274 lr:  0.027526 avg.loss:  0.850230 ETA:   0h 2m53s 73.4% words/sec/thread:   67837 lr:  0.026553 avg.loss:  0.842864 ETA:   0h 2m48s 73.9% words/sec/thread:   67635 lr:  0.026098 avg.loss:  0.839383 ETA:   0h 2m46s 74.4% words/sec/thread:   67431 lr:  0.025617 avg.loss:  0.835873 ETA:   0h 2m43s 75.1% words/sec/thread:   67179 lr:  0.024909 avg.loss:  0.830613 ETA:   0h 2m39s 75.9% words/sec/thread:   66750 lr:  0.024076 avg.loss:  0.824435 ETA:   0h 2m35s 76.3% words/sec/thread:   66593 lr:  0.023748 avg.loss:  0.822048 ETA:   0h 2m33s 77.1% words/sec/thread:   66257 lr:  0.022940 avg.loss:  0.816253 ETA:   0h 2m28s 77.2% words/sec/thread:   66171 lr:  0.022773 avg.loss:  0.815026 ETA:   0h 2m28s   66023 lr:  0.022445 avg.loss:  0.812741 ETA:   0h 2m26s   0h 2m25s 78.2% words/sec/thread:   65727 lr:  0.021780 avg.loss:  0.808212 ETA:   0h 2m22s 78.9% words/sec/thread:   65343 lr:  0.021074 avg.loss:  0.803488 ETA:   0h 2m18s 79.1% words/sec/thread:   65229 lr:  0.020856 avg.loss:  0.802046 ETA:   0h 2m17s 79.8% words/sec/thread:   64892 lr:  0.020232 avg.loss:  0.797848 ETA:   0h 2m14s 79.9% words/sec/thread:   64706 lr:  0.020108 avg.loss:  0.797060 ETA:   0h 2m13s 80.3% words/sec/thread:   64148 lr:  0.019714 avg.loss:  0.794413 ETA:   0h 2m12s 80.8% words/sec/thread:   63914 lr:  0.019201 avg.loss:  0.791083 ETA:   0h 2m 9s 82.8% words/sec/thread:   63419 lr:  0.017156 avg.loss:  0.777867 ETA:   0h 1m56s 0.768981 ETA:   0h 1m47s\r",
      "Progress:  84.4% words/sec/thread:   63096 lr:  0.015630 avg.loss:  0.768446 ETA:   0h 1m46s\r",
      "Progress:  84.4% words/sec/thread:   63094 lr:  0.015618 avg.loss:  0.768366 ETA:   0h 1m46s"
     ]
    },
    {
     "name": "stderr",
     "output_type": "stream",
     "text": [
      "Progress: 100.0% words/sec/thread:   61075 lr:  0.000006 avg.loss:  0.687828 ETA:   0h 0m 0s 92.9% words/sec/thread:   62116 lr:  0.007057 avg.loss:  0.720893 ETA:   0h 0m48s 93.9% words/sec/thread:   61948 lr:  0.006051 avg.loss:  0.715812 ETA:   0h 0m42s 94.6% words/sec/thread:   61805 lr:  0.005361 avg.loss:  0.712418 ETA:   0h 0m37s 97.9% words/sec/thread:   61357 lr:  0.002094 avg.loss:  0.696949 ETA:   0h 0m14s 99.5% words/sec/thread:   61224 lr:  0.000486 avg.loss:  0.689859 ETA:   0h 0m 3s"
     ]
    },
    {
     "name": "stdout",
     "output_type": "stream",
     "text": [
      "Total training time: 0 hours 11 minutes 45 seconds\n"
     ]
    },
    {
     "name": "stderr",
     "output_type": "stream",
     "text": [
      "\r",
      "Progress: 100.0% words/sec/thread:   61071 lr: -0.000002 avg.loss:  0.687777 ETA:   0h 0m 0s\r",
      "Progress: 100.0% words/sec/thread:   61071 lr:  0.000000 avg.loss:  0.687777 ETA:   0h 0m 0s\n"
     ]
    }
   ],
   "source": [
    "# Membuat model word embedding fasttext menggunakan skip gram 3\n",
    "\n",
    "# waktu mulai\n",
    "start_time = time.time()\n",
    "\n",
    "model_sg = fasttext.train_unsupervised(input='/Users/williamnehemia/Documents/Skripsi/TugasAkhir/WordEmbeddingModel/Data/dataCurr.txt', model='skipgram', lr=0.1, dim=20, ws=5, epoch=100, minCount=1, minn=3, maxn=3, thread=10)\n",
    "\n",
    "# waktu selesai\n",
    "end_time = time.time()\n",
    "\n",
    "# hitung waktu training\n",
    "training_time = end_time - start_time\n",
    "\n",
    "# convert ke jam, menit, detik\n",
    "hours = int(training_time // 3600)\n",
    "minutes = int((training_time % 3600) // 60)\n",
    "seconds = int(training_time % 60)\n",
    "\n",
    "print(\"Total training time:\", hours, \"hours\", minutes, \"minutes\", seconds, \"seconds\")\n"
   ]
  },
  {
   "cell_type": "code",
   "execution_count": 84,
   "id": "c7afe567",
   "metadata": {},
   "outputs": [],
   "source": [
    "# save model\n",
    "model_sg.save_model(\"/Users/williamnehemia/Documents/Skripsi/Fastext_model/SetelahPembagianData/model_sg_fasttext_3.bin\")\n"
   ]
  },
  {
   "cell_type": "code",
   "execution_count": 85,
   "id": "21ebeeff",
   "metadata": {},
   "outputs": [
    {
     "name": "stderr",
     "output_type": "stream",
     "text": [
      "Warning : `load_model` does not return WordVectorModel or SupervisedModel any more, but a `FastText` object which is very similar.\n"
     ]
    }
   ],
   "source": [
    "# load model\n",
    "model_sg = fasttext.load_model(\"/Users/williamnehemia/Documents/Skripsi/Fastext_model/SetelahPembagianData/model_sg_fasttext_3.bin\")\n"
   ]
  },
  {
   "cell_type": "code",
   "execution_count": 86,
   "id": "e8e4dfc0",
   "metadata": {},
   "outputs": [
    {
     "name": "stdout",
     "output_type": "stream",
     "text": [
      "banyak kata ada di model 2951\n",
      "banyak kata tidak ada di model 0\n",
      "0.17792551181090308\n"
     ]
    }
   ],
   "source": [
    "# relatedness model sg 3\n",
    "print(relatedness(model_sg))"
   ]
  },
  {
   "cell_type": "code",
   "execution_count": 87,
   "id": "3a1f5c4e",
   "metadata": {},
   "outputs": [
    {
     "name": "stdout",
     "output_type": "stream",
     "text": [
      "true_predicted 9 0.0008987417615338526\n",
      "false_predicted 10005 0.9991012582384662\n",
      "banyak kata ada di model 3233\n",
      "banyak kata tidak ada di model 0\n"
     ]
    }
   ],
   "source": [
    "# word analogy model sg 3\n",
    "word_analogy(model_sg)"
   ]
  },
  {
   "cell_type": "code",
   "execution_count": 88,
   "id": "f3fdcc9e",
   "metadata": {},
   "outputs": [
    {
     "name": "stderr",
     "output_type": "stream",
     "text": [
      "Read 4M words\n",
      "Number of words:  73023\n",
      "Number of labels: 0\n",
      "Progress:  99.9% words/sec/thread:  169177 lr:  0.000012 avg.loss:  1.894973 ETA:   0h 0m 0s  5.7% words/sec/thread:  407134 lr:  0.009431 avg.loss:  2.264205 ETA:   0h 1m39s 10.4% words/sec/thread:  370415 lr:  0.008965 avg.loss:  2.173385 ETA:   0h 1m44s 13.7% words/sec/thread:  352232 lr:  0.008631 avg.loss:  2.137774 ETA:   0h 1m45s 32.4% words/sec/thread:  336340 lr:  0.006758 avg.loss:  2.042386 ETA:   0h 1m26s 34.2% words/sec/thread:  321803 lr:  0.006578 avg.loss:  2.036424 ETA:   0h 1m27s 37.0% words/sec/thread:  302395 lr:  0.006295 avg.loss:  2.032134 ETA:   0h 1m29s 41.3% words/sec/thread:  274345 lr:  0.005871 avg.loss:  2.022236 ETA:   0h 1m32s 41.8% words/sec/thread:  270487 lr:  0.005819 avg.loss:  2.022203 ETA:   0h 1m32ss 45.8% words/sec/thread:  247005 lr:  0.005421 avg.loss:  2.022238 ETA:   0h 1m34s 46.6% words/sec/thread:  243037 lr:  0.005338 avg.loss:  2.022503 ETA:   0h 1m34s 47.1% words/sec/thread:  240656 lr:  0.005287 avg.loss:  2.022485 ETA:   0h 1m34s 49.2% words/sec/thread:  232111 lr:  0.005078 avg.loss:  2.021176 ETA:   0h 1m34s words/sec/thread:  227010 lr:  0.004917 avg.loss:  2.020361 ETA:   0h 1m33s 51.3% words/sec/thread:  225255 lr:  0.004866 avg.loss:  2.020322 ETA:   0h 1m32s52.4% words/sec/thread:  221886 lr:  0.004764 avg.loss:  2.019948 ETA:   0h 1m32s 218987 lr:  0.004655 avg.loss:  2.019805 ETA:   0h 1m31s 54.0% words/sec/thread:  217478 lr:  0.004599 avg.loss:  2.019763 ETA:   0h 1m30s.019733 ETA:   0h 1m30ssec/thread:  213880 lr:  0.004466 avg.loss:  2.019837 ETA:   0h 1m29s 57.6% words/sec/thread:  209217 lr:  0.004235 avg.loss:  2.019994 ETA:   0h 1m27s 58.7% words/sec/thread:  207467 lr:  0.004126 avg.loss:  2.019554 ETA:   0h 1m25s 1m24s 61.4% words/sec/thread:  202904 lr:  0.003861 avg.loss:  2.018245 ETA:   0h 1m21s avg.loss:  2.017779 ETA:   0h 1m19s 63.5% words/sec/thread:  199990 lr:  0.003650 avg.loss:  2.017600 ETA:   0h 1m18s 64.5% words/sec/thread:  198517 lr:  0.003551 avg.loss:  2.017531 ETA:   0h 1m16savg.loss:  2.017493 ETA:   0h 1m15s 66.6% words/sec/thread:  195867 lr:  0.003344 avg.loss:  2.017566 ETA:   0h 1m13s67.1% words/sec/thread:  195214 lr:  0.003293 avg.loss:  2.017489 ETA:   0h 1m12s69.1% words/sec/thread:  192338 lr:  0.003087 avg.loss:  2.016368 ETA:   0h 1m 9s 69.2% words/sec/thread:  192283 lr:  0.003084 avg.loss:  2.016337 ETA:   0h 1m 9s 70.2% words/sec/thread:  191153 lr:  0.002976 avg.loss:  2.013267 ETA:   0h 1m 6s 70.7% words/sec/thread:  190681 lr:  0.002926 avg.loss:  2.010648 ETA:   0h 1m 6s 71.8% words/sec/thread:  189709 lr:  0.002822 avg.loss:  2.005376 ETA:   0h 1m 4s lr:  0.002774 avg.loss:  2.002954 ETA:   0h 1m 3s 0s 74.4% words/sec/thread:  186904 lr:  0.002560 avg.loss:  1.992740 ETA:   0h 0m58s 74.9% words/sec/thread:  186497 lr:  0.002510 avg.loss:  1.990484 ETA:   0h 0m57s 75.4% words/sec/thread:  185997 lr:  0.002460 avg.loss:  1.988282 ETA:   0h 0m56s lr:  0.002405 avg.loss:  1.986054 ETA:   0h 0m55s 76.4% words/sec/thread:  185084 lr:  0.002360 avg.loss:  1.984069 ETA:   0h 0m54s 77.0% words/sec/thread:  184576 lr:  0.002303 avg.loss:  1.981593 ETA:   0h 0m53s 77.5% words/sec/thread:  184089 lr:  0.002253 avg.loss:  1.979496 ETA:   0h 0m52s 78.0% words/sec/thread:  183690 lr:  0.002199 avg.loss:  1.977247 ETA:   0h 0m51s79.4% words/sec/thread:  182633 lr:  0.002062 avg.loss:  1.970241 ETA:   0h 0m48svg.loss:  1.967692 ETA:   0h 0m47s 84.4% words/sec/thread:  177411 lr:  0.001564 avg.loss:  1.950007 ETA:   0h 0m37s 85.9% words/sec/thread:  176459 lr:  0.001412 avg.loss:  1.944507 ETA:   0h 0m34s 86.4% words/sec/thread:  176180 lr:  0.001363 avg.loss:  1.942763 ETA:   0h 0m33s 87.9% words/sec/thread:  175184 lr:  0.001209 avg.loss:  1.937182 ETA:   0h 0m29s 88.5% words/sec/thread:  174774 lr:  0.001151 avg.loss:  1.934863 ETA:   0h 0m28s 90.5% words/sec/thread:  173706 lr:  0.000945 avg.loss:  1.926698 ETA:   0h 0m23s 95.7% words/sec/thread:  171060 lr:  0.000426 avg.loss:  1.909088 ETA:   0h 0m10s% words/sec/thread:  170386 lr:  0.000266 avg.loss:  1.904023 ETA:   0h 0m 6s 98.8% words/sec/thread:  169543 lr:  0.000115 avg.loss:  1.898645 ETA:   0h 0m 2s"
     ]
    },
    {
     "name": "stdout",
     "output_type": "stream",
     "text": [
      "Total training time: 0 hours 4 minutes 15 seconds\n"
     ]
    },
    {
     "name": "stderr",
     "output_type": "stream",
     "text": [
      " 99.9% words/sec/thread:  169169 lr:  0.000009 avg.loss:  1.894833 ETA:   0h 0m 0s\r",
      "Progress:  99.9% words/sec/thread:  169163 lr:  0.000005 avg.loss:  1.894727 ETA:   0h 0m 0s\r",
      "Progress: 100.0% words/sec/thread:  169154 lr:  0.000002 avg.loss:  1.894615 ETA:   0h 0m 0s\r",
      "Progress: 100.0% words/sec/thread:  169116 lr: -0.000000 avg.loss:  1.894528 ETA:   0h 0m 0s\r",
      "Progress: 100.0% words/sec/thread:  169116 lr:  0.000000 avg.loss:  1.894528 ETA:   0h 0m 0s\n"
     ]
    }
   ],
   "source": [
    "# Membuat model word embedding fasttext menggunakan CBOW 4\n",
    "\n",
    "# waktu mulai\n",
    "start_time = time.time()\n",
    "\n",
    "model_cbow = fasttext.train_unsupervised(input='/Users/williamnehemia/Documents/Skripsi/TugasAkhir/WordEmbeddingModel/Data/dataCurr.txt', model='cbow', lr=0.01, dim=10, ws=5, epoch=100, minCount=1, minn=3, maxn=3, thread=10)\n",
    "\n",
    "# waktu selesai\n",
    "end_time = time.time()\n",
    "\n",
    "# hitung waktu training\n",
    "training_time = end_time - start_time\n",
    "\n",
    "# convert ke jam, menit, detik\n",
    "hours = int(training_time // 3600)\n",
    "minutes = int((training_time % 3600) // 60)\n",
    "seconds = int(training_time % 60)\n",
    "\n",
    "print(\"Total training time:\", hours, \"hours\", minutes, \"minutes\", seconds, \"seconds\")\n"
   ]
  },
  {
   "cell_type": "code",
   "execution_count": 89,
   "id": "00ea2756",
   "metadata": {},
   "outputs": [],
   "source": [
    "# save model\n",
    "model_cbow.save_model(\"/Users/williamnehemia/Documents/Skripsi/Fastext_model/SetelahPembagianData/model_cbow_fasttext_4.bin\")\n"
   ]
  },
  {
   "cell_type": "code",
   "execution_count": 90,
   "id": "ba5fef2f",
   "metadata": {},
   "outputs": [
    {
     "name": "stderr",
     "output_type": "stream",
     "text": [
      "Warning : `load_model` does not return WordVectorModel or SupervisedModel any more, but a `FastText` object which is very similar.\n"
     ]
    }
   ],
   "source": [
    "# load model\n",
    "model_cbow = fasttext.load_model(\"/Users/williamnehemia/Documents/Skripsi/Fastext_model/SetelahPembagianData/model_cbow_fasttext_4.bin\")\n"
   ]
  },
  {
   "cell_type": "code",
   "execution_count": 91,
   "id": "5f840a30",
   "metadata": {},
   "outputs": [
    {
     "name": "stdout",
     "output_type": "stream",
     "text": [
      "banyak kata ada di model 2951\n",
      "banyak kata tidak ada di model 0\n",
      "0.14085349454666213\n"
     ]
    }
   ],
   "source": [
    "# relatedness model cbow 4\n",
    "print(relatedness(model_cbow))"
   ]
  },
  {
   "cell_type": "code",
   "execution_count": 92,
   "id": "5d26ad80",
   "metadata": {},
   "outputs": [
    {
     "name": "stdout",
     "output_type": "stream",
     "text": [
      "true_predicted 1 9.986019572598362e-05\n",
      "false_predicted 10013 0.9999001398042741\n",
      "banyak kata ada di model 3233\n",
      "banyak kata tidak ada di model 0\n"
     ]
    }
   ],
   "source": [
    "# word analogy model cbow 4\n",
    "word_analogy(model_cbow)"
   ]
  },
  {
   "cell_type": "code",
   "execution_count": 93,
   "id": "a481eea3",
   "metadata": {},
   "outputs": [
    {
     "name": "stderr",
     "output_type": "stream",
     "text": [
      "Read 4M words\n",
      "Number of words:  73023\n",
      "Number of labels: 0\n"
     ]
    },
    {
     "name": "stderr",
     "output_type": "stream",
     "text": [
      "Progress:  77.6% words/sec/thread:   55533 lr:  0.002243 avg.loss:  0.814368 ETA:   0h 2m53s  0.2% words/sec/thread:   57689 lr:  0.009983 avg.loss:  2.743236 ETA:   0h12m24s  0.5% words/sec/thread:   56501 lr:  0.009951 avg.loss:  2.245119 ETA:   0h12m37s 0.009932 avg.loss:  2.171264 ETA:   0h12m56s  2.1% words/sec/thread:   56609 lr:  0.009794 avg.loss:  2.082433 ETA:   0h12m24s  2.6% words/sec/thread:   56893 lr:  0.009736 avg.loss:  2.073876 ETA:   0h12m16s  2.8% words/sec/thread:   56679 lr:  0.009718 avg.loss:  2.073225 ETA:   0h12m17s  3.0% words/sec/thread:   56345 lr:  0.009698 avg.loss:  2.073908 ETA:   0h12m20s  3.2% words/sec/thread:   55731 lr:  0.009679 avg.loss:  2.073693 ETA:   0h12m27s  3.4% words/sec/thread:   55264 lr:  0.009660 avg.loss:  2.074694 ETA:   0h12m32s  3.8% words/sec/thread:   55091 lr:  0.009620 avg.loss:  2.073581 ETA:   0h12m31s  4.6% words/sec/thread:   54620 lr:  0.009542 avg.loss:  2.072587 ETA:   0h12m31s  4.8% words/sec/thread:   54310 lr:  0.009524 avg.loss:  2.072943 ETA:   0h12m34s  5.1% words/sec/thread:   54196 lr:  0.009488 avg.loss:  2.072335 ETA:   0h12m33savg.loss:  2.071120 ETA:   0h12m35s0.009360 avg.loss:  2.079619 ETA:   0h12m29s  6.5% words/sec/thread:   53686 lr:  0.009351 avg.loss:  2.080792 ETA:   0h12m29s  6.7% words/sec/thread:   53631 lr:  0.009326 avg.loss:  2.082966 ETA:   0h12m28s  7.3% words/sec/thread:   53436 lr:  0.009266 avg.loss:  2.088391 ETA:   0h12m26s  8.1% words/sec/thread:   53425 lr:  0.009185 avg.loss:  2.094680 ETA:   0h12m19s  8.3% words/sec/thread:   53387 lr:  0.009167 avg.loss:  2.095725 ETA:   0h12m18s  8.5% words/sec/thread:   53394 lr:  0.009145 avg.loss:  2.096759 ETA:   0h12m16s  9.0% words/sec/thread:   53253 lr:  0.009104 avg.loss:  2.099204 ETA:   0h12m15s% words/sec/thread:   53199 lr:  0.009085 avg.loss:  2.100096 ETA:   0h12m14s  9.6% words/sec/thread:   53135 lr:  0.009045 avg.loss:  2.101748 ETA:   0h12m12s  9.8% words/sec/thread:   53177 lr:  0.009024 avg.loss:  2.102553 ETA:   0h12m10s 10.7% words/sec/thread:   52816 lr:  0.008929 avg.loss:  2.105410 ETA:   0h12m 7s 11.4% words/sec/thread:   52749 lr:  0.008859 avg.loss:  2.103128 ETA:   0h12m 2s 11.6% words/sec/thread:   52731 lr:  0.008843 avg.loss:  2.099787 ETA:   0h12m 1s 12.0% words/sec/thread:   52784 lr:  0.008802 avg.loss:  2.090914 ETA:   0h11m57s 12.6% words/sec/thread:   52837 lr:  0.008739 avg.loss:  2.078895 ETA:   0h11m51s 12.8% words/sec/thread:   52749 lr:  0.008721 avg.loss:  2.075745 ETA:   0h11m51s 13.2% words/sec/thread:   52576 lr:  0.008682 avg.loss:  2.069742 ETA:   0h11m50s 13.3% words/sec/thread:   52388 lr:  0.008665 avg.loss:  2.067917 ETA:   0h11m51s 14.1% words/sec/thread:   52122 lr:  0.008589 avg.loss:  2.056175 ETA:   0h11m49s 14.6% words/sec/thread:   52075 lr:  0.008545 avg.loss:  2.050741 ETA:   0h11m45s 15.0% words/sec/thread:   52097 lr:  0.008505 avg.loss:  2.045618 ETA:   0h11m42s 15.1% words/sec/thread:   52028 lr:  0.008486 avg.loss:  2.043452 ETA:   0h11m41s   51972 lr:  0.008448 avg.loss:  2.038769 ETA:   0h11m39s words/sec/thread:   51905 lr:  0.008286 avg.loss:  2.024734 ETA:   0h11m26s 17.4% words/sec/thread:   51920 lr:  0.008265 avg.loss:  2.023152 ETA:   0h11m24s 17.5% words/sec/thread:   51900 lr:  0.008246 avg.loss:  2.021480 ETA:   0h11m23s% words/sec/thread:   51962 lr:  0.008205 avg.loss:  2.018911 ETA:   0h11m19s 18.2% words/sec/thread:   51970 lr:  0.008185 avg.loss:  2.017248 ETA:   0h11m17s 18.6% words/sec/thread:   51984 lr:  0.008145 avg.loss:  2.014069 ETA:   0h11m14s 19.1% words/sec/thread:   52060 lr:  0.008085 avg.loss:  2.009555 ETA:   0h11m 8s 19.9% words/sec/thread:   52153 lr:  0.008005 avg.loss:  2.004236 ETA:   0h11m 0s 20.4% words/sec/thread:   52187 lr:  0.007963 avg.loss:  2.001913 ETA:   0h10m56s 20.5% words/sec/thread:   52141 lr:  0.007946 avg.loss:  2.000533 ETA:   0h10m55s 21.1% words/sec/thread:   52183 lr:  0.007888 avg.loss:  1.996789 ETA:   0h10m50s 21.3% words/sec/thread:   52165 lr:  0.007875 avg.loss:  1.996037 ETA:   0h10m49s 21.6% words/sec/thread:   52172 lr:  0.007844 avg.loss:  1.994253 ETA:   0h10m46s 21.8% words/sec/thread:   52171 lr:  0.007825 avg.loss:  1.992759 ETA:   0h10m45s 22.2% words/sec/thread:   52027 lr:  0.007777 avg.loss:  1.990205 ETA:   0h10m43s 22.5% words/sec/thread:   51992 lr:  0.007749 avg.loss:  1.988667 ETA:   0h10m41s 22.9% words/sec/thread:   51865 lr:  0.007709 avg.loss:  1.986355 ETA:   0h10m39s 23.5% words/sec/thread:   51836 lr:  0.007655 avg.loss:  1.984329 ETA:   0h10m35savg.loss:  1.983164 ETA:   0h10m34s  51855 lr:  0.007476 avg.loss:  1.892747 ETA:   0h10m20s 27.2% words/sec/thread:   52197 lr:  0.007281 avg.loss:  1.780430 ETA:   0h10m 0s 28.4% words/sec/thread:   52364 lr:  0.007162 avg.loss:  1.718912 ETA:   0h 9m48s 29.2% words/sec/thread:   52497 lr:  0.007076 avg.loss:  1.677496 ETA:   0h 9m39s 31.9% words/sec/thread:   53091 lr:  0.006812 avg.loss:  1.562836 ETA:   0h 9m12s 33.6% words/sec/thread:   53325 lr:  0.006643 avg.loss:  1.499725 ETA:   0h 8m56s 35.1% words/sec/thread:   53563 lr:  0.006493 avg.loss:  1.448032 ETA:   0h 8m41s 39.7% words/sec/thread:   54112 lr:  0.006031 avg.loss:  1.314673 ETA:   0h 7m59s 40.4% words/sec/thread:   54162 lr:  0.005962 avg.loss:  1.297078 ETA:   0h 7m53s  54221 lr:  0.005873 avg.loss:  1.275737 ETA:   0h 7m46s 42.1% words/sec/thread:   54270 lr:  0.005791 avg.loss:  1.256568 ETA:   0h 7m39s 44.9% words/sec/thread:   54522 lr:  0.005513 avg.loss:  1.196915 ETA:   0h 7m15s 46.6% words/sec/thread:   54658 lr:  0.005337 avg.loss:  1.163068 ETA:   0h 7m 0s 0.004871 avg.loss:  1.083773 ETA:   0h 6m20s52.9% words/sec/thread:   55294 lr:  0.004709 avg.loss:  1.059570 ETA:   0h 6m 6s 53.6% words/sec/thread:   55318 lr:  0.004636 avg.loss:  1.049140 ETA:   0h 6m 0s 55.9% words/sec/thread:   55454 lr:  0.004412 avg.loss:  1.018659 ETA:   0h 5m42s 56.5% words/sec/thread:   55503 lr:  0.004349 avg.loss:  1.010735 ETA:   0h 5m37s 57.1% words/sec/thread:   55497 lr:  0.004289 avg.loss:  1.003369 ETA:   0h 5m32s 0.004270 avg.loss:  1.001143 ETA:   0h 5m31s 57.7% words/sec/thread:   55489 lr:  0.004229 avg.loss:  0.996246 ETA:   0h 5m27s 57.9% words/sec/thread:   55440 lr:  0.004214 avg.loss:  0.994368 ETA:   0h 5m26s 0.004149 avg.loss:  0.986644 ETA:   0h 5m22s 58.7% words/sec/thread:   55374 lr:  0.004134 avg.loss:  0.984899 ETA:   0h 5m21s 59.1% words/sec/thread:   55321 lr:  0.004093 avg.loss:  0.979902 ETA:   0h 5m18s 59.3% words/sec/thread:   55304 lr:  0.004074 avg.loss:  0.977565 ETA:   0h 5m16s55301 lr:  0.004060 avg.loss:  0.975787 ETA:   0h 5m15s words/sec/thread:   55235 lr:  0.003998 avg.loss:  0.968247 ETA:   0h 5m11s 61.4% words/sec/thread:   55158 lr:  0.003863 avg.loss:  0.953330 ETA:   0h 5m 1s 61.6% words/sec/thread:   55158 lr:  0.003842 avg.loss:  0.951075 ETA:   0h 4m59s 62.3% words/sec/thread:   55189 lr:  0.003770 avg.loss:  0.943465 ETA:   0h 4m53s 66.2% words/sec/thread:   55367 lr:  0.003385 avg.loss:  0.905391 ETA:   0h 4m23s 68.2% words/sec/thread:   55503 lr:  0.003180 avg.loss:  0.887262 ETA:   0h 4m 6s 72.9% words/sec/thread:   55747 lr:  0.002714 avg.loss:  0.848204 ETA:   0h 3m29savg.loss:  0.846182 ETA:   0h 3m27s73.4% words/sec/thread:   55747 lr:  0.002657 avg.loss:  0.843874 ETA:   0h 3m25s 73.7% words/sec/thread:   55744 lr:  0.002628 avg.loss:  0.841680 ETA:   0h 3m22savg.loss:  0.839523 ETA:   0h 3m20s74.2% words/sec/thread:   55710 lr:  0.002576 avg.loss:  0.837682 ETA:   0h 3m18s 75.1% words/sec/thread:   55684 lr:  0.002492 avg.loss:  0.831519 ETA:   0h 3m12s 75.5% words/sec/thread:   55683 lr:  0.002450 avg.loss:  0.828457 ETA:   0h 3m 9s 76.1% words/sec/thread:   55655 lr:  0.002390 avg.loss:  0.824338 ETA:   0h 3m 4s 76.3% words/sec/thread:   55640 lr:  0.002371 avg.loss:  0.823082 ETA:   0h 3m 3s 76.7% words/sec/thread:   55604 lr:  0.002330 avg.loss:  0.820203 ETA:   0h 3m 0s 76.9% words/sec/thread:   55582 lr:  0.002309 avg.loss:  0.818830 ETA:   0h 2m58s 77.1% words/sec/thread:   55564 lr:  0.002291 avg.loss:  0.817542 ETA:   0h 2m57s 77.3% words/sec/thread:   55546 lr:  0.002271 avg.loss:  0.816316 ETA:   0h 2m55s 77.5% words/sec/thread:   55535 lr:  0.002250 avg.loss:  0.814885 ETA:   0h 2m54s\r",
      "Progress:  77.6% words/sec/thread:   55527 lr:  0.002242 avg.loss:  0.814336 ETA:   0h 2m53s\r",
      "Progress:  77.6% words/sec/thread:   55525 lr:  0.002241 avg.loss:  0.814277 ETA:   0h 2m53s"
     ]
    },
    {
     "name": "stderr",
     "output_type": "stream",
     "text": [
      "Progress: 100.0% words/sec/thread:   55507 lr:  0.000001 avg.loss:  0.694403 ETA:   0h 0m 0s 77.7% words/sec/thread:   55521 lr:  0.002231 avg.loss:  0.813600 ETA:   0h 2m52s 77.9% words/sec/thread:   55517 lr:  0.002210 avg.loss:  0.812260 ETA:   0h 2m51s 78.3% words/sec/thread:   55491 lr:  0.002173 avg.loss:  0.809870 ETA:   0h 2m48s 78.7% words/sec/thread:   55468 lr:  0.002132 avg.loss:  0.807222 ETA:   0h 2m45s 79.1% words/sec/thread:   55461 lr:  0.002092 avg.loss:  0.804390 ETA:   0h 2m42s 79.5% words/sec/thread:   55426 lr:  0.002054 avg.loss:  0.801641 ETA:   0h 2m39s 79.7% words/sec/thread:   55415 lr:  0.002034 avg.loss:  0.800271 ETA:   0h 2m37s 0.002017 avg.loss:  0.799021 ETA:   0h 2m36s 80.0% words/sec/thread:   55364 lr:  0.001996 avg.loss:  0.797585 ETA:   0h 2m35s 80.4% words/sec/thread:   55323 lr:  0.001956 avg.loss:  0.795112 ETA:   0h 2m32s 80.9% words/sec/thread:   55308 lr:  0.001915 avg.loss:  0.792505 ETA:   0h 2m28s 81.3% words/sec/thread:   55276 lr:  0.001875 avg.loss:  0.789987 ETA:   0h 2m25s 81.7% words/sec/thread:   55261 lr:  0.001835 avg.loss:  0.787479 ETA:   0h 2m22s 82.5% words/sec/thread:   55183 lr:  0.001752 avg.loss:  0.782387 ETA:   0h 2m16s 82.7% words/sec/thread:   55176 lr:  0.001732 avg.loss:  0.781122 ETA:   0h 2m15s  55158 lr:  0.001713 avg.loss:  0.779994 ETA:   0h 2m13s 83.1% words/sec/thread:   55144 lr:  0.001691 avg.loss:  0.778668 ETA:   0h 2m11s 83.3% words/sec/thread:   55131 lr:  0.001672 avg.loss:  0.777590 ETA:   0h 2m10s 83.7% words/sec/thread:   55110 lr:  0.001632 avg.loss:  0.775227 ETA:   0h 2m 7ss 84.7% words/sec/thread:   55050 lr:  0.001533 avg.loss:  0.769413 ETA:   0h 1m59s 85.3% words/sec/thread:   55057 lr:  0.001473 avg.loss:  0.765961 ETA:   0h 1m55s 86.5% words/sec/thread:   55055 lr:  0.001351 avg.loss:  0.759246 ETA:   0h 1m45s 86.8% words/sec/thread:   55049 lr:  0.001318 avg.loss:  0.757476 ETA:   0h 1m42s 88.2% words/sec/thread:   55045 lr:  0.001184 avg.loss:  0.750517 ETA:   0h 1m32s 88.6% words/sec/thread:   55062 lr:  0.001137 avg.loss:  0.748116 ETA:   0h 1m28s  0h 1m13s 94.3% words/sec/thread:   55305 lr:  0.000568 avg.loss:  0.719345 ETA:   0h 0m44s 96.7% words/sec/thread:   55435 lr:  0.000330 avg.loss:  0.708696 ETA:   0h 0m25s 98.1% words/sec/thread:   55458 lr:  0.000189 avg.loss:  0.702858 ETA:   0h 0m14s"
     ]
    },
    {
     "name": "stdout",
     "output_type": "stream",
     "text": [
      "Total training time: 0 hours 12 minutes 57 seconds\n"
     ]
    },
    {
     "name": "stderr",
     "output_type": "stream",
     "text": [
      "\r",
      "Progress: 100.0% words/sec/thread:   55507 lr: -0.000000 avg.loss:  0.694333 ETA:   0h 0m 0s\r",
      "Progress: 100.0% words/sec/thread:   55507 lr:  0.000000 avg.loss:  0.694333 ETA:   0h 0m 0s\n"
     ]
    }
   ],
   "source": [
    "# Membuat model word embedding fasttext menggunakan skip gram 4\n",
    "\n",
    "# waktu mulai\n",
    "start_time = time.time()\n",
    "\n",
    "model_sg = fasttext.train_unsupervised(input='/Users/williamnehemia/Documents/Skripsi/TugasAkhir/WordEmbeddingModel/Data/dataCurr.txt', model='skipgram', lr=0.01, dim=10, ws=5, epoch=100, minCount=1, minn=3, maxn=3, thread=10)\n",
    "\n",
    "# waktu selesai\n",
    "end_time = time.time()\n",
    "\n",
    "# hitung waktu training\n",
    "training_time = end_time - start_time\n",
    "\n",
    "# convert ke jam, menit, detik\n",
    "hours = int(training_time // 3600)\n",
    "minutes = int((training_time % 3600) // 60)\n",
    "seconds = int(training_time % 60)\n",
    "\n",
    "print(\"Total training time:\", hours, \"hours\", minutes, \"minutes\", seconds, \"seconds\")\n"
   ]
  },
  {
   "cell_type": "code",
   "execution_count": 94,
   "id": "ddba97ce",
   "metadata": {},
   "outputs": [],
   "source": [
    "# save model\n",
    "model_sg.save_model(\"/Users/williamnehemia/Documents/Skripsi/Fastext_model/SetelahPembagianData/model_sg_fasttext_4.bin\")\n"
   ]
  },
  {
   "cell_type": "code",
   "execution_count": 95,
   "id": "027cabba",
   "metadata": {},
   "outputs": [
    {
     "name": "stderr",
     "output_type": "stream",
     "text": [
      "Warning : `load_model` does not return WordVectorModel or SupervisedModel any more, but a `FastText` object which is very similar.\n"
     ]
    }
   ],
   "source": [
    "# load model\n",
    "model_sg = fasttext.load_model(\"/Users/williamnehemia/Documents/Skripsi/Fastext_model/SetelahPembagianData/model_sg_fasttext_4.bin\")\n"
   ]
  },
  {
   "cell_type": "code",
   "execution_count": 96,
   "id": "81652221",
   "metadata": {},
   "outputs": [
    {
     "name": "stdout",
     "output_type": "stream",
     "text": [
      "banyak kata ada di model 2951\n",
      "banyak kata tidak ada di model 0\n",
      "0.14371061662628598\n"
     ]
    }
   ],
   "source": [
    "# relatedness model sg 4\n",
    "print(relatedness(model_sg))"
   ]
  },
  {
   "cell_type": "code",
   "execution_count": 97,
   "id": "b96c7674",
   "metadata": {},
   "outputs": [
    {
     "name": "stdout",
     "output_type": "stream",
     "text": [
      "true_predicted 0 0.0\n",
      "false_predicted 10014 1.0\n",
      "banyak kata ada di model 3233\n",
      "banyak kata tidak ada di model 0\n"
     ]
    }
   ],
   "source": [
    "# word analogy model sg 4\n",
    "word_analogy(model_sg)"
   ]
  },
  {
   "cell_type": "code",
   "execution_count": 98,
   "id": "63652492",
   "metadata": {},
   "outputs": [
    {
     "name": "stderr",
     "output_type": "stream",
     "text": [
      "Read 4M words\n",
      "Number of words:  73023\n",
      "Number of labels: 0\n",
      "Progress: 100.0% words/sec/thread:  189744 lr:  0.000000 avg.loss:  2.145473 ETA:   0h 0m 0ss 13.3% words/sec/thread:  157690 lr:  0.000867 avg.loss:  2.554197 ETA:   0h 3m56s 15.2% words/sec/thread:  156675 lr:  0.000848 avg.loss:  2.523060 ETA:   0h 3m52s 17.9% words/sec/thread:  155448 lr:  0.000821 avg.loss:  2.489578 ETA:   0h 3m47s 19.0% words/sec/thread:  154774 lr:  0.000810 avg.loss:  2.478331 ETA:   0h 3m45s 19.5% words/sec/thread:  154188 lr:  0.000805 avg.loss:  2.472007 ETA:   0h 3m44s 20.5% words/sec/thread:  153606 lr:  0.000795 avg.loss:  2.460956 ETA:   0h 3m42s 21.6% words/sec/thread:  153472 lr:  0.000784 avg.loss:  2.450231 ETA:   0h 3m39s 22.1% words/sec/thread:  153350 lr:  0.000779 avg.loss:  2.445560 ETA:   0h 3m38s ETA:   0h 3m37s 26.5% words/sec/thread:  153263 lr:  0.000735 avg.loss:  2.409596 ETA:   0h 3m26s 0.000731 avg.loss:  2.407049 ETA:   0h 3m25s 27.0% words/sec/thread:  153481 lr:  0.000730 avg.loss:  2.406310 ETA:   0h 3m24s 29.9% words/sec/thread:  152571 lr:  0.000701 avg.loss:  2.387179 ETA:   0h 3m17s 30.2% words/sec/thread:  152397 lr:  0.000698 avg.loss:  2.384600 ETA:   0h 3m16s 30.8% words/sec/thread:  152419 lr:  0.000692 avg.loss:  2.381919 ETA:   0h 3m15s 32.9% words/sec/thread:  152516 lr:  0.000671 avg.loss:  2.373079 ETA:   0h 3m 9s 152528 lr:  0.000649 avg.loss:  2.364826 ETA:   0h 3m 3s 52.2% words/sec/thread:  170168 lr:  0.000478 avg.loss:  2.312315 ETA:   0h 2m 0s 176571 lr:  0.000423 avg.loss:  2.299661 ETA:   0h 1m43s 60.0% words/sec/thread:  178772 lr:  0.000400 avg.loss:  2.295376 ETA:   0h 1m36savg.loss:  2.292219 ETA:   0h 1m33s 2.275494 ETA:   0h 1m20s% words/sec/thread:  185011 lr:  0.000329 avg.loss:  2.267035 ETA:   0h 1m16s 70.9% words/sec/thread:  187813 lr:  0.000291 avg.loss:  2.248745 ETA:   0h 1m 6ss 80.5% words/sec/thread:  194504 lr:  0.000195 avg.loss:  2.208621 ETA:   0h 0m43s 80.7% words/sec/thread:  194612 lr:  0.000193 avg.loss:  2.207811 ETA:   0h 0m42s 81.3% words/sec/thread:  194900 lr:  0.000187 avg.loss:  2.204535 ETA:   0h 0m41s 81.9% words/sec/thread:  194472 lr:  0.000181 avg.loss:  2.202339 ETA:   0h 0m40s 91.7% words/sec/thread:  191942 lr:  0.000083 avg.loss:  2.167771 ETA:   0h 0m18s"
     ]
    },
    {
     "name": "stdout",
     "output_type": "stream",
     "text": [
      "Total training time: 0 hours 3 minutes 49 seconds\n"
     ]
    },
    {
     "name": "stderr",
     "output_type": "stream",
     "text": [
      "\r",
      "Progress: 100.0% words/sec/thread:  189740 lr:  0.000000 avg.loss:  2.145339 ETA:   0h 0m 0s\r",
      "Progress: 100.0% words/sec/thread:  189660 lr: -0.000000 avg.loss:  2.145336 ETA:   0h 0m 0s\r",
      "Progress: 100.0% words/sec/thread:  189660 lr:  0.000000 avg.loss:  2.145336 ETA:   0h 0m 0s\n"
     ]
    }
   ],
   "source": [
    "# Membuat model word embedding fasttext menggunakan CBOW 5\n",
    "\n",
    "# waktu mulai\n",
    "start_time = time.time()\n",
    "\n",
    "model_cbow = fasttext.train_unsupervised(input='/Users/williamnehemia/Documents/Skripsi/TugasAkhir/WordEmbeddingModel/Data/dataCurr.txt', model='cbow', lr=0.001, dim=10, ws=5, epoch=100, minCount=1, minn=3, maxn=3, thread=10)\n",
    "\n",
    "# waktu selesai\n",
    "end_time = time.time()\n",
    "\n",
    "# hitung waktu training\n",
    "training_time = end_time - start_time\n",
    "\n",
    "# convert ke jam, menit, detik\n",
    "hours = int(training_time // 3600)\n",
    "minutes = int((training_time % 3600) // 60)\n",
    "seconds = int(training_time % 60)\n",
    "\n",
    "print(\"Total training time:\", hours, \"hours\", minutes, \"minutes\", seconds, \"seconds\")\n"
   ]
  },
  {
   "cell_type": "code",
   "execution_count": 99,
   "id": "ac91eb56",
   "metadata": {},
   "outputs": [],
   "source": [
    "# save model\n",
    "model_cbow.save_model(\"/Users/williamnehemia/Documents/Skripsi/Fastext_model/SetelahPembagianData/model_cbow_fasttext_5.bin\")\n"
   ]
  },
  {
   "cell_type": "code",
   "execution_count": 100,
   "id": "4f132141",
   "metadata": {},
   "outputs": [
    {
     "name": "stderr",
     "output_type": "stream",
     "text": [
      "Warning : `load_model` does not return WordVectorModel or SupervisedModel any more, but a `FastText` object which is very similar.\n"
     ]
    }
   ],
   "source": [
    "# load model\n",
    "model_cbow = fasttext.load_model(\"/Users/williamnehemia/Documents/Skripsi/Fastext_model/SetelahPembagianData/model_cbow_fasttext_5.bin\")\n"
   ]
  },
  {
   "cell_type": "code",
   "execution_count": 101,
   "id": "195cb02c",
   "metadata": {},
   "outputs": [
    {
     "name": "stdout",
     "output_type": "stream",
     "text": [
      "banyak kata ada di model 2951\n",
      "banyak kata tidak ada di model 0\n",
      "0.1418965273649628\n"
     ]
    }
   ],
   "source": [
    "# relatedness model cbow 5\n",
    "print(relatedness(model_cbow))"
   ]
  },
  {
   "cell_type": "code",
   "execution_count": 102,
   "id": "6d9c00a0",
   "metadata": {},
   "outputs": [
    {
     "name": "stdout",
     "output_type": "stream",
     "text": [
      "true_predicted 0 0.0\n",
      "false_predicted 10014 1.0\n",
      "banyak kata ada di model 3233\n",
      "banyak kata tidak ada di model 0\n"
     ]
    }
   ],
   "source": [
    "# word analogy model cbow 5\n",
    "word_analogy(model_cbow)"
   ]
  },
  {
   "cell_type": "code",
   "execution_count": 103,
   "id": "26074fc7",
   "metadata": {},
   "outputs": [
    {
     "name": "stderr",
     "output_type": "stream",
     "text": [
      "Read 4M words\n",
      "Number of words:  73023\n",
      "Number of labels: 0\n",
      "Progress: 100.0% words/sec/thread:   61331 lr:  0.000000 avg.loss:  0.740764 ETA:   0h 0m 0s  0.2% words/sec/thread:   68544 lr:  0.000998 avg.loss:  4.131942 ETA:   0h10m26s  0h10m54s  3.9% words/sec/thread:   61960 lr:  0.000961 avg.loss:  2.607830 ETA:   0h11m 7s  7.4% words/sec/thread:   61806 lr:  0.000926 avg.loss:  2.463120 ETA:   0h10m44s  8.3% words/sec/thread:   62050 lr:  0.000917 avg.loss:  2.444732 ETA:   0h10m35s  8.7% words/sec/thread:   61807 lr:  0.000913 avg.loss:  2.438807 ETA:   0h10m35s  9.2% words/sec/thread:   61231 lr:  0.000908 avg.loss:  2.430479 ETA:   0h10m38s  9.7% words/sec/thread:   61218 lr:  0.000903 avg.loss:  2.421318 ETA:   0h10m34s 10.1% words/sec/thread:   61248 lr:  0.000899 avg.loss:  2.413869 ETA:   0h10m31s 10.2% words/sec/thread:   61242 lr:  0.000898 avg.loss:  2.409988 ETA:   0h10m30s 10.6% words/sec/thread:   61367 lr:  0.000894 avg.loss:  2.402288 ETA:   0h10m27s avg.loss:  2.386923 ETA:   0h10m18s 12.2% words/sec/thread:   61876 lr:  0.000878 avg.loss:  2.370177 ETA:   0h10m10s 12.8% words/sec/thread:   61949 lr:  0.000872 avg.loss:  2.360419 ETA:   0h10m 5s 14.0% words/sec/thread:   61957 lr:  0.000860 avg.loss:  2.342308 ETA:   0h 9m57s 14.7% words/sec/thread:   61945 lr:  0.000853 avg.loss:  2.332423 ETA:   0h 9m52s  0h 9m51s15.7% words/sec/thread:   61471 lr:  0.000843 avg.loss:  2.320379 ETA:   0h 9m50s 16.1% words/sec/thread:   61246 lr:  0.000839 avg.loss:  2.316556 ETA:   0h 9m49s  0h 9m38s 18.2% words/sec/thread:   60744 lr:  0.000818 avg.loss:  2.296710 ETA:   0h 9m39s  60575 lr:  0.000815 avg.loss:  2.294237 ETA:   0h 9m38s 25.0% words/sec/thread:   61231 lr:  0.000750 avg.loss:  1.928244 ETA:   0h 8m47s 26.1% words/sec/thread:   61394 lr:  0.000739 avg.loss:  1.858366 ETA:   0h 8m37s 26.7% words/sec/thread:   61269 lr:  0.000733 avg.loss:  1.825354 ETA:   0h 8m34s20s 30.2% words/sec/thread:   61462 lr:  0.000698 avg.loss:  1.647845 ETA:   0h 8m 8s 30.8% words/sec/thread:   61450 lr:  0.000692 avg.loss:  1.623708 ETA:   0h 8m 4s 31.1% words/sec/thread:   61413 lr:  0.000689 avg.loss:  1.610702 ETA:   0h 8m 3s 31.3% words/sec/thread:   61383 lr:  0.000687 avg.loss:  1.600942 ETA:   0h 8m 1s 32.0% words/sec/thread:   61293 lr:  0.000680 avg.loss:  1.573021 ETA:   0h 7m57savg.loss:  1.562874 ETA:   0h 7m56s ETA:   0h 7m51sead:   60918 lr:  0.000667 avg.loss:  1.521747 ETA:   0h 7m51s 34.0% words/sec/thread:   60600 lr:  0.000660 avg.loss:  1.496802 ETA:   0h 7m48s 34.7% words/sec/thread:   60498 lr:  0.000653 avg.loss:  1.473504 ETA:   0h 7m44s 35.0% words/sec/thread:   60461 lr:  0.000650 avg.loss:  1.461168 ETA:   0h 7m42s 35.7% words/sec/thread:   60224 lr:  0.000643 avg.loss:  1.438206 ETA:   0h 7m39s 37.0% words/sec/thread:   60056 lr:  0.000630 avg.loss:  1.399317 ETA:   0h 7m31s 38.0% words/sec/thread:   59980 lr:  0.000620 avg.loss:  1.369389 ETA:   0h 7m24s 38.6% words/sec/thread:   59928 lr:  0.000614 avg.loss:  1.353285 ETA:   0h 7m20s 39.4% words/sec/thread:   59614 lr:  0.000606 avg.loss:  1.329475 ETA:   0h 7m17s 44.3% words/sec/thread:   59669 lr:  0.000557 avg.loss:  1.213758 ETA:   0h 6m41s 49.1% words/sec/thread:   60462 lr:  0.000509 avg.loss:  1.126822 ETA:   0h 6m 2s 52.0% words/sec/thread:   60953 lr:  0.000480 avg.loss:  1.087132 ETA:   0h 5m39s 60.4% words/sec/thread:   61526 lr:  0.000396 avg.loss:  0.991197 ETA:   0h 4m36s 61.4% words/sec/thread:   61581 lr:  0.000386 avg.loss:  0.981163 ETA:   0h 4m29s 62.3% words/sec/thread:   61285 lr:  0.000377 avg.loss:  0.973196 ETA:   0h 4m24s 62.4% words/sec/thread:   61252 lr:  0.000376 avg.loss:  0.972101 ETA:   0h 4m24s 63.3% words/sec/thread:   61169 lr:  0.000367 avg.loss:  0.963282 ETA:   0h 4m17s 63.5% words/sec/thread:   61148 lr:  0.000365 avg.loss:  0.961729 ETA:   0h 4m16s 63.8% words/sec/thread:   61117 lr:  0.000362 avg.loss:  0.959159 ETA:   0h 4m14s 64.6% words/sec/thread:   61062 lr:  0.000354 avg.loss:  0.952253 ETA:   0h 4m 9savg.loss:  0.950645 ETA:   0h 4m 8s 65.5% words/sec/thread:   60865 lr:  0.000345 avg.loss:  0.945025 ETA:   0h 4m 4s0.000339 avg.loss:  0.939822 ETA:   0h 3m59s 66.5% words/sec/thread:   60786 lr:  0.000335 avg.loss:  0.937111 ETA:   0h 3m57s 67.1% words/sec/thread:   60540 lr:  0.000329 avg.loss:  0.932394 ETA:   0h 3m54s 67.5% words/sec/thread:   60477 lr:  0.000325 avg.loss:  0.928740 ETA:   0h 3m51s73.4% words/sec/thread:   60520 lr:  0.000266 avg.loss:  0.883645 ETA:   0h 3m 9sm28s 80.5% words/sec/thread:   60884 lr:  0.000195 avg.loss:  0.837511 ETA:   0h 2m17s 81.8% words/sec/thread:   60861 lr:  0.000182 avg.loss:  0.830458 ETA:   0h 2m 8s 82.1% words/sec/thread:   60807 lr:  0.000179 avg.loss:  0.828665 ETA:   0h 2m 6s 83.9% words/sec/thread:   60766 lr:  0.000161 avg.loss:  0.818417 ETA:   0h 1m54s 84.9% words/sec/thread:   60862 lr:  0.000151 avg.loss:  0.812773 ETA:   0h 1m46s 86.1% words/sec/thread:   60869 lr:  0.000139 avg.loss:  0.806842 ETA:   0h 1m38s 87.1% words/sec/thread:   60952 lr:  0.000129 avg.loss:  0.801907 ETA:   0h 1m31s 87.4% words/sec/thread:   60967 lr:  0.000126 avg.loss:  0.800305 ETA:   0h 1m28s 87.7% words/sec/thread:   60932 lr:  0.000123 avg.loss:  0.798559 ETA:   0h 1m26s 96.1% words/sec/thread:   61319 lr:  0.000039 avg.loss:  0.757695 ETA:   0h 0m27s"
     ]
    },
    {
     "name": "stdout",
     "output_type": "stream",
     "text": [
      "Total training time: 0 hours 11 minutes 42 seconds\n"
     ]
    },
    {
     "name": "stderr",
     "output_type": "stream",
     "text": [
      "\r",
      "Progress: 100.0% words/sec/thread:   61336 lr:  0.000000 avg.loss:  0.740670 ETA:   0h 0m 0s\r",
      "Progress: 100.0% words/sec/thread:   61335 lr: -0.000000 avg.loss:  0.740611 ETA:   0h 0m 0s\r",
      "Progress: 100.0% words/sec/thread:   61335 lr:  0.000000 avg.loss:  0.740611 ETA:   0h 0m 0s\n"
     ]
    }
   ],
   "source": [
    "# Membuat model word embedding fasttext menggunakan skip gram 5\n",
    "\n",
    "# waktu mulai\n",
    "start_time = time.time()\n",
    "\n",
    "model_sg = fasttext.train_unsupervised(input='/Users/williamnehemia/Documents/Skripsi/TugasAkhir/WordEmbeddingModel/Data/dataCurr.txt', model='skipgram', lr=0.001, dim=10, ws=5, epoch=100, minCount=1, minn=3, maxn=3, thread=10)\n",
    "\n",
    "# waktu selesai\n",
    "end_time = time.time()\n",
    "\n",
    "# hitung waktu training\n",
    "training_time = end_time - start_time\n",
    "\n",
    "# convert ke jam, menit, detik\n",
    "hours = int(training_time // 3600)\n",
    "minutes = int((training_time % 3600) // 60)\n",
    "seconds = int(training_time % 60)\n",
    "\n",
    "print(\"Total training time:\", hours, \"hours\", minutes, \"minutes\", seconds, \"seconds\")\n"
   ]
  },
  {
   "cell_type": "code",
   "execution_count": 104,
   "id": "44553c52",
   "metadata": {},
   "outputs": [],
   "source": [
    "# save model\n",
    "model_sg.save_model(\"/Users/williamnehemia/Documents/Skripsi/Fastext_model/SetelahPembagianData/model_sg_fasttext_5.bin\")\n"
   ]
  },
  {
   "cell_type": "code",
   "execution_count": 105,
   "id": "c61913b1",
   "metadata": {},
   "outputs": [
    {
     "name": "stderr",
     "output_type": "stream",
     "text": [
      "Warning : `load_model` does not return WordVectorModel or SupervisedModel any more, but a `FastText` object which is very similar.\n"
     ]
    }
   ],
   "source": [
    "# load model\n",
    "model_sg = fasttext.load_model(\"/Users/williamnehemia/Documents/Skripsi/Fastext_model/SetelahPembagianData/model_sg_fasttext_5.bin\")\n"
   ]
  },
  {
   "cell_type": "code",
   "execution_count": 106,
   "id": "1263ff5d",
   "metadata": {},
   "outputs": [
    {
     "name": "stdout",
     "output_type": "stream",
     "text": [
      "banyak kata ada di model 2951\n",
      "banyak kata tidak ada di model 0\n",
      "0.14391645339097717\n"
     ]
    }
   ],
   "source": [
    "# relatedness model sg 5\n",
    "print(relatedness(model_sg))"
   ]
  },
  {
   "cell_type": "code",
   "execution_count": 107,
   "id": "f82a5797",
   "metadata": {},
   "outputs": [
    {
     "name": "stdout",
     "output_type": "stream",
     "text": [
      "true_predicted 0 0.0\n",
      "false_predicted 10014 1.0\n",
      "banyak kata ada di model 3233\n",
      "banyak kata tidak ada di model 0\n"
     ]
    }
   ],
   "source": [
    "# word analogy model sg 5\n",
    "word_analogy(model_sg)"
   ]
  },
  {
   "cell_type": "code",
   "execution_count": null,
   "id": "3edceb2e",
   "metadata": {},
   "outputs": [
    {
     "name": "stderr",
     "output_type": "stream",
     "text": [
      "Read 4M words\n",
      "Number of words:  73023\n",
      "Number of labels: 0\n",
      "Progress:  35.7% words/sec/thread:  154033 lr:  0.064272 avg.loss:  2.001830 ETA:   0h 2m59s  0.4% words/sec/thread:  127729 lr:  0.099615 avg.loss:  2.501026 ETA:   0h 5m35s 5m 4s  2.3% words/sec/thread:  142754 lr:  0.097740 avg.loss:  2.196236 ETA:   0h 4m54s  3.4% words/sec/thread:  141225 lr:  0.096634 avg.loss:  2.152895 ETA:   0h 4m54s  3.9% words/sec/thread:  141663 lr:  0.096089 avg.loss:  2.138064 ETA:   0h 4m51s  5.0% words/sec/thread:  143743 lr:  0.095009 avg.loss:  2.117526 ETA:   0h 4m44s  7.6% words/sec/thread:  148386 lr:  0.092423 avg.loss:  2.091191 ETA:   0h 4m27s  8.4% words/sec/thread:  148695 lr:  0.091595 avg.loss:  2.084688 ETA:   0h 4m25s 14.8% words/sec/thread:  154528 lr:  0.085213 avg.loss:  2.045392 ETA:   0h 3m57s 15.3% words/sec/thread:  154485 lr:  0.084670 avg.loss:  2.044062 ETA:   0h 3m55s2.041689 ETA:   0h 3m53s  0h 3m20s words/sec/thread:  158221 lr:  0.071906 avg.loss:  2.015633 ETA:   0h 3m15s 34.7% words/sec/thread:  155660 lr:  0.065309 avg.loss:  2.002784 ETA:   0h 3m 0s"
     ]
    }
   ],
   "source": [
    "# Membuat model word embedding fasttext menggunakan CBOW 6\n",
    "\n",
    "# waktu mulai\n",
    "start_time = time.time()\n",
    "\n",
    "model_cbow = fasttext.train_unsupervised(input='/Users/williamnehemia/Documents/Skripsi/TugasAkhir/WordEmbeddingModel/Data/dataCurr.txt', model='cbow', lr=0.1, dim=10, ws=5, epoch=100, minCount=1, minn=3, maxn=3, thread=10)\n",
    "\n",
    "# waktu selesai\n",
    "end_time = time.time()\n",
    "\n",
    "# hitung waktu training\n",
    "training_time = end_time - start_time\n",
    "\n",
    "# convert ke jam, menit, detik\n",
    "hours = int(training_time // 3600)\n",
    "minutes = int((training_time % 3600) // 60)\n",
    "seconds = int(training_time % 60)\n",
    "\n",
    "print(\"Total training time:\", hours, \"hours\", minutes, \"minutes\", seconds, \"seconds\")\n"
   ]
  },
  {
   "cell_type": "code",
   "execution_count": null,
   "id": "b5489287",
   "metadata": {},
   "outputs": [],
   "source": [
    "# save model\n",
    "model_cbow.save_model(\"/Users/williamnehemia/Documents/Skripsi/Fastext_model/SetelahPembagianData/model_cbow_fasttext_6.bin\")\n"
   ]
  },
  {
   "cell_type": "code",
   "execution_count": null,
   "id": "c958c316",
   "metadata": {},
   "outputs": [],
   "source": [
    "# load model\n",
    "model_cbow = fasttext.load_model(\"/Users/williamnehemia/Documents/Skripsi/Fastext_model/SetelahPembagianData/model_cbow_fasttext_6.bin\")\n"
   ]
  },
  {
   "cell_type": "code",
   "execution_count": null,
   "id": "72f3f3a7",
   "metadata": {},
   "outputs": [],
   "source": [
    "# relatedness model cbow 6\n",
    "print(relatedness(model_cbow))"
   ]
  },
  {
   "cell_type": "code",
   "execution_count": null,
   "id": "396a9152",
   "metadata": {},
   "outputs": [],
   "source": [
    "# word analogy model cbow 6\n",
    "word_analogy(model_cbow)"
   ]
  },
  {
   "cell_type": "code",
   "execution_count": null,
   "id": "459962de",
   "metadata": {},
   "outputs": [],
   "source": [
    "# Membuat model word embedding fasttext menggunakan skip gram 6\n",
    "\n",
    "# waktu mulai\n",
    "start_time = time.time()\n",
    "\n",
    "model_sg = fasttext.train_unsupervised(input='/Users/williamnehemia/Documents/Skripsi/TugasAkhir/WordEmbeddingModel/Data/dataCurr.txt', model='skipgram', lr=0.1, dim=10, ws=5, epoch=100, minCount=1, minn=3, maxn=3, thread=10)\n",
    "\n",
    "# waktu selesai\n",
    "end_time = time.time()\n",
    "\n",
    "# hitung waktu training\n",
    "training_time = end_time - start_time\n",
    "\n",
    "# convert ke jam, menit, detik\n",
    "hours = int(training_time // 3600)\n",
    "minutes = int((training_time % 3600) // 60)\n",
    "seconds = int(training_time % 60)\n",
    "\n",
    "print(\"Total training time:\", hours, \"hours\", minutes, \"minutes\", seconds, \"seconds\")\n"
   ]
  },
  {
   "cell_type": "code",
   "execution_count": null,
   "id": "5560f0f6",
   "metadata": {},
   "outputs": [],
   "source": [
    "# save model\n",
    "model_sg.save_model(\"/Users/williamnehemia/Documents/Skripsi/Fastext_model/SetelahPembagianData/model_sg_fasttext_6.bin\")\n"
   ]
  },
  {
   "cell_type": "code",
   "execution_count": null,
   "id": "b9b8cad5",
   "metadata": {},
   "outputs": [],
   "source": [
    "# load model\n",
    "model_sg = fasttext.load_model(\"/Users/williamnehemia/Documents/Skripsi/Fastext_model/SetelahPembagianData/model_sg_fasttext_6.bin\")\n"
   ]
  },
  {
   "cell_type": "code",
   "execution_count": null,
   "id": "025b7efe",
   "metadata": {},
   "outputs": [],
   "source": [
    "# relatedness model sg 6\n",
    "print(relatedness(model_sg))"
   ]
  },
  {
   "cell_type": "code",
   "execution_count": null,
   "id": "0a527fe7",
   "metadata": {},
   "outputs": [],
   "source": [
    "# word analogy model sg 6\n",
    "word_analogy(model_sg)"
   ]
  },
  {
   "cell_type": "code",
   "execution_count": null,
   "id": "b3115b0d",
   "metadata": {},
   "outputs": [],
   "source": []
  },
  {
   "cell_type": "code",
   "execution_count": null,
   "id": "38771222",
   "metadata": {},
   "outputs": [],
   "source": []
  }
 ],
 "metadata": {
  "kernelspec": {
   "display_name": "Python 3 (ipykernel)",
   "language": "python",
   "name": "python3"
  },
  "language_info": {
   "codemirror_mode": {
    "name": "ipython",
    "version": 3
   },
   "file_extension": ".py",
   "mimetype": "text/x-python",
   "name": "python",
   "nbconvert_exporter": "python",
   "pygments_lexer": "ipython3",
   "version": "3.11.5"
  }
 },
 "nbformat": 4,
 "nbformat_minor": 5
}
