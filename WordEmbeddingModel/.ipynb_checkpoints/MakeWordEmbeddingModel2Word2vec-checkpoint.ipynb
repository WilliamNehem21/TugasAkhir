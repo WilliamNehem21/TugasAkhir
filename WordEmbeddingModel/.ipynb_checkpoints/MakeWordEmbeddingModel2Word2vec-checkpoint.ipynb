{
 "cells": [
  {
   "cell_type": "code",
   "execution_count": 1,
   "id": "3874ac60",
   "metadata": {},
   "outputs": [],
   "source": [
    "# Import library\n",
    "import re\n",
    "import sys\n",
    "import os\n",
    "import shutil\n",
    "from nltk.tokenize import word_tokenize\n",
    "from nltk.tokenize import RegexpTokenizer\n",
    "from gensim.models import Word2Vec\n",
    "from scipy.stats import spearmanr\n",
    "from sklearn.metrics.pairwise import cosine_similarity\n",
    "import numpy as np\n",
    "import time\n",
    "import pandas as pd"
   ]
  },
  {
   "cell_type": "code",
   "execution_count": 2,
   "id": "3ad0b4da",
   "metadata": {},
   "outputs": [],
   "source": [
    "# method untuk menghitung nilai relatedness\n",
    "def relatedness(model):\n",
    "    # Baca file rw untuk evaluasi word embedding dengan teknik relatedness cbow\n",
    "    dir_file = '/Users/williamnehemia/Documents/Skripsi/TugasAkhir/DataEvaluasiGitHub/word-similarity/monolingual/en/rw.csv'\n",
    "    list_model_similarity = []\n",
    "    words_exist = []\n",
    "    words_not_exist = []\n",
    "    list_human_score = []\n",
    "    \n",
    "    df = pd.read_csv(dir_file)\n",
    "    list_human_score = []\n",
    "    \n",
    "    for index, row in df.iterrows():\n",
    "        word_1 = row[\"word1\"].lower()\n",
    "        word_2 = row[\"word2\"].lower()\n",
    "        try:\n",
    "            wv_1 = []\n",
    "            wv_2 = []\n",
    "            wv_1.append(model.wv[word_1])\n",
    "            \n",
    "            if word_1 not in words_exist:\n",
    "                words_exist.append(word_1)\n",
    "            \n",
    "            wv_2.append(model.wv[word_2])\n",
    "            \n",
    "            if word_2 not in words_exist:\n",
    "                words_exist.append(word_2)\n",
    "                \n",
    "            similarity = model.wv.similarity(word_1, word_2)\n",
    "            list_model_similarity.append(similarity)\n",
    "            \n",
    "            human_score = float(row[\"similarity\"])\n",
    "            list_human_score.append(human_score)\n",
    "            \n",
    "        except:\n",
    "            if word_1 in words_exist: # kata 2 yang tidak ada di model\n",
    "                if word_2 not in words_not_exist:\n",
    "                    words_not_exist.append(word_2)\n",
    "            \n",
    "            if word_2 in words_exist: # kata 1 yang tidak ada di model\n",
    "                if word_1 not in words_not_exist:\n",
    "                    words_not_exist.append(word_1)\n",
    "        \n",
    "    \n",
    "   \n",
    "        \n",
    "\n",
    "    rho_model, p_model = spearmanr(list_model_similarity, list_human_score)\n",
    "    print(\"banyak kata ada di model\", len(words_exist))\n",
    "    print(\"banyak kata tidak ada di model\", len(words_not_exist))\n",
    "    return rho_model\n"
   ]
  },
  {
   "cell_type": "code",
   "execution_count": 3,
   "id": "ab6238c9",
   "metadata": {},
   "outputs": [],
   "source": [
    "# # method untuk evaluasi word analogy\n",
    "# def word_analogy(model):\n",
    "#     # Baca file word_analogy untuk evaluasi word embedding dengan teknik word analogy (menggunakan cara manual) cbow 1\n",
    "\n",
    "#     dir_path_word_analogy = '/Users/williamnehemia/Documents/Skripsi/TugasAkhir/DataForEvaluatinWordEmbedding/Word_analogy/Word_Analogy.txt'\n",
    "\n",
    "#     true_predicted = 0\n",
    "#     false_predicted = 0\n",
    "\n",
    "#     list_of_words = model.wv.index_to_key\n",
    "\n",
    "\n",
    "\n",
    "#     with open(dir_path_word_analogy , 'r') as file:\n",
    "#         content = file.read()\n",
    "#         lines = content.splitlines() \n",
    "#         for line in lines:\n",
    "#             item_in_line = line.split(\" \")\n",
    "#             word_predicted_curr = \"\"\n",
    "#             if len(item_in_line) == 4: # untuk buang baris yang merupakan keterangan\n",
    "#                 max_value = -sys.maxsize - 1 # diisi dengan min value dahulu\n",
    "#                 word_1 = item_in_line[0].lower()\n",
    "#                 word_2 = item_in_line[1].lower()\n",
    "#                 word_3 = item_in_line[2].lower()\n",
    "#                 word_4 = item_in_line[3].lower()\n",
    "#                 try:\n",
    "#                     word_predicted_curr = model.wv.most_similar(positive=[word_2, word_3], negative=[word_1], topn=1)[0][0]\n",
    "                    \n",
    "#                 except Exception as e:\n",
    "#                     continue\n",
    "#                 if word_predicted_curr == word_4:\n",
    "#                     true_predicted += 1\n",
    "#                 else:\n",
    "#                     false_predicted += 1\n",
    "\n",
    "#     # print(\"true_predicted\", true_predicted)\n",
    "#     # print(\"false_predicted\", false_predicted)\n",
    "#     print(\"true_predicted\", true_predicted, true_predicted / (true_predicted+false_predicted))\n",
    "#     print(\"false_predicted\", false_predicted, false_predicted / (true_predicted+false_predicted))\n"
   ]
  },
  {
   "cell_type": "code",
   "execution_count": 4,
   "id": "b876df7b",
   "metadata": {},
   "outputs": [],
   "source": [
    "# method untuk menilai model dengan teknik analogi kata\n",
    "def word_analogy(model):\n",
    "    # Baca file word_analogy untuk evaluasi word embedding dengan teknik word analogy (menggunakan library)\n",
    "\n",
    "    dir_file = '/Users/williamnehemia/Documents/Skripsi/TugasAkhir/DataEvaluasiGitHub/word-analogy/monolingual/en/semeval.csv'\n",
    "    df = pd.read_csv(dir_file)\n",
    "    true_predicted = 0\n",
    "    false_predicted = 0\n",
    "    words_exist = []\n",
    "    words_not_exist = []\n",
    "    \n",
    "    for index, row in df.iterrows():\n",
    "        word_1 = row[\"word1\"].lower()\n",
    "        word_2 = row[\"word2\"].lower()\n",
    "        word_3 = row[\"word3\"].lower()\n",
    "        word_4 = row[\"target\"].lower()\n",
    "        word_predicted_curr = \"\"\n",
    "        try:\n",
    "            word_predicted_curr = model.wv.most_similar(positive=[word_2, word_3], negative=[word_1], topn=1)[0][0]\n",
    "         \n",
    "            if word_predicted_curr == word_4:\n",
    "                true_predicted += 1\n",
    "            else:\n",
    "                false_predicted += 1\n",
    "            \n",
    "            if word_1 not in words_exist:\n",
    "                words_exist.append(word_1)\n",
    "            \n",
    "            if word_2 not in words_exist:\n",
    "                words_exist.append(word_2)\n",
    "            \n",
    "            if word_3 not in words_exist:\n",
    "                words_exist.append(word_3)\n",
    "            \n",
    "            if word_4 not in words_exist:\n",
    "                words_exist.append(word_4)\n",
    "\n",
    "        except:\n",
    "            continue\n",
    "            \n",
    "        # untuk menambahkan word_1 jika tidak ada di model    \n",
    "        try:\n",
    "            word_vector = model.wv[word_1]\n",
    "        except:\n",
    "            if word_1 not in words_not_exist:\n",
    "                    words_not_exist.append(word_1)\n",
    "        \n",
    "        # untuk menambahkan word_2 jika tidak ada di model    \n",
    "        try:\n",
    "            word_vector = model.wv[word_2]\n",
    "        except:\n",
    "            if word_2 not in words_not_exist:\n",
    "                    words_not_exist.append(word_2)\n",
    "\n",
    "        # untuk menambahkan word_3 jika tidak ada di model    \n",
    "        try:\n",
    "            word_vector = model.wv[word_3]\n",
    "        except:\n",
    "            if word_3 not in words_not_exist:\n",
    "                    words_not_exist.append(word_3)\n",
    "        \n",
    "        # untuk menambahkan word_4 jika tidak ada di model    \n",
    "        try:\n",
    "            word_vector = model.wv[word_4]\n",
    "        except:\n",
    "            if word_4 not in words_not_exist:\n",
    "                    words_not_exist.append(word_4)\n",
    "\n",
    "    print(\"true_predicted\", true_predicted, true_predicted / (true_predicted+false_predicted))\n",
    "    print(\"false_predicted\", false_predicted, false_predicted / (true_predicted+false_predicted))\n",
    "    print(\"banyak kata ada di model\", len(words_exist))\n",
    "    print(\"banyak kata tidak ada di model\", len(words_not_exist))"
   ]
  },
  {
   "cell_type": "code",
   "execution_count": 5,
   "id": "8c8f2768",
   "metadata": {},
   "outputs": [],
   "source": [
    "# method untuk menghitung nilai relatedness word similarity sim\n",
    "def relatedness_wordsim_sim(model):\n",
    "    # Baca file rw untuk evaluasi word embedding dengan teknik relatedness cbow\n",
    "    dir_file = '/Users/williamnehemia/Documents/Skripsi/TugasAkhir/DataEvaluasiGitHub/word-similarity/monolingual/en/wordsim353-sim.csv'\n",
    "    list_model_similarity = []\n",
    "    words_exist = []\n",
    "    words_not_exist = []\n",
    "    list_human_score = []\n",
    "    \n",
    "    df = pd.read_csv(dir_file)\n",
    "    list_human_score = []\n",
    "    \n",
    "    for index, row in df.iterrows():\n",
    "        word_1 = row[\"word1\"].lower()\n",
    "        word_2 = row[\"word2\"].lower()\n",
    "        try:\n",
    "            wv_1 = []\n",
    "            wv_2 = []\n",
    "            wv_1.append(model.wv[word_1])\n",
    "            \n",
    "            if word_1 not in words_exist:\n",
    "                words_exist.append(word_1)\n",
    "            \n",
    "            wv_2.append(model.wv[word_2])\n",
    "            \n",
    "            if word_2 not in words_exist:\n",
    "                words_exist.append(word_2)\n",
    "                \n",
    "            similarity = model.wv.similarity(word_1, word_2)\n",
    "            list_model_similarity.append(similarity)\n",
    "            \n",
    "            human_score = float(row[\"similarity\"])\n",
    "            list_human_score.append(human_score)\n",
    "            \n",
    "        except:\n",
    "            if word_1 in words_exist: # kata 2 yang tidak ada di model\n",
    "                if word_2 not in words_not_exist:\n",
    "                    words_not_exist.append(word_2)\n",
    "            \n",
    "            if word_2 in words_exist: # kata 1 yang tidak ada di model\n",
    "                if word_1 not in words_not_exist:\n",
    "                    words_not_exist.append(word_1)\n",
    "        \n",
    "    \n",
    "   \n",
    "        \n",
    "\n",
    "    rho_model, p_model = spearmanr(list_model_similarity, list_human_score)\n",
    "    print(\"banyak kata ada di model\", len(words_exist))\n",
    "    print(\"banyak kata tidak ada di model\", len(words_not_exist))\n",
    "    return rho_model\n"
   ]
  },
  {
   "cell_type": "code",
   "execution_count": 6,
   "id": "0777f7e4",
   "metadata": {},
   "outputs": [],
   "source": [
    "# method untuk menilai model dengan teknik analogi kata google analogy\n",
    "def word_analogy_google_analogy(model):\n",
    "    # Baca file word_analogy untuk evaluasi word embedding dengan teknik word analogy (menggunakan library)\n",
    "\n",
    "    dir_file = '/Users/williamnehemia/Documents/Skripsi/TugasAkhir/DataEvaluasiGitHub/word-analogy/monolingual/en/google-analogies.csv'\n",
    "    df = pd.read_csv(dir_file)\n",
    "    true_predicted = 0\n",
    "    false_predicted = 0\n",
    "    words_exist = []\n",
    "    words_not_exist = []\n",
    "    \n",
    "    for index, row in df.iterrows():\n",
    "        word_1 = row[\"word1\"].lower()\n",
    "        word_2 = row[\"word2\"].lower()\n",
    "        word_3 = row[\"word3\"].lower()\n",
    "        word_4 = row[\"target\"].lower()\n",
    "        word_predicted_curr = \"\"\n",
    "        try:\n",
    "            word_predicted_curr = model.wv.most_similar(positive=[word_2, word_3], negative=[word_1], topn=1)[0][0]\n",
    "         \n",
    "            if word_predicted_curr == word_4:\n",
    "                true_predicted += 1\n",
    "            else:\n",
    "                false_predicted += 1\n",
    "            \n",
    "            if word_1 not in words_exist:\n",
    "                words_exist.append(word_1)\n",
    "            \n",
    "            if word_2 not in words_exist:\n",
    "                words_exist.append(word_2)\n",
    "            \n",
    "            if word_3 not in words_exist:\n",
    "                words_exist.append(word_3)\n",
    "            \n",
    "            if word_4 not in words_exist:\n",
    "                words_exist.append(word_4)\n",
    "\n",
    "        except:\n",
    "            continue\n",
    "            \n",
    "        # untuk menambahkan word_1 jika tidak ada di model    \n",
    "        try:\n",
    "            word_vector = model.wv[word_1]\n",
    "        except:\n",
    "            if word_1 not in words_not_exist:\n",
    "                    words_not_exist.append(word_1)\n",
    "        \n",
    "        # untuk menambahkan word_2 jika tidak ada di model    \n",
    "        try:\n",
    "            word_vector = model.wv[word_2]\n",
    "        except:\n",
    "            if word_2 not in words_not_exist:\n",
    "                    words_not_exist.append(word_2)\n",
    "\n",
    "        # untuk menambahkan word_3 jika tidak ada di model    \n",
    "        try:\n",
    "            word_vector = model.wv[word_3]\n",
    "        except:\n",
    "            if word_3 not in words_not_exist:\n",
    "                    words_not_exist.append(word_3)\n",
    "        \n",
    "        # untuk menambahkan word_4 jika tidak ada di model    \n",
    "        try:\n",
    "            word_vector = model.wv[word_4]\n",
    "        except:\n",
    "            if word_4 not in words_not_exist:\n",
    "                    words_not_exist.append(word_4)\n",
    "\n",
    "    print(\"true_predicted\", true_predicted, true_predicted / (true_predicted+false_predicted))\n",
    "    print(\"false_predicted\", false_predicted, false_predicted / (true_predicted+false_predicted))\n",
    "    print(\"banyak kata ada di model\", len(words_exist))\n",
    "    print(\"banyak kata tidak ada di model\", len(words_not_exist))"
   ]
  },
  {
   "cell_type": "code",
   "execution_count": 7,
   "id": "dab42082",
   "metadata": {},
   "outputs": [],
   "source": [
    "# method untuk print kata yang tidak ada pada data evaluasi relatedness\n",
    "def words_not_exist_in_relatedness(model):\n",
    "    # Baca file rw untuk evaluasi word embedding dengan teknik relatedness cbow\n",
    "    dir_file = '/Users/williamnehemia/Documents/Skripsi/TugasAkhir/DataEvaluasiGitHub/word-similarity/monolingual/en/rw.csv'\n",
    "    list_model_similarity = []\n",
    "    words_exist = []\n",
    "    words_not_exist = []\n",
    "    list_human_score = []\n",
    "    \n",
    "    df = pd.read_csv(dir_file)\n",
    "    list_human_score = []\n",
    "    \n",
    "    for index, row in df.iterrows():\n",
    "        word_1 = row[\"word1\"].lower()\n",
    "        word_2 = row[\"word2\"].lower()\n",
    "        try:\n",
    "            wv_1 = []\n",
    "            wv_2 = []\n",
    "            wv_1.append(model.wv[word_1])\n",
    "            \n",
    "            if word_1 not in words_exist:\n",
    "                words_exist.append(word_1)\n",
    "            \n",
    "            wv_2.append(model.wv[word_2])\n",
    "            \n",
    "            if word_2 not in words_exist:\n",
    "                words_exist.append(word_2)\n",
    "                \n",
    "            similarity = model.wv.similarity(word_1, word_2)\n",
    "            list_model_similarity.append(similarity)\n",
    "            \n",
    "            human_score = float(row[\"similarity\"])\n",
    "            list_human_score.append(human_score)\n",
    "            \n",
    "        except:\n",
    "            if word_1 in words_exist: # kata 2 yang tidak ada di model\n",
    "                if word_2 not in words_not_exist:\n",
    "                    words_not_exist.append(word_2)\n",
    "            \n",
    "            if word_2 in words_exist: # kata 1 yang tidak ada di model\n",
    "                if word_1 not in words_not_exist:\n",
    "                    words_not_exist.append(word_1)\n",
    "        \n",
    "    \n",
    "   \n",
    "        \n",
    "    print(\"persentase kata tidak ada pada model\", len(words_not_exist) / (len(words_not_exist) + len(words_exist)))\n",
    "    print(words_not_exist)\n"
   ]
  },
  {
   "cell_type": "code",
   "execution_count": 8,
   "id": "564b936e",
   "metadata": {},
   "outputs": [],
   "source": [
    "# method untuk print kata yang tidak ada pada data analogi kata\n",
    "def words_not_exist_in_word_analogy(model):\n",
    "    # Baca file word_analogy untuk evaluasi word embedding dengan teknik word analogy (menggunakan library)\n",
    "\n",
    "    dir_file = '/Users/williamnehemia/Documents/Skripsi/TugasAkhir/DataEvaluasiGitHub/word-analogy/monolingual/en/semeval.csv'\n",
    "    df = pd.read_csv(dir_file)\n",
    "    true_predicted = 0\n",
    "    false_predicted = 0\n",
    "    words_exist = []\n",
    "    words_not_exist = []\n",
    "    \n",
    "    for index, row in df.iterrows():\n",
    "        word_1 = row[\"word1\"].lower()\n",
    "        word_2 = row[\"word2\"].lower()\n",
    "        word_3 = row[\"word3\"].lower()\n",
    "        word_4 = row[\"target\"].lower()\n",
    "        word_predicted_curr = \"\"\n",
    "        try:\n",
    "            word_predicted_curr = model.wv.most_similar(positive=[word_2, word_3], negative=[word_1], topn=1)[0][0]\n",
    "         \n",
    "            if word_predicted_curr == word_4:\n",
    "                true_predicted += 1\n",
    "            else:\n",
    "                false_predicted += 1\n",
    "            \n",
    "            if word_1 not in words_exist:\n",
    "                words_exist.append(word_1)\n",
    "            \n",
    "            if word_2 not in words_exist:\n",
    "                words_exist.append(word_2)\n",
    "            \n",
    "            if word_3 not in words_exist:\n",
    "                words_exist.append(word_3)\n",
    "            \n",
    "            if word_4 not in words_exist:\n",
    "                words_exist.append(word_4)\n",
    "\n",
    "        except:\n",
    "            continue\n",
    "            \n",
    "        # untuk menambahkan word_1 jika tidak ada di model    \n",
    "        try:\n",
    "            word_vector = model.wv[word_1]\n",
    "        except:\n",
    "            if word_1 not in words_not_exist:\n",
    "                    words_not_exist.append(word_1)\n",
    "        \n",
    "        # untuk menambahkan word_2 jika tidak ada di model    \n",
    "        try:\n",
    "            word_vector = model.wv[word_2]\n",
    "        except:\n",
    "            if word_2 not in words_not_exist:\n",
    "                    words_not_exist.append(word_2)\n",
    "\n",
    "        # untuk menambahkan word_3 jika tidak ada di model    \n",
    "        try:\n",
    "            word_vector = model.wv[word_3]\n",
    "        except:\n",
    "            if word_3 not in words_not_exist:\n",
    "                    words_not_exist.append(word_3)\n",
    "        \n",
    "        # untuk menambahkan word_4 jika tidak ada di model    \n",
    "        try:\n",
    "            word_vector = model.wv[word_4]\n",
    "        except:\n",
    "            if word_4 not in words_not_exist:\n",
    "                    words_not_exist.append(word_4)\n",
    "    \n",
    "    print(\"persentase kata tidak ada pada model\", len(words_not_exist) / (len(words_not_exist) + len(words_exist)))\n",
    "    print(words_not_exist)"
   ]
  },
  {
   "cell_type": "code",
   "execution_count": 7,
   "id": "31ed4e63",
   "metadata": {},
   "outputs": [],
   "source": [
    "# Ambil file asli dari folder\n",
    "directory_path_real = '/Users/williamnehemia/Documents/Skripsi/TugasAkhir/WordEmbeddingModel/Data/Data_asli'\n",
    "\n",
    "files_real = os.listdir(directory_path_real)\n",
    "list_files_real = []\n",
    "\n",
    "# Ambil daftar nama file\n",
    "for file in files_real:\n",
    "    if '.DS_Store' not in file:\n",
    "        list_files_real.append(file)\n",
    "        \n",
    "all_text_real = \"\"\n",
    "for file in list_files_real:\n",
    "    with open('/Users/williamnehemia/Documents/Skripsi/TugasAkhir/WordEmbeddingModel/Data/Data_asli/' + file, 'r') as fileNow:\n",
    "        content = fileNow.read()\n",
    "        all_text_real += content\n"
   ]
  },
  {
   "cell_type": "code",
   "execution_count": 8,
   "id": "0397a3cf",
   "metadata": {},
   "outputs": [],
   "source": [
    "# Ambil file parafrasa dari folder\n",
    "directory_path_paraphrased = '/Users/williamnehemia/Documents/Skripsi/TugasAkhir/WordEmbeddingModel/Data/Data_parafrasa'\n",
    "\n",
    "files_paraphrased = os.listdir(directory_path_paraphrased)\n",
    "list_files_paraphrased = []\n",
    "\n",
    "# Ambil daftar nama file\n",
    "for file in files_paraphrased:\n",
    "    if '.DS_Store' not in file:\n",
    "        list_files_paraphrased.append(file)\n",
    "        \n",
    "all_text_paraphrased = \"\"\n",
    "for file in list_files_paraphrased:\n",
    "    with open('/Users/williamnehemia/Documents/Skripsi/TugasAkhir/WordEmbeddingModel/Data/Data_parafrasa/' + file, 'r') as fileNow:\n",
    "        content = fileNow.read()\n",
    "        all_text_paraphrased += content\n",
    "        \n"
   ]
  },
  {
   "cell_type": "code",
   "execution_count": 9,
   "id": "8c8f940e",
   "metadata": {},
   "outputs": [],
   "source": [
    "# Melakukan lowercase lagi\n",
    "all_text_real = all_text_real.lower()\n",
    "all_text_paraphrased = all_text_paraphrased.lower()"
   ]
  },
  {
   "cell_type": "code",
   "execution_count": 10,
   "id": "e01a53ba",
   "metadata": {},
   "outputs": [
    {
     "name": "stdout",
     "output_type": "stream",
     "text": [
      "['computer-aided structure-activity based prediction studies in drug design helps to treat diseases with novel biomarkers', ' prediction of activity spectra for substances(pass) database comprised 46,000 biologically well-known active drugs and screening are performed before the establishment of an in vitro experiment', ' pass gives the significant bioactivities of chemical compounds as pa(probable activity) and pi(probable inactivity) values to mention the compounds, whether they are active are inactive', ' the pa values higher than 0', '7 indicated this compound would be active in experiment and pi values indicate theirs inactivate possibilities', ' the admetsar chemoinformatics based tool used to predict absorption, metabolism, excretion, and toxicity of the particular compound', ' based on these criteria, the outcomes of an in vitro experiment will lower the risk of negative results[13,14]', '\\n\\n\\n\\nclc-pred tools performed to predict cytotoxicity of tumor cell lines, and it is based on structure-cell line cytotoxicity relationships designed by pass special training sets with leave-one-out cross-validation procedure', ' the accuracy of in silico prediction results significantly 96% matches with the results of in vivo experimental', ' the efficiency of compounds against cancer could be found and optimized using this pass based clc-pred database in the future to develop potential anti-cancer drugs']\n",
      "['the detection of pedestrians has broad applications in various fields such as autonomous driving, intelligent monitoring, and robotics, and has long been a focal point in the domain of computer vision', ' in recent years, there have been significant advancements in pedestrian detection technology due to the evolution of deep learning and the introduction of numerous large pedestrian datasets', ' these developments have notably enhanced detection accuracy and speed', ' however, contemporary pedestrian detection methods still struggle to match human performance, particularly when addressing challenges like occlusion and scale variations', ' consequently, solving the issues of occlusion and scale is a crucial objective in pedestrian detection research', '\\n\\nthis paper aims to review the progress in pedestrian detection research, focusing on methods for calculating the confidence of bounding boxes in regression and utilizing multiple convolution layers with different scales to improve multi-scale object detection and enhance accuracy', ' notably, the integration of convolutional neural networks (cnn) into object detection, as exemplified by the introduction of r-cnn by ross girshick et al', ' in 2014, has been pivotal', ' subsequent developments, such as the introduction of the region proposal network (rpn) in 2015, and the adoption of deep learning technologies in methods like faster r-cnn, mscnn, yolov4, csp, and saf-rcnn, have further advanced pedestrian detection capabilities', ' these newer approaches leverage deep features, providing superior generalization ability and robustness compared to hand-designed features']\n"
     ]
    }
   ],
   "source": [
    "# Memisahkan text per kalimat (menggunakan delimiter titik)\n",
    "list_of_sentences_real = []\n",
    "list_of_sentences_paraphrased = []\n",
    "\n",
    "list_of_sentences_real = all_text_real.split('.')\n",
    "list_of_sentences_paraphrased = all_text_paraphrased.split('.')\n",
    "\n",
    "print(list_of_sentences_real[0:10])\n",
    "print(list_of_sentences_paraphrased[0:10])"
   ]
  },
  {
   "cell_type": "code",
   "execution_count": 11,
   "id": "e70e6016",
   "metadata": {},
   "outputs": [
    {
     "name": "stdout",
     "output_type": "stream",
     "text": [
      "[['computer', 'aided', 'structure', 'activity', 'based', 'prediction', 'studies', 'in', 'drug', 'design', 'helps', 'to', 'treat', 'diseases', 'with', 'novel', 'biomarkers'], ['prediction', 'of', 'activity', 'spectra', 'for', 'substances', 'pass', 'database', 'comprised', 'biologically', 'well', 'known', 'active', 'drugs', 'and', 'screening', 'are', 'performed', 'before', 'the', 'establishment', 'of', 'an', 'in', 'vitro', 'experiment'], ['pass', 'gives', 'the', 'significant', 'bioactivities', 'of', 'chemical', 'compounds', 'as', 'pa', 'probable', 'activity', 'and', 'pi', 'probable', 'inactivity', 'values', 'to', 'mention', 'the', 'compounds', 'whether', 'they', 'are', 'active', 'are', 'inactive'], ['the', 'pa', 'values', 'higher', 'than'], ['indicated', 'this', 'compound', 'would', 'be', 'active', 'in', 'experiment', 'and', 'pi', 'values', 'indicate', 'theirs', 'inactivate', 'possibilities'], ['the', 'admetsar', 'chemoinformatics', 'based', 'tool', 'used', 'to', 'predict', 'absorption', 'metabolism', 'excretion', 'and', 'toxicity', 'of', 'the', 'particular', 'compound'], ['based', 'on', 'these', 'criteria', 'the', 'outcomes', 'of', 'an', 'in', 'vitro', 'experiment', 'will', 'lower', 'the', 'risk', 'of', 'negative', 'results'], ['clc', 'pred', 'tools', 'performed', 'to', 'predict', 'cytotoxicity', 'of', 'tumor', 'cell', 'lines', 'and', 'it', 'is', 'based', 'on', 'structure', 'cell', 'line', 'cytotoxicity', 'relationships', 'designed', 'by', 'pass', 'special', 'training', 'sets', 'with', 'leave', 'one', 'out', 'cross', 'validation', 'procedure'], ['the', 'accuracy', 'of', 'in', 'silico', 'prediction', 'results', 'significantly', 'matches', 'with', 'the', 'results', 'of', 'in', 'vivo', 'experimental'], ['the', 'efficiency', 'of', 'compounds', 'against', 'cancer', 'could', 'be', 'found', 'and', 'optimized', 'using', 'this', 'pass', 'based', 'clc', 'pred', 'database', 'in', 'the', 'future', 'to', 'develop', 'potential', 'anti', 'cancer', 'drugs']]\n"
     ]
    }
   ],
   "source": [
    "# melakukan tokenisasi dan menggabungkan teks asli dan parafrasa\n",
    "\n",
    "\n",
    "list_of_sentences_for_model = []\n",
    "\n",
    "tokenizer = RegexpTokenizer(r'[a-zA-Z]+')\n",
    "\n",
    "for sentence in list_of_sentences_real:\n",
    "    sentence_tokenized = tokenizer.tokenize(sentence)\n",
    "    list_of_sentences_for_model.append(sentence_tokenized)\n",
    "\n",
    "for sentence in list_of_sentences_paraphrased:\n",
    "    sentence_tokenized = tokenizer.tokenize(sentence)\n",
    "    list_of_sentences_for_model.append(sentence_tokenized)\n",
    "\n",
    "print(list_of_sentences_for_model[0:10])\n"
   ]
  },
  {
   "cell_type": "code",
   "execution_count": 107,
   "id": "98ed8338",
   "metadata": {},
   "outputs": [
    {
     "name": "stdout",
     "output_type": "stream",
     "text": [
      "Total training time: 0 hours 0 minutes 58 seconds\n"
     ]
    }
   ],
   "source": [
    "# Membuat model word embedding dengan teknik word2vec dengan cbow 1\n",
    "\n",
    "# waktu mulai\n",
    "start_time = time.time()\n",
    "\n",
    "model = Word2Vec(sentences=list_of_sentences_for_model, vector_size=20, min_count=1, workers = 10, compute_loss=True,  window=5, sg = 0, cbow_mean = 0, alpha = 0.01, seed = 10, epochs = 100)\n",
    "\n",
    "# waktu selesai\n",
    "end_time = time.time()\n",
    "\n",
    "# hitung waktu training\n",
    "training_time = end_time - start_time\n",
    "\n",
    "# convert ke jam, menit, detik\n",
    "hours = int(training_time // 3600)\n",
    "minutes = int((training_time % 3600) // 60)\n",
    "seconds = int(training_time % 60)\n",
    "\n",
    "print(\"Total training time:\", hours, \"hours\", minutes, \"minutes\", seconds, \"seconds\")\n",
    "\n"
   ]
  },
  {
   "cell_type": "code",
   "execution_count": 108,
   "id": "be904c34",
   "metadata": {},
   "outputs": [],
   "source": [
    "# save model word embedding dengan teknik word2vec dengan cbow 1\n",
    "model.save(\"/Users/williamnehemia/Documents/Skripsi/TugasAkhir/WordEmbeddingModel/ModelWord2vecSetelahPembagianData/word2vec_cbow_1.model\")\n"
   ]
  },
  {
   "cell_type": "code",
   "execution_count": 9,
   "id": "0ef8369b",
   "metadata": {},
   "outputs": [],
   "source": [
    "# load model word embedding dengan teknik word2vec dengan cbow 1\n",
    "model = Word2Vec.load(\"/Users/williamnehemia/Documents/Skripsi/TugasAkhir/WordEmbeddingModel/ModelWord2vecSetelahPembagianData/word2vec_cbow_1.model\")"
   ]
  },
  {
   "cell_type": "code",
   "execution_count": 14,
   "id": "db3172fb",
   "metadata": {},
   "outputs": [
    {
     "name": "stdout",
     "output_type": "stream",
     "text": [
      "persentase kata tidak ada pada model 0.2830188679245283\n",
      "['undatable', 'ebb', 'wrongdoer', 'hear', 'regiment', 'omnipotence', 'analogize', 're-argue', 'septic', 'unannounced', 'nightly', 'bounce', 'dictatorship', 'semiconducting', 'benefited', 'antonymous', 'sociable', 'schemer', 'notebook', 'withhold', 'apparition', 'transmissible', 'speculativeness', 'rubberstamp', 'enunciating', 'deformity', 'subserve', 'religionist', 'circumvolution', 'disjoined', 'subspecies', 'symbolist', 'attendances', 'passable', 'survivalist', 'walloper', 'badness', 'unfit', 'thrombosis', 'entertainer', 'lectureship', 'inflame', 'unbroken', 'filing', 'inexplicable', 'confess', 'socialites', 'interrelate', 'discipleship', 'vaporise', 'personify', 'arousal', 'deforming', 'excrete', 'pitch', 'sponge', 'improvise', 'toppled', 'unstuff', 'nonindulgent', 'pressurise', 'viscometry', 'run-down', 'heterosexual', 'shrewdness', 'unconsciousness', 'sprouting', 'representable', 'pastorship', 'lubricate', 'energized', 'unrealizable', 'transfigure', 'thinness', 'changeableness', 'internationalize', 'rampant', 'stewardship', 'encamping', 'outfoxed', 'drink', 'submarine', 'moderatorship', 'objectifying', 'amounted', 'internships', 'momentousness', 'primacy', 'commandership', 'corral', 'contrive', 'preempt', 'procreated', 'restrainer', 'cultist', 'skiing', 'customise', 'intelligences', 'americanize', 'protectorship', 'nonstandard', 'evacuated', 'horsemanship', 'outshout', 'complimentary', 'perceptible', 'incensing', 'blitzed', 'blessing', 'circumnavigations', 'sulfide', 'bench', 'revolutionise', 'mogul', 'scenery', 'agitation', 'fractionate', 'chairmanship', 'seeders', 'democratize', 'enunciates', 'rectorate', 'propriety', 'implantations', 'seafaring', 'monopolist', 'reform', 'usher', 'industrialise', 'personifying', 'subsequences', 'heedless', 'indicted', 'emulsifying', 'muster', 'convene', 'trusteeship', 'feminised', 'mushroomed', 'crosswise', 'managership', 'excitements', 'differentia', 'communicator', 'unwelcome', 'accommodative', 'defecation', 'glistens', 'orchestrations', 'weaponize', 'convocation', 'ship', 'impressionable', 'allergic', 'disassociates', 'apologize', 'objectify', 'displeased', 'scowl', 'abbreviate', 'slurred', 'nanosecond', 'civilise', 'businessperson', 'figurative', 'equatorial', 'nonpartisan', 'scar', 'defiant', 'homogenized', 'helplessness', 'reinterpret', 'deconstruct', 'cargo', 'transponder', 'aeronautical', 'philosophic', 'imitation', 'eldership', 'partnerships', 'subserving', 'cofactors', 'combusting', 'auditive', 'guest', 'fascinate', 'flaunt', 'reclaim', 'inclosure', 'donate', 'tailgate', 'autoregulation', 'explorers', 'regularise', 'sniffers', 'sailings', 'infolding', 'digitise', 'depressor', 'abductor', 'solemnity', 'rediscovery', 'submerging', 'acknowledgement', 'rompers', 'enfolding', 'discoverys', 'intercommunicate', 'nondescripts', 'unimpressed', 'photocopy', 'microbalance', 'reproachful', 'individualist', 'hydrolysed', 'stand-in', 'supplanting', 'transsexual', 'ejector', 'quadratics', 'piquancy', 'immobilizing', 'employments', 'concerts', 'besieging', 'irregardless', 'transubstantiate', 'immortalize', 'compel', 'ganging', 'londoners', 'transvestite', 'withdrawal', 'diver', 'quicken', 'concurrencies', 'emulsify', 'cylindric', 'sanskrit', 'incised', 'apprenticeship', 'snooper', 'fieldworker', 'resides', 'individualize', 'marginality', 'faze', 'animalize', 'forceps', 'consciousness', 'standardise', 'congruity', 'sandbag', 'brace', 'exceptionally']\n"
     ]
    }
   ],
   "source": [
    "# cek kata yang tidak ada pada model pada data relatedness\n",
    "words_not_exist_in_relatedness(model)"
   ]
  },
  {
   "cell_type": "code",
   "execution_count": 15,
   "id": "59333468",
   "metadata": {},
   "outputs": [
    {
     "name": "stdout",
     "output_type": "stream",
     "text": [
      "persentase kata tidak ada pada model 0.18736842105263157\n",
      "['inches', 'droplets', 'pennies', 'snip', 'puff', 'nanosecond', 'salary', 'hem', 'waning', 'hammer', 'screwdriver', 'chisel', 'apple', 'violin', 'shirt', 'clarinet', 'sock', 'sandal', 'fridge', 'sculpture', 'stool', 'ham', 'comedy', 'girl', 'utensil', 'twirl', 'trousers', 'sprint', 'ship', 'tidy', 'restroom', 'fantasize', 'dwelling', 'abode', 'doze', 'tunes', 'lavatory', 'monotonous', 'penis', 'dryness', 'hearing', 'evergreen', 'riches', 'camel', 'hair', 'deception', 'saints', 'horns', 'calories', 'penguin', 'ireland', 'atlantic', 'dallas', 'yale', 'memphis', 'erie', 'michigan', 'henry', 'camaro', 'rangers', 'honda', 'palomino', 'madonna', 'epilogue', 'applause', 'postscript', 'dessert', 'recoil', 'coiffing', 'cookies', 'foreword', 'scalpel', 'stethoscope', 'rifle', 'gun', 'chalk', 'gavel', 'sneakers', 'thermometer', 'geography', 'criminology', 'athlete', 'nanny', 'attorney', 'arborist', 'mug', 'vine', 'cloth', 'scarf', 'nail', 'stamp', 'fur', 'valuables', 'unhappiness', 'whereabouts', 'flower', 'clothes', 'biography', 'trophy', 'fairytale', 'seascape', 'chef', 'subordinate', 'soldier', 'debtor', 'shopper', 'suckle', 'cordiality', 'acknowledgement', 'sigh', 'slap', 'wink', 'waitress', 'bride', 'lawyer', 'speeder', 'dancer', 'disciple', 'revived', 'harmed', 'ugly', 'sturdy', 'doubted', 'inflexible', 'inexorable', 'cheered', 'stretched', 'worn', 'shattered', 'dusted', 'repaired', 'squeezed', 'sewn', 'halved', 'icy', 'cuddled', 'dirtied', 'loving', 'photogenic', 'dirty', 'peaceful', 'mediocre', 'dumb', 'sour', 'sad', 'meek', 'dull', 'uninformed', 'stagnant', 'reparable', 'fun', 'flour', 'meals', 'cocktail', 'marina', 'gym', 'aquarium', 'unbreakable', 'chubby', 'reclusive', 'imprisoned', 'clumsy', 'funny', 'philandering', 'inexperience', 'flimsy', 'shiny', 'fizzy', 'furry', 'bald', 'charming', 'deed', 'paycheck', 'baton', 'husband', 'leash', 'descend', 'starboard', 'worship', 'praying', 'prayer', 'dancing', 'stadium', 'royalty', 'happiness', 'christianity', 'wedding', 'faith', 'sovereignty', 'dinner', 'glare', 'cry', 'flashlight', 'television', 'paint', 'shower', 'fireplace', 'firework', 'barbeque', 'apartment', 'bathtub', 'coffin', 'acne', 'mortgage', 'retirement', 'dorm', 'parenthood', 'messy', 'tarnished', 'thawed', 'battered', 'marketed', 'apologize', 'burn', 'roar', 'shine', 'knead', 'stillness', 'incapability', 'pale', 'unorganized', 'sledding', 'snow', 'snowstorms', 'equinox', 'puberty', 'christmas', 'celebration', 'breeze', 'halloween', 'holidays', 'moon', 'gestation', 'drink', 'sweat', 'flee', 'yell', 'medicate', 'breathe', 'sing', 'clumsiness', 'tiredness', 'weapon', 'hymnal', 'pew', 'potholder', 'dollar', 'cake', 'chlorophyll', 'casino', 'hotel', 'sport', 'happy', 'restorative', 'angry', 'tired', 'loudly', 'hideous', 'foolish', 'stupid', 'bored', 'survive', 'rot', 'illuminate', 'scrape', 'cushion', 'surround', 'permeable', 'grief', 'sickness', 'cleanliness', 'burns', 'boredom', 'warmth', 'fullness', 'headache', 'sneeze', 'cliff', 'grout', 'beach', 'sticky', 'burnt', 'blister', 'defeated', 'poisoned', 'cough', 'smash', 'sewing', 'baking', 'exercising', 'symphony', 'basketball', 'golf', 'snowing', 'cockpit', 'bedroom', 'roof', 'lobby', 'nave', 'foyer', 'sanctuary', 'legs', 'agony', 'beer', 'meadow', 'silt', 'pony', 'sapling', 'peal', 'bricks', 'silicone', 'believers', 'plaster', 'feathers', 'bread', 'beehive', 'milk', 'scholar', 'refinery', 'salmon', 'magazine', 'pecan', 'goose', 'bitch', 'cassette', 'parchment', 'ramp', 'vase', 'autobiography', 'bowl', 'bench', 'musician', 'antelopes', 'elephant', 'army', 'gaggle', 'garden', 'blackmail', 'grope', 'gossip', 'gorge', 'sneer', 'shove', 'poison', 'whine', 'infringement', 'toe', 'lobes', 'whiskers', 'stripes', 'lashes', 'ashes', 'raisin', 'lamb', 'duckling', 'regret']\n"
     ]
    }
   ],
   "source": [
    "# cek kata yang tidak ada pada model pada data analogi kata\n",
    "words_not_exist_in_word_analogy(model)"
   ]
  },
  {
   "cell_type": "code",
   "execution_count": 110,
   "id": "d293b2b2",
   "metadata": {},
   "outputs": [
    {
     "name": "stdout",
     "output_type": "stream",
     "text": [
      "14459750.0\n"
     ]
    }
   ],
   "source": [
    "# Melihat training loss model word embedding dengan teknik word2vec dengan cbow 1\n",
    "training_loss = model.get_latest_training_loss()\n",
    "print(training_loss)"
   ]
  },
  {
   "cell_type": "code",
   "execution_count": 111,
   "id": "a1e3586d",
   "metadata": {},
   "outputs": [
    {
     "name": "stdout",
     "output_type": "stream",
     "text": [
      "banyak kata ada di model 646\n",
      "banyak kata tidak ada di model 255\n",
      "-0.014615062367807321\n"
     ]
    }
   ],
   "source": [
    "# nilai relatedness model cbow 1\n",
    "print(relatedness(model))"
   ]
  },
  {
   "cell_type": "code",
   "execution_count": 112,
   "id": "4f86ab9a",
   "metadata": {},
   "outputs": [
    {
     "name": "stdout",
     "output_type": "stream",
     "text": [
      "true_predicted 5 0.0026041666666666665\n",
      "false_predicted 1915 0.9973958333333334\n",
      "banyak kata ada di model 1544\n",
      "banyak kata tidak ada di model 356\n"
     ]
    }
   ],
   "source": [
    "# nilai word analogy model cbow 1\n",
    "word_analogy(model)"
   ]
  },
  {
   "cell_type": "code",
   "execution_count": 10,
   "id": "c0f11a22",
   "metadata": {},
   "outputs": [
    {
     "name": "stdout",
     "output_type": "stream",
     "text": [
      "banyak kata ada di model 194\n",
      "banyak kata tidak ada di model 36\n",
      "0.010865261179889186\n"
     ]
    }
   ],
   "source": [
    "# nilai relatedness word sim sim model cbow 1\n",
    "print(relatedness_wordsim_sim(model))"
   ]
  },
  {
   "cell_type": "code",
   "execution_count": 11,
   "id": "3ae1f0b9",
   "metadata": {},
   "outputs": [
    {
     "name": "stdout",
     "output_type": "stream",
     "text": [
      "true_predicted 58 0.009631351710395218\n",
      "false_predicted 5964 0.9903686482896048\n",
      "banyak kata ada di model 511\n",
      "banyak kata tidak ada di model 79\n"
     ]
    }
   ],
   "source": [
    "# nilai word analogy google analogy model cbow 1\n",
    "word_analogy_google_analogy(model)"
   ]
  },
  {
   "cell_type": "code",
   "execution_count": 113,
   "id": "52e108c4",
   "metadata": {},
   "outputs": [
    {
     "name": "stdout",
     "output_type": "stream",
     "text": [
      "Total training time: 0 hours 2 minutes 51 seconds\n"
     ]
    }
   ],
   "source": [
    "# Membuat model word embedding dengan teknik word2vec dengan sg 1\n",
    "\n",
    "# waktu mulai\n",
    "start_time = time.time()\n",
    "\n",
    "model = Word2Vec(sentences=list_of_sentences_for_model, vector_size=20, min_count=1, workers = 10, compute_loss=True,  window=5, sg = 1, alpha = 0.01, seed = 10, epochs = 100)\n",
    "\n",
    "\n",
    "# waktu selesai\n",
    "end_time = time.time()\n",
    "\n",
    "# hitung waktu training\n",
    "training_time = end_time - start_time\n",
    "\n",
    "# convert ke jam, menit, detik\n",
    "hours = int(training_time // 3600)\n",
    "minutes = int((training_time % 3600) // 60)\n",
    "seconds = int(training_time % 60)\n",
    "\n",
    "print(\"Total training time:\", hours, \"hours\", minutes, \"minutes\", seconds, \"seconds\")\n",
    "\n"
   ]
  },
  {
   "cell_type": "code",
   "execution_count": 114,
   "id": "84292822",
   "metadata": {},
   "outputs": [],
   "source": [
    "# save model word embedding dengan teknik word2vec dengan sg 1\n",
    "model.save(\"/Users/williamnehemia/Documents/Skripsi/TugasAkhir/WordEmbeddingModel/ModelWord2vecSetelahPembagianData/word2vec_sg_1.model\")\n"
   ]
  },
  {
   "cell_type": "code",
   "execution_count": 12,
   "id": "8576e6c2",
   "metadata": {},
   "outputs": [],
   "source": [
    "# load model word embedding dengan teknik word2vec dengan sg 1\n",
    "model = Word2Vec.load(\"/Users/williamnehemia/Documents/Skripsi/TugasAkhir/WordEmbeddingModel/ModelWord2vecSetelahPembagianData/word2vec_sg_1.model\")\n"
   ]
  },
  {
   "cell_type": "code",
   "execution_count": 116,
   "id": "3dbe3159",
   "metadata": {},
   "outputs": [
    {
     "name": "stdout",
     "output_type": "stream",
     "text": [
      "45895132.0\n"
     ]
    }
   ],
   "source": [
    "# Melihat training loss model word embedding dengan teknik word2vec dengan sg 1\n",
    "training_loss = model.get_latest_training_loss()\n",
    "print(training_loss)"
   ]
  },
  {
   "cell_type": "code",
   "execution_count": 117,
   "id": "5aa17c70",
   "metadata": {},
   "outputs": [
    {
     "name": "stdout",
     "output_type": "stream",
     "text": [
      "banyak kata ada di model 646\n",
      "banyak kata tidak ada di model 255\n",
      "0.21749188332567632\n"
     ]
    }
   ],
   "source": [
    "# nilai relatedness model sg 1\n",
    "print(relatedness(model))"
   ]
  },
  {
   "cell_type": "code",
   "execution_count": 118,
   "id": "3b69a698",
   "metadata": {},
   "outputs": [
    {
     "name": "stdout",
     "output_type": "stream",
     "text": [
      "true_predicted 6 0.003125\n",
      "false_predicted 1914 0.996875\n",
      "banyak kata ada di model 1544\n",
      "banyak kata tidak ada di model 356\n"
     ]
    }
   ],
   "source": [
    "# nilai word analogy model sg 1\n",
    "word_analogy(model)"
   ]
  },
  {
   "cell_type": "code",
   "execution_count": 13,
   "id": "c7e36efc",
   "metadata": {},
   "outputs": [
    {
     "name": "stdout",
     "output_type": "stream",
     "text": [
      "banyak kata ada di model 194\n",
      "banyak kata tidak ada di model 36\n",
      "0.29231812284248526\n"
     ]
    }
   ],
   "source": [
    "# nilai relatedness word sim sim model sg 1\n",
    "print(relatedness_wordsim_sim(model))"
   ]
  },
  {
   "cell_type": "code",
   "execution_count": 14,
   "id": "47aed444",
   "metadata": {},
   "outputs": [
    {
     "name": "stdout",
     "output_type": "stream",
     "text": [
      "true_predicted 57 0.009465293922284955\n",
      "false_predicted 5965 0.9905347060777151\n",
      "banyak kata ada di model 511\n",
      "banyak kata tidak ada di model 79\n"
     ]
    }
   ],
   "source": [
    "# nilai word analogy google analogy model sg 1\n",
    "word_analogy_google_analogy(model)"
   ]
  },
  {
   "cell_type": "code",
   "execution_count": 119,
   "id": "701a1b2a",
   "metadata": {},
   "outputs": [
    {
     "name": "stdout",
     "output_type": "stream",
     "text": [
      "Total training time: 0 hours 0 minutes 28 seconds\n"
     ]
    }
   ],
   "source": [
    "# Membuat model word embedding dengan teknik word2vec dengan cbow 2\n",
    "\n",
    "# waktu mulai\n",
    "start_time = time.time()\n",
    "\n",
    "model = Word2Vec(sentences=list_of_sentences_for_model, vector_size=20, min_count=1, workers = 10, compute_loss=True,  window=5, sg = 0, cbow_mean = 0, alpha = 0.001, seed = 10, epochs = 100)\n",
    "\n",
    "# waktu selesai\n",
    "end_time = time.time()\n",
    "\n",
    "# hitung waktu training\n",
    "training_time = end_time - start_time\n",
    "\n",
    "# convert ke jam, menit, detik\n",
    "hours = int(training_time // 3600)\n",
    "minutes = int((training_time % 3600) // 60)\n",
    "seconds = int(training_time % 60)\n",
    "\n",
    "print(\"Total training time:\", hours, \"hours\", minutes, \"minutes\", seconds, \"seconds\")\n",
    "\n"
   ]
  },
  {
   "cell_type": "code",
   "execution_count": 120,
   "id": "28dc3907",
   "metadata": {},
   "outputs": [],
   "source": [
    "# save model word embedding dengan teknik word2vec dengan cbow 2\n",
    "model.save(\"/Users/williamnehemia/Documents/Skripsi/TugasAkhir/WordEmbeddingModel/ModelWord2vecSetelahPembagianData/word2vec_cbow_2.model\")\n"
   ]
  },
  {
   "cell_type": "code",
   "execution_count": 15,
   "id": "e1697af9",
   "metadata": {},
   "outputs": [],
   "source": [
    "# load model word embedding dengan teknik word2vec dengan cbow 2\n",
    "model = Word2Vec.load(\"/Users/williamnehemia/Documents/Skripsi/TugasAkhir/WordEmbeddingModel/ModelWord2vecSetelahPembagianData/word2vec_cbow_2.model\")\n"
   ]
  },
  {
   "cell_type": "code",
   "execution_count": 122,
   "id": "efb394d1",
   "metadata": {},
   "outputs": [
    {
     "name": "stdout",
     "output_type": "stream",
     "text": [
      "16990444.0\n"
     ]
    }
   ],
   "source": [
    "# Melihat training loss model word embedding dengan teknik word2vec dengan cbow 2\n",
    "training_loss = model.get_latest_training_loss()\n",
    "print(training_loss)\n"
   ]
  },
  {
   "cell_type": "code",
   "execution_count": 123,
   "id": "dca731d5",
   "metadata": {},
   "outputs": [
    {
     "name": "stdout",
     "output_type": "stream",
     "text": [
      "banyak kata ada di model 646\n",
      "banyak kata tidak ada di model 255\n",
      "-0.03805784519922117\n"
     ]
    }
   ],
   "source": [
    "# nilai relatedness model cbow 2\n",
    "print(relatedness(model))\n"
   ]
  },
  {
   "cell_type": "code",
   "execution_count": 124,
   "id": "b9946d82",
   "metadata": {},
   "outputs": [
    {
     "name": "stdout",
     "output_type": "stream",
     "text": [
      "true_predicted 1 0.0005208333333333333\n",
      "false_predicted 1919 0.9994791666666667\n",
      "banyak kata ada di model 1544\n",
      "banyak kata tidak ada di model 356\n"
     ]
    }
   ],
   "source": [
    "# nilai word analogy model cbow 2\n",
    "word_analogy(model)\n"
   ]
  },
  {
   "cell_type": "code",
   "execution_count": 16,
   "id": "3aa58466",
   "metadata": {},
   "outputs": [
    {
     "name": "stdout",
     "output_type": "stream",
     "text": [
      "banyak kata ada di model 194\n",
      "banyak kata tidak ada di model 36\n",
      "0.03792042147293738\n"
     ]
    }
   ],
   "source": [
    "# nilai relatedness word sim sim model cbow 2\n",
    "print(relatedness_wordsim_sim(model))"
   ]
  },
  {
   "cell_type": "code",
   "execution_count": 17,
   "id": "1df3c433",
   "metadata": {},
   "outputs": [
    {
     "name": "stdout",
     "output_type": "stream",
     "text": [
      "true_predicted 9 0.0014945200929923613\n",
      "false_predicted 6013 0.9985054799070077\n",
      "banyak kata ada di model 511\n",
      "banyak kata tidak ada di model 79\n"
     ]
    }
   ],
   "source": [
    "# nilai word analogy google analogy model cbow 2\n",
    "word_analogy_google_analogy(model)"
   ]
  },
  {
   "cell_type": "code",
   "execution_count": 125,
   "id": "8c668623",
   "metadata": {},
   "outputs": [
    {
     "name": "stdout",
     "output_type": "stream",
     "text": [
      "Total training time: 0 hours 1 minutes 18 seconds\n"
     ]
    }
   ],
   "source": [
    "# Membuat model word embedding dengan teknik word2vec dengan sg 2\n",
    "\n",
    "# waktu mulai\n",
    "start_time = time.time()\n",
    "\n",
    "model = Word2Vec(sentences=list_of_sentences_for_model, vector_size=20, min_count=1, workers = 10, compute_loss=True,  window=5, sg = 1, alpha = 0.001, seed = 10, epochs = 100)\n",
    "\n",
    "\n",
    "# waktu selesai\n",
    "end_time = time.time()\n",
    "\n",
    "# hitung waktu training\n",
    "training_time = end_time - start_time\n",
    "\n",
    "# convert ke jam, menit, detik\n",
    "hours = int(training_time // 3600)\n",
    "minutes = int((training_time % 3600) // 60)\n",
    "seconds = int(training_time % 60)\n",
    "\n",
    "print(\"Total training time:\", hours, \"hours\", minutes, \"minutes\", seconds, \"seconds\")\n",
    "\n"
   ]
  },
  {
   "cell_type": "code",
   "execution_count": 126,
   "id": "a3bd25a2",
   "metadata": {},
   "outputs": [],
   "source": [
    "# save model word embedding dengan teknik word2vec dengan sg 2\n",
    "model.save(\"/Users/williamnehemia/Documents/Skripsi/TugasAkhir/WordEmbeddingModel/ModelWord2vecSetelahPembagianData/word2vec_sg_2.model\")\n"
   ]
  },
  {
   "cell_type": "code",
   "execution_count": 18,
   "id": "54f45fda",
   "metadata": {},
   "outputs": [],
   "source": [
    "# load model word embedding dengan teknik word2vec dengan sg 2\n",
    "model = Word2Vec.load(\"/Users/williamnehemia/Documents/Skripsi/TugasAkhir/WordEmbeddingModel/ModelWord2vecSetelahPembagianData/word2vec_sg_2.model\")\n"
   ]
  },
  {
   "cell_type": "code",
   "execution_count": 128,
   "id": "b217bf59",
   "metadata": {},
   "outputs": [
    {
     "name": "stdout",
     "output_type": "stream",
     "text": [
      "49390352.0\n"
     ]
    }
   ],
   "source": [
    "# Melihat training loss model word embedding dengan teknik word2vec dengan sg 2\n",
    "training_loss = model.get_latest_training_loss()\n",
    "print(training_loss)"
   ]
  },
  {
   "cell_type": "code",
   "execution_count": 129,
   "id": "4572550b",
   "metadata": {},
   "outputs": [
    {
     "name": "stdout",
     "output_type": "stream",
     "text": [
      "banyak kata ada di model 646\n",
      "banyak kata tidak ada di model 255\n",
      "0.18296383373385983\n"
     ]
    }
   ],
   "source": [
    "# nilai relatedness model sg 2\n",
    "print(relatedness(model))"
   ]
  },
  {
   "cell_type": "code",
   "execution_count": 130,
   "id": "43d821ed",
   "metadata": {},
   "outputs": [
    {
     "name": "stdout",
     "output_type": "stream",
     "text": [
      "true_predicted 7 0.0036458333333333334\n",
      "false_predicted 1913 0.9963541666666667\n",
      "banyak kata ada di model 1544\n",
      "banyak kata tidak ada di model 356\n"
     ]
    }
   ],
   "source": [
    "# nilai word analogy model sg 2\n",
    "word_analogy(model)"
   ]
  },
  {
   "cell_type": "code",
   "execution_count": 19,
   "id": "760a5ce6",
   "metadata": {},
   "outputs": [
    {
     "name": "stdout",
     "output_type": "stream",
     "text": [
      "banyak kata ada di model 194\n",
      "banyak kata tidak ada di model 36\n",
      "0.34173976225128544\n"
     ]
    }
   ],
   "source": [
    "# nilai relatedness word sim sim model sg 2\n",
    "print(relatedness_wordsim_sim(model))"
   ]
  },
  {
   "cell_type": "code",
   "execution_count": 20,
   "id": "d0d44b92",
   "metadata": {},
   "outputs": [
    {
     "name": "stdout",
     "output_type": "stream",
     "text": [
      "true_predicted 61 0.010129525074726005\n",
      "false_predicted 5961 0.989870474925274\n",
      "banyak kata ada di model 511\n",
      "banyak kata tidak ada di model 79\n"
     ]
    }
   ],
   "source": [
    "# nilai word analogy google analogy model sg 2\n",
    "word_analogy_google_analogy(model)"
   ]
  },
  {
   "cell_type": "code",
   "execution_count": 131,
   "id": "d60533a2",
   "metadata": {},
   "outputs": [
    {
     "name": "stdout",
     "output_type": "stream",
     "text": [
      "Total training time: 0 hours 1 minutes 0 seconds\n"
     ]
    }
   ],
   "source": [
    "# Membuat model word embedding dengan teknik word2vec dengan cbow 3\n",
    "\n",
    "# waktu mulai\n",
    "start_time = time.time()\n",
    "\n",
    "model = Word2Vec(sentences=list_of_sentences_for_model, vector_size=20, min_count=1, workers = 10, compute_loss=True,  window=5, sg = 0, cbow_mean = 0, alpha = 0.1, seed = 10, epochs = 100)\n",
    "\n",
    "# waktu selesai\n",
    "end_time = time.time()\n",
    "\n",
    "# hitung waktu training\n",
    "training_time = end_time - start_time\n",
    "\n",
    "# convert ke jam, menit, detik\n",
    "hours = int(training_time // 3600)\n",
    "minutes = int((training_time % 3600) // 60)\n",
    "seconds = int(training_time % 60)\n",
    "\n",
    "print(\"Total training time:\", hours, \"hours\", minutes, \"minutes\", seconds, \"seconds\")\n",
    "\n"
   ]
  },
  {
   "cell_type": "code",
   "execution_count": 132,
   "id": "5c43de0b",
   "metadata": {},
   "outputs": [],
   "source": [
    "# save model word embedding dengan teknik word2vec dengan cbow 3\n",
    "model.save(\"/Users/williamnehemia/Documents/Skripsi/TugasAkhir/WordEmbeddingModel/ModelWord2vecSetelahPembagianData/word2vec_cbow_3.model\")\n"
   ]
  },
  {
   "cell_type": "code",
   "execution_count": 21,
   "id": "f6b8d14b",
   "metadata": {},
   "outputs": [],
   "source": [
    "# load model word embedding dengan teknik word2vec dengan cbow 3\n",
    "model = Word2Vec.load(\"/Users/williamnehemia/Documents/Skripsi/TugasAkhir/WordEmbeddingModel/ModelWord2vecSetelahPembagianData/word2vec_cbow_3.model\")\n"
   ]
  },
  {
   "cell_type": "code",
   "execution_count": 134,
   "id": "ea8c93d3",
   "metadata": {},
   "outputs": [
    {
     "name": "stdout",
     "output_type": "stream",
     "text": [
      "13958812.0\n"
     ]
    }
   ],
   "source": [
    "# Melihat training loss model word embedding dengan teknik word2vec dengan cbow 3\n",
    "training_loss = model.get_latest_training_loss()\n",
    "print(training_loss)\n"
   ]
  },
  {
   "cell_type": "code",
   "execution_count": 135,
   "id": "af7253b4",
   "metadata": {},
   "outputs": [
    {
     "name": "stdout",
     "output_type": "stream",
     "text": [
      "banyak kata ada di model 646\n",
      "banyak kata tidak ada di model 255\n",
      "-0.02875774621629753\n"
     ]
    }
   ],
   "source": [
    "# nilai relatedness model cbow 3\n",
    "print(relatedness(model))\n"
   ]
  },
  {
   "cell_type": "code",
   "execution_count": 136,
   "id": "b74e6794",
   "metadata": {},
   "outputs": [
    {
     "name": "stdout",
     "output_type": "stream",
     "text": [
      "true_predicted 3 0.0015625\n",
      "false_predicted 1917 0.9984375\n",
      "banyak kata ada di model 1544\n",
      "banyak kata tidak ada di model 356\n"
     ]
    }
   ],
   "source": [
    "# nilai word analogy model cbow 3\n",
    "word_analogy(model)\n"
   ]
  },
  {
   "cell_type": "code",
   "execution_count": 22,
   "id": "e016c39a",
   "metadata": {},
   "outputs": [
    {
     "name": "stdout",
     "output_type": "stream",
     "text": [
      "banyak kata ada di model 194\n",
      "banyak kata tidak ada di model 36\n",
      "0.052034461741125845\n"
     ]
    }
   ],
   "source": [
    "# nilai relatedness word sim sim model cbow 3\n",
    "print(relatedness_wordsim_sim(model))"
   ]
  },
  {
   "cell_type": "code",
   "execution_count": 23,
   "id": "ebe0ea0e",
   "metadata": {},
   "outputs": [
    {
     "name": "stdout",
     "output_type": "stream",
     "text": [
      "true_predicted 62 0.010295582862836267\n",
      "false_predicted 5960 0.9897044171371637\n",
      "banyak kata ada di model 511\n",
      "banyak kata tidak ada di model 79\n"
     ]
    }
   ],
   "source": [
    "# nilai word analogy google analogy model cbow 3\n",
    "word_analogy_google_analogy(model)"
   ]
  },
  {
   "cell_type": "code",
   "execution_count": 137,
   "id": "6a0a5097",
   "metadata": {},
   "outputs": [
    {
     "name": "stdout",
     "output_type": "stream",
     "text": [
      "Total training time: 0 hours 2 minutes 51 seconds\n"
     ]
    }
   ],
   "source": [
    "# Membuat model word embedding dengan teknik word2vec dengan sg 3\n",
    "\n",
    "# waktu mulai\n",
    "start_time = time.time()\n",
    "\n",
    "model = Word2Vec(sentences=list_of_sentences_for_model, vector_size=20, min_count=1, workers = 10, compute_loss=True,  window=5, sg = 1, alpha = 0.1, seed = 10, epochs = 100)\n",
    "\n",
    "\n",
    "# waktu selesai\n",
    "end_time = time.time()\n",
    "\n",
    "# hitung waktu training\n",
    "training_time = end_time - start_time\n",
    "\n",
    "# convert ke jam, menit, detik\n",
    "hours = int(training_time // 3600)\n",
    "minutes = int((training_time % 3600) // 60)\n",
    "seconds = int(training_time % 60)\n",
    "\n",
    "print(\"Total training time:\", hours, \"hours\", minutes, \"minutes\", seconds, \"seconds\")\n",
    "\n"
   ]
  },
  {
   "cell_type": "code",
   "execution_count": 138,
   "id": "f43dfd2b",
   "metadata": {},
   "outputs": [],
   "source": [
    "# save model word embedding dengan teknik word2vec dengan sg 3\n",
    "model.save(\"/Users/williamnehemia/Documents/Skripsi/TugasAkhir/WordEmbeddingModel/ModelWord2vecSetelahPembagianData/word2vec_sg_3.model\")\n"
   ]
  },
  {
   "cell_type": "code",
   "execution_count": 24,
   "id": "0c1cc94a",
   "metadata": {},
   "outputs": [],
   "source": [
    "# load model word embedding dengan teknik word2vec dengan sg 3\n",
    "model = Word2Vec.load(\"/Users/williamnehemia/Documents/Skripsi/TugasAkhir/WordEmbeddingModel/ModelWord2vecSetelahPembagianData/word2vec_sg_3.model\")\n"
   ]
  },
  {
   "cell_type": "code",
   "execution_count": 140,
   "id": "c33dc5ee",
   "metadata": {},
   "outputs": [
    {
     "name": "stdout",
     "output_type": "stream",
     "text": [
      "45273248.0\n"
     ]
    }
   ],
   "source": [
    "# Melihat training loss model word embedding dengan teknik word2vec dengan sg 3\n",
    "training_loss = model.get_latest_training_loss()\n",
    "print(training_loss)"
   ]
  },
  {
   "cell_type": "code",
   "execution_count": 141,
   "id": "5d1ea0df",
   "metadata": {},
   "outputs": [
    {
     "name": "stdout",
     "output_type": "stream",
     "text": [
      "banyak kata ada di model 646\n",
      "banyak kata tidak ada di model 255\n",
      "0.14590797152822502\n"
     ]
    }
   ],
   "source": [
    "# nilai relatedness model sg 3\n",
    "print(relatedness(model))"
   ]
  },
  {
   "cell_type": "code",
   "execution_count": 142,
   "id": "5d2ac0e7",
   "metadata": {},
   "outputs": [
    {
     "name": "stdout",
     "output_type": "stream",
     "text": [
      "true_predicted 3 0.0015625\n",
      "false_predicted 1917 0.9984375\n",
      "banyak kata ada di model 1544\n",
      "banyak kata tidak ada di model 356\n"
     ]
    }
   ],
   "source": [
    "# nilai word analogy model sg 3\n",
    "word_analogy(model)"
   ]
  },
  {
   "cell_type": "code",
   "execution_count": 25,
   "id": "055051a9",
   "metadata": {},
   "outputs": [
    {
     "name": "stdout",
     "output_type": "stream",
     "text": [
      "banyak kata ada di model 194\n",
      "banyak kata tidak ada di model 36\n",
      "0.24944503814260224\n"
     ]
    }
   ],
   "source": [
    "# nilai relatedness word sim sim model sg 3\n",
    "print(relatedness_wordsim_sim(model))"
   ]
  },
  {
   "cell_type": "code",
   "execution_count": 26,
   "id": "2ef2b0f7",
   "metadata": {},
   "outputs": [
    {
     "name": "stdout",
     "output_type": "stream",
     "text": [
      "true_predicted 41 0.006808369312520757\n",
      "false_predicted 5981 0.9931916306874793\n",
      "banyak kata ada di model 511\n",
      "banyak kata tidak ada di model 79\n"
     ]
    }
   ],
   "source": [
    "# nilai word analogy google analogy model sg 3\n",
    "word_analogy_google_analogy(model)"
   ]
  },
  {
   "cell_type": "code",
   "execution_count": 143,
   "id": "f0517ea9",
   "metadata": {},
   "outputs": [
    {
     "name": "stdout",
     "output_type": "stream",
     "text": [
      "Total training time: 0 hours 0 minutes 53 seconds\n"
     ]
    }
   ],
   "source": [
    "# Membuat model word embedding dengan teknik word2vec dengan cbow 4\n",
    "\n",
    "# waktu mulai\n",
    "start_time = time.time()\n",
    "\n",
    "model = Word2Vec(sentences=list_of_sentences_for_model, vector_size=10, min_count=1, workers = 10, compute_loss=True,  window=5, sg = 0, cbow_mean = 0, alpha = 0.01, seed = 10, epochs = 100)\n",
    "\n",
    "# waktu selesai\n",
    "end_time = time.time()\n",
    "\n",
    "# hitung waktu training\n",
    "training_time = end_time - start_time\n",
    "\n",
    "# convert ke jam, menit, detik\n",
    "hours = int(training_time // 3600)\n",
    "minutes = int((training_time % 3600) // 60)\n",
    "seconds = int(training_time % 60)\n",
    "\n",
    "print(\"Total training time:\", hours, \"hours\", minutes, \"minutes\", seconds, \"seconds\")\n",
    "\n"
   ]
  },
  {
   "cell_type": "code",
   "execution_count": 144,
   "id": "ec3a4f59",
   "metadata": {},
   "outputs": [],
   "source": [
    "# save model word embedding dengan teknik word2vec dengan cbow 4\n",
    "model.save(\"/Users/williamnehemia/Documents/Skripsi/TugasAkhir/WordEmbeddingModel/ModelWord2vecSetelahPembagianData/word2vec_cbow_4.model\")\n"
   ]
  },
  {
   "cell_type": "code",
   "execution_count": 27,
   "id": "1ebad3e6",
   "metadata": {},
   "outputs": [],
   "source": [
    "# load model word embedding dengan teknik word2vec dengan cbow 4\n",
    "model = Word2Vec.load(\"/Users/williamnehemia/Documents/Skripsi/TugasAkhir/WordEmbeddingModel/ModelWord2vecSetelahPembagianData/word2vec_cbow_4.model\")\n"
   ]
  },
  {
   "cell_type": "code",
   "execution_count": 146,
   "id": "a132126f",
   "metadata": {},
   "outputs": [
    {
     "name": "stdout",
     "output_type": "stream",
     "text": [
      "15350427.0\n"
     ]
    }
   ],
   "source": [
    "# Melihat training loss model word embedding dengan teknik word2vec dengan cbow 4\n",
    "training_loss = model.get_latest_training_loss()\n",
    "print(training_loss)\n"
   ]
  },
  {
   "cell_type": "code",
   "execution_count": 147,
   "id": "3bf7f669",
   "metadata": {},
   "outputs": [
    {
     "name": "stdout",
     "output_type": "stream",
     "text": [
      "banyak kata ada di model 646\n",
      "banyak kata tidak ada di model 255\n",
      "-0.0027476683873612164\n"
     ]
    }
   ],
   "source": [
    "# nilai relatedness model cbow 4\n",
    "print(relatedness(model))\n"
   ]
  },
  {
   "cell_type": "code",
   "execution_count": 148,
   "id": "96b62e18",
   "metadata": {},
   "outputs": [
    {
     "name": "stdout",
     "output_type": "stream",
     "text": [
      "true_predicted 3 0.0015625\n",
      "false_predicted 1917 0.9984375\n",
      "banyak kata ada di model 1544\n",
      "banyak kata tidak ada di model 356\n"
     ]
    }
   ],
   "source": [
    "# nilai word analogy model cbow 4\n",
    "word_analogy(model)\n"
   ]
  },
  {
   "cell_type": "code",
   "execution_count": 28,
   "id": "a71954e0",
   "metadata": {},
   "outputs": [
    {
     "name": "stdout",
     "output_type": "stream",
     "text": [
      "banyak kata ada di model 194\n",
      "banyak kata tidak ada di model 36\n",
      "0.058313034808356125\n"
     ]
    }
   ],
   "source": [
    "# nilai relatedness word sim sim model cbow 4\n",
    "print(relatedness_wordsim_sim(model))"
   ]
  },
  {
   "cell_type": "code",
   "execution_count": 29,
   "id": "286dcec0",
   "metadata": {},
   "outputs": [
    {
     "name": "stdout",
     "output_type": "stream",
     "text": [
      "true_predicted 17 0.0028229823978744603\n",
      "false_predicted 6005 0.9971770176021255\n",
      "banyak kata ada di model 511\n",
      "banyak kata tidak ada di model 79\n"
     ]
    }
   ],
   "source": [
    "# nilai word analogy google analogy model cbow 4\n",
    "word_analogy_google_analogy(model)"
   ]
  },
  {
   "cell_type": "code",
   "execution_count": 149,
   "id": "66a64360",
   "metadata": {},
   "outputs": [
    {
     "name": "stdout",
     "output_type": "stream",
     "text": [
      "Total training time: 0 hours 3 minutes 3 seconds\n"
     ]
    }
   ],
   "source": [
    "# Membuat model word embedding dengan teknik word2vec dengan sg 4\n",
    "\n",
    "# waktu mulai\n",
    "start_time = time.time()\n",
    "\n",
    "model = Word2Vec(sentences=list_of_sentences_for_model, vector_size=10, min_count=1, workers = 10, compute_loss=True,  window=5, sg = 1, alpha = 0.01, seed = 10, epochs = 100)\n",
    "\n",
    "\n",
    "# waktu selesai\n",
    "end_time = time.time()\n",
    "\n",
    "# hitung waktu training\n",
    "training_time = end_time - start_time\n",
    "\n",
    "# convert ke jam, menit, detik\n",
    "hours = int(training_time // 3600)\n",
    "minutes = int((training_time % 3600) // 60)\n",
    "seconds = int(training_time % 60)\n",
    "\n",
    "print(\"Total training time:\", hours, \"hours\", minutes, \"minutes\", seconds, \"seconds\")\n",
    "\n"
   ]
  },
  {
   "cell_type": "code",
   "execution_count": 150,
   "id": "d315850d",
   "metadata": {},
   "outputs": [],
   "source": [
    "# save model word embedding dengan teknik word2vec dengan sg 4\n",
    "model.save(\"/Users/williamnehemia/Documents/Skripsi/TugasAkhir/WordEmbeddingModel/ModelWord2vecSetelahPembagianData/word2vec_sg_4.model\")\n"
   ]
  },
  {
   "cell_type": "code",
   "execution_count": 30,
   "id": "aedd9865",
   "metadata": {},
   "outputs": [],
   "source": [
    "# load model word embedding dengan teknik word2vec dengan sg 4\n",
    "model = Word2Vec.load(\"/Users/williamnehemia/Documents/Skripsi/TugasAkhir/WordEmbeddingModel/ModelWord2vecSetelahPembagianData/word2vec_sg_4.model\")\n"
   ]
  },
  {
   "cell_type": "code",
   "execution_count": 152,
   "id": "c04a114a",
   "metadata": {},
   "outputs": [
    {
     "name": "stdout",
     "output_type": "stream",
     "text": [
      "46725216.0\n"
     ]
    }
   ],
   "source": [
    "# Melihat training loss model word embedding dengan teknik word2vec dengan sg 4\n",
    "training_loss = model.get_latest_training_loss()\n",
    "print(training_loss)"
   ]
  },
  {
   "cell_type": "code",
   "execution_count": 153,
   "id": "a92c50da",
   "metadata": {},
   "outputs": [
    {
     "name": "stdout",
     "output_type": "stream",
     "text": [
      "banyak kata ada di model 646\n",
      "banyak kata tidak ada di model 255\n",
      "0.148249300383298\n"
     ]
    }
   ],
   "source": [
    "# nilai relatedness model sg 4\n",
    "print(relatedness(model))"
   ]
  },
  {
   "cell_type": "code",
   "execution_count": 154,
   "id": "343e06ed",
   "metadata": {},
   "outputs": [
    {
     "name": "stdout",
     "output_type": "stream",
     "text": [
      "true_predicted 0 0.0\n",
      "false_predicted 1920 1.0\n",
      "banyak kata ada di model 1544\n",
      "banyak kata tidak ada di model 356\n"
     ]
    }
   ],
   "source": [
    "# nilai word analogy model sg 4\n",
    "word_analogy(model)"
   ]
  },
  {
   "cell_type": "code",
   "execution_count": 31,
   "id": "130e40ea",
   "metadata": {},
   "outputs": [
    {
     "name": "stdout",
     "output_type": "stream",
     "text": [
      "banyak kata ada di model 194\n",
      "banyak kata tidak ada di model 36\n",
      "0.23251118961679484\n"
     ]
    }
   ],
   "source": [
    "# nilai relatedness word sim sim model sg 4\n",
    "print(relatedness_wordsim_sim(model))"
   ]
  },
  {
   "cell_type": "code",
   "execution_count": 32,
   "id": "932768b7",
   "metadata": {},
   "outputs": [
    {
     "name": "stdout",
     "output_type": "stream",
     "text": [
      "true_predicted 27 0.004483560278977084\n",
      "false_predicted 5995 0.9955164397210229\n",
      "banyak kata ada di model 511\n",
      "banyak kata tidak ada di model 79\n"
     ]
    }
   ],
   "source": [
    "# nilai word analogy google analogy model sg 4\n",
    "word_analogy_google_analogy(model)"
   ]
  },
  {
   "cell_type": "code",
   "execution_count": 155,
   "id": "92d3dcfa",
   "metadata": {},
   "outputs": [
    {
     "name": "stdout",
     "output_type": "stream",
     "text": [
      "Total training time: 0 hours 1 minutes 9 seconds\n"
     ]
    }
   ],
   "source": [
    "# Membuat model word embedding dengan teknik word2vec dengan cbow 5\n",
    "\n",
    "# waktu mulai\n",
    "start_time = time.time()\n",
    "\n",
    "model = Word2Vec(sentences=list_of_sentences_for_model, vector_size=10, min_count=1, workers = 10, compute_loss=True,  window=5, sg = 0, cbow_mean = 0, alpha = 0.001, seed = 10, epochs = 100)\n",
    "\n",
    "# waktu selesai\n",
    "end_time = time.time()\n",
    "\n",
    "# hitung waktu training\n",
    "training_time = end_time - start_time\n",
    "\n",
    "# convert ke jam, menit, detik\n",
    "hours = int(training_time // 3600)\n",
    "minutes = int((training_time % 3600) // 60)\n",
    "seconds = int(training_time % 60)\n",
    "\n",
    "print(\"Total training time:\", hours, \"hours\", minutes, \"minutes\", seconds, \"seconds\")\n",
    "\n"
   ]
  },
  {
   "cell_type": "code",
   "execution_count": 156,
   "id": "9d289557",
   "metadata": {},
   "outputs": [],
   "source": [
    "# save model word embedding dengan teknik word2vec dengan cbow 5\n",
    "model.save(\"/Users/williamnehemia/Documents/Skripsi/TugasAkhir/WordEmbeddingModel/ModelWord2vecSetelahPembagianData/word2vec_cbow_5.model\")\n"
   ]
  },
  {
   "cell_type": "code",
   "execution_count": 33,
   "id": "4eb63a74",
   "metadata": {},
   "outputs": [],
   "source": [
    "# load model word embedding dengan teknik word2vec dengan cbow 5\n",
    "model = Word2Vec.load(\"/Users/williamnehemia/Documents/Skripsi/TugasAkhir/WordEmbeddingModel/ModelWord2vecSetelahPembagianData/word2vec_cbow_5.model\")\n"
   ]
  },
  {
   "cell_type": "code",
   "execution_count": 158,
   "id": "5a21e027",
   "metadata": {},
   "outputs": [
    {
     "name": "stdout",
     "output_type": "stream",
     "text": [
      "17342380.0\n"
     ]
    }
   ],
   "source": [
    "# Melihat training loss model word embedding dengan teknik word2vec dengan cbow 5\n",
    "training_loss = model.get_latest_training_loss()\n",
    "print(training_loss)\n"
   ]
  },
  {
   "cell_type": "code",
   "execution_count": 159,
   "id": "21487eaa",
   "metadata": {},
   "outputs": [
    {
     "name": "stdout",
     "output_type": "stream",
     "text": [
      "banyak kata ada di model 646\n",
      "banyak kata tidak ada di model 255\n",
      "-0.006775694074841656\n"
     ]
    }
   ],
   "source": [
    "# nilai relatedness model cbow 5\n",
    "print(relatedness(model))\n"
   ]
  },
  {
   "cell_type": "code",
   "execution_count": 160,
   "id": "79d2bec3",
   "metadata": {},
   "outputs": [
    {
     "name": "stdout",
     "output_type": "stream",
     "text": [
      "true_predicted 1 0.0005208333333333333\n",
      "false_predicted 1919 0.9994791666666667\n",
      "banyak kata ada di model 1544\n",
      "banyak kata tidak ada di model 356\n"
     ]
    }
   ],
   "source": [
    "# nilai word analogy model cbow 5\n",
    "word_analogy(model)\n"
   ]
  },
  {
   "cell_type": "code",
   "execution_count": 34,
   "id": "fc1de276",
   "metadata": {},
   "outputs": [
    {
     "name": "stdout",
     "output_type": "stream",
     "text": [
      "banyak kata ada di model 194\n",
      "banyak kata tidak ada di model 36\n",
      "0.04004727685022656\n"
     ]
    }
   ],
   "source": [
    "# nilai relatedness word sim sim model cbow 5\n",
    "print(relatedness_wordsim_sim(model))"
   ]
  },
  {
   "cell_type": "code",
   "execution_count": 35,
   "id": "9b9248e7",
   "metadata": {},
   "outputs": [
    {
     "name": "stdout",
     "output_type": "stream",
     "text": [
      "true_predicted 5 0.0008302889405513118\n",
      "false_predicted 6017 0.9991697110594487\n",
      "banyak kata ada di model 511\n",
      "banyak kata tidak ada di model 79\n"
     ]
    }
   ],
   "source": [
    "# nilai word analogy google analogy model cbow 5\n",
    "word_analogy_google_analogy(model)"
   ]
  },
  {
   "cell_type": "code",
   "execution_count": 161,
   "id": "fccd57c3",
   "metadata": {},
   "outputs": [
    {
     "name": "stdout",
     "output_type": "stream",
     "text": [
      "Total training time: 0 hours 2 minutes 20 seconds\n"
     ]
    }
   ],
   "source": [
    "# Membuat model word embedding dengan teknik word2vec dengan sg 5\n",
    "\n",
    "# waktu mulai\n",
    "start_time = time.time()\n",
    "\n",
    "model = Word2Vec(sentences=list_of_sentences_for_model, vector_size=10, min_count=1, workers = 10, compute_loss=True,  window=5, sg = 1, alpha = 0.001, seed = 10, epochs = 100)\n",
    "\n",
    "\n",
    "# waktu selesai\n",
    "end_time = time.time()\n",
    "\n",
    "# hitung waktu training\n",
    "training_time = end_time - start_time\n",
    "\n",
    "# convert ke jam, menit, detik\n",
    "hours = int(training_time // 3600)\n",
    "minutes = int((training_time % 3600) // 60)\n",
    "seconds = int(training_time % 60)\n",
    "\n",
    "print(\"Total training time:\", hours, \"hours\", minutes, \"minutes\", seconds, \"seconds\")\n",
    "\n"
   ]
  },
  {
   "cell_type": "code",
   "execution_count": 162,
   "id": "fc825e61",
   "metadata": {},
   "outputs": [],
   "source": [
    "# save model word embedding dengan teknik word2vec dengan sg 5\n",
    "model.save(\"/Users/williamnehemia/Documents/Skripsi/TugasAkhir/WordEmbeddingModel/ModelWord2vecSetelahPembagianData/word2vec_sg_5.model\")\n"
   ]
  },
  {
   "cell_type": "code",
   "execution_count": 36,
   "id": "34b8923d",
   "metadata": {},
   "outputs": [],
   "source": [
    "# load model word embedding dengan teknik word2vec dengan sg 5\n",
    "model = Word2Vec.load(\"/Users/williamnehemia/Documents/Skripsi/TugasAkhir/WordEmbeddingModel/ModelWord2vecSetelahPembagianData/word2vec_sg_5.model\")\n"
   ]
  },
  {
   "cell_type": "code",
   "execution_count": 164,
   "id": "e97361d9",
   "metadata": {},
   "outputs": [
    {
     "name": "stdout",
     "output_type": "stream",
     "text": [
      "49249468.0\n"
     ]
    }
   ],
   "source": [
    "# Melihat training loss model word embedding dengan teknik word2vec dengan sg 5\n",
    "training_loss = model.get_latest_training_loss()\n",
    "print(training_loss)"
   ]
  },
  {
   "cell_type": "code",
   "execution_count": 165,
   "id": "e8df4dbb",
   "metadata": {},
   "outputs": [
    {
     "name": "stdout",
     "output_type": "stream",
     "text": [
      "banyak kata ada di model 646\n",
      "banyak kata tidak ada di model 255\n",
      "0.18637999998102084\n"
     ]
    }
   ],
   "source": [
    "# nilai relatedness model sg 5\n",
    "print(relatedness(model))"
   ]
  },
  {
   "cell_type": "code",
   "execution_count": 166,
   "id": "597a5d6b",
   "metadata": {},
   "outputs": [
    {
     "name": "stdout",
     "output_type": "stream",
     "text": [
      "true_predicted 2 0.0010416666666666667\n",
      "false_predicted 1918 0.9989583333333333\n",
      "banyak kata ada di model 1544\n",
      "banyak kata tidak ada di model 356\n"
     ]
    }
   ],
   "source": [
    "# nilai word analogy model sg 5\n",
    "word_analogy(model)"
   ]
  },
  {
   "cell_type": "code",
   "execution_count": 37,
   "id": "131fe329",
   "metadata": {},
   "outputs": [
    {
     "name": "stdout",
     "output_type": "stream",
     "text": [
      "banyak kata ada di model 194\n",
      "banyak kata tidak ada di model 36\n",
      "0.38096209519635754\n"
     ]
    }
   ],
   "source": [
    "# nilai relatedness word sim sim model sg 5\n",
    "print(relatedness_wordsim_sim(model))"
   ]
  },
  {
   "cell_type": "code",
   "execution_count": 38,
   "id": "1852851b",
   "metadata": {},
   "outputs": [
    {
     "name": "stdout",
     "output_type": "stream",
     "text": [
      "true_predicted 24 0.003985386914646297\n",
      "false_predicted 5998 0.9960146130853537\n",
      "banyak kata ada di model 511\n",
      "banyak kata tidak ada di model 79\n"
     ]
    }
   ],
   "source": [
    "# nilai word analogy google analogy model sg 5\n",
    "word_analogy_google_analogy(model)"
   ]
  },
  {
   "cell_type": "code",
   "execution_count": 167,
   "id": "44a8e2ba",
   "metadata": {},
   "outputs": [
    {
     "name": "stdout",
     "output_type": "stream",
     "text": [
      "Total training time: 0 hours 1 minutes 7 seconds\n"
     ]
    }
   ],
   "source": [
    "# Membuat model word embedding dengan teknik word2vec dengan cbow 6\n",
    "\n",
    "# waktu mulai\n",
    "start_time = time.time()\n",
    "\n",
    "model = Word2Vec(sentences=list_of_sentences_for_model, vector_size=10, min_count=1, workers = 10, compute_loss=True,  window=5, sg = 0, cbow_mean = 0, alpha = 0.1, seed = 10, epochs = 100)\n",
    "\n",
    "# waktu selesai\n",
    "end_time = time.time()\n",
    "\n",
    "# hitung waktu training\n",
    "training_time = end_time - start_time\n",
    "\n",
    "# convert ke jam, menit, detik\n",
    "hours = int(training_time // 3600)\n",
    "minutes = int((training_time % 3600) // 60)\n",
    "seconds = int(training_time % 60)\n",
    "\n",
    "print(\"Total training time:\", hours, \"hours\", minutes, \"minutes\", seconds, \"seconds\")\n",
    "\n"
   ]
  },
  {
   "cell_type": "code",
   "execution_count": 168,
   "id": "60db1fc0",
   "metadata": {},
   "outputs": [],
   "source": [
    "# save model word embedding dengan teknik word2vec dengan cbow 6\n",
    "model.save(\"/Users/williamnehemia/Documents/Skripsi/TugasAkhir/WordEmbeddingModel/ModelWord2vecSetelahPembagianData/word2vec_cbow_6.model\")\n"
   ]
  },
  {
   "cell_type": "code",
   "execution_count": 39,
   "id": "11fd2849",
   "metadata": {},
   "outputs": [],
   "source": [
    "# load model word embedding dengan teknik word2vec dengan cbow 6\n",
    "model = Word2Vec.load(\"/Users/williamnehemia/Documents/Skripsi/TugasAkhir/WordEmbeddingModel/ModelWord2vecSetelahPembagianData/word2vec_cbow_6.model\")\n"
   ]
  },
  {
   "cell_type": "code",
   "execution_count": 170,
   "id": "1d651e7e",
   "metadata": {},
   "outputs": [
    {
     "name": "stdout",
     "output_type": "stream",
     "text": [
      "15334991.0\n"
     ]
    }
   ],
   "source": [
    "# Melihat training loss model word embedding dengan teknik word2vec dengan cbow 6\n",
    "training_loss = model.get_latest_training_loss()\n",
    "print(training_loss)\n"
   ]
  },
  {
   "cell_type": "code",
   "execution_count": 171,
   "id": "8f1321be",
   "metadata": {},
   "outputs": [
    {
     "name": "stdout",
     "output_type": "stream",
     "text": [
      "banyak kata ada di model 646\n",
      "banyak kata tidak ada di model 255\n",
      "0.02209004116117041\n"
     ]
    }
   ],
   "source": [
    "# nilai relatedness model cbow 6\n",
    "print(relatedness(model))\n"
   ]
  },
  {
   "cell_type": "code",
   "execution_count": 172,
   "id": "10f5d63e",
   "metadata": {},
   "outputs": [
    {
     "name": "stdout",
     "output_type": "stream",
     "text": [
      "true_predicted 3 0.0015625\n",
      "false_predicted 1917 0.9984375\n",
      "banyak kata ada di model 1544\n",
      "banyak kata tidak ada di model 356\n"
     ]
    }
   ],
   "source": [
    "# nilai word analogy model cbow 6\n",
    "word_analogy(model)\n"
   ]
  },
  {
   "cell_type": "code",
   "execution_count": 40,
   "id": "b8506ba3",
   "metadata": {},
   "outputs": [
    {
     "name": "stdout",
     "output_type": "stream",
     "text": [
      "banyak kata ada di model 194\n",
      "banyak kata tidak ada di model 36\n",
      "0.010268301772159216\n"
     ]
    }
   ],
   "source": [
    "# nilai relatedness word sim sim model cbow 6\n",
    "print(relatedness_wordsim_sim(model))"
   ]
  },
  {
   "cell_type": "code",
   "execution_count": 41,
   "id": "2bb13076",
   "metadata": {},
   "outputs": [
    {
     "name": "stdout",
     "output_type": "stream",
     "text": [
      "true_predicted 22 0.0036532713384257723\n",
      "false_predicted 6000 0.9963467286615743\n",
      "banyak kata ada di model 511\n",
      "banyak kata tidak ada di model 79\n"
     ]
    }
   ],
   "source": [
    "# nilai word analogy google analogy model cbow 6\n",
    "word_analogy_google_analogy(model)"
   ]
  },
  {
   "cell_type": "code",
   "execution_count": 173,
   "id": "6ed8ded1",
   "metadata": {},
   "outputs": [
    {
     "name": "stdout",
     "output_type": "stream",
     "text": [
      "Total training time: 0 hours 1 minutes 9 seconds\n"
     ]
    }
   ],
   "source": [
    "# Membuat model word embedding dengan teknik word2vec dengan sg 6\n",
    "\n",
    "# waktu mulai\n",
    "start_time = time.time()\n",
    "\n",
    "model = Word2Vec(sentences=list_of_sentences_for_model, vector_size=10, min_count=1, workers = 10, compute_loss=True,  window=5, sg = 1, alpha = 0.1, seed = 10, epochs = 100)\n",
    "\n",
    "\n",
    "# waktu selesai\n",
    "end_time = time.time()\n",
    "\n",
    "# hitung waktu training\n",
    "training_time = end_time - start_time\n",
    "\n",
    "# convert ke jam, menit, detik\n",
    "hours = int(training_time // 3600)\n",
    "minutes = int((training_time % 3600) // 60)\n",
    "seconds = int(training_time % 60)\n",
    "\n",
    "print(\"Total training time:\", hours, \"hours\", minutes, \"minutes\", seconds, \"seconds\")\n",
    "\n"
   ]
  },
  {
   "cell_type": "code",
   "execution_count": 174,
   "id": "9d32b737",
   "metadata": {},
   "outputs": [],
   "source": [
    "# save model word embedding dengan teknik word2vec dengan sg 6\n",
    "model.save(\"/Users/williamnehemia/Documents/Skripsi/TugasAkhir/WordEmbeddingModel/ModelWord2vecSetelahPembagianData/word2vec_sg_6.model\")\n"
   ]
  },
  {
   "cell_type": "code",
   "execution_count": 42,
   "id": "1316cf1a",
   "metadata": {},
   "outputs": [],
   "source": [
    "# load model word embedding dengan teknik word2vec dengan sg 6\n",
    "model = Word2Vec.load(\"/Users/williamnehemia/Documents/Skripsi/TugasAkhir/WordEmbeddingModel/ModelWord2vecSetelahPembagianData/word2vec_sg_6.model\")\n"
   ]
  },
  {
   "cell_type": "code",
   "execution_count": 176,
   "id": "b7dc25ae",
   "metadata": {},
   "outputs": [
    {
     "name": "stdout",
     "output_type": "stream",
     "text": [
      "45994752.0\n"
     ]
    }
   ],
   "source": [
    "# Melihat training loss model word embedding dengan teknik word2vec dengan sg 6\n",
    "training_loss = model.get_latest_training_loss()\n",
    "print(training_loss)"
   ]
  },
  {
   "cell_type": "code",
   "execution_count": 177,
   "id": "2ae22f0e",
   "metadata": {},
   "outputs": [
    {
     "name": "stdout",
     "output_type": "stream",
     "text": [
      "banyak kata ada di model 646\n",
      "banyak kata tidak ada di model 255\n",
      "0.1271137693495935\n"
     ]
    }
   ],
   "source": [
    "# nilai relatedness model sg 6\n",
    "print(relatedness(model))"
   ]
  },
  {
   "cell_type": "code",
   "execution_count": 178,
   "id": "2e78104b",
   "metadata": {},
   "outputs": [
    {
     "name": "stdout",
     "output_type": "stream",
     "text": [
      "true_predicted 1 0.0005208333333333333\n",
      "false_predicted 1919 0.9994791666666667\n",
      "banyak kata ada di model 1544\n",
      "banyak kata tidak ada di model 356\n"
     ]
    }
   ],
   "source": [
    "# nilai word analogy model sg 6\n",
    "word_analogy(model)"
   ]
  },
  {
   "cell_type": "code",
   "execution_count": 43,
   "id": "a8f5e56d",
   "metadata": {},
   "outputs": [
    {
     "name": "stdout",
     "output_type": "stream",
     "text": [
      "banyak kata ada di model 194\n",
      "banyak kata tidak ada di model 36\n",
      "0.21557734109098742\n"
     ]
    }
   ],
   "source": [
    "# nilai relatedness word sim sim model sg 6\n",
    "print(relatedness_wordsim_sim(model))"
   ]
  },
  {
   "cell_type": "code",
   "execution_count": 44,
   "id": "700d1f0a",
   "metadata": {},
   "outputs": [
    {
     "name": "stdout",
     "output_type": "stream",
     "text": [
      "true_predicted 14 0.002324809033543673\n",
      "false_predicted 6008 0.9976751909664563\n",
      "banyak kata ada di model 511\n",
      "banyak kata tidak ada di model 79\n"
     ]
    }
   ],
   "source": [
    "# nilai word analogy google analogy model sg 6\n",
    "word_analogy_google_analogy(model)"
   ]
  },
  {
   "cell_type": "code",
   "execution_count": 179,
   "id": "4e125bdf",
   "metadata": {},
   "outputs": [
    {
     "name": "stdout",
     "output_type": "stream",
     "text": [
      "Total training time: 0 hours 9 minutes 11 seconds\n"
     ]
    }
   ],
   "source": [
    "# Membuat model word embedding dengan teknik word2vec dengan cbow 7\n",
    "\n",
    "# waktu mulai\n",
    "start_time = time.time()\n",
    "\n",
    "model = Word2Vec(sentences=list_of_sentences_for_model, vector_size=10, min_count=1, workers = 10, compute_loss=True,  window=5, sg = 0, cbow_mean = 0, alpha = 0.1, seed = 10, epochs = 1000)\n",
    "\n",
    "# waktu selesai\n",
    "end_time = time.time()\n",
    "\n",
    "# hitung waktu training\n",
    "training_time = end_time - start_time\n",
    "\n",
    "# convert ke jam, menit, detik\n",
    "hours = int(training_time // 3600)\n",
    "minutes = int((training_time % 3600) // 60)\n",
    "seconds = int(training_time % 60)\n",
    "\n",
    "print(\"Total training time:\", hours, \"hours\", minutes, \"minutes\", seconds, \"seconds\")\n",
    "\n"
   ]
  },
  {
   "cell_type": "code",
   "execution_count": 180,
   "id": "7af31be2",
   "metadata": {},
   "outputs": [],
   "source": [
    "# save model word embedding dengan teknik word2vec dengan cbow 7\n",
    "model.save(\"/Users/williamnehemia/Documents/Skripsi/TugasAkhir/WordEmbeddingModel/ModelWord2vecSetelahPembagianData/word2vec_cbow_7.model\")\n"
   ]
  },
  {
   "cell_type": "code",
   "execution_count": 45,
   "id": "e4f3d90c",
   "metadata": {},
   "outputs": [],
   "source": [
    "# load model word embedding dengan teknik word2vec dengan cbow 7\n",
    "model = Word2Vec.load(\"/Users/williamnehemia/Documents/Skripsi/TugasAkhir/WordEmbeddingModel/ModelWord2vecSetelahPembagianData/word2vec_cbow_7.model\")\n"
   ]
  },
  {
   "cell_type": "code",
   "execution_count": 182,
   "id": "b2e60d00",
   "metadata": {},
   "outputs": [
    {
     "name": "stdout",
     "output_type": "stream",
     "text": [
      "76664208.0\n"
     ]
    }
   ],
   "source": [
    "# Melihat training loss model word embedding dengan teknik word2vec dengan cbow 7\n",
    "training_loss = model.get_latest_training_loss()\n",
    "print(training_loss)\n"
   ]
  },
  {
   "cell_type": "code",
   "execution_count": 183,
   "id": "78d47cdc",
   "metadata": {},
   "outputs": [
    {
     "name": "stdout",
     "output_type": "stream",
     "text": [
      "banyak kata ada di model 646\n",
      "banyak kata tidak ada di model 255\n",
      "-0.002951425688977106\n"
     ]
    }
   ],
   "source": [
    "# nilai relatedness model cbow 7\n",
    "print(relatedness(model))\n"
   ]
  },
  {
   "cell_type": "code",
   "execution_count": 184,
   "id": "d8d50051",
   "metadata": {},
   "outputs": [
    {
     "name": "stdout",
     "output_type": "stream",
     "text": [
      "true_predicted 1 0.0005208333333333333\n",
      "false_predicted 1919 0.9994791666666667\n",
      "banyak kata ada di model 1544\n",
      "banyak kata tidak ada di model 356\n"
     ]
    }
   ],
   "source": [
    "# nilai word analogy model cbow 7\n",
    "word_analogy(model)\n"
   ]
  },
  {
   "cell_type": "code",
   "execution_count": 46,
   "id": "1d3e1341",
   "metadata": {},
   "outputs": [
    {
     "name": "stdout",
     "output_type": "stream",
     "text": [
      "banyak kata ada di model 194\n",
      "banyak kata tidak ada di model 36\n",
      "0.03068491347572791\n"
     ]
    }
   ],
   "source": [
    "# nilai relatedness word sim sim model cbow 7\n",
    "print(relatedness_wordsim_sim(model))"
   ]
  },
  {
   "cell_type": "code",
   "execution_count": 47,
   "id": "63f37a29",
   "metadata": {},
   "outputs": [
    {
     "name": "stdout",
     "output_type": "stream",
     "text": [
      "true_predicted 25 0.004151444702756559\n",
      "false_predicted 5997 0.9958485552972435\n",
      "banyak kata ada di model 511\n",
      "banyak kata tidak ada di model 79\n"
     ]
    }
   ],
   "source": [
    "# nilai word analogy google analogy model cbow 7\n",
    "word_analogy_google_analogy(model)"
   ]
  },
  {
   "cell_type": "code",
   "execution_count": 185,
   "id": "8d547d64",
   "metadata": {},
   "outputs": [
    {
     "name": "stdout",
     "output_type": "stream",
     "text": [
      "Total training time: 0 hours 22 minutes 26 seconds\n"
     ]
    }
   ],
   "source": [
    "# Membuat model word embedding dengan teknik word2vec dengan sg 7\n",
    "\n",
    "# waktu mulai\n",
    "start_time = time.time()\n",
    "\n",
    "model = Word2Vec(sentences=list_of_sentences_for_model, vector_size=10, min_count=1, workers = 10, compute_loss=True,  window=5, sg = 1, alpha = 0.1, seed = 10, epochs = 1000)\n",
    "\n",
    "\n",
    "# waktu selesai\n",
    "end_time = time.time()\n",
    "\n",
    "# hitung waktu training\n",
    "training_time = end_time - start_time\n",
    "\n",
    "# convert ke jam, menit, detik\n",
    "hours = int(training_time // 3600)\n",
    "minutes = int((training_time % 3600) // 60)\n",
    "seconds = int(training_time % 60)\n",
    "\n",
    "print(\"Total training time:\", hours, \"hours\", minutes, \"minutes\", seconds, \"seconds\")\n",
    "\n"
   ]
  },
  {
   "cell_type": "code",
   "execution_count": 186,
   "id": "a56e0876",
   "metadata": {},
   "outputs": [],
   "source": [
    "# save model word embedding dengan teknik word2vec dengan sg 7\n",
    "model.save(\"/Users/williamnehemia/Documents/Skripsi/TugasAkhir/WordEmbeddingModel/ModelWord2vecSetelahPembagianData/word2vec_sg_7.model\")\n"
   ]
  },
  {
   "cell_type": "code",
   "execution_count": 48,
   "id": "c0c705d6",
   "metadata": {},
   "outputs": [],
   "source": [
    "# load model word embedding dengan teknik word2vec dengan sg 7\n",
    "model = Word2Vec.load(\"/Users/williamnehemia/Documents/Skripsi/TugasAkhir/WordEmbeddingModel/ModelWord2vecSetelahPembagianData/word2vec_sg_7.model\")\n"
   ]
  },
  {
   "cell_type": "code",
   "execution_count": 188,
   "id": "2725c3bc",
   "metadata": {},
   "outputs": [
    {
     "name": "stdout",
     "output_type": "stream",
     "text": [
      "81604304.0\n"
     ]
    }
   ],
   "source": [
    "# Melihat training loss model word embedding dengan teknik word2vec dengan sg 7\n",
    "training_loss = model.get_latest_training_loss()\n",
    "print(training_loss)"
   ]
  },
  {
   "cell_type": "code",
   "execution_count": 189,
   "id": "1803432c",
   "metadata": {},
   "outputs": [
    {
     "name": "stdout",
     "output_type": "stream",
     "text": [
      "banyak kata ada di model 646\n",
      "banyak kata tidak ada di model 255\n",
      "0.15355521572191616\n"
     ]
    }
   ],
   "source": [
    "# nilai relatedness model sg 7\n",
    "print(relatedness(model))"
   ]
  },
  {
   "cell_type": "code",
   "execution_count": 190,
   "id": "025508fe",
   "metadata": {},
   "outputs": [
    {
     "name": "stdout",
     "output_type": "stream",
     "text": [
      "true_predicted 1 0.0005208333333333333\n",
      "false_predicted 1919 0.9994791666666667\n",
      "banyak kata ada di model 1544\n",
      "banyak kata tidak ada di model 356\n"
     ]
    }
   ],
   "source": [
    "# nilai word analogy model sg 7\n",
    "word_analogy(model)"
   ]
  },
  {
   "cell_type": "code",
   "execution_count": 49,
   "id": "a29db89a",
   "metadata": {},
   "outputs": [
    {
     "name": "stdout",
     "output_type": "stream",
     "text": [
      "banyak kata ada di model 194\n",
      "banyak kata tidak ada di model 36\n",
      "0.2125385477240002\n"
     ]
    }
   ],
   "source": [
    "# nilai relatedness word sim sim model sg 7\n",
    "print(relatedness_wordsim_sim(model))"
   ]
  },
  {
   "cell_type": "code",
   "execution_count": 50,
   "id": "70474f2b",
   "metadata": {},
   "outputs": [
    {
     "name": "stdout",
     "output_type": "stream",
     "text": [
      "true_predicted 10 0.0016605778811026237\n",
      "false_predicted 6012 0.9983394221188974\n",
      "banyak kata ada di model 511\n",
      "banyak kata tidak ada di model 79\n"
     ]
    }
   ],
   "source": [
    "# nilai word analogy google analogy model sg 7\n",
    "word_analogy_google_analogy(model)"
   ]
  },
  {
   "cell_type": "code",
   "execution_count": 191,
   "id": "b317a88c",
   "metadata": {},
   "outputs": [
    {
     "name": "stdout",
     "output_type": "stream",
     "text": [
      "Total training time: 0 hours 40 minutes 40 seconds\n"
     ]
    }
   ],
   "source": [
    "# Membuat model word embedding dengan teknik word2vec dengan cbow 8\n",
    "\n",
    "# waktu mulai\n",
    "start_time = time.time()\n",
    "\n",
    "model = Word2Vec(sentences=list_of_sentences_for_model, vector_size=10, min_count=1, workers = 10, compute_loss=True,  window=5, sg = 0, cbow_mean = 0, alpha = 0.1, seed = 10, epochs = 5000)\n",
    "\n",
    "# waktu selesai\n",
    "end_time = time.time()\n",
    "\n",
    "# hitung waktu training\n",
    "training_time = end_time - start_time\n",
    "\n",
    "# convert ke jam, menit, detik\n",
    "hours = int(training_time // 3600)\n",
    "minutes = int((training_time % 3600) // 60)\n",
    "seconds = int(training_time % 60)\n",
    "\n",
    "print(\"Total training time:\", hours, \"hours\", minutes, \"minutes\", seconds, \"seconds\")\n",
    "\n"
   ]
  },
  {
   "cell_type": "code",
   "execution_count": 192,
   "id": "cde735ce",
   "metadata": {},
   "outputs": [],
   "source": [
    "# save model word embedding dengan teknik word2vec dengan cbow 8\n",
    "model.save(\"/Users/williamnehemia/Documents/Skripsi/TugasAkhir/WordEmbeddingModel/ModelWord2vecSetelahPembagianData/word2vec_cbow_8.model\")\n"
   ]
  },
  {
   "cell_type": "code",
   "execution_count": 51,
   "id": "b6e760a6",
   "metadata": {},
   "outputs": [],
   "source": [
    "# load model word embedding dengan teknik word2vec dengan cbow 8\n",
    "model = Word2Vec.load(\"/Users/williamnehemia/Documents/Skripsi/TugasAkhir/WordEmbeddingModel/ModelWord2vecSetelahPembagianData/word2vec_cbow_8.model\")\n"
   ]
  },
  {
   "cell_type": "code",
   "execution_count": 194,
   "id": "d2e5e742",
   "metadata": {},
   "outputs": [
    {
     "name": "stdout",
     "output_type": "stream",
     "text": [
      "134217728.0\n"
     ]
    }
   ],
   "source": [
    "# Melihat training loss model word embedding dengan teknik word2vec dengan cbow 8\n",
    "training_loss = model.get_latest_training_loss()\n",
    "print(training_loss)\n"
   ]
  },
  {
   "cell_type": "code",
   "execution_count": 195,
   "id": "68a0fd35",
   "metadata": {},
   "outputs": [
    {
     "name": "stdout",
     "output_type": "stream",
     "text": [
      "banyak kata ada di model 646\n",
      "banyak kata tidak ada di model 255\n",
      "0.0034072357079898146\n"
     ]
    }
   ],
   "source": [
    "# nilai relatedness model cbow 8\n",
    "print(relatedness(model))\n"
   ]
  },
  {
   "cell_type": "code",
   "execution_count": 196,
   "id": "7d7f14f5",
   "metadata": {},
   "outputs": [
    {
     "name": "stdout",
     "output_type": "stream",
     "text": [
      "true_predicted 2 0.0010416666666666667\n",
      "false_predicted 1918 0.9989583333333333\n",
      "banyak kata ada di model 1544\n",
      "banyak kata tidak ada di model 356\n"
     ]
    }
   ],
   "source": [
    "# nilai word analogy model cbow 8\n",
    "word_analogy(model)\n"
   ]
  },
  {
   "cell_type": "code",
   "execution_count": 52,
   "id": "d69f7279",
   "metadata": {},
   "outputs": [
    {
     "name": "stdout",
     "output_type": "stream",
     "text": [
      "banyak kata ada di model 194\n",
      "banyak kata tidak ada di model 36\n",
      "0.011918189582468175\n"
     ]
    }
   ],
   "source": [
    "# nilai relatedness word sim sim model cbow 8\n",
    "print(relatedness_wordsim_sim(model))"
   ]
  },
  {
   "cell_type": "code",
   "execution_count": 53,
   "id": "bac741ca",
   "metadata": {},
   "outputs": [
    {
     "name": "stdout",
     "output_type": "stream",
     "text": [
      "true_predicted 30 0.004981733643307871\n",
      "false_predicted 5992 0.9950182663566921\n",
      "banyak kata ada di model 511\n",
      "banyak kata tidak ada di model 79\n"
     ]
    }
   ],
   "source": [
    "# nilai word analogy google analogy model cbow 8\n",
    "word_analogy_google_analogy(model)"
   ]
  },
  {
   "cell_type": "code",
   "execution_count": 197,
   "id": "ef49dfd2",
   "metadata": {},
   "outputs": [
    {
     "name": "stdout",
     "output_type": "stream",
     "text": [
      "Total training time: 1 hours 17 minutes 31 seconds\n"
     ]
    }
   ],
   "source": [
    "# Membuat model word embedding dengan teknik word2vec dengan sg 8\n",
    "\n",
    "# waktu mulai\n",
    "start_time = time.time()\n",
    "\n",
    "model = Word2Vec(sentences=list_of_sentences_for_model, vector_size=10, min_count=1, workers = 10, compute_loss=True,  window=5, sg = 1, alpha = 0.1, seed = 10, epochs = 5000)\n",
    "\n",
    "\n",
    "# waktu selesai\n",
    "end_time = time.time()\n",
    "\n",
    "# hitung waktu training\n",
    "training_time = end_time - start_time\n",
    "\n",
    "# convert ke jam, menit, detik\n",
    "hours = int(training_time // 3600)\n",
    "minutes = int((training_time % 3600) // 60)\n",
    "seconds = int(training_time % 60)\n",
    "\n",
    "print(\"Total training time:\", hours, \"hours\", minutes, \"minutes\", seconds, \"seconds\")\n",
    "\n"
   ]
  },
  {
   "cell_type": "code",
   "execution_count": 198,
   "id": "54d8f6ac",
   "metadata": {},
   "outputs": [],
   "source": [
    "# save model word embedding dengan teknik word2vec dengan sg 8\n",
    "model.save(\"/Users/williamnehemia/Documents/Skripsi/TugasAkhir/WordEmbeddingModel/ModelWord2vecSetelahPembagianData/word2vec_sg_8.model\")\n"
   ]
  },
  {
   "cell_type": "code",
   "execution_count": 54,
   "id": "666d134e",
   "metadata": {},
   "outputs": [],
   "source": [
    "# load model word embedding dengan teknik word2vec dengan sg 8\n",
    "model = Word2Vec.load(\"/Users/williamnehemia/Documents/Skripsi/TugasAkhir/WordEmbeddingModel/ModelWord2vecSetelahPembagianData/word2vec_sg_8.model\")\n"
   ]
  },
  {
   "cell_type": "code",
   "execution_count": 200,
   "id": "80d36444",
   "metadata": {},
   "outputs": [
    {
     "name": "stdout",
     "output_type": "stream",
     "text": [
      "134217728.0\n"
     ]
    }
   ],
   "source": [
    "# Melihat training loss model word embedding dengan teknik word2vec dengan sg 8\n",
    "training_loss = model.get_latest_training_loss()\n",
    "print(training_loss)"
   ]
  },
  {
   "cell_type": "code",
   "execution_count": 201,
   "id": "a6a7a9e5",
   "metadata": {},
   "outputs": [
    {
     "name": "stdout",
     "output_type": "stream",
     "text": [
      "banyak kata ada di model 646\n",
      "banyak kata tidak ada di model 255\n",
      "0.15468069867167222\n"
     ]
    }
   ],
   "source": [
    "# nilai relatedness model sg 8\n",
    "print(relatedness(model))"
   ]
  },
  {
   "cell_type": "code",
   "execution_count": 202,
   "id": "f4bd25b1",
   "metadata": {},
   "outputs": [
    {
     "name": "stdout",
     "output_type": "stream",
     "text": [
      "true_predicted 2 0.0010416666666666667\n",
      "false_predicted 1918 0.9989583333333333\n",
      "banyak kata ada di model 1544\n",
      "banyak kata tidak ada di model 356\n"
     ]
    }
   ],
   "source": [
    "# nilai word analogy model sg 8\n",
    "word_analogy(model)"
   ]
  },
  {
   "cell_type": "code",
   "execution_count": 55,
   "id": "ff360431",
   "metadata": {},
   "outputs": [
    {
     "name": "stdout",
     "output_type": "stream",
     "text": [
      "banyak kata ada di model 194\n",
      "banyak kata tidak ada di model 36\n",
      "0.20131331102186176\n"
     ]
    }
   ],
   "source": [
    "# nilai relatedness word sim sim model sg 8\n",
    "print(relatedness_wordsim_sim(model))"
   ]
  },
  {
   "cell_type": "code",
   "execution_count": 56,
   "id": "5eb2cb83",
   "metadata": {},
   "outputs": [
    {
     "name": "stdout",
     "output_type": "stream",
     "text": [
      "true_predicted 12 0.0019926934573231483\n",
      "false_predicted 6010 0.9980073065426769\n",
      "banyak kata ada di model 511\n",
      "banyak kata tidak ada di model 79\n"
     ]
    }
   ],
   "source": [
    "# nilai word analogy google analogy model sg 8\n",
    "word_analogy_google_analogy(model)"
   ]
  },
  {
   "cell_type": "code",
   "execution_count": 203,
   "id": "a007340b",
   "metadata": {},
   "outputs": [
    {
     "name": "stdout",
     "output_type": "stream",
     "text": [
      "Total training time: 0 hours 41 minutes 27 seconds\n"
     ]
    }
   ],
   "source": [
    "# Membuat model word embedding dengan teknik word2vec dengan cbow 9\n",
    "\n",
    "# waktu mulai\n",
    "start_time = time.time()\n",
    "\n",
    "model = Word2Vec(sentences=list_of_sentences_for_model, vector_size=10, min_count=1, workers = 10, compute_loss=True,  window=5, sg = 0, cbow_mean = 0, alpha = 0.01, seed = 10, epochs = 5000)\n",
    "\n",
    "# waktu selesai\n",
    "end_time = time.time()\n",
    "\n",
    "# hitung waktu training\n",
    "training_time = end_time - start_time\n",
    "\n",
    "# convert ke jam, menit, detik\n",
    "hours = int(training_time // 3600)\n",
    "minutes = int((training_time % 3600) // 60)\n",
    "seconds = int(training_time % 60)\n",
    "\n",
    "print(\"Total training time:\", hours, \"hours\", minutes, \"minutes\", seconds, \"seconds\")\n",
    "\n"
   ]
  },
  {
   "cell_type": "code",
   "execution_count": 204,
   "id": "dbb387d5",
   "metadata": {},
   "outputs": [],
   "source": [
    "# save model word embedding dengan teknik word2vec dengan cbow 9\n",
    "model.save(\"/Users/williamnehemia/Documents/Skripsi/TugasAkhir/WordEmbeddingModel/ModelWord2vecSetelahPembagianData/word2vec_cbow_9.model\")\n"
   ]
  },
  {
   "cell_type": "code",
   "execution_count": 57,
   "id": "b42a0cc3",
   "metadata": {},
   "outputs": [],
   "source": [
    "# load model word embedding dengan teknik word2vec dengan cbow 9\n",
    "model = Word2Vec.load(\"/Users/williamnehemia/Documents/Skripsi/TugasAkhir/WordEmbeddingModel/ModelWord2vecSetelahPembagianData/word2vec_cbow_9.model\")\n"
   ]
  },
  {
   "cell_type": "code",
   "execution_count": 206,
   "id": "ff0fb375",
   "metadata": {},
   "outputs": [
    {
     "name": "stdout",
     "output_type": "stream",
     "text": [
      "134217728.0\n"
     ]
    }
   ],
   "source": [
    "# Melihat training loss model word embedding dengan teknik word2vec dengan cbow 9\n",
    "training_loss = model.get_latest_training_loss()\n",
    "print(training_loss)\n"
   ]
  },
  {
   "cell_type": "code",
   "execution_count": 207,
   "id": "e8f6a96f",
   "metadata": {},
   "outputs": [
    {
     "name": "stdout",
     "output_type": "stream",
     "text": [
      "banyak kata ada di model 646\n",
      "banyak kata tidak ada di model 255\n",
      "0.02974762597916504\n"
     ]
    }
   ],
   "source": [
    "# nilai relatedness model cbow 9\n",
    "print(relatedness(model))\n"
   ]
  },
  {
   "cell_type": "code",
   "execution_count": 208,
   "id": "9fcb4245",
   "metadata": {},
   "outputs": [
    {
     "name": "stdout",
     "output_type": "stream",
     "text": [
      "true_predicted 2 0.0010416666666666667\n",
      "false_predicted 1918 0.9989583333333333\n",
      "banyak kata ada di model 1544\n",
      "banyak kata tidak ada di model 356\n"
     ]
    }
   ],
   "source": [
    "# nilai word analogy model cbow 9\n",
    "word_analogy(model)\n"
   ]
  },
  {
   "cell_type": "code",
   "execution_count": 58,
   "id": "6ce6c938",
   "metadata": {},
   "outputs": [
    {
     "name": "stdout",
     "output_type": "stream",
     "text": [
      "banyak kata ada di model 194\n",
      "banyak kata tidak ada di model 36\n",
      "0.05365135179522863\n"
     ]
    }
   ],
   "source": [
    "# nilai relatedness word sim sim model cbow 9\n",
    "print(relatedness_wordsim_sim(model))"
   ]
  },
  {
   "cell_type": "code",
   "execution_count": 59,
   "id": "882a3c03",
   "metadata": {},
   "outputs": [
    {
     "name": "stdout",
     "output_type": "stream",
     "text": [
      "true_predicted 41 0.006808369312520757\n",
      "false_predicted 5981 0.9931916306874793\n",
      "banyak kata ada di model 511\n",
      "banyak kata tidak ada di model 79\n"
     ]
    }
   ],
   "source": [
    "# nilai word analogy google analogy model cbow 9\n",
    "word_analogy_google_analogy(model)"
   ]
  },
  {
   "cell_type": "code",
   "execution_count": 209,
   "id": "95285980",
   "metadata": {},
   "outputs": [
    {
     "name": "stdout",
     "output_type": "stream",
     "text": [
      "Total training time: 2 hours 14 minutes 20 seconds\n"
     ]
    }
   ],
   "source": [
    "# Membuat model word embedding dengan teknik word2vec dengan sg 9\n",
    "\n",
    "# waktu mulai\n",
    "start_time = time.time()\n",
    "\n",
    "model = Word2Vec(sentences=list_of_sentences_for_model, vector_size=10, min_count=1, workers = 10, compute_loss=True,  window=5, sg = 1, alpha = 0.01, seed = 10, epochs = 5000)\n",
    "\n",
    "\n",
    "# waktu selesai\n",
    "end_time = time.time()\n",
    "\n",
    "# hitung waktu training\n",
    "training_time = end_time - start_time\n",
    "\n",
    "# convert ke jam, menit, detik\n",
    "hours = int(training_time // 3600)\n",
    "minutes = int((training_time % 3600) // 60)\n",
    "seconds = int(training_time % 60)\n",
    "\n",
    "print(\"Total training time:\", hours, \"hours\", minutes, \"minutes\", seconds, \"seconds\")\n",
    "\n"
   ]
  },
  {
   "cell_type": "code",
   "execution_count": 210,
   "id": "e98c0b1c",
   "metadata": {},
   "outputs": [],
   "source": [
    "# save model word embedding dengan teknik word2vec dengan sg 9\n",
    "model.save(\"/Users/williamnehemia/Documents/Skripsi/TugasAkhir/WordEmbeddingModel/ModelWord2vecSetelahPembagianData/word2vec_sg_9.model\")\n"
   ]
  },
  {
   "cell_type": "code",
   "execution_count": 60,
   "id": "5b291abb",
   "metadata": {},
   "outputs": [],
   "source": [
    "# load model word embedding dengan teknik word2vec dengan sg 9\n",
    "model = Word2Vec.load(\"/Users/williamnehemia/Documents/Skripsi/TugasAkhir/WordEmbeddingModel/ModelWord2vecSetelahPembagianData/word2vec_sg_9.model\")\n"
   ]
  },
  {
   "cell_type": "code",
   "execution_count": 212,
   "id": "ef36265e",
   "metadata": {},
   "outputs": [
    {
     "name": "stdout",
     "output_type": "stream",
     "text": [
      "121615504.0\n"
     ]
    }
   ],
   "source": [
    "# Melihat training loss model word embedding dengan teknik word2vec dengan sg 9\n",
    "training_loss = model.get_latest_training_loss()\n",
    "print(training_loss)"
   ]
  },
  {
   "cell_type": "code",
   "execution_count": 213,
   "id": "1581388a",
   "metadata": {},
   "outputs": [
    {
     "name": "stdout",
     "output_type": "stream",
     "text": [
      "banyak kata ada di model 646\n",
      "banyak kata tidak ada di model 255\n",
      "0.16645690714689693\n"
     ]
    }
   ],
   "source": [
    "# nilai relatedness model sg 9\n",
    "print(relatedness(model))"
   ]
  },
  {
   "cell_type": "code",
   "execution_count": 214,
   "id": "cc35b337",
   "metadata": {},
   "outputs": [
    {
     "name": "stdout",
     "output_type": "stream",
     "text": [
      "true_predicted 2 0.0010416666666666667\n",
      "false_predicted 1918 0.9989583333333333\n",
      "banyak kata ada di model 1544\n",
      "banyak kata tidak ada di model 356\n"
     ]
    }
   ],
   "source": [
    "# nilai word analogy model sg 9\n",
    "word_analogy(model)"
   ]
  },
  {
   "cell_type": "code",
   "execution_count": 61,
   "id": "d11a7646",
   "metadata": {},
   "outputs": [
    {
     "name": "stdout",
     "output_type": "stream",
     "text": [
      "banyak kata ada di model 194\n",
      "banyak kata tidak ada di model 36\n",
      "0.23963270536529202\n"
     ]
    }
   ],
   "source": [
    "# nilai relatedness word sim sim model sg 9\n",
    "print(relatedness_wordsim_sim(model))"
   ]
  },
  {
   "cell_type": "code",
   "execution_count": 62,
   "id": "5535bbb7",
   "metadata": {},
   "outputs": [
    {
     "name": "stdout",
     "output_type": "stream",
     "text": [
      "true_predicted 11 0.0018266356692128861\n",
      "false_predicted 6011 0.9981733643307871\n",
      "banyak kata ada di model 511\n",
      "banyak kata tidak ada di model 79\n"
     ]
    }
   ],
   "source": [
    "# nilai word analogy google analogy model sg 9\n",
    "word_analogy_google_analogy(model)"
   ]
  },
  {
   "cell_type": "code",
   "execution_count": 215,
   "id": "f63b27e3",
   "metadata": {},
   "outputs": [
    {
     "name": "stdout",
     "output_type": "stream",
     "text": [
      "Total training time: 0 hours 52 minutes 36 seconds\n"
     ]
    }
   ],
   "source": [
    "# Membuat model word embedding dengan teknik word2vec dengan cbow 10\n",
    "\n",
    "# waktu mulai\n",
    "start_time = time.time()\n",
    "\n",
    "model = Word2Vec(sentences=list_of_sentences_for_model, vector_size=10, min_count=1, workers = 10, compute_loss=True,  window=7, sg = 0, cbow_mean = 0, alpha = 0.01, seed = 10, epochs = 5000)\n",
    "\n",
    "# waktu selesai\n",
    "end_time = time.time()\n",
    "\n",
    "# hitung waktu training\n",
    "training_time = end_time - start_time\n",
    "\n",
    "# convert ke jam, menit, detik\n",
    "hours = int(training_time // 3600)\n",
    "minutes = int((training_time % 3600) // 60)\n",
    "seconds = int(training_time % 60)\n",
    "\n",
    "print(\"Total training time:\", hours, \"hours\", minutes, \"minutes\", seconds, \"seconds\")\n",
    "\n"
   ]
  },
  {
   "cell_type": "code",
   "execution_count": 216,
   "id": "467ea3b4",
   "metadata": {},
   "outputs": [],
   "source": [
    "# save model word embedding dengan teknik word2vec dengan cbow 10\n",
    "model.save(\"/Users/williamnehemia/Documents/Skripsi/TugasAkhir/WordEmbeddingModel/ModelWord2vecSetelahPembagianData/word2vec_cbow_10.model\")\n"
   ]
  },
  {
   "cell_type": "code",
   "execution_count": 63,
   "id": "a8dd5bb2",
   "metadata": {},
   "outputs": [],
   "source": [
    "# load model word embedding dengan teknik word2vec dengan cbow 10\n",
    "model = Word2Vec.load(\"/Users/williamnehemia/Documents/Skripsi/TugasAkhir/WordEmbeddingModel/ModelWord2vecSetelahPembagianData/word2vec_cbow_10.model\")\n"
   ]
  },
  {
   "cell_type": "code",
   "execution_count": 218,
   "id": "b337f584",
   "metadata": {},
   "outputs": [
    {
     "name": "stdout",
     "output_type": "stream",
     "text": [
      "134217728.0\n"
     ]
    }
   ],
   "source": [
    "# Melihat training loss model word embedding dengan teknik word2vec dengan cbow 10\n",
    "training_loss = model.get_latest_training_loss()\n",
    "print(training_loss)\n"
   ]
  },
  {
   "cell_type": "code",
   "execution_count": 219,
   "id": "78d8e9a1",
   "metadata": {},
   "outputs": [
    {
     "name": "stdout",
     "output_type": "stream",
     "text": [
      "banyak kata ada di model 646\n",
      "banyak kata tidak ada di model 255\n",
      "0.021115084799286303\n"
     ]
    }
   ],
   "source": [
    "# nilai relatedness model cbow 10\n",
    "print(relatedness(model))\n"
   ]
  },
  {
   "cell_type": "code",
   "execution_count": 220,
   "id": "802e1495",
   "metadata": {},
   "outputs": [
    {
     "name": "stdout",
     "output_type": "stream",
     "text": [
      "true_predicted 1 0.0005208333333333333\n",
      "false_predicted 1919 0.9994791666666667\n",
      "banyak kata ada di model 1544\n",
      "banyak kata tidak ada di model 356\n"
     ]
    }
   ],
   "source": [
    "# nilai word analogy model cbow 10\n",
    "word_analogy(model)\n"
   ]
  },
  {
   "cell_type": "code",
   "execution_count": 64,
   "id": "d838f0a5",
   "metadata": {},
   "outputs": [
    {
     "name": "stdout",
     "output_type": "stream",
     "text": [
      "banyak kata ada di model 194\n",
      "banyak kata tidak ada di model 36\n",
      "0.06705444040697486\n"
     ]
    }
   ],
   "source": [
    "# nilai relatedness word sim sim model cbow 10\n",
    "print(relatedness_wordsim_sim(model))"
   ]
  },
  {
   "cell_type": "code",
   "execution_count": 65,
   "id": "ffcd5db2",
   "metadata": {},
   "outputs": [
    {
     "name": "stdout",
     "output_type": "stream",
     "text": [
      "true_predicted 31 0.0051477914314181335\n",
      "false_predicted 5991 0.9948522085685819\n",
      "banyak kata ada di model 511\n",
      "banyak kata tidak ada di model 79\n"
     ]
    }
   ],
   "source": [
    "# nilai word analogy google analogy model cbow 10\n",
    "word_analogy_google_analogy(model)"
   ]
  },
  {
   "cell_type": "code",
   "execution_count": 221,
   "id": "19172d9e",
   "metadata": {},
   "outputs": [
    {
     "name": "stdout",
     "output_type": "stream",
     "text": [
      "Total training time: 2 hours 54 minutes 28 seconds\n"
     ]
    }
   ],
   "source": [
    "# Membuat model word embedding dengan teknik word2vec dengan sg 10\n",
    "\n",
    "# waktu mulai\n",
    "start_time = time.time()\n",
    "\n",
    "model = Word2Vec(sentences=list_of_sentences_for_model, vector_size=10, min_count=1, workers = 10, compute_loss=True,  window=7, sg = 1, alpha = 0.01, seed = 10, epochs = 5000)\n",
    "\n",
    "\n",
    "# waktu selesai\n",
    "end_time = time.time()\n",
    "\n",
    "# hitung waktu training\n",
    "training_time = end_time - start_time\n",
    "\n",
    "# convert ke jam, menit, detik\n",
    "hours = int(training_time // 3600)\n",
    "minutes = int((training_time % 3600) // 60)\n",
    "seconds = int(training_time % 60)\n",
    "\n",
    "print(\"Total training time:\", hours, \"hours\", minutes, \"minutes\", seconds, \"seconds\")\n",
    "\n"
   ]
  },
  {
   "cell_type": "code",
   "execution_count": 222,
   "id": "1c138676",
   "metadata": {},
   "outputs": [],
   "source": [
    "# save model word embedding dengan teknik word2vec dengan sg 10\n",
    "model.save(\"/Users/williamnehemia/Documents/Skripsi/TugasAkhir/WordEmbeddingModel/ModelWord2vecSetelahPembagianData/word2vec_sg_10.model\")\n"
   ]
  },
  {
   "cell_type": "code",
   "execution_count": 66,
   "id": "39b1d804",
   "metadata": {},
   "outputs": [],
   "source": [
    "# load model word embedding dengan teknik word2vec dengan sg 10\n",
    "model = Word2Vec.load(\"/Users/williamnehemia/Documents/Skripsi/TugasAkhir/WordEmbeddingModel/ModelWord2vecSetelahPembagianData/word2vec_sg_10.model\")\n"
   ]
  },
  {
   "cell_type": "code",
   "execution_count": 224,
   "id": "2ea45a77",
   "metadata": {},
   "outputs": [
    {
     "name": "stdout",
     "output_type": "stream",
     "text": [
      "129177072.0\n"
     ]
    }
   ],
   "source": [
    "# Melihat training loss model word embedding dengan teknik word2vec dengan sg 10\n",
    "training_loss = model.get_latest_training_loss()\n",
    "print(training_loss)"
   ]
  },
  {
   "cell_type": "code",
   "execution_count": 225,
   "id": "d8f99aeb",
   "metadata": {},
   "outputs": [
    {
     "name": "stdout",
     "output_type": "stream",
     "text": [
      "banyak kata ada di model 646\n",
      "banyak kata tidak ada di model 255\n",
      "0.1549939725852293\n"
     ]
    }
   ],
   "source": [
    "# nilai relatedness model sg 10\n",
    "print(relatedness(model))"
   ]
  },
  {
   "cell_type": "code",
   "execution_count": 226,
   "id": "0f156f46",
   "metadata": {},
   "outputs": [
    {
     "name": "stdout",
     "output_type": "stream",
     "text": [
      "true_predicted 1 0.0005208333333333333\n",
      "false_predicted 1919 0.9994791666666667\n",
      "banyak kata ada di model 1544\n",
      "banyak kata tidak ada di model 356\n"
     ]
    }
   ],
   "source": [
    "# nilai word analogy model sg 10\n",
    "word_analogy(model)"
   ]
  },
  {
   "cell_type": "code",
   "execution_count": 67,
   "id": "2d5d6f7c",
   "metadata": {},
   "outputs": [
    {
     "name": "stdout",
     "output_type": "stream",
     "text": [
      "banyak kata ada di model 194\n",
      "banyak kata tidak ada di model 36\n",
      "0.2537827431857055\n"
     ]
    }
   ],
   "source": [
    "# nilai relatedness word sim sim model sg 10\n",
    "print(relatedness_wordsim_sim(model))"
   ]
  },
  {
   "cell_type": "code",
   "execution_count": 68,
   "id": "4ae01bc0",
   "metadata": {},
   "outputs": [
    {
     "name": "stdout",
     "output_type": "stream",
     "text": [
      "true_predicted 13 0.002158751245433411\n",
      "false_predicted 6009 0.9978412487545666\n",
      "banyak kata ada di model 511\n",
      "banyak kata tidak ada di model 79\n"
     ]
    }
   ],
   "source": [
    "# nilai word analogy google analogy model sg 10\n",
    "word_analogy_google_analogy(model)"
   ]
  },
  {
   "cell_type": "code",
   "execution_count": 227,
   "id": "a26a04a6",
   "metadata": {},
   "outputs": [
    {
     "name": "stdout",
     "output_type": "stream",
     "text": [
      "Total training time: 0 hours 36 minutes 2 seconds\n"
     ]
    }
   ],
   "source": [
    "# Membuat model word embedding dengan teknik word2vec dengan cbow 11\n",
    "\n",
    "# waktu mulai\n",
    "start_time = time.time()\n",
    "\n",
    "model = Word2Vec(sentences=list_of_sentences_for_model, vector_size=10, min_count=1, workers = 10, compute_loss=True,  window=9, sg = 0, cbow_mean = 0, alpha = 0.01, seed = 10, epochs = 5000)\n",
    "\n",
    "# waktu selesai\n",
    "end_time = time.time()\n",
    "\n",
    "# hitung waktu training\n",
    "training_time = end_time - start_time\n",
    "\n",
    "# convert ke jam, menit, detik\n",
    "hours = int(training_time // 3600)\n",
    "minutes = int((training_time % 3600) // 60)\n",
    "seconds = int(training_time % 60)\n",
    "\n",
    "print(\"Total training time:\", hours, \"hours\", minutes, \"minutes\", seconds, \"seconds\")\n",
    "\n"
   ]
  },
  {
   "cell_type": "code",
   "execution_count": 228,
   "id": "5660d4a9",
   "metadata": {},
   "outputs": [],
   "source": [
    "# save model word embedding dengan teknik word2vec dengan cbow 11\n",
    "model.save(\"/Users/williamnehemia/Documents/Skripsi/TugasAkhir/WordEmbeddingModel/ModelWord2vecSetelahPembagianData/word2vec_cbow_11.model\")\n"
   ]
  },
  {
   "cell_type": "code",
   "execution_count": 69,
   "id": "41bf8134",
   "metadata": {},
   "outputs": [],
   "source": [
    "# load model word embedding dengan teknik word2vec dengan cbow 11\n",
    "model = Word2Vec.load(\"/Users/williamnehemia/Documents/Skripsi/TugasAkhir/WordEmbeddingModel/ModelWord2vecSetelahPembagianData/word2vec_cbow_11.model\")\n"
   ]
  },
  {
   "cell_type": "code",
   "execution_count": 230,
   "id": "009f79d7",
   "metadata": {},
   "outputs": [
    {
     "name": "stdout",
     "output_type": "stream",
     "text": [
      "134217728.0\n"
     ]
    }
   ],
   "source": [
    "# Melihat training loss model word embedding dengan teknik word2vec dengan cbow 11\n",
    "training_loss = model.get_latest_training_loss()\n",
    "print(training_loss)\n"
   ]
  },
  {
   "cell_type": "code",
   "execution_count": 231,
   "id": "18eba628",
   "metadata": {},
   "outputs": [
    {
     "name": "stdout",
     "output_type": "stream",
     "text": [
      "banyak kata ada di model 646\n",
      "banyak kata tidak ada di model 255\n",
      "0.0007860049541572584\n"
     ]
    }
   ],
   "source": [
    "# nilai relatedness model cbow 11\n",
    "print(relatedness(model))\n"
   ]
  },
  {
   "cell_type": "code",
   "execution_count": 232,
   "id": "681a5774",
   "metadata": {},
   "outputs": [
    {
     "name": "stdout",
     "output_type": "stream",
     "text": [
      "true_predicted 0 0.0\n",
      "false_predicted 1920 1.0\n",
      "banyak kata ada di model 1544\n",
      "banyak kata tidak ada di model 356\n"
     ]
    }
   ],
   "source": [
    "# nilai word analogy model cbow 11\n",
    "word_analogy(model)\n"
   ]
  },
  {
   "cell_type": "code",
   "execution_count": 70,
   "id": "fd2524d5",
   "metadata": {},
   "outputs": [
    {
     "name": "stdout",
     "output_type": "stream",
     "text": [
      "banyak kata ada di model 194\n",
      "banyak kata tidak ada di model 36\n",
      "0.05735310008235818\n"
     ]
    }
   ],
   "source": [
    "# nilai relatedness word sim sim model cbow 11\n",
    "print(relatedness_wordsim_sim(model))"
   ]
  },
  {
   "cell_type": "code",
   "execution_count": 71,
   "id": "29554533",
   "metadata": {},
   "outputs": [
    {
     "name": "stdout",
     "output_type": "stream",
     "text": [
      "true_predicted 30 0.004981733643307871\n",
      "false_predicted 5992 0.9950182663566921\n",
      "banyak kata ada di model 511\n",
      "banyak kata tidak ada di model 79\n"
     ]
    }
   ],
   "source": [
    "# nilai word analogy google analogy model cbow 11\n",
    "word_analogy_google_analogy(model)"
   ]
  },
  {
   "cell_type": "code",
   "execution_count": 233,
   "id": "11c79c93",
   "metadata": {},
   "outputs": [
    {
     "name": "stdout",
     "output_type": "stream",
     "text": [
      "Total training time: 2 hours 19 minutes 52 seconds\n"
     ]
    }
   ],
   "source": [
    "# Membuat model word embedding dengan teknik word2vec dengan sg 11\n",
    "\n",
    "# waktu mulai\n",
    "start_time = time.time()\n",
    "\n",
    "model = Word2Vec(sentences=list_of_sentences_for_model, vector_size=10, min_count=1, workers = 10, compute_loss=True,  window=9, sg = 1, alpha = 0.01, seed = 10, epochs = 5000)\n",
    "\n",
    "\n",
    "# waktu selesai\n",
    "end_time = time.time()\n",
    "\n",
    "# hitung waktu training\n",
    "training_time = end_time - start_time\n",
    "\n",
    "# convert ke jam, menit, detik\n",
    "hours = int(training_time // 3600)\n",
    "minutes = int((training_time % 3600) // 60)\n",
    "seconds = int(training_time % 60)\n",
    "\n",
    "print(\"Total training time:\", hours, \"hours\", minutes, \"minutes\", seconds, \"seconds\")\n",
    "\n"
   ]
  },
  {
   "cell_type": "code",
   "execution_count": 234,
   "id": "2a0643e3",
   "metadata": {},
   "outputs": [],
   "source": [
    "# save model word embedding dengan teknik word2vec dengan sg 11\n",
    "model.save(\"/Users/williamnehemia/Documents/Skripsi/TugasAkhir/WordEmbeddingModel/ModelWord2vecSetelahPembagianData/word2vec_sg_11.model\")\n"
   ]
  },
  {
   "cell_type": "code",
   "execution_count": 72,
   "id": "8f662a60",
   "metadata": {},
   "outputs": [],
   "source": [
    "# load model word embedding dengan teknik word2vec dengan sg 11\n",
    "model = Word2Vec.load(\"/Users/williamnehemia/Documents/Skripsi/TugasAkhir/WordEmbeddingModel/ModelWord2vecSetelahPembagianData/word2vec_sg_11.model\")\n"
   ]
  },
  {
   "cell_type": "code",
   "execution_count": 236,
   "id": "ea8872d9",
   "metadata": {},
   "outputs": [
    {
     "name": "stdout",
     "output_type": "stream",
     "text": [
      "134217728.0\n"
     ]
    }
   ],
   "source": [
    "# Melihat training loss model word embedding dengan teknik word2vec dengan sg 11\n",
    "training_loss = model.get_latest_training_loss()\n",
    "print(training_loss)"
   ]
  },
  {
   "cell_type": "code",
   "execution_count": 237,
   "id": "9ca4b544",
   "metadata": {},
   "outputs": [
    {
     "name": "stdout",
     "output_type": "stream",
     "text": [
      "banyak kata ada di model 646\n",
      "banyak kata tidak ada di model 255\n",
      "0.14738280306950588\n"
     ]
    }
   ],
   "source": [
    "# nilai relatedness model sg 11\n",
    "print(relatedness(model))"
   ]
  },
  {
   "cell_type": "code",
   "execution_count": 238,
   "id": "60798f27",
   "metadata": {},
   "outputs": [
    {
     "name": "stdout",
     "output_type": "stream",
     "text": [
      "true_predicted 2 0.0010416666666666667\n",
      "false_predicted 1918 0.9989583333333333\n",
      "banyak kata ada di model 1544\n",
      "banyak kata tidak ada di model 356\n"
     ]
    }
   ],
   "source": [
    "# nilai word analogy model sg 11\n",
    "word_analogy(model)"
   ]
  },
  {
   "cell_type": "code",
   "execution_count": 73,
   "id": "e104da1b",
   "metadata": {},
   "outputs": [
    {
     "name": "stdout",
     "output_type": "stream",
     "text": [
      "banyak kata ada di model 194\n",
      "banyak kata tidak ada di model 36\n",
      "0.2678337877375003\n"
     ]
    }
   ],
   "source": [
    "# nilai relatedness word sim sim model sg 11\n",
    "print(relatedness_wordsim_sim(model))"
   ]
  },
  {
   "cell_type": "code",
   "execution_count": 74,
   "id": "b3b288d0",
   "metadata": {},
   "outputs": [
    {
     "name": "stdout",
     "output_type": "stream",
     "text": [
      "true_predicted 11 0.0018266356692128861\n",
      "false_predicted 6011 0.9981733643307871\n",
      "banyak kata ada di model 511\n",
      "banyak kata tidak ada di model 79\n"
     ]
    }
   ],
   "source": [
    "# nilai word analogy google analogy model sg 11\n",
    "word_analogy_google_analogy(model)"
   ]
  },
  {
   "cell_type": "code",
   "execution_count": 239,
   "id": "ff9de93a",
   "metadata": {},
   "outputs": [
    {
     "name": "stdout",
     "output_type": "stream",
     "text": [
      "Total training time: 0 hours 51 minutes 2 seconds\n"
     ]
    }
   ],
   "source": [
    "# Membuat model word embedding dengan teknik word2vec dengan cbow 12\n",
    "\n",
    "# waktu mulai\n",
    "start_time = time.time()\n",
    "\n",
    "model = Word2Vec(sentences=list_of_sentences_for_model, vector_size=10, min_count=1, workers = 10, compute_loss=True,  window=3, sg = 0, cbow_mean = 0, alpha = 0.01, seed = 10, epochs = 5000)\n",
    "\n",
    "# waktu selesai\n",
    "end_time = time.time()\n",
    "\n",
    "# hitung waktu training\n",
    "training_time = end_time - start_time\n",
    "\n",
    "# convert ke jam, menit, detik\n",
    "hours = int(training_time // 3600)\n",
    "minutes = int((training_time % 3600) // 60)\n",
    "seconds = int(training_time % 60)\n",
    "\n",
    "print(\"Total training time:\", hours, \"hours\", minutes, \"minutes\", seconds, \"seconds\")\n",
    "\n"
   ]
  },
  {
   "cell_type": "code",
   "execution_count": 240,
   "id": "8b58a59b",
   "metadata": {},
   "outputs": [],
   "source": [
    "# save model word embedding dengan teknik word2vec dengan cbow 12\n",
    "model.save(\"/Users/williamnehemia/Documents/Skripsi/TugasAkhir/WordEmbeddingModel/ModelWord2vecSetelahPembagianData/word2vec_cbow_12.model\")\n"
   ]
  },
  {
   "cell_type": "code",
   "execution_count": 75,
   "id": "e186435f",
   "metadata": {},
   "outputs": [],
   "source": [
    "# load model word embedding dengan teknik word2vec dengan cbow 12\n",
    "model = Word2Vec.load(\"/Users/williamnehemia/Documents/Skripsi/TugasAkhir/WordEmbeddingModel/ModelWord2vecSetelahPembagianData/word2vec_cbow_12.model\")\n"
   ]
  },
  {
   "cell_type": "code",
   "execution_count": 242,
   "id": "463f7996",
   "metadata": {},
   "outputs": [
    {
     "name": "stdout",
     "output_type": "stream",
     "text": [
      "134217728.0\n"
     ]
    }
   ],
   "source": [
    "# Melihat training loss model word embedding dengan teknik word2vec dengan cbow 12\n",
    "training_loss = model.get_latest_training_loss()\n",
    "print(training_loss)\n"
   ]
  },
  {
   "cell_type": "code",
   "execution_count": 243,
   "id": "e9bd26df",
   "metadata": {},
   "outputs": [
    {
     "name": "stdout",
     "output_type": "stream",
     "text": [
      "banyak kata ada di model 646\n",
      "banyak kata tidak ada di model 255\n",
      "0.0027178215853944135\n"
     ]
    }
   ],
   "source": [
    "# nilai relatedness model cbow 12\n",
    "print(relatedness(model))\n"
   ]
  },
  {
   "cell_type": "code",
   "execution_count": 244,
   "id": "f2a9bff3",
   "metadata": {},
   "outputs": [
    {
     "name": "stdout",
     "output_type": "stream",
     "text": [
      "true_predicted 0 0.0\n",
      "false_predicted 1920 1.0\n",
      "banyak kata ada di model 1544\n",
      "banyak kata tidak ada di model 356\n"
     ]
    }
   ],
   "source": [
    "# nilai word analogy model cbow 12\n",
    "word_analogy(model)\n"
   ]
  },
  {
   "cell_type": "code",
   "execution_count": 76,
   "id": "51e7568c",
   "metadata": {},
   "outputs": [
    {
     "name": "stdout",
     "output_type": "stream",
     "text": [
      "banyak kata ada di model 194\n",
      "banyak kata tidak ada di model 36\n",
      "0.0872940641454377\n"
     ]
    }
   ],
   "source": [
    "# nilai relatedness word sim sim model cbow 12\n",
    "print(relatedness_wordsim_sim(model))"
   ]
  },
  {
   "cell_type": "code",
   "execution_count": 77,
   "id": "11454d16",
   "metadata": {},
   "outputs": [
    {
     "name": "stdout",
     "output_type": "stream",
     "text": [
      "true_predicted 23 0.0038193291265360345\n",
      "false_predicted 5999 0.996180670873464\n",
      "banyak kata ada di model 511\n",
      "banyak kata tidak ada di model 79\n"
     ]
    }
   ],
   "source": [
    "# nilai word analogy google analogy model cbow 12\n",
    "word_analogy_google_analogy(model)"
   ]
  },
  {
   "cell_type": "code",
   "execution_count": 245,
   "id": "7b52c7de",
   "metadata": {},
   "outputs": [
    {
     "name": "stdout",
     "output_type": "stream",
     "text": [
      "Total training time: 1 hours 29 minutes 47 seconds\n"
     ]
    }
   ],
   "source": [
    "# Membuat model word embedding dengan teknik word2vec dengan sg 12\n",
    "\n",
    "# waktu mulai\n",
    "start_time = time.time()\n",
    "\n",
    "model = Word2Vec(sentences=list_of_sentences_for_model, vector_size=10, min_count=1, workers = 10, compute_loss=True,  window=3, sg = 1, alpha = 0.01, seed = 10, epochs = 5000)\n",
    "\n",
    "\n",
    "# waktu selesai\n",
    "end_time = time.time()\n",
    "\n",
    "# hitung waktu training\n",
    "training_time = end_time - start_time\n",
    "\n",
    "# convert ke jam, menit, detik\n",
    "hours = int(training_time // 3600)\n",
    "minutes = int((training_time % 3600) // 60)\n",
    "seconds = int(training_time % 60)\n",
    "\n",
    "print(\"Total training time:\", hours, \"hours\", minutes, \"minutes\", seconds, \"seconds\")\n",
    "\n"
   ]
  },
  {
   "cell_type": "code",
   "execution_count": 246,
   "id": "c878fe5a",
   "metadata": {},
   "outputs": [],
   "source": [
    "# save model word embedding dengan teknik word2vec dengan sg 12\n",
    "model.save(\"/Users/williamnehemia/Documents/Skripsi/TugasAkhir/WordEmbeddingModel/ModelWord2vecSetelahPembagianData/word2vec_sg_12.model\")\n"
   ]
  },
  {
   "cell_type": "code",
   "execution_count": 78,
   "id": "87519b92",
   "metadata": {},
   "outputs": [],
   "source": [
    "# load model word embedding dengan teknik word2vec dengan sg 12\n",
    "model = Word2Vec.load(\"/Users/williamnehemia/Documents/Skripsi/TugasAkhir/WordEmbeddingModel/ModelWord2vecSetelahPembagianData/word2vec_sg_12.model\")\n"
   ]
  },
  {
   "cell_type": "code",
   "execution_count": 248,
   "id": "b8ec0bb1",
   "metadata": {},
   "outputs": [
    {
     "name": "stdout",
     "output_type": "stream",
     "text": [
      "113536960.0\n"
     ]
    }
   ],
   "source": [
    "# Melihat training loss model word embedding dengan teknik word2vec dengan sg 12\n",
    "training_loss = model.get_latest_training_loss()\n",
    "print(training_loss)"
   ]
  },
  {
   "cell_type": "code",
   "execution_count": 249,
   "id": "d8d0a25a",
   "metadata": {},
   "outputs": [
    {
     "name": "stdout",
     "output_type": "stream",
     "text": [
      "banyak kata ada di model 646\n",
      "banyak kata tidak ada di model 255\n",
      "0.1489771393257483\n"
     ]
    }
   ],
   "source": [
    "# nilai relatedness model sg 12\n",
    "print(relatedness(model))"
   ]
  },
  {
   "cell_type": "code",
   "execution_count": 250,
   "id": "5fa42b7c",
   "metadata": {},
   "outputs": [
    {
     "name": "stdout",
     "output_type": "stream",
     "text": [
      "true_predicted 0 0.0\n",
      "false_predicted 1920 1.0\n",
      "banyak kata ada di model 1544\n",
      "banyak kata tidak ada di model 356\n"
     ]
    }
   ],
   "source": [
    "# nilai word analogy model sg 12\n",
    "word_analogy(model)"
   ]
  },
  {
   "cell_type": "code",
   "execution_count": 79,
   "id": "a95ecdbb",
   "metadata": {},
   "outputs": [
    {
     "name": "stdout",
     "output_type": "stream",
     "text": [
      "banyak kata ada di model 194\n",
      "banyak kata tidak ada di model 36\n",
      "0.2673118232302389\n"
     ]
    }
   ],
   "source": [
    "# nilai relatedness word sim sim model sg 12\n",
    "print(relatedness_wordsim_sim(model))"
   ]
  },
  {
   "cell_type": "code",
   "execution_count": 80,
   "id": "a2d1d49c",
   "metadata": {},
   "outputs": [
    {
     "name": "stdout",
     "output_type": "stream",
     "text": [
      "true_predicted 12 0.0019926934573231483\n",
      "false_predicted 6010 0.9980073065426769\n",
      "banyak kata ada di model 511\n",
      "banyak kata tidak ada di model 79\n"
     ]
    }
   ],
   "source": [
    "# nilai word analogy google analogy model sg 12\n",
    "word_analogy_google_analogy(model)"
   ]
  },
  {
   "cell_type": "code",
   "execution_count": 251,
   "id": "44355375",
   "metadata": {},
   "outputs": [
    {
     "name": "stdout",
     "output_type": "stream",
     "text": [
      "Total training time: 0 hours 6 minutes 8 seconds\n"
     ]
    }
   ],
   "source": [
    "# Membuat model word embedding dengan teknik word2vec dengan cbow 13\n",
    "\n",
    "# waktu mulai\n",
    "start_time = time.time()\n",
    "\n",
    "model = Word2Vec(sentences=list_of_sentences_for_model, vector_size=20, min_count=1, workers = 10, compute_loss=True,  window=5, sg = 0, cbow_mean = 0, alpha = 0.01, seed = 10, epochs = 1000)\n",
    "\n",
    "# waktu selesai\n",
    "end_time = time.time()\n",
    "\n",
    "# hitung waktu training\n",
    "training_time = end_time - start_time\n",
    "\n",
    "# convert ke jam, menit, detik\n",
    "hours = int(training_time // 3600)\n",
    "minutes = int((training_time % 3600) // 60)\n",
    "seconds = int(training_time % 60)\n",
    "\n",
    "print(\"Total training time:\", hours, \"hours\", minutes, \"minutes\", seconds, \"seconds\")\n",
    "\n"
   ]
  },
  {
   "cell_type": "code",
   "execution_count": 252,
   "id": "cfa64e00",
   "metadata": {},
   "outputs": [],
   "source": [
    "# save model word embedding dengan teknik word2vec dengan cbow 13\n",
    "model.save(\"/Users/williamnehemia/Documents/Skripsi/TugasAkhir/WordEmbeddingModel/ModelWord2vecSetelahPembagianData/word2vec_cbow_13.model\")\n"
   ]
  },
  {
   "cell_type": "code",
   "execution_count": 81,
   "id": "fcce7e9c",
   "metadata": {},
   "outputs": [],
   "source": [
    "# load model word embedding dengan teknik word2vec dengan cbow 13\n",
    "model = Word2Vec.load(\"/Users/williamnehemia/Documents/Skripsi/TugasAkhir/WordEmbeddingModel/ModelWord2vecSetelahPembagianData/word2vec_cbow_13.model\")\n"
   ]
  },
  {
   "cell_type": "code",
   "execution_count": 254,
   "id": "3bc0ae02",
   "metadata": {},
   "outputs": [
    {
     "name": "stdout",
     "output_type": "stream",
     "text": [
      "70112816.0\n"
     ]
    }
   ],
   "source": [
    "# Melihat training loss model word embedding dengan teknik word2vec dengan cbow 13\n",
    "training_loss = model.get_latest_training_loss()\n",
    "print(training_loss)\n"
   ]
  },
  {
   "cell_type": "code",
   "execution_count": 255,
   "id": "77d7a5de",
   "metadata": {},
   "outputs": [
    {
     "name": "stdout",
     "output_type": "stream",
     "text": [
      "banyak kata ada di model 646\n",
      "banyak kata tidak ada di model 255\n",
      "-0.019270458432062407\n"
     ]
    }
   ],
   "source": [
    "# nilai relatedness model cbow 13\n",
    "print(relatedness(model))\n"
   ]
  },
  {
   "cell_type": "code",
   "execution_count": 256,
   "id": "5e40cfb4",
   "metadata": {},
   "outputs": [
    {
     "name": "stdout",
     "output_type": "stream",
     "text": [
      "true_predicted 5 0.0026041666666666665\n",
      "false_predicted 1915 0.9973958333333334\n",
      "banyak kata ada di model 1544\n",
      "banyak kata tidak ada di model 356\n"
     ]
    }
   ],
   "source": [
    "# nilai word analogy model cbow 13\n",
    "word_analogy(model)\n"
   ]
  },
  {
   "cell_type": "code",
   "execution_count": 82,
   "id": "bb30cdec",
   "metadata": {},
   "outputs": [
    {
     "name": "stdout",
     "output_type": "stream",
     "text": [
      "banyak kata ada di model 194\n",
      "banyak kata tidak ada di model 36\n",
      "0.06835335208309083\n"
     ]
    }
   ],
   "source": [
    "# nilai relatedness word sim sim model cbow 13\n",
    "print(relatedness_wordsim_sim(model))"
   ]
  },
  {
   "cell_type": "code",
   "execution_count": 83,
   "id": "798a9d5e",
   "metadata": {},
   "outputs": [
    {
     "name": "stdout",
     "output_type": "stream",
     "text": [
      "true_predicted 64 0.010627698439056792\n",
      "false_predicted 5958 0.9893723015609432\n",
      "banyak kata ada di model 511\n",
      "banyak kata tidak ada di model 79\n"
     ]
    }
   ],
   "source": [
    "# nilai word analogy google analogy model cbow 13\n",
    "word_analogy_google_analogy(model)"
   ]
  },
  {
   "cell_type": "code",
   "execution_count": 257,
   "id": "10b5d85f",
   "metadata": {},
   "outputs": [
    {
     "name": "stdout",
     "output_type": "stream",
     "text": [
      "Total training time: 0 hours 27 minutes 45 seconds\n"
     ]
    }
   ],
   "source": [
    "# Membuat model word embedding dengan teknik word2vec dengan sg 13\n",
    "\n",
    "# waktu mulai\n",
    "start_time = time.time()\n",
    "\n",
    "model = Word2Vec(sentences=list_of_sentences_for_model, vector_size=20, min_count=1, workers = 10, compute_loss=True,  window=5, sg = 1, alpha = 0.01, seed = 10, epochs = 1000)\n",
    "\n",
    "\n",
    "# waktu selesai\n",
    "end_time = time.time()\n",
    "\n",
    "# hitung waktu training\n",
    "training_time = end_time - start_time\n",
    "\n",
    "# convert ke jam, menit, detik\n",
    "hours = int(training_time // 3600)\n",
    "minutes = int((training_time % 3600) // 60)\n",
    "seconds = int(training_time % 60)\n",
    "\n",
    "print(\"Total training time:\", hours, \"hours\", minutes, \"minutes\", seconds, \"seconds\")\n",
    "\n"
   ]
  },
  {
   "cell_type": "code",
   "execution_count": 258,
   "id": "c94e1e9a",
   "metadata": {},
   "outputs": [],
   "source": [
    "# save model word embedding dengan teknik word2vec dengan sg 13\n",
    "model.save(\"/Users/williamnehemia/Documents/Skripsi/TugasAkhir/WordEmbeddingModel/ModelWord2vecSetelahPembagianData/word2vec_sg_13.model\")\n"
   ]
  },
  {
   "cell_type": "code",
   "execution_count": 84,
   "id": "cc4f9a5f",
   "metadata": {},
   "outputs": [],
   "source": [
    "# load model word embedding dengan teknik word2vec dengan sg 13\n",
    "model = Word2Vec.load(\"/Users/williamnehemia/Documents/Skripsi/TugasAkhir/WordEmbeddingModel/ModelWord2vecSetelahPembagianData/word2vec_sg_13.model\")\n"
   ]
  },
  {
   "cell_type": "code",
   "execution_count": 260,
   "id": "db69075b",
   "metadata": {},
   "outputs": [
    {
     "name": "stdout",
     "output_type": "stream",
     "text": [
      "76994824.0\n"
     ]
    }
   ],
   "source": [
    "# Melihat training loss model word embedding dengan teknik word2vec dengan sg 13\n",
    "training_loss = model.get_latest_training_loss()\n",
    "print(training_loss)"
   ]
  },
  {
   "cell_type": "code",
   "execution_count": 261,
   "id": "8ed42a3d",
   "metadata": {},
   "outputs": [
    {
     "name": "stdout",
     "output_type": "stream",
     "text": [
      "banyak kata ada di model 646\n",
      "banyak kata tidak ada di model 255\n",
      "0.17751726240329577\n"
     ]
    }
   ],
   "source": [
    "# nilai relatedness model sg 13\n",
    "print(relatedness(model))"
   ]
  },
  {
   "cell_type": "code",
   "execution_count": 262,
   "id": "d438c4c4",
   "metadata": {},
   "outputs": [
    {
     "name": "stdout",
     "output_type": "stream",
     "text": [
      "true_predicted 6 0.003125\n",
      "false_predicted 1914 0.996875\n",
      "banyak kata ada di model 1544\n",
      "banyak kata tidak ada di model 356\n"
     ]
    }
   ],
   "source": [
    "# nilai word analogy model sg 13\n",
    "word_analogy(model)"
   ]
  },
  {
   "cell_type": "code",
   "execution_count": 85,
   "id": "59f00356",
   "metadata": {},
   "outputs": [
    {
     "name": "stdout",
     "output_type": "stream",
     "text": [
      "banyak kata ada di model 194\n",
      "banyak kata tidak ada di model 36\n",
      "0.2823797986323878\n"
     ]
    }
   ],
   "source": [
    "# nilai relatedness word sim sim model sg 13\n",
    "print(relatedness_wordsim_sim(model))"
   ]
  },
  {
   "cell_type": "code",
   "execution_count": 86,
   "id": "fd591211",
   "metadata": {},
   "outputs": [
    {
     "name": "stdout",
     "output_type": "stream",
     "text": [
      "true_predicted 59 0.00979740949850548\n",
      "false_predicted 5963 0.9902025905014945\n",
      "banyak kata ada di model 511\n",
      "banyak kata tidak ada di model 79\n"
     ]
    }
   ],
   "source": [
    "# nilai word analogy google analogy model sg 13\n",
    "word_analogy_google_analogy(model)"
   ]
  },
  {
   "cell_type": "code",
   "execution_count": 263,
   "id": "2e8e9547",
   "metadata": {},
   "outputs": [
    {
     "name": "stdout",
     "output_type": "stream",
     "text": [
      "Total training time: 0 hours 12 minutes 18 seconds\n"
     ]
    }
   ],
   "source": [
    "# Membuat model word embedding dengan teknik word2vec dengan cbow 14\n",
    "\n",
    "# waktu mulai\n",
    "start_time = time.time()\n",
    "\n",
    "model = Word2Vec(sentences=list_of_sentences_for_model, vector_size=30, min_count=1, workers = 10, compute_loss=True,  window=5, sg = 0, cbow_mean = 0, alpha = 0.01, seed = 10, epochs = 1000)\n",
    "\n",
    "# waktu selesai\n",
    "end_time = time.time()\n",
    "\n",
    "# hitung waktu training\n",
    "training_time = end_time - start_time\n",
    "\n",
    "# convert ke jam, menit, detik\n",
    "hours = int(training_time // 3600)\n",
    "minutes = int((training_time % 3600) // 60)\n",
    "seconds = int(training_time % 60)\n",
    "\n",
    "print(\"Total training time:\", hours, \"hours\", minutes, \"minutes\", seconds, \"seconds\")\n",
    "\n"
   ]
  },
  {
   "cell_type": "code",
   "execution_count": 264,
   "id": "e941dc2e",
   "metadata": {},
   "outputs": [],
   "source": [
    "# save model word embedding dengan teknik word2vec dengan cbow 14\n",
    "model.save(\"/Users/williamnehemia/Documents/Skripsi/TugasAkhir/WordEmbeddingModel/ModelWord2vecSetelahPembagianData/word2vec_cbow_14.model\")\n"
   ]
  },
  {
   "cell_type": "code",
   "execution_count": 87,
   "id": "407dd27a",
   "metadata": {},
   "outputs": [],
   "source": [
    "# load model word embedding dengan teknik word2vec dengan cbow 14\n",
    "model = Word2Vec.load(\"/Users/williamnehemia/Documents/Skripsi/TugasAkhir/WordEmbeddingModel/ModelWord2vecSetelahPembagianData/word2vec_cbow_14.model\")\n"
   ]
  },
  {
   "cell_type": "code",
   "execution_count": 266,
   "id": "1b1f067d",
   "metadata": {},
   "outputs": [
    {
     "name": "stdout",
     "output_type": "stream",
     "text": [
      "69531368.0\n"
     ]
    }
   ],
   "source": [
    "# Melihat training loss model word embedding dengan teknik word2vec dengan cbow 14\n",
    "training_loss = model.get_latest_training_loss()\n",
    "print(training_loss)\n"
   ]
  },
  {
   "cell_type": "code",
   "execution_count": 267,
   "id": "86ae1ec1",
   "metadata": {},
   "outputs": [
    {
     "name": "stdout",
     "output_type": "stream",
     "text": [
      "69531368.0\n"
     ]
    }
   ],
   "source": [
    "# Melihat training loss model word embedding dengan teknik word2vec dengan cbow 14\n",
    "training_loss = model.get_latest_training_loss()\n",
    "print(training_loss)\n"
   ]
  },
  {
   "cell_type": "code",
   "execution_count": 268,
   "id": "a67e6cee",
   "metadata": {},
   "outputs": [
    {
     "name": "stdout",
     "output_type": "stream",
     "text": [
      "banyak kata ada di model 646\n",
      "banyak kata tidak ada di model 255\n",
      "-0.031345134926955134\n"
     ]
    }
   ],
   "source": [
    "# nilai relatedness model cbow 14\n",
    "print(relatedness(model))\n"
   ]
  },
  {
   "cell_type": "code",
   "execution_count": 269,
   "id": "008b43f7",
   "metadata": {},
   "outputs": [
    {
     "name": "stdout",
     "output_type": "stream",
     "text": [
      "true_predicted 6 0.003125\n",
      "false_predicted 1914 0.996875\n",
      "banyak kata ada di model 1544\n",
      "banyak kata tidak ada di model 356\n"
     ]
    }
   ],
   "source": [
    "# nilai word analogy model cbow 14\n",
    "word_analogy(model)\n"
   ]
  },
  {
   "cell_type": "code",
   "execution_count": 88,
   "id": "7369b0ed",
   "metadata": {},
   "outputs": [
    {
     "name": "stdout",
     "output_type": "stream",
     "text": [
      "banyak kata ada di model 194\n",
      "banyak kata tidak ada di model 36\n",
      "0.02846506442185767\n"
     ]
    }
   ],
   "source": [
    "# nilai relatedness word sim sim model cbow 14\n",
    "print(relatedness_wordsim_sim(model))"
   ]
  },
  {
   "cell_type": "code",
   "execution_count": 89,
   "id": "d36c57b0",
   "metadata": {},
   "outputs": [
    {
     "name": "stdout",
     "output_type": "stream",
     "text": [
      "true_predicted 74 0.012288276320159415\n",
      "false_predicted 5948 0.9877117236798406\n",
      "banyak kata ada di model 511\n",
      "banyak kata tidak ada di model 79\n"
     ]
    }
   ],
   "source": [
    "# nilai word analogy google analogy model cbow 14\n",
    "word_analogy_google_analogy(model)"
   ]
  },
  {
   "cell_type": "code",
   "execution_count": 270,
   "id": "9a5b9e13",
   "metadata": {},
   "outputs": [
    {
     "name": "stdout",
     "output_type": "stream",
     "text": [
      "Total training time: 0 hours 33 minutes 35 seconds\n"
     ]
    }
   ],
   "source": [
    "# Membuat model word embedding dengan teknik word2vec dengan sg 14\n",
    "\n",
    "# waktu mulai\n",
    "start_time = time.time()\n",
    "\n",
    "model = Word2Vec(sentences=list_of_sentences_for_model, vector_size=30, min_count=1, workers = 10, compute_loss=True,  window=5, sg = 1, alpha = 0.01, seed = 10, epochs = 1000)\n",
    "\n",
    "\n",
    "# waktu selesai\n",
    "end_time = time.time()\n",
    "\n",
    "# hitung waktu training\n",
    "training_time = end_time - start_time\n",
    "\n",
    "# convert ke jam, menit, detik\n",
    "hours = int(training_time // 3600)\n",
    "minutes = int((training_time % 3600) // 60)\n",
    "seconds = int(training_time % 60)\n",
    "\n",
    "print(\"Total training time:\", hours, \"hours\", minutes, \"minutes\", seconds, \"seconds\")\n",
    "\n"
   ]
  },
  {
   "cell_type": "code",
   "execution_count": 271,
   "id": "e2ddd384",
   "metadata": {},
   "outputs": [],
   "source": [
    "# save model word embedding dengan teknik word2vec dengan sg 14\n",
    "model.save(\"/Users/williamnehemia/Documents/Skripsi/TugasAkhir/WordEmbeddingModel/ModelWord2vecSetelahPembagianData/word2vec_sg_14.model\")\n"
   ]
  },
  {
   "cell_type": "code",
   "execution_count": 90,
   "id": "31bb0fed",
   "metadata": {},
   "outputs": [],
   "source": [
    "# load model word embedding dengan teknik word2vec dengan sg 14\n",
    "model = Word2Vec.load(\"/Users/williamnehemia/Documents/Skripsi/TugasAkhir/WordEmbeddingModel/ModelWord2vecSetelahPembagianData/word2vec_sg_14.model\")\n"
   ]
  },
  {
   "cell_type": "code",
   "execution_count": 273,
   "id": "8f169313",
   "metadata": {},
   "outputs": [
    {
     "name": "stdout",
     "output_type": "stream",
     "text": [
      "77496840.0\n"
     ]
    }
   ],
   "source": [
    "# Melihat training loss model word embedding dengan teknik word2vec dengan sg 14\n",
    "training_loss = model.get_latest_training_loss()\n",
    "print(training_loss)"
   ]
  },
  {
   "cell_type": "code",
   "execution_count": 274,
   "id": "ce5bc026",
   "metadata": {},
   "outputs": [
    {
     "name": "stdout",
     "output_type": "stream",
     "text": [
      "banyak kata ada di model 646\n",
      "banyak kata tidak ada di model 255\n",
      "0.2108695360089712\n"
     ]
    }
   ],
   "source": [
    "# nilai relatedness model sg 14\n",
    "print(relatedness(model))"
   ]
  },
  {
   "cell_type": "code",
   "execution_count": 275,
   "id": "cd4187d4",
   "metadata": {},
   "outputs": [
    {
     "name": "stdout",
     "output_type": "stream",
     "text": [
      "true_predicted 6 0.003125\n",
      "false_predicted 1914 0.996875\n",
      "banyak kata ada di model 1544\n",
      "banyak kata tidak ada di model 356\n"
     ]
    }
   ],
   "source": [
    "# nilai word analogy model sg 14\n",
    "word_analogy(model)"
   ]
  },
  {
   "cell_type": "code",
   "execution_count": 91,
   "id": "0506153d",
   "metadata": {},
   "outputs": [
    {
     "name": "stdout",
     "output_type": "stream",
     "text": [
      "banyak kata ada di model 194\n",
      "banyak kata tidak ada di model 36\n",
      "0.2904012531865081\n"
     ]
    }
   ],
   "source": [
    "# nilai relatedness word sim sim model sg 14\n",
    "print(relatedness_wordsim_sim(model))"
   ]
  },
  {
   "cell_type": "code",
   "execution_count": 92,
   "id": "e668ffa9",
   "metadata": {},
   "outputs": [
    {
     "name": "stdout",
     "output_type": "stream",
     "text": [
      "true_predicted 90 0.014945200929923613\n",
      "false_predicted 5932 0.9850547990700764\n",
      "banyak kata ada di model 511\n",
      "banyak kata tidak ada di model 79\n"
     ]
    }
   ],
   "source": [
    "# nilai word analogy google analogy model sg 14\n",
    "word_analogy_google_analogy(model)"
   ]
  },
  {
   "cell_type": "code",
   "execution_count": 276,
   "id": "2838296c",
   "metadata": {},
   "outputs": [
    {
     "name": "stdout",
     "output_type": "stream",
     "text": [
      "Total training time: 0 hours 9 minutes 19 seconds\n"
     ]
    }
   ],
   "source": [
    "# Membuat model word embedding dengan teknik word2vec dengan cbow 15\n",
    "\n",
    "# waktu mulai\n",
    "start_time = time.time()\n",
    "\n",
    "model = Word2Vec(sentences=list_of_sentences_for_model, vector_size=40, min_count=1, workers = 10, compute_loss=True,  window=5, sg = 0, cbow_mean = 0, alpha = 0.01, seed = 10, epochs = 1000)\n",
    "\n",
    "# waktu selesai\n",
    "end_time = time.time()\n",
    "\n",
    "# hitung waktu training\n",
    "training_time = end_time - start_time\n",
    "\n",
    "# convert ke jam, menit, detik\n",
    "hours = int(training_time // 3600)\n",
    "minutes = int((training_time % 3600) // 60)\n",
    "seconds = int(training_time % 60)\n",
    "\n",
    "print(\"Total training time:\", hours, \"hours\", minutes, \"minutes\", seconds, \"seconds\")\n",
    "\n"
   ]
  },
  {
   "cell_type": "code",
   "execution_count": 277,
   "id": "ed5058d5",
   "metadata": {},
   "outputs": [],
   "source": [
    "# save model word embedding dengan teknik word2vec dengan cbow 15\n",
    "model.save(\"/Users/williamnehemia/Documents/Skripsi/TugasAkhir/WordEmbeddingModel/ModelWord2vecSetelahPembagianData/word2vec_cbow_15.model\")\n"
   ]
  },
  {
   "cell_type": "code",
   "execution_count": 93,
   "id": "33b90af7",
   "metadata": {},
   "outputs": [],
   "source": [
    "# load model word embedding dengan teknik word2vec dengan cbow 15\n",
    "model = Word2Vec.load(\"/Users/williamnehemia/Documents/Skripsi/TugasAkhir/WordEmbeddingModel/ModelWord2vecSetelahPembagianData/word2vec_cbow_15.model\")\n"
   ]
  },
  {
   "cell_type": "code",
   "execution_count": 279,
   "id": "f9b3cae9",
   "metadata": {},
   "outputs": [
    {
     "name": "stdout",
     "output_type": "stream",
     "text": [
      "68478912.0\n"
     ]
    }
   ],
   "source": [
    "# Melihat training loss model word embedding dengan teknik word2vec dengan cbow 15\n",
    "training_loss = model.get_latest_training_loss()\n",
    "print(training_loss)\n"
   ]
  },
  {
   "cell_type": "code",
   "execution_count": 280,
   "id": "eb546bca",
   "metadata": {},
   "outputs": [
    {
     "name": "stdout",
     "output_type": "stream",
     "text": [
      "banyak kata ada di model 646\n",
      "banyak kata tidak ada di model 255\n",
      "-0.030076645843366008\n"
     ]
    }
   ],
   "source": [
    "# nilai relatedness model cbow 15\n",
    "print(relatedness(model))\n"
   ]
  },
  {
   "cell_type": "code",
   "execution_count": 281,
   "id": "9104cd8c",
   "metadata": {},
   "outputs": [
    {
     "name": "stdout",
     "output_type": "stream",
     "text": [
      "true_predicted 4 0.0020833333333333333\n",
      "false_predicted 1916 0.9979166666666667\n",
      "banyak kata ada di model 1544\n",
      "banyak kata tidak ada di model 356\n"
     ]
    }
   ],
   "source": [
    "# nilai word analogy model cbow 15\n",
    "word_analogy(model)\n"
   ]
  },
  {
   "cell_type": "code",
   "execution_count": 94,
   "id": "f2bdbcac",
   "metadata": {},
   "outputs": [
    {
     "name": "stdout",
     "output_type": "stream",
     "text": [
      "banyak kata ada di model 194\n",
      "banyak kata tidak ada di model 36\n",
      "0.029604986908980224\n"
     ]
    }
   ],
   "source": [
    "# nilai relatedness word sim sim model cbow 15\n",
    "print(relatedness_wordsim_sim(model))"
   ]
  },
  {
   "cell_type": "code",
   "execution_count": 95,
   "id": "9653e4ac",
   "metadata": {},
   "outputs": [
    {
     "name": "stdout",
     "output_type": "stream",
     "text": [
      "true_predicted 83 0.013782796413151777\n",
      "false_predicted 5939 0.9862172035868482\n",
      "banyak kata ada di model 511\n",
      "banyak kata tidak ada di model 79\n"
     ]
    }
   ],
   "source": [
    "# nilai word analogy google analogy model cbow 15\n",
    "word_analogy_google_analogy(model)"
   ]
  },
  {
   "cell_type": "code",
   "execution_count": 282,
   "id": "da81ac4b",
   "metadata": {},
   "outputs": [
    {
     "name": "stdout",
     "output_type": "stream",
     "text": [
      "Total training time: 0 hours 25 minutes 9 seconds\n"
     ]
    }
   ],
   "source": [
    "# Membuat model word embedding dengan teknik word2vec dengan sg 15\n",
    "\n",
    "# waktu mulai\n",
    "start_time = time.time()\n",
    "\n",
    "model = Word2Vec(sentences=list_of_sentences_for_model, vector_size=40, min_count=1, workers = 10, compute_loss=True,  window=5, sg = 1, alpha = 0.01, seed = 10, epochs = 1000)\n",
    "\n",
    "\n",
    "# waktu selesai\n",
    "end_time = time.time()\n",
    "\n",
    "# hitung waktu training\n",
    "training_time = end_time - start_time\n",
    "\n",
    "# convert ke jam, menit, detik\n",
    "hours = int(training_time // 3600)\n",
    "minutes = int((training_time % 3600) // 60)\n",
    "seconds = int(training_time % 60)\n",
    "\n",
    "print(\"Total training time:\", hours, \"hours\", minutes, \"minutes\", seconds, \"seconds\")\n",
    "\n"
   ]
  },
  {
   "cell_type": "code",
   "execution_count": 283,
   "id": "6f067126",
   "metadata": {},
   "outputs": [],
   "source": [
    "# save model word embedding dengan teknik word2vec dengan sg 15\n",
    "model.save(\"/Users/williamnehemia/Documents/Skripsi/TugasAkhir/WordEmbeddingModel/ModelWord2vecSetelahPembagianData/word2vec_sg_15.model\")\n"
   ]
  },
  {
   "cell_type": "code",
   "execution_count": 96,
   "id": "2f85462a",
   "metadata": {},
   "outputs": [],
   "source": [
    "# load model word embedding dengan teknik word2vec dengan sg 15\n",
    "model = Word2Vec.load(\"/Users/williamnehemia/Documents/Skripsi/TugasAkhir/WordEmbeddingModel/ModelWord2vecSetelahPembagianData/word2vec_sg_15.model\")\n"
   ]
  },
  {
   "cell_type": "code",
   "execution_count": 285,
   "id": "aca1f173",
   "metadata": {},
   "outputs": [
    {
     "name": "stdout",
     "output_type": "stream",
     "text": [
      "77828752.0\n"
     ]
    }
   ],
   "source": [
    "# Melihat training loss model word embedding dengan teknik word2vec dengan sg 15\n",
    "training_loss = model.get_latest_training_loss()\n",
    "print(training_loss)"
   ]
  },
  {
   "cell_type": "code",
   "execution_count": 286,
   "id": "81e95dfc",
   "metadata": {},
   "outputs": [
    {
     "name": "stdout",
     "output_type": "stream",
     "text": [
      "banyak kata ada di model 646\n",
      "banyak kata tidak ada di model 255\n",
      "0.17665981313576917\n"
     ]
    }
   ],
   "source": [
    "# nilai relatedness model sg 15\n",
    "print(relatedness(model))"
   ]
  },
  {
   "cell_type": "code",
   "execution_count": 287,
   "id": "3771b8cb",
   "metadata": {},
   "outputs": [
    {
     "name": "stdout",
     "output_type": "stream",
     "text": [
      "true_predicted 14 0.007291666666666667\n",
      "false_predicted 1906 0.9927083333333333\n",
      "banyak kata ada di model 1544\n",
      "banyak kata tidak ada di model 356\n"
     ]
    }
   ],
   "source": [
    "# nilai word analogy model sg 15\n",
    "word_analogy(model)"
   ]
  },
  {
   "cell_type": "code",
   "execution_count": 97,
   "id": "97ce9a9c",
   "metadata": {},
   "outputs": [
    {
     "name": "stdout",
     "output_type": "stream",
     "text": [
      "banyak kata ada di model 194\n",
      "banyak kata tidak ada di model 36\n",
      "0.20911878026263253\n"
     ]
    }
   ],
   "source": [
    "# nilai relatedness word sim sim model sg 15\n",
    "print(relatedness_wordsim_sim(model))"
   ]
  },
  {
   "cell_type": "code",
   "execution_count": 98,
   "id": "e9982fa3",
   "metadata": {},
   "outputs": [
    {
     "name": "stdout",
     "output_type": "stream",
     "text": [
      "true_predicted 83 0.013782796413151777\n",
      "false_predicted 5939 0.9862172035868482\n",
      "banyak kata ada di model 511\n",
      "banyak kata tidak ada di model 79\n"
     ]
    }
   ],
   "source": [
    "# nilai word analogy google analogy model sg 15\n",
    "word_analogy_google_analogy(model)"
   ]
  },
  {
   "cell_type": "code",
   "execution_count": 288,
   "id": "d830c78c",
   "metadata": {},
   "outputs": [
    {
     "name": "stdout",
     "output_type": "stream",
     "text": [
      "Total training time: 0 hours 9 minutes 45 seconds\n"
     ]
    }
   ],
   "source": [
    "# Membuat model word embedding dengan teknik word2vec dengan cbow 16\n",
    "\n",
    "# waktu mulai\n",
    "start_time = time.time()\n",
    "\n",
    "model = Word2Vec(sentences=list_of_sentences_for_model, vector_size=50, min_count=1, workers = 10, compute_loss=True,  window=5, sg = 0, cbow_mean = 0, alpha = 0.01, seed = 10, epochs = 1000)\n",
    "\n",
    "# waktu selesai\n",
    "end_time = time.time()\n",
    "\n",
    "# hitung waktu training\n",
    "training_time = end_time - start_time\n",
    "\n",
    "# convert ke jam, menit, detik\n",
    "hours = int(training_time // 3600)\n",
    "minutes = int((training_time % 3600) // 60)\n",
    "seconds = int(training_time % 60)\n",
    "\n",
    "print(\"Total training time:\", hours, \"hours\", minutes, \"minutes\", seconds, \"seconds\")\n",
    "\n"
   ]
  },
  {
   "cell_type": "code",
   "execution_count": 289,
   "id": "f6f13571",
   "metadata": {},
   "outputs": [],
   "source": [
    "# save model word embedding dengan teknik word2vec dengan cbow 16\n",
    "model.save(\"/Users/williamnehemia/Documents/Skripsi/TugasAkhir/WordEmbeddingModel/ModelWord2vecSetelahPembagianData/word2vec_cbow_16.model\")\n"
   ]
  },
  {
   "cell_type": "code",
   "execution_count": 99,
   "id": "2fb4d9e8",
   "metadata": {},
   "outputs": [],
   "source": [
    "# load model word embedding dengan teknik word2vec dengan cbow 16\n",
    "model = Word2Vec.load(\"/Users/williamnehemia/Documents/Skripsi/TugasAkhir/WordEmbeddingModel/ModelWord2vecSetelahPembagianData/word2vec_cbow_16.model\")\n"
   ]
  },
  {
   "cell_type": "code",
   "execution_count": 291,
   "id": "17b7b3b1",
   "metadata": {},
   "outputs": [
    {
     "name": "stdout",
     "output_type": "stream",
     "text": [
      "67894496.0\n"
     ]
    }
   ],
   "source": [
    "# Melihat training loss model word embedding dengan teknik word2vec dengan cbow 16\n",
    "training_loss = model.get_latest_training_loss()\n",
    "print(training_loss)\n"
   ]
  },
  {
   "cell_type": "code",
   "execution_count": 292,
   "id": "57b1620d",
   "metadata": {},
   "outputs": [
    {
     "name": "stdout",
     "output_type": "stream",
     "text": [
      "banyak kata ada di model 646\n",
      "banyak kata tidak ada di model 255\n",
      "-0.025033711381919923\n"
     ]
    }
   ],
   "source": [
    "# nilai relatedness model cbow 16\n",
    "print(relatedness(model))\n"
   ]
  },
  {
   "cell_type": "code",
   "execution_count": 293,
   "id": "c5929235",
   "metadata": {},
   "outputs": [
    {
     "name": "stdout",
     "output_type": "stream",
     "text": [
      "true_predicted 8 0.004166666666666667\n",
      "false_predicted 1912 0.9958333333333333\n",
      "banyak kata ada di model 1544\n",
      "banyak kata tidak ada di model 356\n"
     ]
    }
   ],
   "source": [
    "# nilai word analogy model cbow 16\n",
    "word_analogy(model)\n"
   ]
  },
  {
   "cell_type": "code",
   "execution_count": 100,
   "id": "a83f6280",
   "metadata": {},
   "outputs": [
    {
     "name": "stdout",
     "output_type": "stream",
     "text": [
      "banyak kata ada di model 194\n",
      "banyak kata tidak ada di model 36\n",
      "0.011162240985744799\n"
     ]
    }
   ],
   "source": [
    "# nilai relatedness word sim sim model cbow 16\n",
    "print(relatedness_wordsim_sim(model))"
   ]
  },
  {
   "cell_type": "code",
   "execution_count": 101,
   "id": "ab3097b3",
   "metadata": {},
   "outputs": [
    {
     "name": "stdout",
     "output_type": "stream",
     "text": [
      "true_predicted 77 0.012786449684490202\n",
      "false_predicted 5945 0.9872135503155098\n",
      "banyak kata ada di model 511\n",
      "banyak kata tidak ada di model 79\n"
     ]
    }
   ],
   "source": [
    "# nilai word analogy google analogy model cbow 16\n",
    "word_analogy_google_analogy(model)"
   ]
  },
  {
   "cell_type": "code",
   "execution_count": 294,
   "id": "63f3e561",
   "metadata": {},
   "outputs": [
    {
     "name": "stdout",
     "output_type": "stream",
     "text": [
      "Total training time: 0 hours 25 minutes 56 seconds\n"
     ]
    }
   ],
   "source": [
    "# Membuat model word embedding dengan teknik word2vec dengan sg 16\n",
    "\n",
    "# waktu mulai\n",
    "start_time = time.time()\n",
    "\n",
    "model = Word2Vec(sentences=list_of_sentences_for_model, vector_size=50, min_count=1, workers = 10, compute_loss=True,  window=5, sg = 1, alpha = 0.01, seed = 10, epochs = 1000)\n",
    "\n",
    "\n",
    "# waktu selesai\n",
    "end_time = time.time()\n",
    "\n",
    "# hitung waktu training\n",
    "training_time = end_time - start_time\n",
    "\n",
    "# convert ke jam, menit, detik\n",
    "hours = int(training_time // 3600)\n",
    "minutes = int((training_time % 3600) // 60)\n",
    "seconds = int(training_time % 60)\n",
    "\n",
    "print(\"Total training time:\", hours, \"hours\", minutes, \"minutes\", seconds, \"seconds\")\n",
    "\n"
   ]
  },
  {
   "cell_type": "code",
   "execution_count": 295,
   "id": "9f2e78e9",
   "metadata": {},
   "outputs": [],
   "source": [
    "# save model word embedding dengan teknik word2vec dengan sg 16\n",
    "model.save(\"/Users/williamnehemia/Documents/Skripsi/TugasAkhir/WordEmbeddingModel/ModelWord2vecSetelahPembagianData/word2vec_sg_16.model\")\n"
   ]
  },
  {
   "cell_type": "code",
   "execution_count": 102,
   "id": "be487932",
   "metadata": {},
   "outputs": [],
   "source": [
    "# load model word embedding dengan teknik word2vec dengan sg 16\n",
    "model = Word2Vec.load(\"/Users/williamnehemia/Documents/Skripsi/TugasAkhir/WordEmbeddingModel/ModelWord2vecSetelahPembagianData/word2vec_sg_16.model\")\n"
   ]
  },
  {
   "cell_type": "code",
   "execution_count": 297,
   "id": "6f93ccfe",
   "metadata": {},
   "outputs": [
    {
     "name": "stdout",
     "output_type": "stream",
     "text": [
      "78036656.0\n"
     ]
    }
   ],
   "source": [
    "# Melihat training loss model word embedding dengan teknik word2vec dengan sg 16\n",
    "training_loss = model.get_latest_training_loss()\n",
    "print(training_loss)"
   ]
  },
  {
   "cell_type": "code",
   "execution_count": 298,
   "id": "2b363b80",
   "metadata": {},
   "outputs": [
    {
     "name": "stdout",
     "output_type": "stream",
     "text": [
      "banyak kata ada di model 646\n",
      "banyak kata tidak ada di model 255\n",
      "0.22825365305531284\n"
     ]
    }
   ],
   "source": [
    "# nilai relatedness model sg 16\n",
    "print(relatedness(model))"
   ]
  },
  {
   "cell_type": "code",
   "execution_count": 299,
   "id": "fa8e8411",
   "metadata": {},
   "outputs": [
    {
     "name": "stdout",
     "output_type": "stream",
     "text": [
      "true_predicted 10 0.005208333333333333\n",
      "false_predicted 1910 0.9947916666666666\n",
      "banyak kata ada di model 1544\n",
      "banyak kata tidak ada di model 356\n"
     ]
    }
   ],
   "source": [
    "# nilai word analogy model sg 16\n",
    "word_analogy(model)"
   ]
  },
  {
   "cell_type": "code",
   "execution_count": 103,
   "id": "ede45523",
   "metadata": {},
   "outputs": [
    {
     "name": "stdout",
     "output_type": "stream",
     "text": [
      "banyak kata ada di model 194\n",
      "banyak kata tidak ada di model 36\n",
      "0.22432474628164364\n"
     ]
    }
   ],
   "source": [
    "# nilai relatedness word sim sim model sg 16\n",
    "print(relatedness_wordsim_sim(model))"
   ]
  },
  {
   "cell_type": "code",
   "execution_count": 104,
   "id": "86ef77fe",
   "metadata": {},
   "outputs": [
    {
     "name": "stdout",
     "output_type": "stream",
     "text": [
      "true_predicted 98 0.016273663234805714\n",
      "false_predicted 5924 0.9837263367651943\n",
      "banyak kata ada di model 511\n",
      "banyak kata tidak ada di model 79\n"
     ]
    }
   ],
   "source": [
    "# nilai word analogy google analogy model sg 16\n",
    "word_analogy_google_analogy(model)"
   ]
  },
  {
   "cell_type": "code",
   "execution_count": 300,
   "id": "5959866e",
   "metadata": {},
   "outputs": [
    {
     "name": "stdout",
     "output_type": "stream",
     "text": [
      "Total training time: 0 hours 11 minutes 21 seconds\n"
     ]
    }
   ],
   "source": [
    "# Membuat model word embedding dengan teknik word2vec dengan cbow 17\n",
    "\n",
    "# waktu mulai\n",
    "start_time = time.time()\n",
    "\n",
    "model = Word2Vec(sentences=list_of_sentences_for_model, vector_size=60, min_count=1, workers = 10, compute_loss=True,  window=5, sg = 0, cbow_mean = 0, alpha = 0.01, seed = 10, epochs = 1000)\n",
    "\n",
    "# waktu selesai\n",
    "end_time = time.time()\n",
    "\n",
    "# hitung waktu training\n",
    "training_time = end_time - start_time\n",
    "\n",
    "# convert ke jam, menit, detik\n",
    "hours = int(training_time // 3600)\n",
    "minutes = int((training_time % 3600) // 60)\n",
    "seconds = int(training_time % 60)\n",
    "\n",
    "print(\"Total training time:\", hours, \"hours\", minutes, \"minutes\", seconds, \"seconds\")\n",
    "\n"
   ]
  },
  {
   "cell_type": "code",
   "execution_count": 301,
   "id": "b87179b9",
   "metadata": {},
   "outputs": [],
   "source": [
    "# save model word embedding dengan teknik word2vec dengan cbow 17\n",
    "model.save(\"/Users/williamnehemia/Documents/Skripsi/TugasAkhir/WordEmbeddingModel/ModelWord2vecSetelahPembagianData/word2vec_cbow_17.model\")\n"
   ]
  },
  {
   "cell_type": "code",
   "execution_count": 105,
   "id": "bb13a3fa",
   "metadata": {},
   "outputs": [],
   "source": [
    "# load model word embedding dengan teknik word2vec dengan cbow 17\n",
    "model = Word2Vec.load(\"/Users/williamnehemia/Documents/Skripsi/TugasAkhir/WordEmbeddingModel/ModelWord2vecSetelahPembagianData/word2vec_cbow_17.model\")\n"
   ]
  },
  {
   "cell_type": "code",
   "execution_count": 303,
   "id": "017edad7",
   "metadata": {},
   "outputs": [
    {
     "name": "stdout",
     "output_type": "stream",
     "text": [
      "67364464.0\n"
     ]
    }
   ],
   "source": [
    "# Melihat training loss model word embedding dengan teknik word2vec dengan cbow 17\n",
    "training_loss = model.get_latest_training_loss()\n",
    "print(training_loss)\n"
   ]
  },
  {
   "cell_type": "code",
   "execution_count": 304,
   "id": "78f00da1",
   "metadata": {},
   "outputs": [
    {
     "name": "stdout",
     "output_type": "stream",
     "text": [
      "banyak kata ada di model 646\n",
      "banyak kata tidak ada di model 255\n",
      "-0.029133416396958427\n"
     ]
    }
   ],
   "source": [
    "# nilai relatedness model cbow 17\n",
    "print(relatedness(model))\n"
   ]
  },
  {
   "cell_type": "code",
   "execution_count": 312,
   "id": "24e9c0a0",
   "metadata": {},
   "outputs": [
    {
     "name": "stdout",
     "output_type": "stream",
     "text": [
      "true_predicted 5 0.0026041666666666665\n",
      "false_predicted 1915 0.9973958333333334\n",
      "banyak kata ada di model 1544\n",
      "banyak kata tidak ada di model 356\n"
     ]
    }
   ],
   "source": [
    "# nilai word analogy model cbow 17\n",
    "word_analogy(model)\n"
   ]
  },
  {
   "cell_type": "code",
   "execution_count": 106,
   "id": "11e86bc1",
   "metadata": {},
   "outputs": [
    {
     "name": "stdout",
     "output_type": "stream",
     "text": [
      "banyak kata ada di model 194\n",
      "banyak kata tidak ada di model 36\n",
      "0.015658935217841397\n"
     ]
    }
   ],
   "source": [
    "# nilai relatedness word sim sim model cbow 17\n",
    "print(relatedness_wordsim_sim(model))"
   ]
  },
  {
   "cell_type": "code",
   "execution_count": 107,
   "id": "4e203063",
   "metadata": {},
   "outputs": [
    {
     "name": "stdout",
     "output_type": "stream",
     "text": [
      "true_predicted 87 0.014447027565592825\n",
      "false_predicted 5935 0.9855529724344072\n",
      "banyak kata ada di model 511\n",
      "banyak kata tidak ada di model 79\n"
     ]
    }
   ],
   "source": [
    "# nilai word analogy google analogy model cbow 17\n",
    "word_analogy_google_analogy(model)"
   ]
  },
  {
   "cell_type": "code",
   "execution_count": 305,
   "id": "e66a3992",
   "metadata": {},
   "outputs": [
    {
     "name": "stdout",
     "output_type": "stream",
     "text": [
      "Total training time: 0 hours 34 minutes 3 seconds\n"
     ]
    }
   ],
   "source": [
    "# Membuat model word embedding dengan teknik word2vec dengan sg 17\n",
    "\n",
    "# waktu mulai\n",
    "start_time = time.time()\n",
    "\n",
    "model = Word2Vec(sentences=list_of_sentences_for_model, vector_size=60, min_count=1, workers = 10, compute_loss=True,  window=5, sg = 1, alpha = 0.01, seed = 10, epochs = 1000)\n",
    "\n",
    "\n",
    "# waktu selesai\n",
    "end_time = time.time()\n",
    "\n",
    "# hitung waktu training\n",
    "training_time = end_time - start_time\n",
    "\n",
    "# convert ke jam, menit, detik\n",
    "hours = int(training_time // 3600)\n",
    "minutes = int((training_time % 3600) // 60)\n",
    "seconds = int(training_time % 60)\n",
    "\n",
    "print(\"Total training time:\", hours, \"hours\", minutes, \"minutes\", seconds, \"seconds\")\n",
    "\n"
   ]
  },
  {
   "cell_type": "code",
   "execution_count": 306,
   "id": "159d695b",
   "metadata": {},
   "outputs": [],
   "source": [
    "# save model word embedding dengan teknik word2vec dengan sg 17\n",
    "model.save(\"/Users/williamnehemia/Documents/Skripsi/TugasAkhir/WordEmbeddingModel/ModelWord2vecSetelahPembagianData/word2vec_sg_17.model\")\n"
   ]
  },
  {
   "cell_type": "code",
   "execution_count": 108,
   "id": "3f798c47",
   "metadata": {},
   "outputs": [],
   "source": [
    "# load model word embedding dengan teknik word2vec dengan sg 17\n",
    "model = Word2Vec.load(\"/Users/williamnehemia/Documents/Skripsi/TugasAkhir/WordEmbeddingModel/ModelWord2vecSetelahPembagianData/word2vec_sg_17.model\")\n"
   ]
  },
  {
   "cell_type": "code",
   "execution_count": 308,
   "id": "b5cdc7f6",
   "metadata": {},
   "outputs": [
    {
     "name": "stdout",
     "output_type": "stream",
     "text": [
      "78384424.0\n"
     ]
    }
   ],
   "source": [
    "# Melihat training loss model word embedding dengan teknik word2vec dengan sg 17\n",
    "training_loss = model.get_latest_training_loss()\n",
    "print(training_loss)"
   ]
  },
  {
   "cell_type": "code",
   "execution_count": 309,
   "id": "fa3f1fc2",
   "metadata": {},
   "outputs": [
    {
     "name": "stdout",
     "output_type": "stream",
     "text": [
      "banyak kata ada di model 646\n",
      "banyak kata tidak ada di model 255\n",
      "0.19290610898744717\n"
     ]
    }
   ],
   "source": [
    "# nilai relatedness model sg 17\n",
    "print(relatedness(model))"
   ]
  },
  {
   "cell_type": "code",
   "execution_count": 310,
   "id": "668f788d",
   "metadata": {},
   "outputs": [
    {
     "name": "stdout",
     "output_type": "stream",
     "text": [
      "true_predicted 8 0.004166666666666667\n",
      "false_predicted 1912 0.9958333333333333\n",
      "banyak kata ada di model 1544\n",
      "banyak kata tidak ada di model 356\n"
     ]
    }
   ],
   "source": [
    "# nilai word analogy model sg 17\n",
    "word_analogy(model)"
   ]
  },
  {
   "cell_type": "code",
   "execution_count": 109,
   "id": "e0968289",
   "metadata": {},
   "outputs": [
    {
     "name": "stdout",
     "output_type": "stream",
     "text": [
      "banyak kata ada di model 194\n",
      "banyak kata tidak ada di model 36\n",
      "0.18774523362908463\n"
     ]
    }
   ],
   "source": [
    "# nilai relatedness word sim sim model sg 17\n",
    "print(relatedness_wordsim_sim(model))"
   ]
  },
  {
   "cell_type": "code",
   "execution_count": 110,
   "id": "41bf8f9d",
   "metadata": {},
   "outputs": [
    {
     "name": "stdout",
     "output_type": "stream",
     "text": [
      "true_predicted 97 0.01610760544669545\n",
      "false_predicted 5925 0.9838923945533046\n",
      "banyak kata ada di model 511\n",
      "banyak kata tidak ada di model 79\n"
     ]
    }
   ],
   "source": [
    "# nilai word analogy google analogy model sg 17\n",
    "word_analogy_google_analogy(model)"
   ]
  },
  {
   "cell_type": "code",
   "execution_count": 313,
   "id": "efe80841",
   "metadata": {},
   "outputs": [
    {
     "name": "stdout",
     "output_type": "stream",
     "text": [
      "Total training time: 0 hours 8 minutes 0 seconds\n"
     ]
    }
   ],
   "source": [
    "# Membuat model word embedding dengan teknik word2vec dengan cbow 18\n",
    "\n",
    "# waktu mulai\n",
    "start_time = time.time()\n",
    "\n",
    "model = Word2Vec(sentences=list_of_sentences_for_model, vector_size=70, min_count=1, workers = 10, compute_loss=True,  window=5, sg = 0, cbow_mean = 0, alpha = 0.01, seed = 10, epochs = 1000)\n",
    "\n",
    "# waktu selesai\n",
    "end_time = time.time()\n",
    "\n",
    "# hitung waktu training\n",
    "training_time = end_time - start_time\n",
    "\n",
    "# convert ke jam, menit, detik\n",
    "hours = int(training_time // 3600)\n",
    "minutes = int((training_time % 3600) // 60)\n",
    "seconds = int(training_time % 60)\n",
    "\n",
    "print(\"Total training time:\", hours, \"hours\", minutes, \"minutes\", seconds, \"seconds\")\n",
    "\n"
   ]
  },
  {
   "cell_type": "code",
   "execution_count": 314,
   "id": "525841d7",
   "metadata": {},
   "outputs": [],
   "source": [
    "# save model word embedding dengan teknik word2vec dengan cbow 18\n",
    "model.save(\"/Users/williamnehemia/Documents/Skripsi/TugasAkhir/WordEmbeddingModel/ModelWord2vecSetelahPembagianData/word2vec_cbow_18.model\")\n"
   ]
  },
  {
   "cell_type": "code",
   "execution_count": 111,
   "id": "c6b6604b",
   "metadata": {},
   "outputs": [],
   "source": [
    "# load model word embedding dengan teknik word2vec dengan cbow 18\n",
    "model = Word2Vec.load(\"/Users/williamnehemia/Documents/Skripsi/TugasAkhir/WordEmbeddingModel/ModelWord2vecSetelahPembagianData/word2vec_cbow_18.model\")\n"
   ]
  },
  {
   "cell_type": "code",
   "execution_count": 316,
   "id": "e005bd8f",
   "metadata": {},
   "outputs": [
    {
     "name": "stdout",
     "output_type": "stream",
     "text": [
      "65539420.0\n"
     ]
    }
   ],
   "source": [
    "# Melihat training loss model word embedding dengan teknik word2vec dengan cbow 18\n",
    "training_loss = model.get_latest_training_loss()\n",
    "print(training_loss)\n"
   ]
  },
  {
   "cell_type": "code",
   "execution_count": 317,
   "id": "a546ec24",
   "metadata": {},
   "outputs": [
    {
     "name": "stdout",
     "output_type": "stream",
     "text": [
      "banyak kata ada di model 646\n",
      "banyak kata tidak ada di model 255\n",
      "-0.03523602983532038\n"
     ]
    }
   ],
   "source": [
    "# nilai relatedness model cbow 18\n",
    "print(relatedness(model))\n"
   ]
  },
  {
   "cell_type": "code",
   "execution_count": 318,
   "id": "a5983a26",
   "metadata": {},
   "outputs": [
    {
     "name": "stdout",
     "output_type": "stream",
     "text": [
      "true_predicted 3 0.0015625\n",
      "false_predicted 1917 0.9984375\n",
      "banyak kata ada di model 1544\n",
      "banyak kata tidak ada di model 356\n"
     ]
    }
   ],
   "source": [
    "# nilai word analogy model cbow 18\n",
    "word_analogy(model)\n"
   ]
  },
  {
   "cell_type": "code",
   "execution_count": 112,
   "id": "1c8055be",
   "metadata": {},
   "outputs": [
    {
     "name": "stdout",
     "output_type": "stream",
     "text": [
      "banyak kata ada di model 194\n",
      "banyak kata tidak ada di model 36\n",
      "0.00487466853045829\n"
     ]
    }
   ],
   "source": [
    "# nilai relatedness word sim sim model cbow 18\n",
    "print(relatedness_wordsim_sim(model))"
   ]
  },
  {
   "cell_type": "code",
   "execution_count": 113,
   "id": "25e7fd52",
   "metadata": {},
   "outputs": [
    {
     "name": "stdout",
     "output_type": "stream",
     "text": [
      "true_predicted 71 0.011790102955828628\n",
      "false_predicted 5951 0.9882098970441714\n",
      "banyak kata ada di model 511\n",
      "banyak kata tidak ada di model 79\n"
     ]
    }
   ],
   "source": [
    "# nilai word analogy google analogy model cbow 18\n",
    "word_analogy_google_analogy(model)"
   ]
  },
  {
   "cell_type": "code",
   "execution_count": 319,
   "id": "724f8bdf",
   "metadata": {},
   "outputs": [
    {
     "name": "stdout",
     "output_type": "stream",
     "text": [
      "Total training time: 0 hours 34 minutes 13 seconds\n"
     ]
    }
   ],
   "source": [
    "# Membuat model word embedding dengan teknik word2vec dengan sg 18\n",
    "\n",
    "# waktu mulai\n",
    "start_time = time.time()\n",
    "\n",
    "model = Word2Vec(sentences=list_of_sentences_for_model, vector_size=70, min_count=1, workers = 10, compute_loss=True,  window=5, sg = 1, alpha = 0.01, seed = 10, epochs = 1000)\n",
    "\n",
    "\n",
    "# waktu selesai\n",
    "end_time = time.time()\n",
    "\n",
    "# hitung waktu training\n",
    "training_time = end_time - start_time\n",
    "\n",
    "# convert ke jam, menit, detik\n",
    "hours = int(training_time // 3600)\n",
    "minutes = int((training_time % 3600) // 60)\n",
    "seconds = int(training_time % 60)\n",
    "\n",
    "print(\"Total training time:\", hours, \"hours\", minutes, \"minutes\", seconds, \"seconds\")\n",
    "\n"
   ]
  },
  {
   "cell_type": "code",
   "execution_count": 320,
   "id": "b0d0a679",
   "metadata": {},
   "outputs": [],
   "source": [
    "# save model word embedding dengan teknik word2vec dengan sg 18\n",
    "model.save(\"/Users/williamnehemia/Documents/Skripsi/TugasAkhir/WordEmbeddingModel/ModelWord2vecSetelahPembagianData/word2vec_sg_18.model\")\n"
   ]
  },
  {
   "cell_type": "code",
   "execution_count": 114,
   "id": "aeeddd7f",
   "metadata": {},
   "outputs": [],
   "source": [
    "# load model word embedding dengan teknik word2vec dengan sg 18\n",
    "model = Word2Vec.load(\"/Users/williamnehemia/Documents/Skripsi/TugasAkhir/WordEmbeddingModel/ModelWord2vecSetelahPembagianData/word2vec_sg_18.model\")\n"
   ]
  },
  {
   "cell_type": "code",
   "execution_count": 322,
   "id": "6cb1e076",
   "metadata": {},
   "outputs": [
    {
     "name": "stdout",
     "output_type": "stream",
     "text": [
      "78423800.0\n"
     ]
    }
   ],
   "source": [
    "# Melihat training loss model word embedding dengan teknik word2vec dengan sg 18\n",
    "training_loss = model.get_latest_training_loss()\n",
    "print(training_loss)"
   ]
  },
  {
   "cell_type": "code",
   "execution_count": 323,
   "id": "9607fffa",
   "metadata": {},
   "outputs": [
    {
     "name": "stdout",
     "output_type": "stream",
     "text": [
      "banyak kata ada di model 646\n",
      "banyak kata tidak ada di model 255\n",
      "0.2383916951280997\n"
     ]
    }
   ],
   "source": [
    "# nilai relatedness model sg 18\n",
    "print(relatedness(model))"
   ]
  },
  {
   "cell_type": "code",
   "execution_count": 324,
   "id": "22967ee9",
   "metadata": {},
   "outputs": [
    {
     "name": "stdout",
     "output_type": "stream",
     "text": [
      "true_predicted 7 0.0036458333333333334\n",
      "false_predicted 1913 0.9963541666666667\n",
      "banyak kata ada di model 1544\n",
      "banyak kata tidak ada di model 356\n"
     ]
    }
   ],
   "source": [
    "# nilai word analogy model sg 18\n",
    "word_analogy(model)"
   ]
  },
  {
   "cell_type": "code",
   "execution_count": 115,
   "id": "5688ef21",
   "metadata": {},
   "outputs": [
    {
     "name": "stdout",
     "output_type": "stream",
     "text": [
      "banyak kata ada di model 194\n",
      "banyak kata tidak ada di model 36\n",
      "0.2334651247507553\n"
     ]
    }
   ],
   "source": [
    "# nilai relatedness word sim sim model sg 18\n",
    "print(relatedness_wordsim_sim(model))"
   ]
  },
  {
   "cell_type": "code",
   "execution_count": 116,
   "id": "cf43f30b",
   "metadata": {},
   "outputs": [
    {
     "name": "stdout",
     "output_type": "stream",
     "text": [
      "true_predicted 92 0.015277316506144138\n",
      "false_predicted 5930 0.9847226834938558\n",
      "banyak kata ada di model 511\n",
      "banyak kata tidak ada di model 79\n"
     ]
    }
   ],
   "source": [
    "# nilai word analogy google analogy model sg 18\n",
    "word_analogy_google_analogy(model)"
   ]
  },
  {
   "cell_type": "code",
   "execution_count": 325,
   "id": "43c867d9",
   "metadata": {},
   "outputs": [
    {
     "name": "stdout",
     "output_type": "stream",
     "text": [
      "Total training time: 0 hours 13 minutes 0 seconds\n"
     ]
    }
   ],
   "source": [
    "# Membuat model word embedding dengan teknik word2vec dengan cbow 19\n",
    "\n",
    "# waktu mulai\n",
    "start_time = time.time()\n",
    "\n",
    "model = Word2Vec(sentences=list_of_sentences_for_model, vector_size=80, min_count=1, workers = 10, compute_loss=True,  window=5, sg = 0, cbow_mean = 0, alpha = 0.01, seed = 10, epochs = 1000)\n",
    "\n",
    "# waktu selesai\n",
    "end_time = time.time()\n",
    "\n",
    "# hitung waktu training\n",
    "training_time = end_time - start_time\n",
    "\n",
    "# convert ke jam, menit, detik\n",
    "hours = int(training_time // 3600)\n",
    "minutes = int((training_time % 3600) // 60)\n",
    "seconds = int(training_time % 60)\n",
    "\n",
    "print(\"Total training time:\", hours, \"hours\", minutes, \"minutes\", seconds, \"seconds\")\n",
    "\n"
   ]
  },
  {
   "cell_type": "code",
   "execution_count": 326,
   "id": "3c06a063",
   "metadata": {},
   "outputs": [],
   "source": [
    "# save model word embedding dengan teknik word2vec dengan cbow 19\n",
    "model.save(\"/Users/williamnehemia/Documents/Skripsi/TugasAkhir/WordEmbeddingModel/ModelWord2vecSetelahPembagianData/word2vec_cbow_19.model\")\n"
   ]
  },
  {
   "cell_type": "code",
   "execution_count": 117,
   "id": "dc0ab0a8",
   "metadata": {},
   "outputs": [],
   "source": [
    "# load model word embedding dengan teknik word2vec dengan cbow 19\n",
    "model = Word2Vec.load(\"/Users/williamnehemia/Documents/Skripsi/TugasAkhir/WordEmbeddingModel/ModelWord2vecSetelahPembagianData/word2vec_cbow_19.model\")\n"
   ]
  },
  {
   "cell_type": "code",
   "execution_count": 328,
   "id": "e97fb79d",
   "metadata": {},
   "outputs": [
    {
     "name": "stdout",
     "output_type": "stream",
     "text": [
      "65042524.0\n"
     ]
    }
   ],
   "source": [
    "# Melihat training loss model word embedding dengan teknik word2vec dengan cbow 19\n",
    "training_loss = model.get_latest_training_loss()\n",
    "print(training_loss)\n"
   ]
  },
  {
   "cell_type": "code",
   "execution_count": 329,
   "id": "edf8a52f",
   "metadata": {},
   "outputs": [
    {
     "name": "stdout",
     "output_type": "stream",
     "text": [
      "banyak kata ada di model 646\n",
      "banyak kata tidak ada di model 255\n",
      "-0.03151317007188634\n"
     ]
    }
   ],
   "source": [
    "# nilai relatedness model cbow 19\n",
    "print(relatedness(model))\n"
   ]
  },
  {
   "cell_type": "code",
   "execution_count": 330,
   "id": "af907a1b",
   "metadata": {},
   "outputs": [
    {
     "name": "stdout",
     "output_type": "stream",
     "text": [
      "banyak kata ada di model 646\n",
      "banyak kata tidak ada di model 255\n",
      "-0.03151317007188634\n"
     ]
    }
   ],
   "source": [
    "# nilai relatedness model cbow 19\n",
    "print(relatedness(model))\n"
   ]
  },
  {
   "cell_type": "code",
   "execution_count": 331,
   "id": "3453cd4e",
   "metadata": {},
   "outputs": [
    {
     "name": "stdout",
     "output_type": "stream",
     "text": [
      "true_predicted 4 0.0020833333333333333\n",
      "false_predicted 1916 0.9979166666666667\n",
      "banyak kata ada di model 1544\n",
      "banyak kata tidak ada di model 356\n"
     ]
    }
   ],
   "source": [
    "# nilai word analogy model cbow 19\n",
    "word_analogy(model)\n"
   ]
  },
  {
   "cell_type": "code",
   "execution_count": 118,
   "id": "5caf35ba",
   "metadata": {},
   "outputs": [
    {
     "name": "stdout",
     "output_type": "stream",
     "text": [
      "banyak kata ada di model 194\n",
      "banyak kata tidak ada di model 36\n",
      "0.008786402538899896\n"
     ]
    }
   ],
   "source": [
    "# nilai relatedness word sim sim model cbow 19\n",
    "print(relatedness_wordsim_sim(model))"
   ]
  },
  {
   "cell_type": "code",
   "execution_count": 119,
   "id": "9451aab5",
   "metadata": {},
   "outputs": [
    {
     "name": "stdout",
     "output_type": "stream",
     "text": [
      "true_predicted 71 0.011790102955828628\n",
      "false_predicted 5951 0.9882098970441714\n",
      "banyak kata ada di model 511\n",
      "banyak kata tidak ada di model 79\n"
     ]
    }
   ],
   "source": [
    "# nilai word analogy google analogy model cbow 19\n",
    "word_analogy_google_analogy(model)"
   ]
  },
  {
   "cell_type": "code",
   "execution_count": 332,
   "id": "084a958c",
   "metadata": {},
   "outputs": [
    {
     "name": "stdout",
     "output_type": "stream",
     "text": [
      "Total training time: 0 hours 40 minutes 52 seconds\n"
     ]
    }
   ],
   "source": [
    "# Membuat model word embedding dengan teknik word2vec dengan sg 19\n",
    "\n",
    "# waktu mulai\n",
    "start_time = time.time()\n",
    "\n",
    "model = Word2Vec(sentences=list_of_sentences_for_model, vector_size=80, min_count=1, workers = 10, compute_loss=True,  window=5, sg = 1, alpha = 0.01, seed = 10, epochs = 1000)\n",
    "\n",
    "\n",
    "# waktu selesai\n",
    "end_time = time.time()\n",
    "\n",
    "# hitung waktu training\n",
    "training_time = end_time - start_time\n",
    "\n",
    "# convert ke jam, menit, detik\n",
    "hours = int(training_time // 3600)\n",
    "minutes = int((training_time % 3600) // 60)\n",
    "seconds = int(training_time % 60)\n",
    "\n",
    "print(\"Total training time:\", hours, \"hours\", minutes, \"minutes\", seconds, \"seconds\")\n",
    "\n"
   ]
  },
  {
   "cell_type": "code",
   "execution_count": 333,
   "id": "c9932e9a",
   "metadata": {},
   "outputs": [],
   "source": [
    "# save model word embedding dengan teknik word2vec dengan sg 19\n",
    "model.save(\"/Users/williamnehemia/Documents/Skripsi/TugasAkhir/WordEmbeddingModel/ModelWord2vecSetelahPembagianData/word2vec_sg_19.model\")\n"
   ]
  },
  {
   "cell_type": "code",
   "execution_count": 120,
   "id": "4f3af0e2",
   "metadata": {},
   "outputs": [],
   "source": [
    "# load model word embedding dengan teknik word2vec dengan sg 19\n",
    "model = Word2Vec.load(\"/Users/williamnehemia/Documents/Skripsi/TugasAkhir/WordEmbeddingModel/ModelWord2vecSetelahPembagianData/word2vec_sg_19.model\")\n"
   ]
  },
  {
   "cell_type": "code",
   "execution_count": 335,
   "id": "5bf92c60",
   "metadata": {},
   "outputs": [
    {
     "name": "stdout",
     "output_type": "stream",
     "text": [
      "78661864.0\n"
     ]
    }
   ],
   "source": [
    "# Melihat training loss model word embedding dengan teknik word2vec dengan sg 19\n",
    "training_loss = model.get_latest_training_loss()\n",
    "print(training_loss)"
   ]
  },
  {
   "cell_type": "code",
   "execution_count": 336,
   "id": "63ec84b9",
   "metadata": {},
   "outputs": [
    {
     "name": "stdout",
     "output_type": "stream",
     "text": [
      "banyak kata ada di model 646\n",
      "banyak kata tidak ada di model 255\n",
      "0.217856625346562\n"
     ]
    }
   ],
   "source": [
    "# nilai relatedness model sg 19\n",
    "print(relatedness(model))"
   ]
  },
  {
   "cell_type": "code",
   "execution_count": 337,
   "id": "bee426e6",
   "metadata": {},
   "outputs": [
    {
     "name": "stdout",
     "output_type": "stream",
     "text": [
      "true_predicted 9 0.0046875\n",
      "false_predicted 1911 0.9953125\n",
      "banyak kata ada di model 1544\n",
      "banyak kata tidak ada di model 356\n"
     ]
    }
   ],
   "source": [
    "# nilai word analogy model sg 19\n",
    "word_analogy(model)"
   ]
  },
  {
   "cell_type": "code",
   "execution_count": 121,
   "id": "59b58a2b",
   "metadata": {},
   "outputs": [
    {
     "name": "stdout",
     "output_type": "stream",
     "text": [
      "banyak kata ada di model 194\n",
      "banyak kata tidak ada di model 36\n",
      "0.1816766462831664\n"
     ]
    }
   ],
   "source": [
    "# nilai relatedness word sim sim model sg 19\n",
    "print(relatedness_wordsim_sim(model))"
   ]
  },
  {
   "cell_type": "code",
   "execution_count": 122,
   "id": "e3e6f299",
   "metadata": {},
   "outputs": [
    {
     "name": "stdout",
     "output_type": "stream",
     "text": [
      "true_predicted 96 0.015941547658585187\n",
      "false_predicted 5926 0.9840584523414148\n",
      "banyak kata ada di model 511\n",
      "banyak kata tidak ada di model 79\n"
     ]
    }
   ],
   "source": [
    "# nilai word analogy google analogy model sg 19\n",
    "word_analogy_google_analogy(model)"
   ]
  },
  {
   "cell_type": "code",
   "execution_count": 338,
   "id": "71a28380",
   "metadata": {},
   "outputs": [
    {
     "name": "stdout",
     "output_type": "stream",
     "text": [
      "Total training time: 0 hours 11 minutes 3 seconds\n"
     ]
    }
   ],
   "source": [
    "# Membuat model word embedding dengan teknik word2vec dengan cbow 20\n",
    "\n",
    "# waktu mulai\n",
    "start_time = time.time()\n",
    "\n",
    "model = Word2Vec(sentences=list_of_sentences_for_model, vector_size=90, min_count=1, workers = 10, compute_loss=True,  window=5, sg = 0, cbow_mean = 0, alpha = 0.01, seed = 10, epochs = 1000)\n",
    "\n",
    "# waktu selesai\n",
    "end_time = time.time()\n",
    "\n",
    "# hitung waktu training\n",
    "training_time = end_time - start_time\n",
    "\n",
    "# convert ke jam, menit, detik\n",
    "hours = int(training_time // 3600)\n",
    "minutes = int((training_time % 3600) // 60)\n",
    "seconds = int(training_time % 60)\n",
    "\n",
    "print(\"Total training time:\", hours, \"hours\", minutes, \"minutes\", seconds, \"seconds\")\n",
    "\n"
   ]
  },
  {
   "cell_type": "code",
   "execution_count": 339,
   "id": "e8f9fda7",
   "metadata": {},
   "outputs": [],
   "source": [
    "# save model word embedding dengan teknik word2vec dengan cbow 20\n",
    "model.save(\"/Users/williamnehemia/Documents/Skripsi/TugasAkhir/WordEmbeddingModel/ModelWord2vecSetelahPembagianData/word2vec_cbow_20.model\")\n"
   ]
  },
  {
   "cell_type": "code",
   "execution_count": 123,
   "id": "fd5417a1",
   "metadata": {},
   "outputs": [],
   "source": [
    "# load model word embedding dengan teknik word2vec dengan cbow 20\n",
    "model = Word2Vec.load(\"/Users/williamnehemia/Documents/Skripsi/TugasAkhir/WordEmbeddingModel/ModelWord2vecSetelahPembagianData/word2vec_cbow_20.model\")\n"
   ]
  },
  {
   "cell_type": "code",
   "execution_count": 341,
   "id": "77689f86",
   "metadata": {},
   "outputs": [
    {
     "name": "stdout",
     "output_type": "stream",
     "text": [
      "63666500.0\n"
     ]
    }
   ],
   "source": [
    "# Melihat training loss model word embedding dengan teknik word2vec dengan cbow 20\n",
    "training_loss = model.get_latest_training_loss()\n",
    "print(training_loss)\n"
   ]
  },
  {
   "cell_type": "code",
   "execution_count": 342,
   "id": "6f4ebf2a",
   "metadata": {},
   "outputs": [
    {
     "name": "stdout",
     "output_type": "stream",
     "text": [
      "banyak kata ada di model 646\n",
      "banyak kata tidak ada di model 255\n",
      "-0.03629347617744344\n"
     ]
    }
   ],
   "source": [
    "# nilai relatedness model cbow 20\n",
    "print(relatedness(model))\n"
   ]
  },
  {
   "cell_type": "code",
   "execution_count": 343,
   "id": "470c095c",
   "metadata": {},
   "outputs": [
    {
     "name": "stdout",
     "output_type": "stream",
     "text": [
      "true_predicted 2 0.0010416666666666667\n",
      "false_predicted 1918 0.9989583333333333\n",
      "banyak kata ada di model 1544\n",
      "banyak kata tidak ada di model 356\n"
     ]
    }
   ],
   "source": [
    "# nilai word analogy model cbow 20\n",
    "word_analogy(model)\n"
   ]
  },
  {
   "cell_type": "code",
   "execution_count": 124,
   "id": "8c2f915f",
   "metadata": {},
   "outputs": [
    {
     "name": "stdout",
     "output_type": "stream",
     "text": [
      "banyak kata ada di model 194\n",
      "banyak kata tidak ada di model 36\n",
      "0.00023998368149948503\n"
     ]
    }
   ],
   "source": [
    "# nilai relatedness word sim sim model cbow 20\n",
    "print(relatedness_wordsim_sim(model))"
   ]
  },
  {
   "cell_type": "code",
   "execution_count": 125,
   "id": "55abec21",
   "metadata": {},
   "outputs": [
    {
     "name": "stdout",
     "output_type": "stream",
     "text": [
      "true_predicted 68 0.011291929591497841\n",
      "false_predicted 5954 0.9887080704085022\n",
      "banyak kata ada di model 511\n",
      "banyak kata tidak ada di model 79\n"
     ]
    }
   ],
   "source": [
    "# nilai word analogy google analogy model cbow 20\n",
    "word_analogy_google_analogy(model)"
   ]
  },
  {
   "cell_type": "code",
   "execution_count": 344,
   "id": "c4fae992",
   "metadata": {},
   "outputs": [
    {
     "name": "stdout",
     "output_type": "stream",
     "text": [
      "Total training time: 0 hours 35 minutes 33 seconds\n"
     ]
    }
   ],
   "source": [
    "# Membuat model word embedding dengan teknik word2vec dengan sg 20\n",
    "\n",
    "# waktu mulai\n",
    "start_time = time.time()\n",
    "\n",
    "model = Word2Vec(sentences=list_of_sentences_for_model, vector_size=90, min_count=1, workers = 10, compute_loss=True,  window=5, sg = 1, alpha = 0.01, seed = 10, epochs = 1000)\n",
    "\n",
    "\n",
    "# waktu selesai\n",
    "end_time = time.time()\n",
    "\n",
    "# hitung waktu training\n",
    "training_time = end_time - start_time\n",
    "\n",
    "# convert ke jam, menit, detik\n",
    "hours = int(training_time // 3600)\n",
    "minutes = int((training_time % 3600) // 60)\n",
    "seconds = int(training_time % 60)\n",
    "\n",
    "print(\"Total training time:\", hours, \"hours\", minutes, \"minutes\", seconds, \"seconds\")\n",
    "\n"
   ]
  },
  {
   "cell_type": "code",
   "execution_count": 345,
   "id": "f20732e2",
   "metadata": {},
   "outputs": [],
   "source": [
    "# save model word embedding dengan teknik word2vec dengan sg 20\n",
    "model.save(\"/Users/williamnehemia/Documents/Skripsi/TugasAkhir/WordEmbeddingModel/ModelWord2vecSetelahPembagianData/word2vec_sg_20.model\")\n"
   ]
  },
  {
   "cell_type": "code",
   "execution_count": 126,
   "id": "8bb1fbe2",
   "metadata": {},
   "outputs": [],
   "source": [
    "# load model word embedding dengan teknik word2vec dengan sg 20\n",
    "model = Word2Vec.load(\"/Users/williamnehemia/Documents/Skripsi/TugasAkhir/WordEmbeddingModel/ModelWord2vecSetelahPembagianData/word2vec_sg_20.model\")\n"
   ]
  },
  {
   "cell_type": "code",
   "execution_count": 347,
   "id": "583d849d",
   "metadata": {},
   "outputs": [
    {
     "name": "stdout",
     "output_type": "stream",
     "text": [
      "78780312.0\n"
     ]
    }
   ],
   "source": [
    "# Melihat training loss model word embedding dengan teknik word2vec dengan sg 20\n",
    "training_loss = model.get_latest_training_loss()\n",
    "print(training_loss)"
   ]
  },
  {
   "cell_type": "code",
   "execution_count": 348,
   "id": "a45eff2e",
   "metadata": {},
   "outputs": [
    {
     "name": "stdout",
     "output_type": "stream",
     "text": [
      "banyak kata ada di model 646\n",
      "banyak kata tidak ada di model 255\n",
      "0.21305810564137947\n"
     ]
    }
   ],
   "source": [
    "# nilai relatedness model sg 20\n",
    "print(relatedness(model))"
   ]
  },
  {
   "cell_type": "code",
   "execution_count": 349,
   "id": "82bf45a4",
   "metadata": {},
   "outputs": [
    {
     "name": "stdout",
     "output_type": "stream",
     "text": [
      "true_predicted 7 0.0036458333333333334\n",
      "false_predicted 1913 0.9963541666666667\n",
      "banyak kata ada di model 1544\n",
      "banyak kata tidak ada di model 356\n"
     ]
    }
   ],
   "source": [
    "# nilai word analogy model sg 20\n",
    "word_analogy(model)"
   ]
  },
  {
   "cell_type": "code",
   "execution_count": 127,
   "id": "8963cecc",
   "metadata": {},
   "outputs": [
    {
     "name": "stdout",
     "output_type": "stream",
     "text": [
      "banyak kata ada di model 194\n",
      "banyak kata tidak ada di model 36\n",
      "0.19447977569116393\n"
     ]
    }
   ],
   "source": [
    "# nilai relatedness word sim sim model sg 20\n",
    "print(relatedness_wordsim_sim(model))"
   ]
  },
  {
   "cell_type": "code",
   "execution_count": 128,
   "id": "46cc3d95",
   "metadata": {},
   "outputs": [
    {
     "name": "stdout",
     "output_type": "stream",
     "text": [
      "true_predicted 81 0.013450680836931251\n",
      "false_predicted 5941 0.9865493191630688\n",
      "banyak kata ada di model 511\n",
      "banyak kata tidak ada di model 79\n"
     ]
    }
   ],
   "source": [
    "# nilai word analogy google analogy model sg 20\n",
    "word_analogy_google_analogy(model)"
   ]
  },
  {
   "cell_type": "code",
   "execution_count": 350,
   "id": "1e1ddd27",
   "metadata": {},
   "outputs": [
    {
     "name": "stdout",
     "output_type": "stream",
     "text": [
      "Total training time: 0 hours 12 minutes 56 seconds\n"
     ]
    }
   ],
   "source": [
    "# Membuat model word embedding dengan teknik word2vec dengan cbow 21\n",
    "\n",
    "# waktu mulai\n",
    "start_time = time.time()\n",
    "\n",
    "model = Word2Vec(sentences=list_of_sentences_for_model, vector_size=100, min_count=1, workers = 10, compute_loss=True,  window=5, sg = 0, cbow_mean = 0, alpha = 0.01, seed = 10, epochs = 1000)\n",
    "\n",
    "# waktu selesai\n",
    "end_time = time.time()\n",
    "\n",
    "# hitung waktu training\n",
    "training_time = end_time - start_time\n",
    "\n",
    "# convert ke jam, menit, detik\n",
    "hours = int(training_time // 3600)\n",
    "minutes = int((training_time % 3600) // 60)\n",
    "seconds = int(training_time % 60)\n",
    "\n",
    "print(\"Total training time:\", hours, \"hours\", minutes, \"minutes\", seconds, \"seconds\")\n",
    "\n"
   ]
  },
  {
   "cell_type": "code",
   "execution_count": 351,
   "id": "82a49795",
   "metadata": {},
   "outputs": [],
   "source": [
    "# save model word embedding dengan teknik word2vec dengan cbow 21\n",
    "model.save(\"/Users/williamnehemia/Documents/Skripsi/TugasAkhir/WordEmbeddingModel/ModelWord2vecSetelahPembagianData/word2vec_cbow_21.model\")\n"
   ]
  },
  {
   "cell_type": "code",
   "execution_count": 129,
   "id": "4e0c7711",
   "metadata": {},
   "outputs": [],
   "source": [
    "# load model word embedding dengan teknik word2vec dengan cbow 21\n",
    "model = Word2Vec.load(\"/Users/williamnehemia/Documents/Skripsi/TugasAkhir/WordEmbeddingModel/ModelWord2vecSetelahPembagianData/word2vec_cbow_21.model\")\n"
   ]
  },
  {
   "cell_type": "code",
   "execution_count": 353,
   "id": "f47066cd",
   "metadata": {},
   "outputs": [
    {
     "name": "stdout",
     "output_type": "stream",
     "text": [
      "62496684.0\n"
     ]
    }
   ],
   "source": [
    "# Melihat training loss model word embedding dengan teknik word2vec dengan cbow 21\n",
    "training_loss = model.get_latest_training_loss()\n",
    "print(training_loss)\n"
   ]
  },
  {
   "cell_type": "code",
   "execution_count": 354,
   "id": "a54412d9",
   "metadata": {},
   "outputs": [
    {
     "name": "stdout",
     "output_type": "stream",
     "text": [
      "banyak kata ada di model 646\n",
      "banyak kata tidak ada di model 255\n",
      "-0.035509233829701545\n"
     ]
    }
   ],
   "source": [
    "# nilai relatedness model cbow 21\n",
    "print(relatedness(model))\n"
   ]
  },
  {
   "cell_type": "code",
   "execution_count": 355,
   "id": "40b5b30c",
   "metadata": {},
   "outputs": [
    {
     "name": "stdout",
     "output_type": "stream",
     "text": [
      "true_predicted 5 0.0026041666666666665\n",
      "false_predicted 1915 0.9973958333333334\n",
      "banyak kata ada di model 1544\n",
      "banyak kata tidak ada di model 356\n"
     ]
    }
   ],
   "source": [
    "# nilai word analogy model cbow 21\n",
    "word_analogy(model)\n"
   ]
  },
  {
   "cell_type": "code",
   "execution_count": 130,
   "id": "c9dc5d0a",
   "metadata": {},
   "outputs": [
    {
     "name": "stdout",
     "output_type": "stream",
     "text": [
      "banyak kata ada di model 194\n",
      "banyak kata tidak ada di model 36\n",
      "0.014096041492076003\n"
     ]
    }
   ],
   "source": [
    "# nilai relatedness word sim sim model cbow 21\n",
    "print(relatedness_wordsim_sim(model))"
   ]
  },
  {
   "cell_type": "code",
   "execution_count": 131,
   "id": "77fcd215",
   "metadata": {},
   "outputs": [
    {
     "name": "stdout",
     "output_type": "stream",
     "text": [
      "true_predicted 55 0.009133178346064431\n",
      "false_predicted 5967 0.9908668216539356\n",
      "banyak kata ada di model 511\n",
      "banyak kata tidak ada di model 79\n"
     ]
    }
   ],
   "source": [
    "# nilai word analogy google analogy model cbow 21\n",
    "word_analogy_google_analogy(model)"
   ]
  },
  {
   "cell_type": "code",
   "execution_count": 356,
   "id": "d5645b76",
   "metadata": {},
   "outputs": [
    {
     "name": "stdout",
     "output_type": "stream",
     "text": [
      "Total training time: 0 hours 34 minutes 27 seconds\n"
     ]
    }
   ],
   "source": [
    "# Membuat model word embedding dengan teknik word2vec dengan sg 21\n",
    "\n",
    "# waktu mulai\n",
    "start_time = time.time()\n",
    "\n",
    "model = Word2Vec(sentences=list_of_sentences_for_model, vector_size=100, min_count=1, workers = 10, compute_loss=True,  window=5, sg = 1, alpha = 0.01, seed = 10, epochs = 1000)\n",
    "\n",
    "\n",
    "# waktu selesai\n",
    "end_time = time.time()\n",
    "\n",
    "# hitung waktu training\n",
    "training_time = end_time - start_time\n",
    "\n",
    "# convert ke jam, menit, detik\n",
    "hours = int(training_time // 3600)\n",
    "minutes = int((training_time % 3600) // 60)\n",
    "seconds = int(training_time % 60)\n",
    "\n",
    "print(\"Total training time:\", hours, \"hours\", minutes, \"minutes\", seconds, \"seconds\")\n",
    "\n"
   ]
  },
  {
   "cell_type": "code",
   "execution_count": 357,
   "id": "7f7df62f",
   "metadata": {},
   "outputs": [],
   "source": [
    "# save model word embedding dengan teknik word2vec dengan sg 21\n",
    "model.save(\"/Users/williamnehemia/Documents/Skripsi/TugasAkhir/WordEmbeddingModel/ModelWord2vecSetelahPembagianData/word2vec_sg_21.model\")\n"
   ]
  },
  {
   "cell_type": "code",
   "execution_count": 132,
   "id": "54bfd14c",
   "metadata": {},
   "outputs": [],
   "source": [
    "# load model word embedding dengan teknik word2vec dengan sg 21\n",
    "model = Word2Vec.load(\"/Users/williamnehemia/Documents/Skripsi/TugasAkhir/WordEmbeddingModel/ModelWord2vecSetelahPembagianData/word2vec_sg_21.model\")\n"
   ]
  },
  {
   "cell_type": "code",
   "execution_count": 359,
   "id": "61a19b85",
   "metadata": {},
   "outputs": [
    {
     "name": "stdout",
     "output_type": "stream",
     "text": [
      "78801848.0\n"
     ]
    }
   ],
   "source": [
    "# Melihat training loss model word embedding dengan teknik word2vec dengan sg 21\n",
    "training_loss = model.get_latest_training_loss()\n",
    "print(training_loss)"
   ]
  },
  {
   "cell_type": "code",
   "execution_count": 360,
   "id": "dbc49d16",
   "metadata": {},
   "outputs": [
    {
     "name": "stdout",
     "output_type": "stream",
     "text": [
      "banyak kata ada di model 646\n",
      "banyak kata tidak ada di model 255\n",
      "0.17745087089498376\n"
     ]
    }
   ],
   "source": [
    "# nilai relatedness model sg 21\n",
    "print(relatedness(model))"
   ]
  },
  {
   "cell_type": "code",
   "execution_count": 361,
   "id": "d246dacb",
   "metadata": {},
   "outputs": [
    {
     "name": "stdout",
     "output_type": "stream",
     "text": [
      "true_predicted 9 0.0046875\n",
      "false_predicted 1911 0.9953125\n",
      "banyak kata ada di model 1544\n",
      "banyak kata tidak ada di model 356\n"
     ]
    }
   ],
   "source": [
    "# nilai word analogy model sg 21\n",
    "word_analogy(model)"
   ]
  },
  {
   "cell_type": "code",
   "execution_count": 133,
   "id": "e022f4bb",
   "metadata": {},
   "outputs": [
    {
     "name": "stdout",
     "output_type": "stream",
     "text": [
      "banyak kata ada di model 194\n",
      "banyak kata tidak ada di model 36\n",
      "0.23449705458120307\n"
     ]
    }
   ],
   "source": [
    "# nilai relatedness word sim sim model sg 21\n",
    "print(relatedness_wordsim_sim(model))"
   ]
  },
  {
   "cell_type": "code",
   "execution_count": 134,
   "id": "2fed3130",
   "metadata": {},
   "outputs": [
    {
     "name": "stdout",
     "output_type": "stream",
     "text": [
      "true_predicted 82 0.013616738625041515\n",
      "false_predicted 5940 0.9863832613749585\n",
      "banyak kata ada di model 511\n",
      "banyak kata tidak ada di model 79\n"
     ]
    }
   ],
   "source": [
    "# nilai word analogy google analogy model sg 21\n",
    "word_analogy_google_analogy(model)"
   ]
  },
  {
   "cell_type": "code",
   "execution_count": 362,
   "id": "d309e3db",
   "metadata": {},
   "outputs": [
    {
     "name": "stdout",
     "output_type": "stream",
     "text": [
      "Total training time: 0 hours 11 minutes 44 seconds\n"
     ]
    }
   ],
   "source": [
    "# Membuat model word embedding dengan teknik word2vec dengan cbow 22\n",
    "\n",
    "# waktu mulai\n",
    "start_time = time.time()\n",
    "\n",
    "model = Word2Vec(sentences=list_of_sentences_for_model, vector_size=110, min_count=1, workers = 10, compute_loss=True,  window=5, sg = 0, cbow_mean = 0, alpha = 0.01, seed = 10, epochs = 1000)\n",
    "\n",
    "# waktu selesai\n",
    "end_time = time.time()\n",
    "\n",
    "# hitung waktu training\n",
    "training_time = end_time - start_time\n",
    "\n",
    "# convert ke jam, menit, detik\n",
    "hours = int(training_time // 3600)\n",
    "minutes = int((training_time % 3600) // 60)\n",
    "seconds = int(training_time % 60)\n",
    "\n",
    "print(\"Total training time:\", hours, \"hours\", minutes, \"minutes\", seconds, \"seconds\")\n",
    "\n"
   ]
  },
  {
   "cell_type": "code",
   "execution_count": 363,
   "id": "e0e30f5e",
   "metadata": {},
   "outputs": [],
   "source": [
    "# save model word embedding dengan teknik word2vec dengan cbow 22\n",
    "model.save(\"/Users/williamnehemia/Documents/Skripsi/TugasAkhir/WordEmbeddingModel/ModelWord2vecSetelahPembagianData/word2vec_cbow_22.model\")\n"
   ]
  },
  {
   "cell_type": "code",
   "execution_count": 135,
   "id": "06ef20d5",
   "metadata": {},
   "outputs": [],
   "source": [
    "# load model word embedding dengan teknik word2vec dengan cbow 22\n",
    "model = Word2Vec.load(\"/Users/williamnehemia/Documents/Skripsi/TugasAkhir/WordEmbeddingModel/ModelWord2vecSetelahPembagianData/word2vec_cbow_22.model\")\n"
   ]
  },
  {
   "cell_type": "code",
   "execution_count": 365,
   "id": "b5db4fdc",
   "metadata": {},
   "outputs": [
    {
     "name": "stdout",
     "output_type": "stream",
     "text": [
      "61364588.0\n"
     ]
    }
   ],
   "source": [
    "# Melihat training loss model word embedding dengan teknik word2vec dengan cbow 22\n",
    "training_loss = model.get_latest_training_loss()\n",
    "print(training_loss)\n"
   ]
  },
  {
   "cell_type": "code",
   "execution_count": 366,
   "id": "9d01c933",
   "metadata": {},
   "outputs": [
    {
     "name": "stdout",
     "output_type": "stream",
     "text": [
      "banyak kata ada di model 646\n",
      "banyak kata tidak ada di model 255\n",
      "-0.0402716788569163\n"
     ]
    }
   ],
   "source": [
    "# nilai relatedness model cbow 22\n",
    "print(relatedness(model))\n"
   ]
  },
  {
   "cell_type": "code",
   "execution_count": 367,
   "id": "6e6e2743",
   "metadata": {},
   "outputs": [
    {
     "name": "stdout",
     "output_type": "stream",
     "text": [
      "true_predicted 3 0.0015625\n",
      "false_predicted 1917 0.9984375\n",
      "banyak kata ada di model 1544\n",
      "banyak kata tidak ada di model 356\n"
     ]
    }
   ],
   "source": [
    "# nilai word analogy model cbow 22\n",
    "word_analogy(model)\n"
   ]
  },
  {
   "cell_type": "code",
   "execution_count": 136,
   "id": "aba8130f",
   "metadata": {},
   "outputs": [
    {
     "name": "stdout",
     "output_type": "stream",
     "text": [
      "banyak kata ada di model 194\n",
      "banyak kata tidak ada di model 36\n",
      "0.004742677505633573\n"
     ]
    }
   ],
   "source": [
    "# nilai relatedness word sim sim model cbow 22\n",
    "print(relatedness_wordsim_sim(model))"
   ]
  },
  {
   "cell_type": "code",
   "execution_count": 137,
   "id": "12d9614d",
   "metadata": {},
   "outputs": [
    {
     "name": "stdout",
     "output_type": "stream",
     "text": [
      "true_predicted 70 0.011624045167718366\n",
      "false_predicted 5952 0.9883759548322817\n",
      "banyak kata ada di model 511\n",
      "banyak kata tidak ada di model 79\n"
     ]
    }
   ],
   "source": [
    "# nilai word analogy google analogy model cbow 22\n",
    "word_analogy_google_analogy(model)"
   ]
  },
  {
   "cell_type": "code",
   "execution_count": 380,
   "id": "b47aa459",
   "metadata": {},
   "outputs": [
    {
     "name": "stdout",
     "output_type": "stream",
     "text": [
      "Total training time: 0 hours 42 minutes 23 seconds\n"
     ]
    }
   ],
   "source": [
    "# Membuat model word embedding dengan teknik word2vec dengan sg 22\n",
    "\n",
    "# waktu mulai\n",
    "start_time = time.time()\n",
    "\n",
    "model = Word2Vec(sentences=list_of_sentences_for_model, vector_size=110, min_count=1, workers = 10, compute_loss=True,  window=5, sg = 1, alpha = 0.01, seed = 10, epochs = 1000)\n",
    "\n",
    "\n",
    "# waktu selesai\n",
    "end_time = time.time()\n",
    "\n",
    "# hitung waktu training\n",
    "training_time = end_time - start_time\n",
    "\n",
    "# convert ke jam, menit, detik\n",
    "hours = int(training_time // 3600)\n",
    "minutes = int((training_time % 3600) // 60)\n",
    "seconds = int(training_time % 60)\n",
    "\n",
    "print(\"Total training time:\", hours, \"hours\", minutes, \"minutes\", seconds, \"seconds\")\n",
    "\n"
   ]
  },
  {
   "cell_type": "code",
   "execution_count": 381,
   "id": "ff493f8a",
   "metadata": {},
   "outputs": [],
   "source": [
    "# save model word embedding dengan teknik word2vec dengan sg 22\n",
    "model.save(\"/Users/williamnehemia/Documents/Skripsi/TugasAkhir/WordEmbeddingModel/ModelWord2vecSetelahPembagianData/word2vec_sg_22.model\")\n"
   ]
  },
  {
   "cell_type": "code",
   "execution_count": 138,
   "id": "5a50cd1b",
   "metadata": {},
   "outputs": [],
   "source": [
    "# load model word embedding dengan teknik word2vec dengan sg 22\n",
    "model = Word2Vec.load(\"/Users/williamnehemia/Documents/Skripsi/TugasAkhir/WordEmbeddingModel/ModelWord2vecSetelahPembagianData/word2vec_sg_22.model\")\n"
   ]
  },
  {
   "cell_type": "code",
   "execution_count": 383,
   "id": "edafd105",
   "metadata": {},
   "outputs": [
    {
     "name": "stdout",
     "output_type": "stream",
     "text": [
      "78859256.0\n"
     ]
    }
   ],
   "source": [
    "# Melihat training loss model word embedding dengan teknik word2vec dengan sg 22\n",
    "training_loss = model.get_latest_training_loss()\n",
    "print(training_loss)"
   ]
  },
  {
   "cell_type": "code",
   "execution_count": 384,
   "id": "86e2ea88",
   "metadata": {},
   "outputs": [
    {
     "name": "stdout",
     "output_type": "stream",
     "text": [
      "banyak kata ada di model 646\n",
      "banyak kata tidak ada di model 255\n",
      "0.18586719902124474\n"
     ]
    }
   ],
   "source": [
    "# nilai relatedness model sg 22\n",
    "print(relatedness(model))"
   ]
  },
  {
   "cell_type": "code",
   "execution_count": 385,
   "id": "9f5c006b",
   "metadata": {},
   "outputs": [
    {
     "name": "stdout",
     "output_type": "stream",
     "text": [
      "true_predicted 12 0.00625\n",
      "false_predicted 1908 0.99375\n",
      "banyak kata ada di model 1544\n",
      "banyak kata tidak ada di model 356\n"
     ]
    }
   ],
   "source": [
    "# nilai word analogy model sg 22\n",
    "word_analogy(model)"
   ]
  },
  {
   "cell_type": "code",
   "execution_count": 139,
   "id": "b15e2497",
   "metadata": {},
   "outputs": [
    {
     "name": "stdout",
     "output_type": "stream",
     "text": [
      "banyak kata ada di model 194\n",
      "banyak kata tidak ada di model 36\n",
      "0.1897670961457178\n"
     ]
    }
   ],
   "source": [
    "# nilai relatedness word sim sim model sg 22\n",
    "print(relatedness_wordsim_sim(model))"
   ]
  },
  {
   "cell_type": "code",
   "execution_count": 140,
   "id": "bd4895b1",
   "metadata": {},
   "outputs": [
    {
     "name": "stdout",
     "output_type": "stream",
     "text": [
      "true_predicted 71 0.011790102955828628\n",
      "false_predicted 5951 0.9882098970441714\n",
      "banyak kata ada di model 511\n",
      "banyak kata tidak ada di model 79\n"
     ]
    }
   ],
   "source": [
    "# nilai word analogy google analogy model sg 22\n",
    "word_analogy_google_analogy(model)"
   ]
  },
  {
   "cell_type": "code",
   "execution_count": 374,
   "id": "bd27592e",
   "metadata": {},
   "outputs": [
    {
     "name": "stdout",
     "output_type": "stream",
     "text": [
      "Total training time: 0 hours 10 minutes 43 seconds\n"
     ]
    }
   ],
   "source": [
    "# Membuat model word embedding dengan teknik word2vec dengan cbow 23\n",
    "\n",
    "# waktu mulai\n",
    "start_time = time.time()\n",
    "\n",
    "model = Word2Vec(sentences=list_of_sentences_for_model, vector_size=120, min_count=1, workers = 10, compute_loss=True,  window=5, sg = 0, cbow_mean = 0, alpha = 0.01, seed = 10, epochs = 1000)\n",
    "\n",
    "# waktu selesai\n",
    "end_time = time.time()\n",
    "\n",
    "# hitung waktu training\n",
    "training_time = end_time - start_time\n",
    "\n",
    "# convert ke jam, menit, detik\n",
    "hours = int(training_time // 3600)\n",
    "minutes = int((training_time % 3600) // 60)\n",
    "seconds = int(training_time % 60)\n",
    "\n",
    "print(\"Total training time:\", hours, \"hours\", minutes, \"minutes\", seconds, \"seconds\")\n",
    "\n"
   ]
  },
  {
   "cell_type": "code",
   "execution_count": 375,
   "id": "35fe7129",
   "metadata": {},
   "outputs": [],
   "source": [
    "# save model word embedding dengan teknik word2vec dengan cbow 23\n",
    "model.save(\"/Users/williamnehemia/Documents/Skripsi/TugasAkhir/WordEmbeddingModel/ModelWord2vecSetelahPembagianData/word2vec_cbow_23.model\")\n"
   ]
  },
  {
   "cell_type": "code",
   "execution_count": 141,
   "id": "9c564b92",
   "metadata": {},
   "outputs": [],
   "source": [
    "# load model word embedding dengan teknik word2vec dengan cbow 23\n",
    "model = Word2Vec.load(\"/Users/williamnehemia/Documents/Skripsi/TugasAkhir/WordEmbeddingModel/ModelWord2vecSetelahPembagianData/word2vec_cbow_23.model\")\n"
   ]
  },
  {
   "cell_type": "code",
   "execution_count": 377,
   "id": "d3e71e9b",
   "metadata": {},
   "outputs": [
    {
     "name": "stdout",
     "output_type": "stream",
     "text": [
      "60227912.0\n"
     ]
    }
   ],
   "source": [
    "# Melihat training loss model word embedding dengan teknik word2vec dengan cbow 23\n",
    "training_loss = model.get_latest_training_loss()\n",
    "print(training_loss)\n"
   ]
  },
  {
   "cell_type": "code",
   "execution_count": 378,
   "id": "21993595",
   "metadata": {},
   "outputs": [
    {
     "name": "stdout",
     "output_type": "stream",
     "text": [
      "banyak kata ada di model 646\n",
      "banyak kata tidak ada di model 255\n",
      "-0.03689405493670458\n"
     ]
    }
   ],
   "source": [
    "# nilai relatedness model cbow 23\n",
    "print(relatedness(model))\n"
   ]
  },
  {
   "cell_type": "code",
   "execution_count": 379,
   "id": "49d8327e",
   "metadata": {},
   "outputs": [
    {
     "name": "stdout",
     "output_type": "stream",
     "text": [
      "true_predicted 1 0.0005208333333333333\n",
      "false_predicted 1919 0.9994791666666667\n",
      "banyak kata ada di model 1544\n",
      "banyak kata tidak ada di model 356\n"
     ]
    }
   ],
   "source": [
    "# nilai word analogy model cbow 23\n",
    "word_analogy(model)\n"
   ]
  },
  {
   "cell_type": "code",
   "execution_count": 142,
   "id": "1ce3f30c",
   "metadata": {},
   "outputs": [
    {
     "name": "stdout",
     "output_type": "stream",
     "text": [
      "banyak kata ada di model 194\n",
      "banyak kata tidak ada di model 36\n",
      "0.02710915662138558\n"
     ]
    }
   ],
   "source": [
    "# nilai relatedness word sim sim model cbow 23\n",
    "print(relatedness_wordsim_sim(model))"
   ]
  },
  {
   "cell_type": "code",
   "execution_count": 143,
   "id": "212edf5f",
   "metadata": {},
   "outputs": [
    {
     "name": "stdout",
     "output_type": "stream",
     "text": [
      "true_predicted 53 0.008801062769843906\n",
      "false_predicted 5969 0.9911989372301561\n",
      "banyak kata ada di model 511\n",
      "banyak kata tidak ada di model 79\n"
     ]
    }
   ],
   "source": [
    "# nilai word analogy google analogy model cbow 23\n",
    "word_analogy_google_analogy(model)"
   ]
  },
  {
   "cell_type": "code",
   "execution_count": 386,
   "id": "7bd897c7",
   "metadata": {},
   "outputs": [
    {
     "name": "stdout",
     "output_type": "stream",
     "text": [
      "Total training time: 0 hours 55 minutes 36 seconds\n"
     ]
    }
   ],
   "source": [
    "# Membuat model word embedding dengan teknik word2vec dengan sg 23\n",
    "\n",
    "# waktu mulai\n",
    "start_time = time.time()\n",
    "\n",
    "model = Word2Vec(sentences=list_of_sentences_for_model, vector_size=120, min_count=1, workers = 10, compute_loss=True,  window=5, sg = 1, alpha = 0.01, seed = 10, epochs = 1000)\n",
    "\n",
    "\n",
    "# waktu selesai\n",
    "end_time = time.time()\n",
    "\n",
    "# hitung waktu training\n",
    "training_time = end_time - start_time\n",
    "\n",
    "# convert ke jam, menit, detik\n",
    "hours = int(training_time // 3600)\n",
    "minutes = int((training_time % 3600) // 60)\n",
    "seconds = int(training_time % 60)\n",
    "\n",
    "print(\"Total training time:\", hours, \"hours\", minutes, \"minutes\", seconds, \"seconds\")\n",
    "\n"
   ]
  },
  {
   "cell_type": "code",
   "execution_count": 387,
   "id": "6d3c8fb1",
   "metadata": {},
   "outputs": [],
   "source": [
    "# save model word embedding dengan teknik word2vec dengan sg 23\n",
    "model.save(\"/Users/williamnehemia/Documents/Skripsi/TugasAkhir/WordEmbeddingModel/ModelWord2vecSetelahPembagianData/word2vec_sg_23.model\")\n"
   ]
  },
  {
   "cell_type": "code",
   "execution_count": 144,
   "id": "94a22484",
   "metadata": {},
   "outputs": [],
   "source": [
    "# load model word embedding dengan teknik word2vec dengan sg 23\n",
    "model = Word2Vec.load(\"/Users/williamnehemia/Documents/Skripsi/TugasAkhir/WordEmbeddingModel/ModelWord2vecSetelahPembagianData/word2vec_sg_23.model\")\n"
   ]
  },
  {
   "cell_type": "code",
   "execution_count": 389,
   "id": "8f4f8230",
   "metadata": {},
   "outputs": [
    {
     "name": "stdout",
     "output_type": "stream",
     "text": [
      "78738552.0\n"
     ]
    }
   ],
   "source": [
    "# Melihat training loss model word embedding dengan teknik word2vec dengan sg 23\n",
    "training_loss = model.get_latest_training_loss()\n",
    "print(training_loss)"
   ]
  },
  {
   "cell_type": "code",
   "execution_count": 390,
   "id": "eac1ebb2",
   "metadata": {},
   "outputs": [
    {
     "name": "stdout",
     "output_type": "stream",
     "text": [
      "banyak kata ada di model 646\n",
      "banyak kata tidak ada di model 255\n",
      "0.18125116783359943\n"
     ]
    }
   ],
   "source": [
    "# nilai relatedness model sg 23\n",
    "print(relatedness(model))"
   ]
  },
  {
   "cell_type": "code",
   "execution_count": 391,
   "id": "2a048158",
   "metadata": {},
   "outputs": [
    {
     "name": "stdout",
     "output_type": "stream",
     "text": [
      "true_predicted 9 0.0046875\n",
      "false_predicted 1911 0.9953125\n",
      "banyak kata ada di model 1544\n",
      "banyak kata tidak ada di model 356\n"
     ]
    }
   ],
   "source": [
    "# nilai word analogy model sg 23\n",
    "word_analogy(model)"
   ]
  },
  {
   "cell_type": "code",
   "execution_count": 145,
   "id": "8d0c942c",
   "metadata": {},
   "outputs": [
    {
     "name": "stdout",
     "output_type": "stream",
     "text": [
      "banyak kata ada di model 194\n",
      "banyak kata tidak ada di model 36\n",
      "0.22791850191209845\n"
     ]
    }
   ],
   "source": [
    "# nilai relatedness word sim sim model sg 23\n",
    "print(relatedness_wordsim_sim(model))"
   ]
  },
  {
   "cell_type": "code",
   "execution_count": 146,
   "id": "e0e02b36",
   "metadata": {},
   "outputs": [
    {
     "name": "stdout",
     "output_type": "stream",
     "text": [
      "true_predicted 71 0.011790102955828628\n",
      "false_predicted 5951 0.9882098970441714\n",
      "banyak kata ada di model 511\n",
      "banyak kata tidak ada di model 79\n"
     ]
    }
   ],
   "source": [
    "# nilai word analogy google analogy model sg 23\n",
    "word_analogy_google_analogy(model)"
   ]
  },
  {
   "cell_type": "code",
   "execution_count": 392,
   "id": "ed76d394",
   "metadata": {},
   "outputs": [
    {
     "name": "stdout",
     "output_type": "stream",
     "text": [
      "Total training time: 0 hours 53 minutes 48 seconds\n"
     ]
    }
   ],
   "source": [
    "# Membuat model word embedding dengan teknik word2vec dengan cbow 24\n",
    "\n",
    "# waktu mulai\n",
    "start_time = time.time()\n",
    "\n",
    "model = Word2Vec(sentences=list_of_sentences_for_model, vector_size=50, min_count=1, workers = 10, compute_loss=True,  window=5, sg = 0, cbow_mean = 0, alpha = 0.01, seed = 10, epochs = 5000)\n",
    "\n",
    "# waktu selesai\n",
    "end_time = time.time()\n",
    "\n",
    "# hitung waktu training\n",
    "training_time = end_time - start_time\n",
    "\n",
    "# convert ke jam, menit, detik\n",
    "hours = int(training_time // 3600)\n",
    "minutes = int((training_time % 3600) // 60)\n",
    "seconds = int(training_time % 60)\n",
    "\n",
    "print(\"Total training time:\", hours, \"hours\", minutes, \"minutes\", seconds, \"seconds\")\n",
    "\n"
   ]
  },
  {
   "cell_type": "code",
   "execution_count": 393,
   "id": "2fa07f11",
   "metadata": {},
   "outputs": [],
   "source": [
    "# save model word embedding dengan teknik word2vec dengan cbow 24\n",
    "model.save(\"/Users/williamnehemia/Documents/Skripsi/TugasAkhir/WordEmbeddingModel/ModelWord2vecSetelahPembagianData/word2vec_cbow_24.model\")\n"
   ]
  },
  {
   "cell_type": "code",
   "execution_count": 147,
   "id": "fd9a2c9f",
   "metadata": {},
   "outputs": [],
   "source": [
    "# load model word embedding dengan teknik word2vec dengan cbow 24\n",
    "model = Word2Vec.load(\"/Users/williamnehemia/Documents/Skripsi/TugasAkhir/WordEmbeddingModel/ModelWord2vecSetelahPembagianData/word2vec_cbow_24.model\")\n"
   ]
  },
  {
   "cell_type": "code",
   "execution_count": 395,
   "id": "3376f129",
   "metadata": {},
   "outputs": [
    {
     "name": "stdout",
     "output_type": "stream",
     "text": [
      "134217728.0\n"
     ]
    }
   ],
   "source": [
    "# Melihat training loss model word embedding dengan teknik word2vec dengan cbow 24\n",
    "training_loss = model.get_latest_training_loss()\n",
    "print(training_loss)\n"
   ]
  },
  {
   "cell_type": "code",
   "execution_count": 396,
   "id": "891b4c32",
   "metadata": {},
   "outputs": [
    {
     "name": "stdout",
     "output_type": "stream",
     "text": [
      "banyak kata ada di model 646\n",
      "banyak kata tidak ada di model 255\n",
      "-0.03287490296622565\n"
     ]
    }
   ],
   "source": [
    "# nilai relatedness model cbow 24\n",
    "print(relatedness(model))\n"
   ]
  },
  {
   "cell_type": "code",
   "execution_count": 397,
   "id": "dec8f4e1",
   "metadata": {},
   "outputs": [
    {
     "name": "stdout",
     "output_type": "stream",
     "text": [
      "true_predicted 4 0.0020833333333333333\n",
      "false_predicted 1916 0.9979166666666667\n",
      "banyak kata ada di model 1544\n",
      "banyak kata tidak ada di model 356\n"
     ]
    }
   ],
   "source": [
    "# nilai word analogy model cbow 24\n",
    "word_analogy(model)\n"
   ]
  },
  {
   "cell_type": "code",
   "execution_count": 148,
   "id": "4b53b18f",
   "metadata": {},
   "outputs": [
    {
     "name": "stdout",
     "output_type": "stream",
     "text": [
      "banyak kata ada di model 194\n",
      "banyak kata tidak ada di model 36\n",
      "0.02805109257127106\n"
     ]
    }
   ],
   "source": [
    "# nilai relatedness word sim sim model cbow 24\n",
    "print(relatedness_wordsim_sim(model))"
   ]
  },
  {
   "cell_type": "code",
   "execution_count": 149,
   "id": "bd4a4fe3",
   "metadata": {},
   "outputs": [
    {
     "name": "stdout",
     "output_type": "stream",
     "text": [
      "true_predicted 95 0.015775489870474925\n",
      "false_predicted 5927 0.984224510129525\n",
      "banyak kata ada di model 511\n",
      "banyak kata tidak ada di model 79\n"
     ]
    }
   ],
   "source": [
    "# nilai word analogy google analogy model cbow 24\n",
    "word_analogy_google_analogy(model)"
   ]
  },
  {
   "cell_type": "code",
   "execution_count": 398,
   "id": "10d6bebc",
   "metadata": {},
   "outputs": [
    {
     "name": "stdout",
     "output_type": "stream",
     "text": [
      "Total training time: 2 hours 33 minutes 15 seconds\n"
     ]
    }
   ],
   "source": [
    "# Membuat model word embedding dengan teknik word2vec dengan sg 24\n",
    "\n",
    "# waktu mulai\n",
    "start_time = time.time()\n",
    "\n",
    "model = Word2Vec(sentences=list_of_sentences_for_model, vector_size=50, min_count=1, workers = 10, compute_loss=True,  window=5, sg = 1, alpha = 0.01, seed = 10, epochs = 5000)\n",
    "\n",
    "\n",
    "# waktu selesai\n",
    "end_time = time.time()\n",
    "\n",
    "# hitung waktu training\n",
    "training_time = end_time - start_time\n",
    "\n",
    "# convert ke jam, menit, detik\n",
    "hours = int(training_time // 3600)\n",
    "minutes = int((training_time % 3600) // 60)\n",
    "seconds = int(training_time % 60)\n",
    "\n",
    "print(\"Total training time:\", hours, \"hours\", minutes, \"minutes\", seconds, \"seconds\")\n",
    "\n"
   ]
  },
  {
   "cell_type": "code",
   "execution_count": 399,
   "id": "c4baf760",
   "metadata": {},
   "outputs": [],
   "source": [
    "# save model word embedding dengan teknik word2vec dengan sg 24\n",
    "model.save(\"/Users/williamnehemia/Documents/Skripsi/TugasAkhir/WordEmbeddingModel/ModelWord2vecSetelahPembagianData/word2vec_sg_24.model\")\n"
   ]
  },
  {
   "cell_type": "code",
   "execution_count": 150,
   "id": "d953a2c4",
   "metadata": {},
   "outputs": [],
   "source": [
    "# load model word embedding dengan teknik word2vec dengan sg 24\n",
    "model = Word2Vec.load(\"/Users/williamnehemia/Documents/Skripsi/TugasAkhir/WordEmbeddingModel/ModelWord2vecSetelahPembagianData/word2vec_sg_24.model\")\n"
   ]
  },
  {
   "cell_type": "code",
   "execution_count": 401,
   "id": "d81aa42b",
   "metadata": {},
   "outputs": [
    {
     "name": "stdout",
     "output_type": "stream",
     "text": [
      "132141184.0\n"
     ]
    }
   ],
   "source": [
    "# Melihat training loss model word embedding dengan teknik word2vec dengan sg 24\n",
    "training_loss = model.get_latest_training_loss()\n",
    "print(training_loss)"
   ]
  },
  {
   "cell_type": "code",
   "execution_count": 402,
   "id": "c1e30c1f",
   "metadata": {},
   "outputs": [
    {
     "name": "stdout",
     "output_type": "stream",
     "text": [
      "banyak kata ada di model 646\n",
      "banyak kata tidak ada di model 255\n",
      "0.20295978096648543\n"
     ]
    }
   ],
   "source": [
    "# nilai relatedness model sg 24\n",
    "print(relatedness(model))"
   ]
  },
  {
   "cell_type": "code",
   "execution_count": 403,
   "id": "1473a0b4",
   "metadata": {},
   "outputs": [
    {
     "name": "stdout",
     "output_type": "stream",
     "text": [
      "true_predicted 12 0.00625\n",
      "false_predicted 1908 0.99375\n",
      "banyak kata ada di model 1544\n",
      "banyak kata tidak ada di model 356\n"
     ]
    }
   ],
   "source": [
    "# nilai word analogy model sg 24\n",
    "word_analogy(model)"
   ]
  },
  {
   "cell_type": "code",
   "execution_count": 151,
   "id": "d4da7f68",
   "metadata": {},
   "outputs": [
    {
     "name": "stdout",
     "output_type": "stream",
     "text": [
      "banyak kata ada di model 194\n",
      "banyak kata tidak ada di model 36\n",
      "0.2485031021927168\n"
     ]
    }
   ],
   "source": [
    "# nilai relatedness word sim sim model sg 24\n",
    "print(relatedness_wordsim_sim(model))"
   ]
  },
  {
   "cell_type": "code",
   "execution_count": 152,
   "id": "47ee6175",
   "metadata": {},
   "outputs": [
    {
     "name": "stdout",
     "output_type": "stream",
     "text": [
      "true_predicted 109 0.018100298904018597\n",
      "false_predicted 5913 0.9818997010959813\n",
      "banyak kata ada di model 511\n",
      "banyak kata tidak ada di model 79\n"
     ]
    }
   ],
   "source": [
    "# nilai word analogy google analogy model sg 24\n",
    "word_analogy_google_analogy(model)"
   ]
  },
  {
   "cell_type": "markdown",
   "id": "b15ea278",
   "metadata": {},
   "source": [
    "### CBOW 26 ada di colab"
   ]
  },
  {
   "cell_type": "code",
   "execution_count": 14,
   "id": "ad8ecde2",
   "metadata": {},
   "outputs": [
    {
     "name": "stdout",
     "output_type": "stream",
     "text": [
      "Total training time: 8 hours 47 minutes 25 seconds\n"
     ]
    }
   ],
   "source": [
    "# Membuat model word embedding dengan teknik word2vec dengan sg 26\n",
    "\n",
    "# waktu mulai\n",
    "start_time = time.time()\n",
    "\n",
    "model = Word2Vec(sentences=list_of_sentences_for_model, vector_size=10, min_count=1, workers = 10, compute_loss=True,  window=10, sg = 1, alpha = 0.01, seed = 10, epochs = 5000)\n",
    "\n",
    "\n",
    "# waktu selesai\n",
    "end_time = time.time()\n",
    "\n",
    "# hitung waktu training\n",
    "training_time = end_time - start_time\n",
    "\n",
    "# convert ke jam, menit, detik\n",
    "hours = int(training_time // 3600)\n",
    "minutes = int((training_time % 3600) // 60)\n",
    "seconds = int(training_time % 60)\n",
    "\n",
    "print(\"Total training time:\", hours, \"hours\", minutes, \"minutes\", seconds, \"seconds\")\n",
    "\n"
   ]
  },
  {
   "cell_type": "code",
   "execution_count": 15,
   "id": "6579586e",
   "metadata": {},
   "outputs": [],
   "source": [
    "# save model word embedding dengan teknik word2vec dengan sg 26\n",
    "model.save(\"/Users/williamnehemia/Documents/Skripsi/TugasAkhir/WordEmbeddingModel/ModelWord2vecSetelahPembagianData/word2vec_sg_26.model\")\n"
   ]
  },
  {
   "cell_type": "code",
   "execution_count": 153,
   "id": "e0ab3676",
   "metadata": {},
   "outputs": [],
   "source": [
    "# load model word embedding dengan teknik word2vec dengan sg 26\n",
    "model = Word2Vec.load(\"/Users/williamnehemia/Documents/Skripsi/TugasAkhir/WordEmbeddingModel/ModelWord2vecSetelahPembagianData/word2vec_sg_26.model\")\n"
   ]
  },
  {
   "cell_type": "code",
   "execution_count": 17,
   "id": "e7a64759",
   "metadata": {},
   "outputs": [
    {
     "name": "stdout",
     "output_type": "stream",
     "text": [
      "134217728.0\n"
     ]
    }
   ],
   "source": [
    "# Melihat training loss model word embedding dengan teknik word2vec dengan sg 26\n",
    "training_loss = model.get_latest_training_loss()\n",
    "print(training_loss)"
   ]
  },
  {
   "cell_type": "code",
   "execution_count": 18,
   "id": "f1062aef",
   "metadata": {},
   "outputs": [
    {
     "name": "stdout",
     "output_type": "stream",
     "text": [
      "banyak kata ada di model 646\n",
      "banyak kata tidak ada di model 255\n",
      "0.14312857622538727\n"
     ]
    }
   ],
   "source": [
    "# nilai relatedness model sg 26\n",
    "print(relatedness(model))"
   ]
  },
  {
   "cell_type": "code",
   "execution_count": 19,
   "id": "e9cccae0",
   "metadata": {},
   "outputs": [
    {
     "name": "stdout",
     "output_type": "stream",
     "text": [
      "true_predicted 2 0.0010416666666666667\n",
      "false_predicted 1918 0.9989583333333333\n",
      "banyak kata ada di model 1544\n",
      "banyak kata tidak ada di model 356\n"
     ]
    }
   ],
   "source": [
    "# nilai word analogy model sg 26\n",
    "word_analogy(model)"
   ]
  },
  {
   "cell_type": "code",
   "execution_count": 154,
   "id": "167f2175",
   "metadata": {},
   "outputs": [
    {
     "name": "stdout",
     "output_type": "stream",
     "text": [
      "banyak kata ada di model 194\n",
      "banyak kata tidak ada di model 36\n",
      "0.2741153606007493\n"
     ]
    }
   ],
   "source": [
    "# nilai relatedness word sim sim model sg 26\n",
    "print(relatedness_wordsim_sim(model))"
   ]
  },
  {
   "cell_type": "code",
   "execution_count": 155,
   "id": "a5d3c9cf",
   "metadata": {},
   "outputs": [
    {
     "name": "stdout",
     "output_type": "stream",
     "text": [
      "true_predicted 11 0.0018266356692128861\n",
      "false_predicted 6011 0.9981733643307871\n",
      "banyak kata ada di model 511\n",
      "banyak kata tidak ada di model 79\n"
     ]
    }
   ],
   "source": [
    "# nilai word analogy google analogy model sg 26\n",
    "word_analogy_google_analogy(model)"
   ]
  },
  {
   "cell_type": "markdown",
   "id": "05954f73",
   "metadata": {},
   "source": [
    "### CBOW 28 ada di colab"
   ]
  },
  {
   "cell_type": "code",
   "execution_count": 12,
   "id": "9759daa8",
   "metadata": {},
   "outputs": [
    {
     "name": "stdout",
     "output_type": "stream",
     "text": [
      "Total training time: 1 hours 46 minutes 47 seconds\n"
     ]
    }
   ],
   "source": [
    "# Membuat model word embedding dengan teknik word2vec dengan sg 28\n",
    "\n",
    "# waktu mulai\n",
    "start_time = time.time()\n",
    "\n",
    "model = Word2Vec(sentences=list_of_sentences_for_model, vector_size=40, min_count=1, workers = 10, compute_loss=True,  window=10, sg = 1, alpha = 0.01, seed = 10, epochs = 5000)\n",
    "\n",
    "\n",
    "# waktu selesai\n",
    "end_time = time.time()\n",
    "\n",
    "# hitung waktu training\n",
    "training_time = end_time - start_time\n",
    "\n",
    "# convert ke jam, menit, detik\n",
    "hours = int(training_time // 3600)\n",
    "minutes = int((training_time % 3600) // 60)\n",
    "seconds = int(training_time % 60)\n",
    "\n",
    "print(\"Total training time:\", hours, \"hours\", minutes, \"minutes\", seconds, \"seconds\")\n",
    "\n"
   ]
  },
  {
   "cell_type": "code",
   "execution_count": 13,
   "id": "673790f5",
   "metadata": {},
   "outputs": [],
   "source": [
    "# save model word embedding dengan teknik word2vec dengan sg 28\n",
    "model.save(\"/Users/williamnehemia/Documents/Skripsi/TugasAkhir/WordEmbeddingModel/ModelWord2vecSetelahPembagianData/word2vec_sg_28.model\")\n"
   ]
  },
  {
   "cell_type": "code",
   "execution_count": 156,
   "id": "53215f3e",
   "metadata": {},
   "outputs": [],
   "source": [
    "# load model word embedding dengan teknik word2vec dengan sg 28\n",
    "model = Word2Vec.load(\"/Users/williamnehemia/Documents/Skripsi/TugasAkhir/WordEmbeddingModel/ModelWord2vecSetelahPembagianData/word2vec_sg_28.model\")\n"
   ]
  },
  {
   "cell_type": "code",
   "execution_count": 15,
   "id": "06f9855b",
   "metadata": {},
   "outputs": [
    {
     "name": "stdout",
     "output_type": "stream",
     "text": [
      "134217728.0\n"
     ]
    }
   ],
   "source": [
    "# Melihat training loss model word embedding dengan teknik word2vec dengan sg 28\n",
    "training_loss = model.get_latest_training_loss()\n",
    "print(training_loss)"
   ]
  },
  {
   "cell_type": "code",
   "execution_count": 16,
   "id": "0a50513d",
   "metadata": {},
   "outputs": [
    {
     "name": "stdout",
     "output_type": "stream",
     "text": [
      "banyak kata ada di model 646\n",
      "banyak kata tidak ada di model 255\n",
      "0.16823067673622324\n"
     ]
    }
   ],
   "source": [
    "# nilai relatedness model sg 28\n",
    "print(relatedness(model))"
   ]
  },
  {
   "cell_type": "code",
   "execution_count": 17,
   "id": "bc646fef",
   "metadata": {},
   "outputs": [
    {
     "name": "stdout",
     "output_type": "stream",
     "text": [
      "true_predicted 9 0.0046875\n",
      "false_predicted 1911 0.9953125\n",
      "banyak kata ada di model 1544\n",
      "banyak kata tidak ada di model 356\n"
     ]
    }
   ],
   "source": [
    "# nilai word analogy model sg 28\n",
    "word_analogy(model)"
   ]
  },
  {
   "cell_type": "code",
   "execution_count": 157,
   "id": "f07a227f",
   "metadata": {},
   "outputs": [
    {
     "name": "stdout",
     "output_type": "stream",
     "text": [
      "banyak kata ada di model 194\n",
      "banyak kata tidak ada di model 36\n",
      "0.26522996479323085\n"
     ]
    }
   ],
   "source": [
    "# nilai relatedness word sim sim model sg 28\n",
    "print(relatedness_wordsim_sim(model))"
   ]
  },
  {
   "cell_type": "code",
   "execution_count": 158,
   "id": "6e76abeb",
   "metadata": {},
   "outputs": [
    {
     "name": "stdout",
     "output_type": "stream",
     "text": [
      "true_predicted 104 0.017270009963467288\n",
      "false_predicted 5918 0.9827299900365327\n",
      "banyak kata ada di model 511\n",
      "banyak kata tidak ada di model 79\n"
     ]
    }
   ],
   "source": [
    "# nilai word analogy google analogy model sg 28\n",
    "word_analogy_google_analogy(model)"
   ]
  },
  {
   "cell_type": "code",
   "execution_count": 19,
   "id": "776c9b9e",
   "metadata": {},
   "outputs": [
    {
     "name": "stdout",
     "output_type": "stream",
     "text": [
      "Total training time: 0 hours 25 minutes 1 seconds\n"
     ]
    }
   ],
   "source": [
    "# Membuat model word embedding dengan teknik word2vec dengan cbow 29\n",
    "\n",
    "# waktu mulai\n",
    "start_time = time.time()\n",
    "\n",
    "model = Word2Vec(sentences=list_of_sentences_for_model, vector_size=50, min_count=5, workers = 10, compute_loss=True,  window=5, sg = 0, cbow_mean = 0, alpha = 0.01, seed = 10, epochs = 5000)\n",
    "\n",
    "# waktu selesai\n",
    "end_time = time.time()\n",
    "\n",
    "# hitung waktu training\n",
    "training_time = end_time - start_time\n",
    "\n",
    "# convert ke jam, menit, detik\n",
    "hours = int(training_time // 3600)\n",
    "minutes = int((training_time % 3600) // 60)\n",
    "seconds = int(training_time % 60)\n",
    "\n",
    "print(\"Total training time:\", hours, \"hours\", minutes, \"minutes\", seconds, \"seconds\")\n",
    "\n"
   ]
  },
  {
   "cell_type": "code",
   "execution_count": 20,
   "id": "d63885f5",
   "metadata": {},
   "outputs": [],
   "source": [
    "# save model word embedding dengan teknik word2vec dengan cbow 29\n",
    "model.save(\"/Users/williamnehemia/Documents/Skripsi/TugasAkhir/WordEmbeddingModel/ModelWord2vecSetelahPembagianData/word2vec_cbow_29.model\")\n"
   ]
  },
  {
   "cell_type": "code",
   "execution_count": 159,
   "id": "87703944",
   "metadata": {},
   "outputs": [],
   "source": [
    "# load model word embedding dengan teknik word2vec dengan cbow 29\n",
    "model = Word2Vec.load(\"/Users/williamnehemia/Documents/Skripsi/TugasAkhir/WordEmbeddingModel/ModelWord2vecSetelahPembagianData/word2vec_cbow_29.model\")\n"
   ]
  },
  {
   "cell_type": "code",
   "execution_count": 22,
   "id": "6a4b0d7a",
   "metadata": {},
   "outputs": [
    {
     "name": "stdout",
     "output_type": "stream",
     "text": [
      "134217728.0\n"
     ]
    }
   ],
   "source": [
    "# Melihat training loss model word embedding dengan teknik word2vec dengan cbow 29\n",
    "training_loss = model.get_latest_training_loss()\n",
    "print(training_loss)\n"
   ]
  },
  {
   "cell_type": "code",
   "execution_count": 23,
   "id": "bd0f93eb",
   "metadata": {},
   "outputs": [
    {
     "name": "stdout",
     "output_type": "stream",
     "text": [
      "banyak kata ada di model 319\n",
      "banyak kata tidak ada di model 218\n",
      "0.030944413710046206\n"
     ]
    }
   ],
   "source": [
    "# nilai relatedness model cbow 29\n",
    "print(relatedness(model))\n"
   ]
  },
  {
   "cell_type": "code",
   "execution_count": 24,
   "id": "61e7671b",
   "metadata": {},
   "outputs": [
    {
     "name": "stdout",
     "output_type": "stream",
     "text": [
      "true_predicted 6 0.008733624454148471\n",
      "false_predicted 681 0.9912663755458515\n",
      "banyak kata ada di model 656\n",
      "banyak kata tidak ada di model 205\n"
     ]
    }
   ],
   "source": [
    "# nilai word analogy model cbow 29\n",
    "word_analogy(model)\n"
   ]
  },
  {
   "cell_type": "code",
   "execution_count": 160,
   "id": "6d266d78",
   "metadata": {},
   "outputs": [
    {
     "name": "stdout",
     "output_type": "stream",
     "text": [
      "banyak kata ada di model 130\n",
      "banyak kata tidak ada di model 41\n",
      "-0.0904210025203192\n"
     ]
    }
   ],
   "source": [
    "# nilai relatedness word sim sim model cbow 29\n",
    "print(relatedness_wordsim_sim(model))"
   ]
  },
  {
   "cell_type": "code",
   "execution_count": 161,
   "id": "f5c70309",
   "metadata": {},
   "outputs": [
    {
     "name": "stdout",
     "output_type": "stream",
     "text": [
      "true_predicted 111 0.04247990815154994\n",
      "false_predicted 2502 0.9575200918484501\n",
      "banyak kata ada di model 323\n",
      "banyak kata tidak ada di model 69\n"
     ]
    }
   ],
   "source": [
    "# nilai word analogy google analogy model cbow 29\n",
    "word_analogy_google_analogy(model)"
   ]
  },
  {
   "cell_type": "code",
   "execution_count": 12,
   "id": "19a5b4c4",
   "metadata": {},
   "outputs": [
    {
     "name": "stdout",
     "output_type": "stream",
     "text": [
      "Total training time: 5 hours 57 minutes 14 seconds\n"
     ]
    }
   ],
   "source": [
    "# Membuat model word embedding dengan teknik word2vec dengan sg 29\n",
    "\n",
    "# waktu mulai\n",
    "start_time = time.time()\n",
    "\n",
    "model = Word2Vec(sentences=list_of_sentences_for_model, vector_size=50, min_count=5, workers = 10, compute_loss=True,  window=10, sg = 1, alpha = 0.01, seed = 10, epochs = 5000)\n",
    "\n",
    "\n",
    "# waktu selesai\n",
    "end_time = time.time()\n",
    "\n",
    "# hitung waktu training\n",
    "training_time = end_time - start_time\n",
    "\n",
    "# convert ke jam, menit, detik\n",
    "hours = int(training_time // 3600)\n",
    "minutes = int((training_time % 3600) // 60)\n",
    "seconds = int(training_time % 60)\n",
    "\n",
    "print(\"Total training time:\", hours, \"hours\", minutes, \"minutes\", seconds, \"seconds\")\n",
    "\n"
   ]
  },
  {
   "cell_type": "code",
   "execution_count": 13,
   "id": "35f32001",
   "metadata": {},
   "outputs": [],
   "source": [
    "# save model word embedding dengan teknik word2vec dengan sg 29\n",
    "model.save(\"/Users/williamnehemia/Documents/Skripsi/TugasAkhir/WordEmbeddingModel/ModelWord2vecSetelahPembagianData/word2vec_sg_29.model\")\n"
   ]
  },
  {
   "cell_type": "code",
   "execution_count": 162,
   "id": "91ec0702",
   "metadata": {},
   "outputs": [],
   "source": [
    "# load model word embedding dengan teknik word2vec dengan sg 29\n",
    "model = Word2Vec.load(\"/Users/williamnehemia/Documents/Skripsi/TugasAkhir/WordEmbeddingModel/ModelWord2vecSetelahPembagianData/word2vec_sg_29.model\")\n"
   ]
  },
  {
   "cell_type": "code",
   "execution_count": 15,
   "id": "dc46c071",
   "metadata": {},
   "outputs": [
    {
     "name": "stdout",
     "output_type": "stream",
     "text": [
      "134217728.0\n"
     ]
    }
   ],
   "source": [
    "# Melihat training loss model word embedding dengan teknik word2vec dengan sg 29\n",
    "training_loss = model.get_latest_training_loss()\n",
    "print(training_loss)"
   ]
  },
  {
   "cell_type": "code",
   "execution_count": 16,
   "id": "e223b35b",
   "metadata": {
    "scrolled": true
   },
   "outputs": [
    {
     "name": "stdout",
     "output_type": "stream",
     "text": [
      "banyak kata ada di model 319\n",
      "banyak kata tidak ada di model 218\n",
      "0.18941353408652983\n"
     ]
    }
   ],
   "source": [
    "# nilai relatedness model sg 29\n",
    "print(relatedness(model))"
   ]
  },
  {
   "cell_type": "code",
   "execution_count": 17,
   "id": "9177b973",
   "metadata": {},
   "outputs": [
    {
     "name": "stdout",
     "output_type": "stream",
     "text": [
      "true_predicted 14 0.020378457059679767\n",
      "false_predicted 673 0.9796215429403202\n",
      "banyak kata ada di model 656\n",
      "banyak kata tidak ada di model 205\n"
     ]
    }
   ],
   "source": [
    "# nilai word analogy model sg 29\n",
    "word_analogy(model)"
   ]
  },
  {
   "cell_type": "code",
   "execution_count": 163,
   "id": "48b060d9",
   "metadata": {},
   "outputs": [
    {
     "name": "stdout",
     "output_type": "stream",
     "text": [
      "banyak kata ada di model 130\n",
      "banyak kata tidak ada di model 41\n",
      "0.36215796128203853\n"
     ]
    }
   ],
   "source": [
    "# nilai relatedness word sim sim model sg 29\n",
    "print(relatedness_wordsim_sim(model))"
   ]
  },
  {
   "cell_type": "code",
   "execution_count": 164,
   "id": "b9bbaefb",
   "metadata": {},
   "outputs": [
    {
     "name": "stdout",
     "output_type": "stream",
     "text": [
      "true_predicted 91 0.03482587064676617\n",
      "false_predicted 2522 0.9651741293532339\n",
      "banyak kata ada di model 323\n",
      "banyak kata tidak ada di model 69\n"
     ]
    }
   ],
   "source": [
    "# nilai word analogy google analogy model sg 29\n",
    "word_analogy_google_analogy(model)"
   ]
  },
  {
   "cell_type": "code",
   "execution_count": null,
   "id": "83b5d1b6",
   "metadata": {},
   "outputs": [],
   "source": []
  }
 ],
 "metadata": {
  "kernelspec": {
   "display_name": "Python 3 (ipykernel)",
   "language": "python",
   "name": "python3"
  },
  "language_info": {
   "codemirror_mode": {
    "name": "ipython",
    "version": 3
   },
   "file_extension": ".py",
   "mimetype": "text/x-python",
   "name": "python",
   "nbconvert_exporter": "python",
   "pygments_lexer": "ipython3",
   "version": "3.11.5"
  }
 },
 "nbformat": 4,
 "nbformat_minor": 5
}
