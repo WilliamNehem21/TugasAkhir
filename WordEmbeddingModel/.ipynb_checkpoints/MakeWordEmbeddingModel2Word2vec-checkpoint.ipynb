{
 "cells": [
  {
   "cell_type": "code",
   "execution_count": 98,
   "id": "3874ac60",
   "metadata": {},
   "outputs": [],
   "source": [
    "# Import library\n",
    "import re\n",
    "import sys\n",
    "import os\n",
    "import shutil\n",
    "from nltk.tokenize import word_tokenize\n",
    "from nltk.tokenize import RegexpTokenizer\n",
    "from gensim.models import Word2Vec\n",
    "from scipy.stats import spearmanr\n",
    "from sklearn.metrics.pairwise import cosine_similarity\n",
    "import numpy as np\n",
    "import time\n",
    "import pandas as pd"
   ]
  },
  {
   "cell_type": "code",
   "execution_count": 99,
   "id": "3ad0b4da",
   "metadata": {},
   "outputs": [],
   "source": [
    "def relatedness(model):\n",
    "    # Baca file rw untuk evaluasi word embedding dengan teknik relatedness cbow\n",
    "    dir_file = '/Users/williamnehemia/Documents/Skripsi/TugasAkhir/DataEvaluasiGitHub/word-similarity/monolingual/en/rw.csv'\n",
    "    list_model_similarity = []\n",
    "    words_exist = []\n",
    "    words_not_exist = []\n",
    "    list_human_score = []\n",
    "    \n",
    "    df = pd.read_csv(dir_file)\n",
    "    list_human_score = []\n",
    "    \n",
    "    for index, row in df.iterrows():\n",
    "        word_1 = row[\"word1\"].lower()\n",
    "        word_2 = row[\"word2\"].lower()\n",
    "        try:\n",
    "            wv_1 = []\n",
    "            wv_2 = []\n",
    "            wv_1.append(model.wv[word_1])\n",
    "            \n",
    "            if word_1 not in words_exist:\n",
    "                words_exist.append(word_1)\n",
    "            \n",
    "            wv_2.append(model.wv[word_2])\n",
    "            \n",
    "            if word_2 not in words_exist:\n",
    "                words_exist.append(word_2)\n",
    "                \n",
    "            similarity = model.wv.similarity(word_1, word_2)\n",
    "            list_model_similarity.append(similarity)\n",
    "            \n",
    "            human_score = float(row[\"similarity\"])\n",
    "            list_human_score.append(human_score)\n",
    "            \n",
    "        except:\n",
    "            if word_1 in words_exist: # kata 2 yang tidak ada di model\n",
    "                if word_2 not in words_not_exist:\n",
    "                    words_not_exist.append(word_2)\n",
    "            \n",
    "            if word_2 in words_exist: # kata 1 yang tidak ada di model\n",
    "                if word_1 not in words_not_exist:\n",
    "                    words_not_exist.append(word_1)\n",
    "        \n",
    "    \n",
    "   \n",
    "        \n",
    "\n",
    "    rho_model, p_model = spearmanr(list_model_similarity, list_human_score)\n",
    "    print(\"banyak kata ada di model\", len(words_exist))\n",
    "    print(\"banyak kata tidak ada di model\", len(words_not_exist))\n",
    "    return rho_model\n"
   ]
  },
  {
   "cell_type": "code",
   "execution_count": 100,
   "id": "ab6238c9",
   "metadata": {},
   "outputs": [],
   "source": [
    "# # method untuk evaluasi word analogy\n",
    "# def word_analogy(model):\n",
    "#     # Baca file word_analogy untuk evaluasi word embedding dengan teknik word analogy (menggunakan cara manual) cbow 1\n",
    "\n",
    "#     dir_path_word_analogy = '/Users/williamnehemia/Documents/Skripsi/TugasAkhir/DataForEvaluatinWordEmbedding/Word_analogy/Word_Analogy.txt'\n",
    "\n",
    "#     true_predicted = 0\n",
    "#     false_predicted = 0\n",
    "\n",
    "#     list_of_words = model.wv.index_to_key\n",
    "\n",
    "\n",
    "\n",
    "#     with open(dir_path_word_analogy , 'r') as file:\n",
    "#         content = file.read()\n",
    "#         lines = content.splitlines() \n",
    "#         for line in lines:\n",
    "#             item_in_line = line.split(\" \")\n",
    "#             word_predicted_curr = \"\"\n",
    "#             if len(item_in_line) == 4: # untuk buang baris yang merupakan keterangan\n",
    "#                 max_value = -sys.maxsize - 1 # diisi dengan min value dahulu\n",
    "#                 word_1 = item_in_line[0].lower()\n",
    "#                 word_2 = item_in_line[1].lower()\n",
    "#                 word_3 = item_in_line[2].lower()\n",
    "#                 word_4 = item_in_line[3].lower()\n",
    "#                 try:\n",
    "#                     word_predicted_curr = model.wv.most_similar(positive=[word_2, word_3], negative=[word_1], topn=1)[0][0]\n",
    "                    \n",
    "#                 except Exception as e:\n",
    "#                     continue\n",
    "#                 if word_predicted_curr == word_4:\n",
    "#                     true_predicted += 1\n",
    "#                 else:\n",
    "#                     false_predicted += 1\n",
    "\n",
    "#     # print(\"true_predicted\", true_predicted)\n",
    "#     # print(\"false_predicted\", false_predicted)\n",
    "#     print(\"true_predicted\", true_predicted, true_predicted / (true_predicted+false_predicted))\n",
    "#     print(\"false_predicted\", false_predicted, false_predicted / (true_predicted+false_predicted))\n"
   ]
  },
  {
   "cell_type": "code",
   "execution_count": 101,
   "id": "cbfe7019",
   "metadata": {},
   "outputs": [],
   "source": [
    "def word_analogy(model):\n",
    "    # Baca file word_analogy untuk evaluasi word embedding dengan teknik word analogy (menggunakan library)\n",
    "\n",
    "    dir_file = '/Users/williamnehemia/Documents/Skripsi/TugasAkhir/DataEvaluasiGitHub/word-analogy/monolingual/en/semeval.csv'\n",
    "    df = pd.read_csv(dir_file)\n",
    "    true_predicted = 0\n",
    "    false_predicted = 0\n",
    "    words_exist = []\n",
    "    words_not_exist = []\n",
    "    \n",
    "    for index, row in df.iterrows():\n",
    "        word_1 = row[\"word1\"].lower()\n",
    "        word_2 = row[\"word2\"].lower()\n",
    "        word_3 = row[\"word3\"].lower()\n",
    "        word_4 = row[\"target\"].lower()\n",
    "        word_predicted_curr = \"\"\n",
    "        try:\n",
    "            word_predicted_curr = model.wv.most_similar(positive=[word_2, word_3], negative=[word_1], topn=1)[0][0]\n",
    "         \n",
    "            if word_predicted_curr == word_4:\n",
    "                true_predicted += 1\n",
    "            else:\n",
    "                false_predicted += 1\n",
    "            \n",
    "            if word_1 not in words_exist:\n",
    "                words_exist.append(word_1)\n",
    "            \n",
    "            if word_2 not in words_exist:\n",
    "                words_exist.append(word_2)\n",
    "            \n",
    "            if word_3 not in words_exist:\n",
    "                words_exist.append(word_3)\n",
    "            \n",
    "            if word_4 not in words_exist:\n",
    "                words_exist.append(word_4)\n",
    "\n",
    "        except:\n",
    "            continue\n",
    "            \n",
    "        # untuk menambahkan word_1 jika tidak ada di model    \n",
    "        try:\n",
    "            word_vector = model.wv[word_1]\n",
    "        except:\n",
    "            if word_1 not in words_not_exist:\n",
    "                    words_not_exist.append(word_1)\n",
    "        \n",
    "        # untuk menambahkan word_2 jika tidak ada di model    \n",
    "        try:\n",
    "            word_vector = model.wv[word_2]\n",
    "        except:\n",
    "            if word_2 not in words_not_exist:\n",
    "                    words_not_exist.append(word_2)\n",
    "\n",
    "        # untuk menambahkan word_3 jika tidak ada di model    \n",
    "        try:\n",
    "            word_vector = model.wv[word_3]\n",
    "        except:\n",
    "            if word_3 not in words_not_exist:\n",
    "                    words_not_exist.append(word_3)\n",
    "        \n",
    "        # untuk menambahkan word_4 jika tidak ada di model    \n",
    "        try:\n",
    "            word_vector = model.wv[word_4]\n",
    "        except:\n",
    "            if word_4 not in words_not_exist:\n",
    "                    words_not_exist.append(word_4)\n",
    "\n",
    "    print(\"true_predicted\", true_predicted, true_predicted / (true_predicted+false_predicted))\n",
    "    print(\"false_predicted\", false_predicted, false_predicted / (true_predicted+false_predicted))\n",
    "    print(\"banyak kata ada di model\", len(words_exist))\n",
    "    print(\"banyak kata tidak ada di model\", len(words_not_exist))"
   ]
  },
  {
   "cell_type": "code",
   "execution_count": 102,
   "id": "31ed4e63",
   "metadata": {},
   "outputs": [],
   "source": [
    "# Ambil file asli dari folder\n",
    "directory_path_real = '/Users/williamnehemia/Documents/Skripsi/TugasAkhir/WordEmbeddingModel/Data/Data_asli'\n",
    "\n",
    "files_real = os.listdir(directory_path_real)\n",
    "list_files_real = []\n",
    "\n",
    "# Ambil daftar nama file\n",
    "for file in files_real:\n",
    "    if '.DS_Store' not in file:\n",
    "        list_files_real.append(file)\n",
    "        \n",
    "all_text_real = \"\"\n",
    "for file in list_files_real:\n",
    "    with open('/Users/williamnehemia/Documents/Skripsi/TugasAkhir/WordEmbeddingModel/Data/Data_asli/' + file, 'r') as fileNow:\n",
    "        content = fileNow.read()\n",
    "        all_text_real += content\n"
   ]
  },
  {
   "cell_type": "code",
   "execution_count": 103,
   "id": "0397a3cf",
   "metadata": {},
   "outputs": [],
   "source": [
    "# Ambil file parafrasa dari folder\n",
    "directory_path_paraphrased = '/Users/williamnehemia/Documents/Skripsi/TugasAkhir/WordEmbeddingModel/Data/Data_parafrasa'\n",
    "\n",
    "files_paraphrased = os.listdir(directory_path_paraphrased)\n",
    "list_files_paraphrased = []\n",
    "\n",
    "# Ambil daftar nama file\n",
    "for file in files_paraphrased:\n",
    "    if '.DS_Store' not in file:\n",
    "        list_files_paraphrased.append(file)\n",
    "        \n",
    "all_text_paraphrased = \"\"\n",
    "for file in list_files_paraphrased:\n",
    "    with open('/Users/williamnehemia/Documents/Skripsi/TugasAkhir/WordEmbeddingModel/Data/Data_parafrasa/' + file, 'r') as fileNow:\n",
    "        content = fileNow.read()\n",
    "        all_text_paraphrased += content\n",
    "        \n"
   ]
  },
  {
   "cell_type": "code",
   "execution_count": 104,
   "id": "8c8f940e",
   "metadata": {},
   "outputs": [],
   "source": [
    "# Melakukan lowercase lagi\n",
    "all_text_real = all_text_real.lower()\n",
    "all_text_paraphrased = all_text_paraphrased.lower()"
   ]
  },
  {
   "cell_type": "code",
   "execution_count": 105,
   "id": "e01a53ba",
   "metadata": {},
   "outputs": [
    {
     "name": "stdout",
     "output_type": "stream",
     "text": [
      "['computer-aided structure-activity based prediction studies in drug design helps to treat diseases with novel biomarkers', ' prediction of activity spectra for substances(pass) database comprised 46,000 biologically well-known active drugs and screening are performed before the establishment of an in vitro experiment', ' pass gives the significant bioactivities of chemical compounds as pa(probable activity) and pi(probable inactivity) values to mention the compounds, whether they are active are inactive', ' the pa values higher than 0', '7 indicated this compound would be active in experiment and pi values indicate theirs inactivate possibilities', ' the admetsar chemoinformatics based tool used to predict absorption, metabolism, excretion, and toxicity of the particular compound', ' based on these criteria, the outcomes of an in vitro experiment will lower the risk of negative results[13,14]', '\\n\\n\\n\\nclc-pred tools performed to predict cytotoxicity of tumor cell lines, and it is based on structure-cell line cytotoxicity relationships designed by pass special training sets with leave-one-out cross-validation procedure', ' the accuracy of in silico prediction results significantly 96% matches with the results of in vivo experimental', ' the efficiency of compounds against cancer could be found and optimized using this pass based clc-pred database in the future to develop potential anti-cancer drugs']\n",
      "['the detection of pedestrians has broad applications in various fields such as autonomous driving, intelligent monitoring, and robotics, and has long been a focal point in the domain of computer vision', ' in recent years, there have been significant advancements in pedestrian detection technology due to the evolution of deep learning and the introduction of numerous large pedestrian datasets', ' these developments have notably enhanced detection accuracy and speed', ' however, contemporary pedestrian detection methods still struggle to match human performance, particularly when addressing challenges like occlusion and scale variations', ' consequently, solving the issues of occlusion and scale is a crucial objective in pedestrian detection research', '\\n\\nthis paper aims to review the progress in pedestrian detection research, focusing on methods for calculating the confidence of bounding boxes in regression and utilizing multiple convolution layers with different scales to improve multi-scale object detection and enhance accuracy', ' notably, the integration of convolutional neural networks (cnn) into object detection, as exemplified by the introduction of r-cnn by ross girshick et al', ' in 2014, has been pivotal', ' subsequent developments, such as the introduction of the region proposal network (rpn) in 2015, and the adoption of deep learning technologies in methods like faster r-cnn, mscnn, yolov4, csp, and saf-rcnn, have further advanced pedestrian detection capabilities', ' these newer approaches leverage deep features, providing superior generalization ability and robustness compared to hand-designed features']\n"
     ]
    }
   ],
   "source": [
    "# Memisahkan text per kalimat (menggunakan delimiter titik)\n",
    "list_of_sentences_real = []\n",
    "list_of_sentences_paraphrased = []\n",
    "\n",
    "list_of_sentences_real = all_text_real.split('.')\n",
    "list_of_sentences_paraphrased = all_text_paraphrased.split('.')\n",
    "\n",
    "print(list_of_sentences_real[0:10])\n",
    "print(list_of_sentences_paraphrased[0:10])"
   ]
  },
  {
   "cell_type": "code",
   "execution_count": 106,
   "id": "e70e6016",
   "metadata": {},
   "outputs": [
    {
     "name": "stdout",
     "output_type": "stream",
     "text": [
      "[['computer', 'aided', 'structure', 'activity', 'based', 'prediction', 'studies', 'in', 'drug', 'design', 'helps', 'to', 'treat', 'diseases', 'with', 'novel', 'biomarkers'], ['prediction', 'of', 'activity', 'spectra', 'for', 'substances', 'pass', 'database', 'comprised', 'biologically', 'well', 'known', 'active', 'drugs', 'and', 'screening', 'are', 'performed', 'before', 'the', 'establishment', 'of', 'an', 'in', 'vitro', 'experiment'], ['pass', 'gives', 'the', 'significant', 'bioactivities', 'of', 'chemical', 'compounds', 'as', 'pa', 'probable', 'activity', 'and', 'pi', 'probable', 'inactivity', 'values', 'to', 'mention', 'the', 'compounds', 'whether', 'they', 'are', 'active', 'are', 'inactive'], ['the', 'pa', 'values', 'higher', 'than'], ['indicated', 'this', 'compound', 'would', 'be', 'active', 'in', 'experiment', 'and', 'pi', 'values', 'indicate', 'theirs', 'inactivate', 'possibilities'], ['the', 'admetsar', 'chemoinformatics', 'based', 'tool', 'used', 'to', 'predict', 'absorption', 'metabolism', 'excretion', 'and', 'toxicity', 'of', 'the', 'particular', 'compound'], ['based', 'on', 'these', 'criteria', 'the', 'outcomes', 'of', 'an', 'in', 'vitro', 'experiment', 'will', 'lower', 'the', 'risk', 'of', 'negative', 'results'], ['clc', 'pred', 'tools', 'performed', 'to', 'predict', 'cytotoxicity', 'of', 'tumor', 'cell', 'lines', 'and', 'it', 'is', 'based', 'on', 'structure', 'cell', 'line', 'cytotoxicity', 'relationships', 'designed', 'by', 'pass', 'special', 'training', 'sets', 'with', 'leave', 'one', 'out', 'cross', 'validation', 'procedure'], ['the', 'accuracy', 'of', 'in', 'silico', 'prediction', 'results', 'significantly', 'matches', 'with', 'the', 'results', 'of', 'in', 'vivo', 'experimental'], ['the', 'efficiency', 'of', 'compounds', 'against', 'cancer', 'could', 'be', 'found', 'and', 'optimized', 'using', 'this', 'pass', 'based', 'clc', 'pred', 'database', 'in', 'the', 'future', 'to', 'develop', 'potential', 'anti', 'cancer', 'drugs']]\n"
     ]
    }
   ],
   "source": [
    "# melakukan tokenisasi dan menggabungkan teks asli dan parafrasa\n",
    "\n",
    "\n",
    "list_of_sentences_for_model = []\n",
    "\n",
    "tokenizer = RegexpTokenizer(r'[a-zA-Z]+')\n",
    "\n",
    "for sentence in list_of_sentences_real:\n",
    "    sentence_tokenized = tokenizer.tokenize(sentence)\n",
    "    list_of_sentences_for_model.append(sentence_tokenized)\n",
    "\n",
    "for sentence in list_of_sentences_paraphrased:\n",
    "    sentence_tokenized = tokenizer.tokenize(sentence)\n",
    "    list_of_sentences_for_model.append(sentence_tokenized)\n",
    "\n",
    "print(list_of_sentences_for_model[0:10])\n"
   ]
  },
  {
   "cell_type": "code",
   "execution_count": 107,
   "id": "98ed8338",
   "metadata": {},
   "outputs": [
    {
     "name": "stdout",
     "output_type": "stream",
     "text": [
      "Total training time: 0 hours 0 minutes 58 seconds\n"
     ]
    }
   ],
   "source": [
    "# Membuat model word embedding dengan teknik word2vec dengan cbow 1\n",
    "\n",
    "# waktu mulai\n",
    "start_time = time.time()\n",
    "\n",
    "model = Word2Vec(sentences=list_of_sentences_for_model, vector_size=20, min_count=1, workers = 10, compute_loss=True,  window=5, sg = 0, cbow_mean = 0, alpha = 0.01, seed = 10, epochs = 100)\n",
    "\n",
    "# waktu selesai\n",
    "end_time = time.time()\n",
    "\n",
    "# hitung waktu training\n",
    "training_time = end_time - start_time\n",
    "\n",
    "# convert ke jam, menit, detik\n",
    "hours = int(training_time // 3600)\n",
    "minutes = int((training_time % 3600) // 60)\n",
    "seconds = int(training_time % 60)\n",
    "\n",
    "print(\"Total training time:\", hours, \"hours\", minutes, \"minutes\", seconds, \"seconds\")\n",
    "\n"
   ]
  },
  {
   "cell_type": "code",
   "execution_count": 108,
   "id": "be904c34",
   "metadata": {},
   "outputs": [],
   "source": [
    "# save model word embedding dengan teknik word2vec dengan cbow 1\n",
    "model.save(\"/Users/williamnehemia/Documents/Skripsi/TugasAkhir/WordEmbeddingModel/ModelWord2vecSetelahPembagianData/word2vec_cbow_1.model\")\n"
   ]
  },
  {
   "cell_type": "code",
   "execution_count": 109,
   "id": "0ef8369b",
   "metadata": {},
   "outputs": [],
   "source": [
    "# load model word embedding dengan teknik word2vec dengan cbow 1\n",
    "model = Word2Vec.load(\"/Users/williamnehemia/Documents/Skripsi/TugasAkhir/WordEmbeddingModel/ModelWord2vecSetelahPembagianData/word2vec_cbow_1.model\")"
   ]
  },
  {
   "cell_type": "code",
   "execution_count": 110,
   "id": "d293b2b2",
   "metadata": {},
   "outputs": [
    {
     "name": "stdout",
     "output_type": "stream",
     "text": [
      "14459750.0\n"
     ]
    }
   ],
   "source": [
    "# Melihat training loss model word embedding dengan teknik word2vec dengan cbow 1\n",
    "training_loss = model.get_latest_training_loss()\n",
    "print(training_loss)"
   ]
  },
  {
   "cell_type": "code",
   "execution_count": 111,
   "id": "a1e3586d",
   "metadata": {},
   "outputs": [
    {
     "name": "stdout",
     "output_type": "stream",
     "text": [
      "banyak kata ada di model 646\n",
      "banyak kata tidak ada di model 255\n",
      "-0.014615062367807321\n"
     ]
    }
   ],
   "source": [
    "# nilai relatedness model cbow 1\n",
    "print(relatedness(model))"
   ]
  },
  {
   "cell_type": "code",
   "execution_count": 112,
   "id": "4f86ab9a",
   "metadata": {},
   "outputs": [
    {
     "name": "stdout",
     "output_type": "stream",
     "text": [
      "true_predicted 5 0.0026041666666666665\n",
      "false_predicted 1915 0.9973958333333334\n",
      "banyak kata ada di model 1544\n",
      "banyak kata tidak ada di model 356\n"
     ]
    }
   ],
   "source": [
    "# nilai word analogy model cbow 1\n",
    "word_analogy(model)"
   ]
  },
  {
   "cell_type": "code",
   "execution_count": 113,
   "id": "52e108c4",
   "metadata": {},
   "outputs": [
    {
     "name": "stdout",
     "output_type": "stream",
     "text": [
      "Total training time: 0 hours 2 minutes 51 seconds\n"
     ]
    }
   ],
   "source": [
    "# Membuat model word embedding dengan teknik word2vec dengan sg 1\n",
    "\n",
    "# waktu mulai\n",
    "start_time = time.time()\n",
    "\n",
    "model = Word2Vec(sentences=list_of_sentences_for_model, vector_size=20, min_count=1, workers = 10, compute_loss=True,  window=5, sg = 1, alpha = 0.01, seed = 10, epochs = 100)\n",
    "\n",
    "\n",
    "# waktu selesai\n",
    "end_time = time.time()\n",
    "\n",
    "# hitung waktu training\n",
    "training_time = end_time - start_time\n",
    "\n",
    "# convert ke jam, menit, detik\n",
    "hours = int(training_time // 3600)\n",
    "minutes = int((training_time % 3600) // 60)\n",
    "seconds = int(training_time % 60)\n",
    "\n",
    "print(\"Total training time:\", hours, \"hours\", minutes, \"minutes\", seconds, \"seconds\")\n",
    "\n"
   ]
  },
  {
   "cell_type": "code",
   "execution_count": 114,
   "id": "b3987593",
   "metadata": {},
   "outputs": [],
   "source": [
    "# save model word embedding dengan teknik word2vec dengan sg 1\n",
    "model.save(\"/Users/williamnehemia/Documents/Skripsi/TugasAkhir/WordEmbeddingModel/ModelWord2vecSetelahPembagianData/word2vec_sg_1.model\")\n"
   ]
  },
  {
   "cell_type": "code",
   "execution_count": 115,
   "id": "8cc5d30e",
   "metadata": {},
   "outputs": [],
   "source": [
    "# load model word embedding dengan teknik word2vec dengan sg 1\n",
    "model = Word2Vec.load(\"/Users/williamnehemia/Documents/Skripsi/TugasAkhir/WordEmbeddingModel/ModelWord2vecSetelahPembagianData/word2vec_sg_1.model\")\n"
   ]
  },
  {
   "cell_type": "code",
   "execution_count": 116,
   "id": "e8c8e672",
   "metadata": {},
   "outputs": [
    {
     "name": "stdout",
     "output_type": "stream",
     "text": [
      "45895132.0\n"
     ]
    }
   ],
   "source": [
    "# Melihat training loss model word embedding dengan teknik word2vec dengan sg 1\n",
    "training_loss = model.get_latest_training_loss()\n",
    "print(training_loss)"
   ]
  },
  {
   "cell_type": "code",
   "execution_count": 117,
   "id": "cadced82",
   "metadata": {},
   "outputs": [
    {
     "name": "stdout",
     "output_type": "stream",
     "text": [
      "banyak kata ada di model 646\n",
      "banyak kata tidak ada di model 255\n",
      "0.21749188332567632\n"
     ]
    }
   ],
   "source": [
    "# nilai relatedness model sg 1\n",
    "print(relatedness(model))"
   ]
  },
  {
   "cell_type": "code",
   "execution_count": 118,
   "id": "43a36424",
   "metadata": {},
   "outputs": [
    {
     "name": "stdout",
     "output_type": "stream",
     "text": [
      "true_predicted 6 0.003125\n",
      "false_predicted 1914 0.996875\n",
      "banyak kata ada di model 1544\n",
      "banyak kata tidak ada di model 356\n"
     ]
    }
   ],
   "source": [
    "# nilai word analogy model sg 1\n",
    "word_analogy(model)"
   ]
  },
  {
   "cell_type": "code",
   "execution_count": 119,
   "id": "644d8519",
   "metadata": {},
   "outputs": [
    {
     "name": "stdout",
     "output_type": "stream",
     "text": [
      "Total training time: 0 hours 0 minutes 28 seconds\n"
     ]
    }
   ],
   "source": [
    "# Membuat model word embedding dengan teknik word2vec dengan cbow 2\n",
    "\n",
    "# waktu mulai\n",
    "start_time = time.time()\n",
    "\n",
    "model = Word2Vec(sentences=list_of_sentences_for_model, vector_size=20, min_count=1, workers = 10, compute_loss=True,  window=5, sg = 0, cbow_mean = 0, alpha = 0.001, seed = 10, epochs = 100)\n",
    "\n",
    "# waktu selesai\n",
    "end_time = time.time()\n",
    "\n",
    "# hitung waktu training\n",
    "training_time = end_time - start_time\n",
    "\n",
    "# convert ke jam, menit, detik\n",
    "hours = int(training_time // 3600)\n",
    "minutes = int((training_time % 3600) // 60)\n",
    "seconds = int(training_time % 60)\n",
    "\n",
    "print(\"Total training time:\", hours, \"hours\", minutes, \"minutes\", seconds, \"seconds\")\n",
    "\n"
   ]
  },
  {
   "cell_type": "code",
   "execution_count": 120,
   "id": "319501c4",
   "metadata": {},
   "outputs": [],
   "source": [
    "# save model word embedding dengan teknik word2vec dengan cbow 2\n",
    "model.save(\"/Users/williamnehemia/Documents/Skripsi/TugasAkhir/WordEmbeddingModel/ModelWord2vecSetelahPembagianData/word2vec_cbow_2.model\")\n"
   ]
  },
  {
   "cell_type": "code",
   "execution_count": 121,
   "id": "e6004447",
   "metadata": {},
   "outputs": [],
   "source": [
    "# load model word embedding dengan teknik word2vec dengan cbow 2\n",
    "model = Word2Vec.load(\"/Users/williamnehemia/Documents/Skripsi/TugasAkhir/WordEmbeddingModel/ModelWord2vecSetelahPembagianData/word2vec_cbow_2.model\")\n"
   ]
  },
  {
   "cell_type": "code",
   "execution_count": 122,
   "id": "610526e0",
   "metadata": {},
   "outputs": [
    {
     "name": "stdout",
     "output_type": "stream",
     "text": [
      "16990444.0\n"
     ]
    }
   ],
   "source": [
    "# Melihat training loss model word embedding dengan teknik word2vec dengan cbow 2\n",
    "training_loss = model.get_latest_training_loss()\n",
    "print(training_loss)\n"
   ]
  },
  {
   "cell_type": "code",
   "execution_count": 123,
   "id": "bae50ddc",
   "metadata": {},
   "outputs": [
    {
     "name": "stdout",
     "output_type": "stream",
     "text": [
      "banyak kata ada di model 646\n",
      "banyak kata tidak ada di model 255\n",
      "-0.03805784519922117\n"
     ]
    }
   ],
   "source": [
    "# nilai relatedness model cbow 2\n",
    "print(relatedness(model))\n"
   ]
  },
  {
   "cell_type": "code",
   "execution_count": 124,
   "id": "d0d3fd00",
   "metadata": {},
   "outputs": [
    {
     "name": "stdout",
     "output_type": "stream",
     "text": [
      "true_predicted 1 0.0005208333333333333\n",
      "false_predicted 1919 0.9994791666666667\n",
      "banyak kata ada di model 1544\n",
      "banyak kata tidak ada di model 356\n"
     ]
    }
   ],
   "source": [
    "# nilai word analogy model cbow 2\n",
    "word_analogy(model)\n"
   ]
  },
  {
   "cell_type": "code",
   "execution_count": 125,
   "id": "f9b1ac0d",
   "metadata": {},
   "outputs": [
    {
     "name": "stdout",
     "output_type": "stream",
     "text": [
      "Total training time: 0 hours 1 minutes 18 seconds\n"
     ]
    }
   ],
   "source": [
    "# Membuat model word embedding dengan teknik word2vec dengan sg 2\n",
    "\n",
    "# waktu mulai\n",
    "start_time = time.time()\n",
    "\n",
    "model = Word2Vec(sentences=list_of_sentences_for_model, vector_size=20, min_count=1, workers = 10, compute_loss=True,  window=5, sg = 1, alpha = 0.001, seed = 10, epochs = 100)\n",
    "\n",
    "\n",
    "# waktu selesai\n",
    "end_time = time.time()\n",
    "\n",
    "# hitung waktu training\n",
    "training_time = end_time - start_time\n",
    "\n",
    "# convert ke jam, menit, detik\n",
    "hours = int(training_time // 3600)\n",
    "minutes = int((training_time % 3600) // 60)\n",
    "seconds = int(training_time % 60)\n",
    "\n",
    "print(\"Total training time:\", hours, \"hours\", minutes, \"minutes\", seconds, \"seconds\")\n",
    "\n"
   ]
  },
  {
   "cell_type": "code",
   "execution_count": 126,
   "id": "7f3f19dd",
   "metadata": {},
   "outputs": [],
   "source": [
    "# save model word embedding dengan teknik word2vec dengan sg 2\n",
    "model.save(\"/Users/williamnehemia/Documents/Skripsi/TugasAkhir/WordEmbeddingModel/ModelWord2vecSetelahPembagianData/word2vec_sg_2.model\")\n"
   ]
  },
  {
   "cell_type": "code",
   "execution_count": 127,
   "id": "bbd7ebb5",
   "metadata": {},
   "outputs": [],
   "source": [
    "# load model word embedding dengan teknik word2vec dengan sg 2\n",
    "model = Word2Vec.load(\"/Users/williamnehemia/Documents/Skripsi/TugasAkhir/WordEmbeddingModel/ModelWord2vecSetelahPembagianData/word2vec_sg_2.model\")\n"
   ]
  },
  {
   "cell_type": "code",
   "execution_count": 128,
   "id": "c1abfd97",
   "metadata": {},
   "outputs": [
    {
     "name": "stdout",
     "output_type": "stream",
     "text": [
      "49390352.0\n"
     ]
    }
   ],
   "source": [
    "# Melihat training loss model word embedding dengan teknik word2vec dengan sg 2\n",
    "training_loss = model.get_latest_training_loss()\n",
    "print(training_loss)"
   ]
  },
  {
   "cell_type": "code",
   "execution_count": 129,
   "id": "1815fd1b",
   "metadata": {},
   "outputs": [
    {
     "name": "stdout",
     "output_type": "stream",
     "text": [
      "banyak kata ada di model 646\n",
      "banyak kata tidak ada di model 255\n",
      "0.18296383373385983\n"
     ]
    }
   ],
   "source": [
    "# nilai relatedness model sg 2\n",
    "print(relatedness(model))"
   ]
  },
  {
   "cell_type": "code",
   "execution_count": 130,
   "id": "c24893e6",
   "metadata": {},
   "outputs": [
    {
     "name": "stdout",
     "output_type": "stream",
     "text": [
      "true_predicted 7 0.0036458333333333334\n",
      "false_predicted 1913 0.9963541666666667\n",
      "banyak kata ada di model 1544\n",
      "banyak kata tidak ada di model 356\n"
     ]
    }
   ],
   "source": [
    "# nilai word analogy model sg 2\n",
    "word_analogy(model)"
   ]
  },
  {
   "cell_type": "code",
   "execution_count": 131,
   "id": "59c823f4",
   "metadata": {},
   "outputs": [
    {
     "name": "stdout",
     "output_type": "stream",
     "text": [
      "Total training time: 0 hours 1 minutes 0 seconds\n"
     ]
    }
   ],
   "source": [
    "# Membuat model word embedding dengan teknik word2vec dengan cbow 3\n",
    "\n",
    "# waktu mulai\n",
    "start_time = time.time()\n",
    "\n",
    "model = Word2Vec(sentences=list_of_sentences_for_model, vector_size=20, min_count=1, workers = 10, compute_loss=True,  window=5, sg = 0, cbow_mean = 0, alpha = 0.1, seed = 10, epochs = 100)\n",
    "\n",
    "# waktu selesai\n",
    "end_time = time.time()\n",
    "\n",
    "# hitung waktu training\n",
    "training_time = end_time - start_time\n",
    "\n",
    "# convert ke jam, menit, detik\n",
    "hours = int(training_time // 3600)\n",
    "minutes = int((training_time % 3600) // 60)\n",
    "seconds = int(training_time % 60)\n",
    "\n",
    "print(\"Total training time:\", hours, \"hours\", minutes, \"minutes\", seconds, \"seconds\")\n",
    "\n"
   ]
  },
  {
   "cell_type": "code",
   "execution_count": 132,
   "id": "757290c3",
   "metadata": {},
   "outputs": [],
   "source": [
    "# save model word embedding dengan teknik word2vec dengan cbow 3\n",
    "model.save(\"/Users/williamnehemia/Documents/Skripsi/TugasAkhir/WordEmbeddingModel/ModelWord2vecSetelahPembagianData/word2vec_cbow_3.model\")\n"
   ]
  },
  {
   "cell_type": "code",
   "execution_count": 133,
   "id": "81f33104",
   "metadata": {},
   "outputs": [],
   "source": [
    "# load model word embedding dengan teknik word2vec dengan cbow 3\n",
    "model = Word2Vec.load(\"/Users/williamnehemia/Documents/Skripsi/TugasAkhir/WordEmbeddingModel/ModelWord2vecSetelahPembagianData/word2vec_cbow_3.model\")\n"
   ]
  },
  {
   "cell_type": "code",
   "execution_count": 134,
   "id": "ffff4c93",
   "metadata": {},
   "outputs": [
    {
     "name": "stdout",
     "output_type": "stream",
     "text": [
      "13958812.0\n"
     ]
    }
   ],
   "source": [
    "# Melihat training loss model word embedding dengan teknik word2vec dengan cbow 3\n",
    "training_loss = model.get_latest_training_loss()\n",
    "print(training_loss)\n"
   ]
  },
  {
   "cell_type": "code",
   "execution_count": 135,
   "id": "05947ba5",
   "metadata": {},
   "outputs": [
    {
     "name": "stdout",
     "output_type": "stream",
     "text": [
      "banyak kata ada di model 646\n",
      "banyak kata tidak ada di model 255\n",
      "-0.02875774621629753\n"
     ]
    }
   ],
   "source": [
    "# nilai relatedness model cbow 3\n",
    "print(relatedness(model))\n"
   ]
  },
  {
   "cell_type": "code",
   "execution_count": 136,
   "id": "21d966d7",
   "metadata": {},
   "outputs": [
    {
     "name": "stdout",
     "output_type": "stream",
     "text": [
      "true_predicted 3 0.0015625\n",
      "false_predicted 1917 0.9984375\n",
      "banyak kata ada di model 1544\n",
      "banyak kata tidak ada di model 356\n"
     ]
    }
   ],
   "source": [
    "# nilai word analogy model cbow 3\n",
    "word_analogy(model)\n"
   ]
  },
  {
   "cell_type": "code",
   "execution_count": 137,
   "id": "b4b6efd7",
   "metadata": {},
   "outputs": [
    {
     "name": "stdout",
     "output_type": "stream",
     "text": [
      "Total training time: 0 hours 2 minutes 51 seconds\n"
     ]
    }
   ],
   "source": [
    "# Membuat model word embedding dengan teknik word2vec dengan sg 3\n",
    "\n",
    "# waktu mulai\n",
    "start_time = time.time()\n",
    "\n",
    "model = Word2Vec(sentences=list_of_sentences_for_model, vector_size=20, min_count=1, workers = 10, compute_loss=True,  window=5, sg = 1, alpha = 0.1, seed = 10, epochs = 100)\n",
    "\n",
    "\n",
    "# waktu selesai\n",
    "end_time = time.time()\n",
    "\n",
    "# hitung waktu training\n",
    "training_time = end_time - start_time\n",
    "\n",
    "# convert ke jam, menit, detik\n",
    "hours = int(training_time // 3600)\n",
    "minutes = int((training_time % 3600) // 60)\n",
    "seconds = int(training_time % 60)\n",
    "\n",
    "print(\"Total training time:\", hours, \"hours\", minutes, \"minutes\", seconds, \"seconds\")\n",
    "\n"
   ]
  },
  {
   "cell_type": "code",
   "execution_count": 138,
   "id": "ff394bb7",
   "metadata": {},
   "outputs": [],
   "source": [
    "# save model word embedding dengan teknik word2vec dengan sg 3\n",
    "model.save(\"/Users/williamnehemia/Documents/Skripsi/TugasAkhir/WordEmbeddingModel/ModelWord2vecSetelahPembagianData/word2vec_sg_3.model\")\n"
   ]
  },
  {
   "cell_type": "code",
   "execution_count": 139,
   "id": "3236290a",
   "metadata": {},
   "outputs": [],
   "source": [
    "# load model word embedding dengan teknik word2vec dengan sg 3\n",
    "model = Word2Vec.load(\"/Users/williamnehemia/Documents/Skripsi/TugasAkhir/WordEmbeddingModel/ModelWord2vecSetelahPembagianData/word2vec_sg_3.model\")\n"
   ]
  },
  {
   "cell_type": "code",
   "execution_count": 140,
   "id": "82b02612",
   "metadata": {},
   "outputs": [
    {
     "name": "stdout",
     "output_type": "stream",
     "text": [
      "45273248.0\n"
     ]
    }
   ],
   "source": [
    "# Melihat training loss model word embedding dengan teknik word2vec dengan sg 3\n",
    "training_loss = model.get_latest_training_loss()\n",
    "print(training_loss)"
   ]
  },
  {
   "cell_type": "code",
   "execution_count": 141,
   "id": "b16d205f",
   "metadata": {},
   "outputs": [
    {
     "name": "stdout",
     "output_type": "stream",
     "text": [
      "banyak kata ada di model 646\n",
      "banyak kata tidak ada di model 255\n",
      "0.14590797152822502\n"
     ]
    }
   ],
   "source": [
    "# nilai relatedness model sg 3\n",
    "print(relatedness(model))"
   ]
  },
  {
   "cell_type": "code",
   "execution_count": 142,
   "id": "e09aa781",
   "metadata": {},
   "outputs": [
    {
     "name": "stdout",
     "output_type": "stream",
     "text": [
      "true_predicted 3 0.0015625\n",
      "false_predicted 1917 0.9984375\n",
      "banyak kata ada di model 1544\n",
      "banyak kata tidak ada di model 356\n"
     ]
    }
   ],
   "source": [
    "# nilai word analogy model sg 3\n",
    "word_analogy(model)"
   ]
  },
  {
   "cell_type": "code",
   "execution_count": 143,
   "id": "3f4b1ee3",
   "metadata": {},
   "outputs": [
    {
     "name": "stdout",
     "output_type": "stream",
     "text": [
      "Total training time: 0 hours 0 minutes 53 seconds\n"
     ]
    }
   ],
   "source": [
    "# Membuat model word embedding dengan teknik word2vec dengan cbow 4\n",
    "\n",
    "# waktu mulai\n",
    "start_time = time.time()\n",
    "\n",
    "model = Word2Vec(sentences=list_of_sentences_for_model, vector_size=10, min_count=1, workers = 10, compute_loss=True,  window=5, sg = 0, cbow_mean = 0, alpha = 0.01, seed = 10, epochs = 100)\n",
    "\n",
    "# waktu selesai\n",
    "end_time = time.time()\n",
    "\n",
    "# hitung waktu training\n",
    "training_time = end_time - start_time\n",
    "\n",
    "# convert ke jam, menit, detik\n",
    "hours = int(training_time // 3600)\n",
    "minutes = int((training_time % 3600) // 60)\n",
    "seconds = int(training_time % 60)\n",
    "\n",
    "print(\"Total training time:\", hours, \"hours\", minutes, \"minutes\", seconds, \"seconds\")\n",
    "\n"
   ]
  },
  {
   "cell_type": "code",
   "execution_count": 144,
   "id": "48fc7f82",
   "metadata": {},
   "outputs": [],
   "source": [
    "# save model word embedding dengan teknik word2vec dengan cbow 4\n",
    "model.save(\"/Users/williamnehemia/Documents/Skripsi/TugasAkhir/WordEmbeddingModel/ModelWord2vecSetelahPembagianData/word2vec_cbow_4.model\")\n"
   ]
  },
  {
   "cell_type": "code",
   "execution_count": 145,
   "id": "64c832aa",
   "metadata": {},
   "outputs": [],
   "source": [
    "# load model word embedding dengan teknik word2vec dengan cbow 4\n",
    "model = Word2Vec.load(\"/Users/williamnehemia/Documents/Skripsi/TugasAkhir/WordEmbeddingModel/ModelWord2vecSetelahPembagianData/word2vec_cbow_4.model\")\n"
   ]
  },
  {
   "cell_type": "code",
   "execution_count": 146,
   "id": "530c3af0",
   "metadata": {},
   "outputs": [
    {
     "name": "stdout",
     "output_type": "stream",
     "text": [
      "15350427.0\n"
     ]
    }
   ],
   "source": [
    "# Melihat training loss model word embedding dengan teknik word2vec dengan cbow 4\n",
    "training_loss = model.get_latest_training_loss()\n",
    "print(training_loss)\n"
   ]
  },
  {
   "cell_type": "code",
   "execution_count": 147,
   "id": "5b76e7e1",
   "metadata": {},
   "outputs": [
    {
     "name": "stdout",
     "output_type": "stream",
     "text": [
      "banyak kata ada di model 646\n",
      "banyak kata tidak ada di model 255\n",
      "-0.0027476683873612164\n"
     ]
    }
   ],
   "source": [
    "# nilai relatedness model cbow 4\n",
    "print(relatedness(model))\n"
   ]
  },
  {
   "cell_type": "code",
   "execution_count": 148,
   "id": "94390e1a",
   "metadata": {},
   "outputs": [
    {
     "name": "stdout",
     "output_type": "stream",
     "text": [
      "true_predicted 3 0.0015625\n",
      "false_predicted 1917 0.9984375\n",
      "banyak kata ada di model 1544\n",
      "banyak kata tidak ada di model 356\n"
     ]
    }
   ],
   "source": [
    "# nilai word analogy model cbow 4\n",
    "word_analogy(model)\n"
   ]
  },
  {
   "cell_type": "code",
   "execution_count": 149,
   "id": "5fb95e36",
   "metadata": {},
   "outputs": [
    {
     "name": "stdout",
     "output_type": "stream",
     "text": [
      "Total training time: 0 hours 3 minutes 3 seconds\n"
     ]
    }
   ],
   "source": [
    "# Membuat model word embedding dengan teknik word2vec dengan sg 4\n",
    "\n",
    "# waktu mulai\n",
    "start_time = time.time()\n",
    "\n",
    "model = Word2Vec(sentences=list_of_sentences_for_model, vector_size=10, min_count=1, workers = 10, compute_loss=True,  window=5, sg = 1, alpha = 0.01, seed = 10, epochs = 100)\n",
    "\n",
    "\n",
    "# waktu selesai\n",
    "end_time = time.time()\n",
    "\n",
    "# hitung waktu training\n",
    "training_time = end_time - start_time\n",
    "\n",
    "# convert ke jam, menit, detik\n",
    "hours = int(training_time // 3600)\n",
    "minutes = int((training_time % 3600) // 60)\n",
    "seconds = int(training_time % 60)\n",
    "\n",
    "print(\"Total training time:\", hours, \"hours\", minutes, \"minutes\", seconds, \"seconds\")\n",
    "\n"
   ]
  },
  {
   "cell_type": "code",
   "execution_count": 150,
   "id": "4f7701b6",
   "metadata": {},
   "outputs": [],
   "source": [
    "# save model word embedding dengan teknik word2vec dengan sg 4\n",
    "model.save(\"/Users/williamnehemia/Documents/Skripsi/TugasAkhir/WordEmbeddingModel/ModelWord2vecSetelahPembagianData/word2vec_sg_4.model\")\n"
   ]
  },
  {
   "cell_type": "code",
   "execution_count": 151,
   "id": "56fc902e",
   "metadata": {},
   "outputs": [],
   "source": [
    "# load model word embedding dengan teknik word2vec dengan sg 4\n",
    "model = Word2Vec.load(\"/Users/williamnehemia/Documents/Skripsi/TugasAkhir/WordEmbeddingModel/ModelWord2vecSetelahPembagianData/word2vec_sg_4.model\")\n"
   ]
  },
  {
   "cell_type": "code",
   "execution_count": 152,
   "id": "bef82b63",
   "metadata": {},
   "outputs": [
    {
     "name": "stdout",
     "output_type": "stream",
     "text": [
      "46725216.0\n"
     ]
    }
   ],
   "source": [
    "# Melihat training loss model word embedding dengan teknik word2vec dengan sg 4\n",
    "training_loss = model.get_latest_training_loss()\n",
    "print(training_loss)"
   ]
  },
  {
   "cell_type": "code",
   "execution_count": 153,
   "id": "ae92a595",
   "metadata": {},
   "outputs": [
    {
     "name": "stdout",
     "output_type": "stream",
     "text": [
      "banyak kata ada di model 646\n",
      "banyak kata tidak ada di model 255\n",
      "0.148249300383298\n"
     ]
    }
   ],
   "source": [
    "# nilai relatedness model sg 4\n",
    "print(relatedness(model))"
   ]
  },
  {
   "cell_type": "code",
   "execution_count": 154,
   "id": "9737e152",
   "metadata": {},
   "outputs": [
    {
     "name": "stdout",
     "output_type": "stream",
     "text": [
      "true_predicted 0 0.0\n",
      "false_predicted 1920 1.0\n",
      "banyak kata ada di model 1544\n",
      "banyak kata tidak ada di model 356\n"
     ]
    }
   ],
   "source": [
    "# nilai word analogy model sg 4\n",
    "word_analogy(model)"
   ]
  },
  {
   "cell_type": "code",
   "execution_count": 155,
   "id": "4693cac2",
   "metadata": {},
   "outputs": [
    {
     "name": "stdout",
     "output_type": "stream",
     "text": [
      "Total training time: 0 hours 1 minutes 9 seconds\n"
     ]
    }
   ],
   "source": [
    "# Membuat model word embedding dengan teknik word2vec dengan cbow 5\n",
    "\n",
    "# waktu mulai\n",
    "start_time = time.time()\n",
    "\n",
    "model = Word2Vec(sentences=list_of_sentences_for_model, vector_size=10, min_count=1, workers = 10, compute_loss=True,  window=5, sg = 0, cbow_mean = 0, alpha = 0.001, seed = 10, epochs = 100)\n",
    "\n",
    "# waktu selesai\n",
    "end_time = time.time()\n",
    "\n",
    "# hitung waktu training\n",
    "training_time = end_time - start_time\n",
    "\n",
    "# convert ke jam, menit, detik\n",
    "hours = int(training_time // 3600)\n",
    "minutes = int((training_time % 3600) // 60)\n",
    "seconds = int(training_time % 60)\n",
    "\n",
    "print(\"Total training time:\", hours, \"hours\", minutes, \"minutes\", seconds, \"seconds\")\n",
    "\n"
   ]
  },
  {
   "cell_type": "code",
   "execution_count": 156,
   "id": "6ab0cee6",
   "metadata": {},
   "outputs": [],
   "source": [
    "# save model word embedding dengan teknik word2vec dengan cbow 5\n",
    "model.save(\"/Users/williamnehemia/Documents/Skripsi/TugasAkhir/WordEmbeddingModel/ModelWord2vecSetelahPembagianData/word2vec_cbow_5.model\")\n"
   ]
  },
  {
   "cell_type": "code",
   "execution_count": 157,
   "id": "ec974a6c",
   "metadata": {},
   "outputs": [],
   "source": [
    "# load model word embedding dengan teknik word2vec dengan cbow 5\n",
    "model = Word2Vec.load(\"/Users/williamnehemia/Documents/Skripsi/TugasAkhir/WordEmbeddingModel/ModelWord2vecSetelahPembagianData/word2vec_cbow_5.model\")\n"
   ]
  },
  {
   "cell_type": "code",
   "execution_count": 158,
   "id": "1ad30669",
   "metadata": {},
   "outputs": [
    {
     "name": "stdout",
     "output_type": "stream",
     "text": [
      "17342380.0\n"
     ]
    }
   ],
   "source": [
    "# Melihat training loss model word embedding dengan teknik word2vec dengan cbow 5\n",
    "training_loss = model.get_latest_training_loss()\n",
    "print(training_loss)\n"
   ]
  },
  {
   "cell_type": "code",
   "execution_count": 159,
   "id": "96943dbe",
   "metadata": {},
   "outputs": [
    {
     "name": "stdout",
     "output_type": "stream",
     "text": [
      "banyak kata ada di model 646\n",
      "banyak kata tidak ada di model 255\n",
      "-0.006775694074841656\n"
     ]
    }
   ],
   "source": [
    "# nilai relatedness model cbow 5\n",
    "print(relatedness(model))\n"
   ]
  },
  {
   "cell_type": "code",
   "execution_count": 160,
   "id": "96c7ba97",
   "metadata": {},
   "outputs": [
    {
     "name": "stdout",
     "output_type": "stream",
     "text": [
      "true_predicted 1 0.0005208333333333333\n",
      "false_predicted 1919 0.9994791666666667\n",
      "banyak kata ada di model 1544\n",
      "banyak kata tidak ada di model 356\n"
     ]
    }
   ],
   "source": [
    "# nilai word analogy model cbow 5\n",
    "word_analogy(model)\n"
   ]
  },
  {
   "cell_type": "code",
   "execution_count": 161,
   "id": "6ee8ecd5",
   "metadata": {},
   "outputs": [
    {
     "name": "stdout",
     "output_type": "stream",
     "text": [
      "Total training time: 0 hours 2 minutes 20 seconds\n"
     ]
    }
   ],
   "source": [
    "# Membuat model word embedding dengan teknik word2vec dengan sg 5\n",
    "\n",
    "# waktu mulai\n",
    "start_time = time.time()\n",
    "\n",
    "model = Word2Vec(sentences=list_of_sentences_for_model, vector_size=10, min_count=1, workers = 10, compute_loss=True,  window=5, sg = 1, alpha = 0.001, seed = 10, epochs = 100)\n",
    "\n",
    "\n",
    "# waktu selesai\n",
    "end_time = time.time()\n",
    "\n",
    "# hitung waktu training\n",
    "training_time = end_time - start_time\n",
    "\n",
    "# convert ke jam, menit, detik\n",
    "hours = int(training_time // 3600)\n",
    "minutes = int((training_time % 3600) // 60)\n",
    "seconds = int(training_time % 60)\n",
    "\n",
    "print(\"Total training time:\", hours, \"hours\", minutes, \"minutes\", seconds, \"seconds\")\n",
    "\n"
   ]
  },
  {
   "cell_type": "code",
   "execution_count": 162,
   "id": "83ca3295",
   "metadata": {},
   "outputs": [],
   "source": [
    "# save model word embedding dengan teknik word2vec dengan sg 5\n",
    "model.save(\"/Users/williamnehemia/Documents/Skripsi/TugasAkhir/WordEmbeddingModel/ModelWord2vecSetelahPembagianData/word2vec_sg_5.model\")\n"
   ]
  },
  {
   "cell_type": "code",
   "execution_count": 163,
   "id": "b46f6251",
   "metadata": {},
   "outputs": [],
   "source": [
    "# load model word embedding dengan teknik word2vec dengan sg 5\n",
    "model = Word2Vec.load(\"/Users/williamnehemia/Documents/Skripsi/TugasAkhir/WordEmbeddingModel/ModelWord2vecSetelahPembagianData/word2vec_sg_5.model\")\n"
   ]
  },
  {
   "cell_type": "code",
   "execution_count": 164,
   "id": "9fd64519",
   "metadata": {},
   "outputs": [
    {
     "name": "stdout",
     "output_type": "stream",
     "text": [
      "49249468.0\n"
     ]
    }
   ],
   "source": [
    "# Melihat training loss model word embedding dengan teknik word2vec dengan sg 5\n",
    "training_loss = model.get_latest_training_loss()\n",
    "print(training_loss)"
   ]
  },
  {
   "cell_type": "code",
   "execution_count": 165,
   "id": "75495ace",
   "metadata": {},
   "outputs": [
    {
     "name": "stdout",
     "output_type": "stream",
     "text": [
      "banyak kata ada di model 646\n",
      "banyak kata tidak ada di model 255\n",
      "0.18637999998102084\n"
     ]
    }
   ],
   "source": [
    "# nilai relatedness model sg 5\n",
    "print(relatedness(model))"
   ]
  },
  {
   "cell_type": "code",
   "execution_count": 166,
   "id": "efeeacb3",
   "metadata": {},
   "outputs": [
    {
     "name": "stdout",
     "output_type": "stream",
     "text": [
      "true_predicted 2 0.0010416666666666667\n",
      "false_predicted 1918 0.9989583333333333\n",
      "banyak kata ada di model 1544\n",
      "banyak kata tidak ada di model 356\n"
     ]
    }
   ],
   "source": [
    "# nilai word analogy model sg 5\n",
    "word_analogy(model)"
   ]
  },
  {
   "cell_type": "code",
   "execution_count": null,
   "id": "8a82ab35",
   "metadata": {},
   "outputs": [],
   "source": []
  }
 ],
 "metadata": {
  "kernelspec": {
   "display_name": "Python 3 (ipykernel)",
   "language": "python",
   "name": "python3"
  },
  "language_info": {
   "codemirror_mode": {
    "name": "ipython",
    "version": 3
   },
   "file_extension": ".py",
   "mimetype": "text/x-python",
   "name": "python",
   "nbconvert_exporter": "python",
   "pygments_lexer": "ipython3",
   "version": "3.11.5"
  }
 },
 "nbformat": 4,
 "nbformat_minor": 5
}
