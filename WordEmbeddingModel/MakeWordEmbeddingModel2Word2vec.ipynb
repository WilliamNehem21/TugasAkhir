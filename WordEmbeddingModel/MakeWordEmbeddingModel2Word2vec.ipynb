{
 "cells": [
  {
   "cell_type": "code",
   "execution_count": 98,
   "id": "3874ac60",
   "metadata": {},
   "outputs": [],
   "source": [
    "# Import library\n",
    "import re\n",
    "import sys\n",
    "import os\n",
    "import shutil\n",
    "from nltk.tokenize import word_tokenize\n",
    "from nltk.tokenize import RegexpTokenizer\n",
    "from gensim.models import Word2Vec\n",
    "from scipy.stats import spearmanr\n",
    "from sklearn.metrics.pairwise import cosine_similarity\n",
    "import numpy as np\n",
    "import time\n",
    "import pandas as pd"
   ]
  },
  {
   "cell_type": "code",
   "execution_count": 99,
   "id": "3ad0b4da",
   "metadata": {},
   "outputs": [],
   "source": [
    "def relatedness(model):\n",
    "    # Baca file rw untuk evaluasi word embedding dengan teknik relatedness cbow\n",
    "    dir_file = '/Users/williamnehemia/Documents/Skripsi/TugasAkhir/DataEvaluasiGitHub/word-similarity/monolingual/en/rw.csv'\n",
    "    list_model_similarity = []\n",
    "    words_exist = []\n",
    "    words_not_exist = []\n",
    "    list_human_score = []\n",
    "    \n",
    "    df = pd.read_csv(dir_file)\n",
    "    list_human_score = []\n",
    "    \n",
    "    for index, row in df.iterrows():\n",
    "        word_1 = row[\"word1\"].lower()\n",
    "        word_2 = row[\"word2\"].lower()\n",
    "        try:\n",
    "            wv_1 = []\n",
    "            wv_2 = []\n",
    "            wv_1.append(model.wv[word_1])\n",
    "            \n",
    "            if word_1 not in words_exist:\n",
    "                words_exist.append(word_1)\n",
    "            \n",
    "            wv_2.append(model.wv[word_2])\n",
    "            \n",
    "            if word_2 not in words_exist:\n",
    "                words_exist.append(word_2)\n",
    "                \n",
    "            similarity = model.wv.similarity(word_1, word_2)\n",
    "            list_model_similarity.append(similarity)\n",
    "            \n",
    "            human_score = float(row[\"similarity\"])\n",
    "            list_human_score.append(human_score)\n",
    "            \n",
    "        except:\n",
    "            if word_1 in words_exist: # kata 2 yang tidak ada di model\n",
    "                if word_2 not in words_not_exist:\n",
    "                    words_not_exist.append(word_2)\n",
    "            \n",
    "            if word_2 in words_exist: # kata 1 yang tidak ada di model\n",
    "                if word_1 not in words_not_exist:\n",
    "                    words_not_exist.append(word_1)\n",
    "        \n",
    "    \n",
    "   \n",
    "        \n",
    "\n",
    "    rho_model, p_model = spearmanr(list_model_similarity, list_human_score)\n",
    "    print(\"banyak kata ada di model\", len(words_exist))\n",
    "    print(\"banyak kata tidak ada di model\", len(words_not_exist))\n",
    "    return rho_model\n"
   ]
  },
  {
   "cell_type": "code",
   "execution_count": 100,
   "id": "ab6238c9",
   "metadata": {},
   "outputs": [],
   "source": [
    "# # method untuk evaluasi word analogy\n",
    "# def word_analogy(model):\n",
    "#     # Baca file word_analogy untuk evaluasi word embedding dengan teknik word analogy (menggunakan cara manual) cbow 1\n",
    "\n",
    "#     dir_path_word_analogy = '/Users/williamnehemia/Documents/Skripsi/TugasAkhir/DataForEvaluatinWordEmbedding/Word_analogy/Word_Analogy.txt'\n",
    "\n",
    "#     true_predicted = 0\n",
    "#     false_predicted = 0\n",
    "\n",
    "#     list_of_words = model.wv.index_to_key\n",
    "\n",
    "\n",
    "\n",
    "#     with open(dir_path_word_analogy , 'r') as file:\n",
    "#         content = file.read()\n",
    "#         lines = content.splitlines() \n",
    "#         for line in lines:\n",
    "#             item_in_line = line.split(\" \")\n",
    "#             word_predicted_curr = \"\"\n",
    "#             if len(item_in_line) == 4: # untuk buang baris yang merupakan keterangan\n",
    "#                 max_value = -sys.maxsize - 1 # diisi dengan min value dahulu\n",
    "#                 word_1 = item_in_line[0].lower()\n",
    "#                 word_2 = item_in_line[1].lower()\n",
    "#                 word_3 = item_in_line[2].lower()\n",
    "#                 word_4 = item_in_line[3].lower()\n",
    "#                 try:\n",
    "#                     word_predicted_curr = model.wv.most_similar(positive=[word_2, word_3], negative=[word_1], topn=1)[0][0]\n",
    "                    \n",
    "#                 except Exception as e:\n",
    "#                     continue\n",
    "#                 if word_predicted_curr == word_4:\n",
    "#                     true_predicted += 1\n",
    "#                 else:\n",
    "#                     false_predicted += 1\n",
    "\n",
    "#     # print(\"true_predicted\", true_predicted)\n",
    "#     # print(\"false_predicted\", false_predicted)\n",
    "#     print(\"true_predicted\", true_predicted, true_predicted / (true_predicted+false_predicted))\n",
    "#     print(\"false_predicted\", false_predicted, false_predicted / (true_predicted+false_predicted))\n"
   ]
  },
  {
   "cell_type": "code",
   "execution_count": 101,
   "id": "2da7c79c",
   "metadata": {},
   "outputs": [],
   "source": [
    "def word_analogy(model):\n",
    "    # Baca file word_analogy untuk evaluasi word embedding dengan teknik word analogy (menggunakan library)\n",
    "\n",
    "    dir_file = '/Users/williamnehemia/Documents/Skripsi/TugasAkhir/DataEvaluasiGitHub/word-analogy/monolingual/en/semeval.csv'\n",
    "    df = pd.read_csv(dir_file)\n",
    "    true_predicted = 0\n",
    "    false_predicted = 0\n",
    "    words_exist = []\n",
    "    words_not_exist = []\n",
    "    \n",
    "    for index, row in df.iterrows():\n",
    "        word_1 = row[\"word1\"].lower()\n",
    "        word_2 = row[\"word2\"].lower()\n",
    "        word_3 = row[\"word3\"].lower()\n",
    "        word_4 = row[\"target\"].lower()\n",
    "        word_predicted_curr = \"\"\n",
    "        try:\n",
    "            word_predicted_curr = model.wv.most_similar(positive=[word_2, word_3], negative=[word_1], topn=1)[0][0]\n",
    "         \n",
    "            if word_predicted_curr == word_4:\n",
    "                true_predicted += 1\n",
    "            else:\n",
    "                false_predicted += 1\n",
    "            \n",
    "            if word_1 not in words_exist:\n",
    "                words_exist.append(word_1)\n",
    "            \n",
    "            if word_2 not in words_exist:\n",
    "                words_exist.append(word_2)\n",
    "            \n",
    "            if word_3 not in words_exist:\n",
    "                words_exist.append(word_3)\n",
    "            \n",
    "            if word_4 not in words_exist:\n",
    "                words_exist.append(word_4)\n",
    "\n",
    "        except:\n",
    "            continue\n",
    "            \n",
    "        # untuk menambahkan word_1 jika tidak ada di model    \n",
    "        try:\n",
    "            word_vector = model.wv[word_1]\n",
    "        except:\n",
    "            if word_1 not in words_not_exist:\n",
    "                    words_not_exist.append(word_1)\n",
    "        \n",
    "        # untuk menambahkan word_2 jika tidak ada di model    \n",
    "        try:\n",
    "            word_vector = model.wv[word_2]\n",
    "        except:\n",
    "            if word_2 not in words_not_exist:\n",
    "                    words_not_exist.append(word_2)\n",
    "\n",
    "        # untuk menambahkan word_3 jika tidak ada di model    \n",
    "        try:\n",
    "            word_vector = model.wv[word_3]\n",
    "        except:\n",
    "            if word_3 not in words_not_exist:\n",
    "                    words_not_exist.append(word_3)\n",
    "        \n",
    "        # untuk menambahkan word_4 jika tidak ada di model    \n",
    "        try:\n",
    "            word_vector = model.wv[word_4]\n",
    "        except:\n",
    "            if word_4 not in words_not_exist:\n",
    "                    words_not_exist.append(word_4)\n",
    "\n",
    "    print(\"true_predicted\", true_predicted, true_predicted / (true_predicted+false_predicted))\n",
    "    print(\"false_predicted\", false_predicted, false_predicted / (true_predicted+false_predicted))\n",
    "    print(\"banyak kata ada di model\", len(words_exist))\n",
    "    print(\"banyak kata tidak ada di model\", len(words_not_exist))"
   ]
  },
  {
   "cell_type": "code",
   "execution_count": 102,
   "id": "31ed4e63",
   "metadata": {},
   "outputs": [],
   "source": [
    "# Ambil file asli dari folder\n",
    "directory_path_real = '/Users/williamnehemia/Documents/Skripsi/TugasAkhir/WordEmbeddingModel/Data/Data_asli'\n",
    "\n",
    "files_real = os.listdir(directory_path_real)\n",
    "list_files_real = []\n",
    "\n",
    "# Ambil daftar nama file\n",
    "for file in files_real:\n",
    "    if '.DS_Store' not in file:\n",
    "        list_files_real.append(file)\n",
    "        \n",
    "all_text_real = \"\"\n",
    "for file in list_files_real:\n",
    "    with open('/Users/williamnehemia/Documents/Skripsi/TugasAkhir/WordEmbeddingModel/Data/Data_asli/' + file, 'r') as fileNow:\n",
    "        content = fileNow.read()\n",
    "        all_text_real += content\n"
   ]
  },
  {
   "cell_type": "code",
   "execution_count": 103,
   "id": "0397a3cf",
   "metadata": {},
   "outputs": [],
   "source": [
    "# Ambil file parafrasa dari folder\n",
    "directory_path_paraphrased = '/Users/williamnehemia/Documents/Skripsi/TugasAkhir/WordEmbeddingModel/Data/Data_parafrasa'\n",
    "\n",
    "files_paraphrased = os.listdir(directory_path_paraphrased)\n",
    "list_files_paraphrased = []\n",
    "\n",
    "# Ambil daftar nama file\n",
    "for file in files_paraphrased:\n",
    "    if '.DS_Store' not in file:\n",
    "        list_files_paraphrased.append(file)\n",
    "        \n",
    "all_text_paraphrased = \"\"\n",
    "for file in list_files_paraphrased:\n",
    "    with open('/Users/williamnehemia/Documents/Skripsi/TugasAkhir/WordEmbeddingModel/Data/Data_parafrasa/' + file, 'r') as fileNow:\n",
    "        content = fileNow.read()\n",
    "        all_text_paraphrased += content\n",
    "        \n"
   ]
  },
  {
   "cell_type": "code",
   "execution_count": 104,
   "id": "8c8f940e",
   "metadata": {},
   "outputs": [],
   "source": [
    "# Melakukan lowercase lagi\n",
    "all_text_real = all_text_real.lower()\n",
    "all_text_paraphrased = all_text_paraphrased.lower()"
   ]
  },
  {
   "cell_type": "code",
   "execution_count": 105,
   "id": "e01a53ba",
   "metadata": {},
   "outputs": [
    {
     "name": "stdout",
     "output_type": "stream",
     "text": [
      "['computer-aided structure-activity based prediction studies in drug design helps to treat diseases with novel biomarkers', ' prediction of activity spectra for substances(pass) database comprised 46,000 biologically well-known active drugs and screening are performed before the establishment of an in vitro experiment', ' pass gives the significant bioactivities of chemical compounds as pa(probable activity) and pi(probable inactivity) values to mention the compounds, whether they are active are inactive', ' the pa values higher than 0', '7 indicated this compound would be active in experiment and pi values indicate theirs inactivate possibilities', ' the admetsar chemoinformatics based tool used to predict absorption, metabolism, excretion, and toxicity of the particular compound', ' based on these criteria, the outcomes of an in vitro experiment will lower the risk of negative results[13,14]', '\\n\\n\\n\\nclc-pred tools performed to predict cytotoxicity of tumor cell lines, and it is based on structure-cell line cytotoxicity relationships designed by pass special training sets with leave-one-out cross-validation procedure', ' the accuracy of in silico prediction results significantly 96% matches with the results of in vivo experimental', ' the efficiency of compounds against cancer could be found and optimized using this pass based clc-pred database in the future to develop potential anti-cancer drugs']\n",
      "['the detection of pedestrians has broad applications in various fields such as autonomous driving, intelligent monitoring, and robotics, and has long been a focal point in the domain of computer vision', ' in recent years, there have been significant advancements in pedestrian detection technology due to the evolution of deep learning and the introduction of numerous large pedestrian datasets', ' these developments have notably enhanced detection accuracy and speed', ' however, contemporary pedestrian detection methods still struggle to match human performance, particularly when addressing challenges like occlusion and scale variations', ' consequently, solving the issues of occlusion and scale is a crucial objective in pedestrian detection research', '\\n\\nthis paper aims to review the progress in pedestrian detection research, focusing on methods for calculating the confidence of bounding boxes in regression and utilizing multiple convolution layers with different scales to improve multi-scale object detection and enhance accuracy', ' notably, the integration of convolutional neural networks (cnn) into object detection, as exemplified by the introduction of r-cnn by ross girshick et al', ' in 2014, has been pivotal', ' subsequent developments, such as the introduction of the region proposal network (rpn) in 2015, and the adoption of deep learning technologies in methods like faster r-cnn, mscnn, yolov4, csp, and saf-rcnn, have further advanced pedestrian detection capabilities', ' these newer approaches leverage deep features, providing superior generalization ability and robustness compared to hand-designed features']\n"
     ]
    }
   ],
   "source": [
    "# Memisahkan text per kalimat (menggunakan delimiter titik)\n",
    "list_of_sentences_real = []\n",
    "list_of_sentences_paraphrased = []\n",
    "\n",
    "list_of_sentences_real = all_text_real.split('.')\n",
    "list_of_sentences_paraphrased = all_text_paraphrased.split('.')\n",
    "\n",
    "print(list_of_sentences_real[0:10])\n",
    "print(list_of_sentences_paraphrased[0:10])"
   ]
  },
  {
   "cell_type": "code",
   "execution_count": 106,
   "id": "e70e6016",
   "metadata": {},
   "outputs": [
    {
     "name": "stdout",
     "output_type": "stream",
     "text": [
      "[['computer', 'aided', 'structure', 'activity', 'based', 'prediction', 'studies', 'in', 'drug', 'design', 'helps', 'to', 'treat', 'diseases', 'with', 'novel', 'biomarkers'], ['prediction', 'of', 'activity', 'spectra', 'for', 'substances', 'pass', 'database', 'comprised', 'biologically', 'well', 'known', 'active', 'drugs', 'and', 'screening', 'are', 'performed', 'before', 'the', 'establishment', 'of', 'an', 'in', 'vitro', 'experiment'], ['pass', 'gives', 'the', 'significant', 'bioactivities', 'of', 'chemical', 'compounds', 'as', 'pa', 'probable', 'activity', 'and', 'pi', 'probable', 'inactivity', 'values', 'to', 'mention', 'the', 'compounds', 'whether', 'they', 'are', 'active', 'are', 'inactive'], ['the', 'pa', 'values', 'higher', 'than'], ['indicated', 'this', 'compound', 'would', 'be', 'active', 'in', 'experiment', 'and', 'pi', 'values', 'indicate', 'theirs', 'inactivate', 'possibilities'], ['the', 'admetsar', 'chemoinformatics', 'based', 'tool', 'used', 'to', 'predict', 'absorption', 'metabolism', 'excretion', 'and', 'toxicity', 'of', 'the', 'particular', 'compound'], ['based', 'on', 'these', 'criteria', 'the', 'outcomes', 'of', 'an', 'in', 'vitro', 'experiment', 'will', 'lower', 'the', 'risk', 'of', 'negative', 'results'], ['clc', 'pred', 'tools', 'performed', 'to', 'predict', 'cytotoxicity', 'of', 'tumor', 'cell', 'lines', 'and', 'it', 'is', 'based', 'on', 'structure', 'cell', 'line', 'cytotoxicity', 'relationships', 'designed', 'by', 'pass', 'special', 'training', 'sets', 'with', 'leave', 'one', 'out', 'cross', 'validation', 'procedure'], ['the', 'accuracy', 'of', 'in', 'silico', 'prediction', 'results', 'significantly', 'matches', 'with', 'the', 'results', 'of', 'in', 'vivo', 'experimental'], ['the', 'efficiency', 'of', 'compounds', 'against', 'cancer', 'could', 'be', 'found', 'and', 'optimized', 'using', 'this', 'pass', 'based', 'clc', 'pred', 'database', 'in', 'the', 'future', 'to', 'develop', 'potential', 'anti', 'cancer', 'drugs']]\n"
     ]
    }
   ],
   "source": [
    "# melakukan tokenisasi dan menggabungkan teks asli dan parafrasa\n",
    "\n",
    "\n",
    "list_of_sentences_for_model = []\n",
    "\n",
    "tokenizer = RegexpTokenizer(r'[a-zA-Z]+')\n",
    "\n",
    "for sentence in list_of_sentences_real:\n",
    "    sentence_tokenized = tokenizer.tokenize(sentence)\n",
    "    list_of_sentences_for_model.append(sentence_tokenized)\n",
    "\n",
    "for sentence in list_of_sentences_paraphrased:\n",
    "    sentence_tokenized = tokenizer.tokenize(sentence)\n",
    "    list_of_sentences_for_model.append(sentence_tokenized)\n",
    "\n",
    "print(list_of_sentences_for_model[0:10])\n"
   ]
  },
  {
   "cell_type": "code",
   "execution_count": 107,
   "id": "98ed8338",
   "metadata": {},
   "outputs": [
    {
     "name": "stdout",
     "output_type": "stream",
     "text": [
      "Total training time: 0 hours 0 minutes 58 seconds\n"
     ]
    }
   ],
   "source": [
    "# Membuat model word embedding dengan teknik word2vec dengan cbow 1\n",
    "\n",
    "# waktu mulai\n",
    "start_time = time.time()\n",
    "\n",
    "model = Word2Vec(sentences=list_of_sentences_for_model, vector_size=20, min_count=1, workers = 10, compute_loss=True,  window=5, sg = 0, cbow_mean = 0, alpha = 0.01, seed = 10, epochs = 100)\n",
    "\n",
    "# waktu selesai\n",
    "end_time = time.time()\n",
    "\n",
    "# hitung waktu training\n",
    "training_time = end_time - start_time\n",
    "\n",
    "# convert ke jam, menit, detik\n",
    "hours = int(training_time // 3600)\n",
    "minutes = int((training_time % 3600) // 60)\n",
    "seconds = int(training_time % 60)\n",
    "\n",
    "print(\"Total training time:\", hours, \"hours\", minutes, \"minutes\", seconds, \"seconds\")\n",
    "\n"
   ]
  },
  {
   "cell_type": "code",
   "execution_count": 108,
   "id": "be904c34",
   "metadata": {},
   "outputs": [],
   "source": [
    "# save model word embedding dengan teknik word2vec dengan cbow 1\n",
    "model.save(\"/Users/williamnehemia/Documents/Skripsi/TugasAkhir/WordEmbeddingModel/ModelWord2vecSetelahPembagianData/word2vec_cbow_1.model\")\n"
   ]
  },
  {
   "cell_type": "code",
   "execution_count": 109,
   "id": "0ef8369b",
   "metadata": {},
   "outputs": [],
   "source": [
    "# load model word embedding dengan teknik word2vec dengan cbow 1\n",
    "model = Word2Vec.load(\"/Users/williamnehemia/Documents/Skripsi/TugasAkhir/WordEmbeddingModel/ModelWord2vecSetelahPembagianData/word2vec_cbow_1.model\")"
   ]
  },
  {
   "cell_type": "code",
   "execution_count": 110,
   "id": "d293b2b2",
   "metadata": {},
   "outputs": [
    {
     "name": "stdout",
     "output_type": "stream",
     "text": [
      "14459750.0\n"
     ]
    }
   ],
   "source": [
    "# Melihat training loss model word embedding dengan teknik word2vec dengan cbow 1\n",
    "training_loss = model.get_latest_training_loss()\n",
    "print(training_loss)"
   ]
  },
  {
   "cell_type": "code",
   "execution_count": 111,
   "id": "a1e3586d",
   "metadata": {},
   "outputs": [
    {
     "name": "stdout",
     "output_type": "stream",
     "text": [
      "banyak kata ada di model 646\n",
      "banyak kata tidak ada di model 255\n",
      "-0.014615062367807321\n"
     ]
    }
   ],
   "source": [
    "# nilai relatedness model cbow 1\n",
    "print(relatedness(model))"
   ]
  },
  {
   "cell_type": "code",
   "execution_count": 112,
   "id": "4f86ab9a",
   "metadata": {},
   "outputs": [
    {
     "name": "stdout",
     "output_type": "stream",
     "text": [
      "true_predicted 5 0.0026041666666666665\n",
      "false_predicted 1915 0.9973958333333334\n",
      "banyak kata ada di model 1544\n",
      "banyak kata tidak ada di model 356\n"
     ]
    }
   ],
   "source": [
    "# nilai word analogy model cbow 1\n",
    "word_analogy(model)"
   ]
  },
  {
   "cell_type": "code",
   "execution_count": 113,
   "id": "52e108c4",
   "metadata": {},
   "outputs": [
    {
     "name": "stdout",
     "output_type": "stream",
     "text": [
      "Total training time: 0 hours 2 minutes 51 seconds\n"
     ]
    }
   ],
   "source": [
    "# Membuat model word embedding dengan teknik word2vec dengan sg 1\n",
    "\n",
    "# waktu mulai\n",
    "start_time = time.time()\n",
    "\n",
    "model = Word2Vec(sentences=list_of_sentences_for_model, vector_size=20, min_count=1, workers = 10, compute_loss=True,  window=5, sg = 1, alpha = 0.01, seed = 10, epochs = 100)\n",
    "\n",
    "\n",
    "# waktu selesai\n",
    "end_time = time.time()\n",
    "\n",
    "# hitung waktu training\n",
    "training_time = end_time - start_time\n",
    "\n",
    "# convert ke jam, menit, detik\n",
    "hours = int(training_time // 3600)\n",
    "minutes = int((training_time % 3600) // 60)\n",
    "seconds = int(training_time % 60)\n",
    "\n",
    "print(\"Total training time:\", hours, \"hours\", minutes, \"minutes\", seconds, \"seconds\")\n",
    "\n"
   ]
  },
  {
   "cell_type": "code",
   "execution_count": 114,
   "id": "41dd858c",
   "metadata": {},
   "outputs": [],
   "source": [
    "# save model word embedding dengan teknik word2vec dengan sg 1\n",
    "model.save(\"/Users/williamnehemia/Documents/Skripsi/TugasAkhir/WordEmbeddingModel/ModelWord2vecSetelahPembagianData/word2vec_sg_1.model\")\n"
   ]
  },
  {
   "cell_type": "code",
   "execution_count": 115,
   "id": "20f68a77",
   "metadata": {},
   "outputs": [],
   "source": [
    "# load model word embedding dengan teknik word2vec dengan sg 1\n",
    "model = Word2Vec.load(\"/Users/williamnehemia/Documents/Skripsi/TugasAkhir/WordEmbeddingModel/ModelWord2vecSetelahPembagianData/word2vec_sg_1.model\")\n"
   ]
  },
  {
   "cell_type": "code",
   "execution_count": 116,
   "id": "d7754603",
   "metadata": {},
   "outputs": [
    {
     "name": "stdout",
     "output_type": "stream",
     "text": [
      "45895132.0\n"
     ]
    }
   ],
   "source": [
    "# Melihat training loss model word embedding dengan teknik word2vec dengan sg 1\n",
    "training_loss = model.get_latest_training_loss()\n",
    "print(training_loss)"
   ]
  },
  {
   "cell_type": "code",
   "execution_count": 117,
   "id": "9d0470ee",
   "metadata": {},
   "outputs": [
    {
     "name": "stdout",
     "output_type": "stream",
     "text": [
      "banyak kata ada di model 646\n",
      "banyak kata tidak ada di model 255\n",
      "0.21749188332567632\n"
     ]
    }
   ],
   "source": [
    "# nilai relatedness model sg 1\n",
    "print(relatedness(model))"
   ]
  },
  {
   "cell_type": "code",
   "execution_count": 118,
   "id": "b17105cb",
   "metadata": {},
   "outputs": [
    {
     "name": "stdout",
     "output_type": "stream",
     "text": [
      "true_predicted 6 0.003125\n",
      "false_predicted 1914 0.996875\n",
      "banyak kata ada di model 1544\n",
      "banyak kata tidak ada di model 356\n"
     ]
    }
   ],
   "source": [
    "# nilai word analogy model sg 1\n",
    "word_analogy(model)"
   ]
  },
  {
   "cell_type": "code",
   "execution_count": 119,
   "id": "bdabbd68",
   "metadata": {},
   "outputs": [
    {
     "name": "stdout",
     "output_type": "stream",
     "text": [
      "Total training time: 0 hours 0 minutes 28 seconds\n"
     ]
    }
   ],
   "source": [
    "# Membuat model word embedding dengan teknik word2vec dengan cbow 2\n",
    "\n",
    "# waktu mulai\n",
    "start_time = time.time()\n",
    "\n",
    "model = Word2Vec(sentences=list_of_sentences_for_model, vector_size=20, min_count=1, workers = 10, compute_loss=True,  window=5, sg = 0, cbow_mean = 0, alpha = 0.001, seed = 10, epochs = 100)\n",
    "\n",
    "# waktu selesai\n",
    "end_time = time.time()\n",
    "\n",
    "# hitung waktu training\n",
    "training_time = end_time - start_time\n",
    "\n",
    "# convert ke jam, menit, detik\n",
    "hours = int(training_time // 3600)\n",
    "minutes = int((training_time % 3600) // 60)\n",
    "seconds = int(training_time % 60)\n",
    "\n",
    "print(\"Total training time:\", hours, \"hours\", minutes, \"minutes\", seconds, \"seconds\")\n",
    "\n"
   ]
  },
  {
   "cell_type": "code",
   "execution_count": 120,
   "id": "c968dbfe",
   "metadata": {},
   "outputs": [],
   "source": [
    "# save model word embedding dengan teknik word2vec dengan cbow 2\n",
    "model.save(\"/Users/williamnehemia/Documents/Skripsi/TugasAkhir/WordEmbeddingModel/ModelWord2vecSetelahPembagianData/word2vec_cbow_2.model\")\n"
   ]
  },
  {
   "cell_type": "code",
   "execution_count": 121,
   "id": "766be1cb",
   "metadata": {},
   "outputs": [],
   "source": [
    "# load model word embedding dengan teknik word2vec dengan cbow 2\n",
    "model = Word2Vec.load(\"/Users/williamnehemia/Documents/Skripsi/TugasAkhir/WordEmbeddingModel/ModelWord2vecSetelahPembagianData/word2vec_cbow_2.model\")\n"
   ]
  },
  {
   "cell_type": "code",
   "execution_count": 122,
   "id": "5622c149",
   "metadata": {},
   "outputs": [
    {
     "name": "stdout",
     "output_type": "stream",
     "text": [
      "16990444.0\n"
     ]
    }
   ],
   "source": [
    "# Melihat training loss model word embedding dengan teknik word2vec dengan cbow 2\n",
    "training_loss = model.get_latest_training_loss()\n",
    "print(training_loss)\n"
   ]
  },
  {
   "cell_type": "code",
   "execution_count": 123,
   "id": "71f14dc2",
   "metadata": {},
   "outputs": [
    {
     "name": "stdout",
     "output_type": "stream",
     "text": [
      "banyak kata ada di model 646\n",
      "banyak kata tidak ada di model 255\n",
      "-0.03805784519922117\n"
     ]
    }
   ],
   "source": [
    "# nilai relatedness model cbow 2\n",
    "print(relatedness(model))\n"
   ]
  },
  {
   "cell_type": "code",
   "execution_count": 124,
   "id": "baec3501",
   "metadata": {},
   "outputs": [
    {
     "name": "stdout",
     "output_type": "stream",
     "text": [
      "true_predicted 1 0.0005208333333333333\n",
      "false_predicted 1919 0.9994791666666667\n",
      "banyak kata ada di model 1544\n",
      "banyak kata tidak ada di model 356\n"
     ]
    }
   ],
   "source": [
    "# nilai word analogy model cbow 2\n",
    "word_analogy(model)\n"
   ]
  },
  {
   "cell_type": "code",
   "execution_count": 125,
   "id": "884a1116",
   "metadata": {},
   "outputs": [
    {
     "name": "stdout",
     "output_type": "stream",
     "text": [
      "Total training time: 0 hours 1 minutes 18 seconds\n"
     ]
    }
   ],
   "source": [
    "# Membuat model word embedding dengan teknik word2vec dengan sg 2\n",
    "\n",
    "# waktu mulai\n",
    "start_time = time.time()\n",
    "\n",
    "model = Word2Vec(sentences=list_of_sentences_for_model, vector_size=20, min_count=1, workers = 10, compute_loss=True,  window=5, sg = 1, alpha = 0.001, seed = 10, epochs = 100)\n",
    "\n",
    "\n",
    "# waktu selesai\n",
    "end_time = time.time()\n",
    "\n",
    "# hitung waktu training\n",
    "training_time = end_time - start_time\n",
    "\n",
    "# convert ke jam, menit, detik\n",
    "hours = int(training_time // 3600)\n",
    "minutes = int((training_time % 3600) // 60)\n",
    "seconds = int(training_time % 60)\n",
    "\n",
    "print(\"Total training time:\", hours, \"hours\", minutes, \"minutes\", seconds, \"seconds\")\n",
    "\n"
   ]
  },
  {
   "cell_type": "code",
   "execution_count": 126,
   "id": "a27578bc",
   "metadata": {},
   "outputs": [],
   "source": [
    "# save model word embedding dengan teknik word2vec dengan sg 2\n",
    "model.save(\"/Users/williamnehemia/Documents/Skripsi/TugasAkhir/WordEmbeddingModel/ModelWord2vecSetelahPembagianData/word2vec_sg_2.model\")\n"
   ]
  },
  {
   "cell_type": "code",
   "execution_count": 127,
   "id": "ba511403",
   "metadata": {},
   "outputs": [],
   "source": [
    "# load model word embedding dengan teknik word2vec dengan sg 2\n",
    "model = Word2Vec.load(\"/Users/williamnehemia/Documents/Skripsi/TugasAkhir/WordEmbeddingModel/ModelWord2vecSetelahPembagianData/word2vec_sg_2.model\")\n"
   ]
  },
  {
   "cell_type": "code",
   "execution_count": 128,
   "id": "8f7e7fd7",
   "metadata": {},
   "outputs": [
    {
     "name": "stdout",
     "output_type": "stream",
     "text": [
      "49390352.0\n"
     ]
    }
   ],
   "source": [
    "# Melihat training loss model word embedding dengan teknik word2vec dengan sg 2\n",
    "training_loss = model.get_latest_training_loss()\n",
    "print(training_loss)"
   ]
  },
  {
   "cell_type": "code",
   "execution_count": 129,
   "id": "f1ae7464",
   "metadata": {},
   "outputs": [
    {
     "name": "stdout",
     "output_type": "stream",
     "text": [
      "banyak kata ada di model 646\n",
      "banyak kata tidak ada di model 255\n",
      "0.18296383373385983\n"
     ]
    }
   ],
   "source": [
    "# nilai relatedness model sg 2\n",
    "print(relatedness(model))"
   ]
  },
  {
   "cell_type": "code",
   "execution_count": 130,
   "id": "7d2424dc",
   "metadata": {},
   "outputs": [
    {
     "name": "stdout",
     "output_type": "stream",
     "text": [
      "true_predicted 7 0.0036458333333333334\n",
      "false_predicted 1913 0.9963541666666667\n",
      "banyak kata ada di model 1544\n",
      "banyak kata tidak ada di model 356\n"
     ]
    }
   ],
   "source": [
    "# nilai word analogy model sg 2\n",
    "word_analogy(model)"
   ]
  },
  {
   "cell_type": "code",
   "execution_count": 131,
   "id": "e3e8f47a",
   "metadata": {},
   "outputs": [
    {
     "name": "stdout",
     "output_type": "stream",
     "text": [
      "Total training time: 0 hours 1 minutes 0 seconds\n"
     ]
    }
   ],
   "source": [
    "# Membuat model word embedding dengan teknik word2vec dengan cbow 3\n",
    "\n",
    "# waktu mulai\n",
    "start_time = time.time()\n",
    "\n",
    "model = Word2Vec(sentences=list_of_sentences_for_model, vector_size=20, min_count=1, workers = 10, compute_loss=True,  window=5, sg = 0, cbow_mean = 0, alpha = 0.1, seed = 10, epochs = 100)\n",
    "\n",
    "# waktu selesai\n",
    "end_time = time.time()\n",
    "\n",
    "# hitung waktu training\n",
    "training_time = end_time - start_time\n",
    "\n",
    "# convert ke jam, menit, detik\n",
    "hours = int(training_time // 3600)\n",
    "minutes = int((training_time % 3600) // 60)\n",
    "seconds = int(training_time % 60)\n",
    "\n",
    "print(\"Total training time:\", hours, \"hours\", minutes, \"minutes\", seconds, \"seconds\")\n",
    "\n"
   ]
  },
  {
   "cell_type": "code",
   "execution_count": 132,
   "id": "a52755ff",
   "metadata": {},
   "outputs": [],
   "source": [
    "# save model word embedding dengan teknik word2vec dengan cbow 3\n",
    "model.save(\"/Users/williamnehemia/Documents/Skripsi/TugasAkhir/WordEmbeddingModel/ModelWord2vecSetelahPembagianData/word2vec_cbow_3.model\")\n"
   ]
  },
  {
   "cell_type": "code",
   "execution_count": 133,
   "id": "e43d5e82",
   "metadata": {},
   "outputs": [],
   "source": [
    "# load model word embedding dengan teknik word2vec dengan cbow 3\n",
    "model = Word2Vec.load(\"/Users/williamnehemia/Documents/Skripsi/TugasAkhir/WordEmbeddingModel/ModelWord2vecSetelahPembagianData/word2vec_cbow_3.model\")\n"
   ]
  },
  {
   "cell_type": "code",
   "execution_count": 134,
   "id": "e4392dd7",
   "metadata": {},
   "outputs": [
    {
     "name": "stdout",
     "output_type": "stream",
     "text": [
      "13958812.0\n"
     ]
    }
   ],
   "source": [
    "# Melihat training loss model word embedding dengan teknik word2vec dengan cbow 3\n",
    "training_loss = model.get_latest_training_loss()\n",
    "print(training_loss)\n"
   ]
  },
  {
   "cell_type": "code",
   "execution_count": 135,
   "id": "b2c4751f",
   "metadata": {},
   "outputs": [
    {
     "name": "stdout",
     "output_type": "stream",
     "text": [
      "banyak kata ada di model 646\n",
      "banyak kata tidak ada di model 255\n",
      "-0.02875774621629753\n"
     ]
    }
   ],
   "source": [
    "# nilai relatedness model cbow 3\n",
    "print(relatedness(model))\n"
   ]
  },
  {
   "cell_type": "code",
   "execution_count": 136,
   "id": "4c4529eb",
   "metadata": {},
   "outputs": [
    {
     "name": "stdout",
     "output_type": "stream",
     "text": [
      "true_predicted 3 0.0015625\n",
      "false_predicted 1917 0.9984375\n",
      "banyak kata ada di model 1544\n",
      "banyak kata tidak ada di model 356\n"
     ]
    }
   ],
   "source": [
    "# nilai word analogy model cbow 3\n",
    "word_analogy(model)\n"
   ]
  },
  {
   "cell_type": "code",
   "execution_count": 137,
   "id": "c9b85a11",
   "metadata": {},
   "outputs": [
    {
     "name": "stdout",
     "output_type": "stream",
     "text": [
      "Total training time: 0 hours 2 minutes 51 seconds\n"
     ]
    }
   ],
   "source": [
    "# Membuat model word embedding dengan teknik word2vec dengan sg 3\n",
    "\n",
    "# waktu mulai\n",
    "start_time = time.time()\n",
    "\n",
    "model = Word2Vec(sentences=list_of_sentences_for_model, vector_size=20, min_count=1, workers = 10, compute_loss=True,  window=5, sg = 1, alpha = 0.1, seed = 10, epochs = 100)\n",
    "\n",
    "\n",
    "# waktu selesai\n",
    "end_time = time.time()\n",
    "\n",
    "# hitung waktu training\n",
    "training_time = end_time - start_time\n",
    "\n",
    "# convert ke jam, menit, detik\n",
    "hours = int(training_time // 3600)\n",
    "minutes = int((training_time % 3600) // 60)\n",
    "seconds = int(training_time % 60)\n",
    "\n",
    "print(\"Total training time:\", hours, \"hours\", minutes, \"minutes\", seconds, \"seconds\")\n",
    "\n"
   ]
  },
  {
   "cell_type": "code",
   "execution_count": 138,
   "id": "5f93a81c",
   "metadata": {},
   "outputs": [],
   "source": [
    "# save model word embedding dengan teknik word2vec dengan sg 3\n",
    "model.save(\"/Users/williamnehemia/Documents/Skripsi/TugasAkhir/WordEmbeddingModel/ModelWord2vecSetelahPembagianData/word2vec_sg_3.model\")\n"
   ]
  },
  {
   "cell_type": "code",
   "execution_count": 139,
   "id": "2fe81a10",
   "metadata": {},
   "outputs": [],
   "source": [
    "# load model word embedding dengan teknik word2vec dengan sg 3\n",
    "model = Word2Vec.load(\"/Users/williamnehemia/Documents/Skripsi/TugasAkhir/WordEmbeddingModel/ModelWord2vecSetelahPembagianData/word2vec_sg_3.model\")\n"
   ]
  },
  {
   "cell_type": "code",
   "execution_count": 140,
   "id": "6cbb572b",
   "metadata": {},
   "outputs": [
    {
     "name": "stdout",
     "output_type": "stream",
     "text": [
      "45273248.0\n"
     ]
    }
   ],
   "source": [
    "# Melihat training loss model word embedding dengan teknik word2vec dengan sg 3\n",
    "training_loss = model.get_latest_training_loss()\n",
    "print(training_loss)"
   ]
  },
  {
   "cell_type": "code",
   "execution_count": 141,
   "id": "60ade1d8",
   "metadata": {},
   "outputs": [
    {
     "name": "stdout",
     "output_type": "stream",
     "text": [
      "banyak kata ada di model 646\n",
      "banyak kata tidak ada di model 255\n",
      "0.14590797152822502\n"
     ]
    }
   ],
   "source": [
    "# nilai relatedness model sg 3\n",
    "print(relatedness(model))"
   ]
  },
  {
   "cell_type": "code",
   "execution_count": 142,
   "id": "376fe67e",
   "metadata": {},
   "outputs": [
    {
     "name": "stdout",
     "output_type": "stream",
     "text": [
      "true_predicted 3 0.0015625\n",
      "false_predicted 1917 0.9984375\n",
      "banyak kata ada di model 1544\n",
      "banyak kata tidak ada di model 356\n"
     ]
    }
   ],
   "source": [
    "# nilai word analogy model sg 3\n",
    "word_analogy(model)"
   ]
  },
  {
   "cell_type": "code",
   "execution_count": 143,
   "id": "e68e972d",
   "metadata": {},
   "outputs": [
    {
     "name": "stdout",
     "output_type": "stream",
     "text": [
      "Total training time: 0 hours 0 minutes 53 seconds\n"
     ]
    }
   ],
   "source": [
    "# Membuat model word embedding dengan teknik word2vec dengan cbow 4\n",
    "\n",
    "# waktu mulai\n",
    "start_time = time.time()\n",
    "\n",
    "model = Word2Vec(sentences=list_of_sentences_for_model, vector_size=10, min_count=1, workers = 10, compute_loss=True,  window=5, sg = 0, cbow_mean = 0, alpha = 0.01, seed = 10, epochs = 100)\n",
    "\n",
    "# waktu selesai\n",
    "end_time = time.time()\n",
    "\n",
    "# hitung waktu training\n",
    "training_time = end_time - start_time\n",
    "\n",
    "# convert ke jam, menit, detik\n",
    "hours = int(training_time // 3600)\n",
    "minutes = int((training_time % 3600) // 60)\n",
    "seconds = int(training_time % 60)\n",
    "\n",
    "print(\"Total training time:\", hours, \"hours\", minutes, \"minutes\", seconds, \"seconds\")\n",
    "\n"
   ]
  },
  {
   "cell_type": "code",
   "execution_count": 144,
   "id": "b871918b",
   "metadata": {},
   "outputs": [],
   "source": [
    "# save model word embedding dengan teknik word2vec dengan cbow 4\n",
    "model.save(\"/Users/williamnehemia/Documents/Skripsi/TugasAkhir/WordEmbeddingModel/ModelWord2vecSetelahPembagianData/word2vec_cbow_4.model\")\n"
   ]
  },
  {
   "cell_type": "code",
   "execution_count": 145,
   "id": "403fa782",
   "metadata": {},
   "outputs": [],
   "source": [
    "# load model word embedding dengan teknik word2vec dengan cbow 4\n",
    "model = Word2Vec.load(\"/Users/williamnehemia/Documents/Skripsi/TugasAkhir/WordEmbeddingModel/ModelWord2vecSetelahPembagianData/word2vec_cbow_4.model\")\n"
   ]
  },
  {
   "cell_type": "code",
   "execution_count": 146,
   "id": "687088cb",
   "metadata": {},
   "outputs": [
    {
     "name": "stdout",
     "output_type": "stream",
     "text": [
      "15350427.0\n"
     ]
    }
   ],
   "source": [
    "# Melihat training loss model word embedding dengan teknik word2vec dengan cbow 4\n",
    "training_loss = model.get_latest_training_loss()\n",
    "print(training_loss)\n"
   ]
  },
  {
   "cell_type": "code",
   "execution_count": 147,
   "id": "64698678",
   "metadata": {},
   "outputs": [
    {
     "name": "stdout",
     "output_type": "stream",
     "text": [
      "banyak kata ada di model 646\n",
      "banyak kata tidak ada di model 255\n",
      "-0.0027476683873612164\n"
     ]
    }
   ],
   "source": [
    "# nilai relatedness model cbow 4\n",
    "print(relatedness(model))\n"
   ]
  },
  {
   "cell_type": "code",
   "execution_count": 148,
   "id": "e8318713",
   "metadata": {},
   "outputs": [
    {
     "name": "stdout",
     "output_type": "stream",
     "text": [
      "true_predicted 3 0.0015625\n",
      "false_predicted 1917 0.9984375\n",
      "banyak kata ada di model 1544\n",
      "banyak kata tidak ada di model 356\n"
     ]
    }
   ],
   "source": [
    "# nilai word analogy model cbow 4\n",
    "word_analogy(model)\n"
   ]
  },
  {
   "cell_type": "code",
   "execution_count": 149,
   "id": "b72369ac",
   "metadata": {},
   "outputs": [
    {
     "name": "stdout",
     "output_type": "stream",
     "text": [
      "Total training time: 0 hours 3 minutes 3 seconds\n"
     ]
    }
   ],
   "source": [
    "# Membuat model word embedding dengan teknik word2vec dengan sg 4\n",
    "\n",
    "# waktu mulai\n",
    "start_time = time.time()\n",
    "\n",
    "model = Word2Vec(sentences=list_of_sentences_for_model, vector_size=10, min_count=1, workers = 10, compute_loss=True,  window=5, sg = 1, alpha = 0.01, seed = 10, epochs = 100)\n",
    "\n",
    "\n",
    "# waktu selesai\n",
    "end_time = time.time()\n",
    "\n",
    "# hitung waktu training\n",
    "training_time = end_time - start_time\n",
    "\n",
    "# convert ke jam, menit, detik\n",
    "hours = int(training_time // 3600)\n",
    "minutes = int((training_time % 3600) // 60)\n",
    "seconds = int(training_time % 60)\n",
    "\n",
    "print(\"Total training time:\", hours, \"hours\", minutes, \"minutes\", seconds, \"seconds\")\n",
    "\n"
   ]
  },
  {
   "cell_type": "code",
   "execution_count": 150,
   "id": "f6ef8dd3",
   "metadata": {},
   "outputs": [],
   "source": [
    "# save model word embedding dengan teknik word2vec dengan sg 4\n",
    "model.save(\"/Users/williamnehemia/Documents/Skripsi/TugasAkhir/WordEmbeddingModel/ModelWord2vecSetelahPembagianData/word2vec_sg_4.model\")\n"
   ]
  },
  {
   "cell_type": "code",
   "execution_count": 151,
   "id": "1f77902e",
   "metadata": {},
   "outputs": [],
   "source": [
    "# load model word embedding dengan teknik word2vec dengan sg 4\n",
    "model = Word2Vec.load(\"/Users/williamnehemia/Documents/Skripsi/TugasAkhir/WordEmbeddingModel/ModelWord2vecSetelahPembagianData/word2vec_sg_4.model\")\n"
   ]
  },
  {
   "cell_type": "code",
   "execution_count": 152,
   "id": "f33d68fb",
   "metadata": {},
   "outputs": [
    {
     "name": "stdout",
     "output_type": "stream",
     "text": [
      "46725216.0\n"
     ]
    }
   ],
   "source": [
    "# Melihat training loss model word embedding dengan teknik word2vec dengan sg 4\n",
    "training_loss = model.get_latest_training_loss()\n",
    "print(training_loss)"
   ]
  },
  {
   "cell_type": "code",
   "execution_count": 153,
   "id": "45ae7754",
   "metadata": {},
   "outputs": [
    {
     "name": "stdout",
     "output_type": "stream",
     "text": [
      "banyak kata ada di model 646\n",
      "banyak kata tidak ada di model 255\n",
      "0.148249300383298\n"
     ]
    }
   ],
   "source": [
    "# nilai relatedness model sg 4\n",
    "print(relatedness(model))"
   ]
  },
  {
   "cell_type": "code",
   "execution_count": 154,
   "id": "baf3e4f6",
   "metadata": {},
   "outputs": [
    {
     "name": "stdout",
     "output_type": "stream",
     "text": [
      "true_predicted 0 0.0\n",
      "false_predicted 1920 1.0\n",
      "banyak kata ada di model 1544\n",
      "banyak kata tidak ada di model 356\n"
     ]
    }
   ],
   "source": [
    "# nilai word analogy model sg 4\n",
    "word_analogy(model)"
   ]
  },
  {
   "cell_type": "code",
   "execution_count": 155,
   "id": "a202ec03",
   "metadata": {},
   "outputs": [
    {
     "name": "stdout",
     "output_type": "stream",
     "text": [
      "Total training time: 0 hours 1 minutes 9 seconds\n"
     ]
    }
   ],
   "source": [
    "# Membuat model word embedding dengan teknik word2vec dengan cbow 5\n",
    "\n",
    "# waktu mulai\n",
    "start_time = time.time()\n",
    "\n",
    "model = Word2Vec(sentences=list_of_sentences_for_model, vector_size=10, min_count=1, workers = 10, compute_loss=True,  window=5, sg = 0, cbow_mean = 0, alpha = 0.001, seed = 10, epochs = 100)\n",
    "\n",
    "# waktu selesai\n",
    "end_time = time.time()\n",
    "\n",
    "# hitung waktu training\n",
    "training_time = end_time - start_time\n",
    "\n",
    "# convert ke jam, menit, detik\n",
    "hours = int(training_time // 3600)\n",
    "minutes = int((training_time % 3600) // 60)\n",
    "seconds = int(training_time % 60)\n",
    "\n",
    "print(\"Total training time:\", hours, \"hours\", minutes, \"minutes\", seconds, \"seconds\")\n",
    "\n"
   ]
  },
  {
   "cell_type": "code",
   "execution_count": 156,
   "id": "938474a4",
   "metadata": {},
   "outputs": [],
   "source": [
    "# save model word embedding dengan teknik word2vec dengan cbow 5\n",
    "model.save(\"/Users/williamnehemia/Documents/Skripsi/TugasAkhir/WordEmbeddingModel/ModelWord2vecSetelahPembagianData/word2vec_cbow_5.model\")\n"
   ]
  },
  {
   "cell_type": "code",
   "execution_count": 157,
   "id": "ae3ee076",
   "metadata": {},
   "outputs": [],
   "source": [
    "# load model word embedding dengan teknik word2vec dengan cbow 5\n",
    "model = Word2Vec.load(\"/Users/williamnehemia/Documents/Skripsi/TugasAkhir/WordEmbeddingModel/ModelWord2vecSetelahPembagianData/word2vec_cbow_5.model\")\n"
   ]
  },
  {
   "cell_type": "code",
   "execution_count": 158,
   "id": "53bf4a53",
   "metadata": {},
   "outputs": [
    {
     "name": "stdout",
     "output_type": "stream",
     "text": [
      "17342380.0\n"
     ]
    }
   ],
   "source": [
    "# Melihat training loss model word embedding dengan teknik word2vec dengan cbow 5\n",
    "training_loss = model.get_latest_training_loss()\n",
    "print(training_loss)\n"
   ]
  },
  {
   "cell_type": "code",
   "execution_count": 159,
   "id": "49b357b3",
   "metadata": {},
   "outputs": [
    {
     "name": "stdout",
     "output_type": "stream",
     "text": [
      "banyak kata ada di model 646\n",
      "banyak kata tidak ada di model 255\n",
      "-0.006775694074841656\n"
     ]
    }
   ],
   "source": [
    "# nilai relatedness model cbow 5\n",
    "print(relatedness(model))\n"
   ]
  },
  {
   "cell_type": "code",
   "execution_count": 160,
   "id": "0bb93ad4",
   "metadata": {},
   "outputs": [
    {
     "name": "stdout",
     "output_type": "stream",
     "text": [
      "true_predicted 1 0.0005208333333333333\n",
      "false_predicted 1919 0.9994791666666667\n",
      "banyak kata ada di model 1544\n",
      "banyak kata tidak ada di model 356\n"
     ]
    }
   ],
   "source": [
    "# nilai word analogy model cbow 5\n",
    "word_analogy(model)\n"
   ]
  },
  {
   "cell_type": "code",
   "execution_count": 161,
   "id": "6e0418ce",
   "metadata": {},
   "outputs": [
    {
     "name": "stdout",
     "output_type": "stream",
     "text": [
      "Total training time: 0 hours 2 minutes 20 seconds\n"
     ]
    }
   ],
   "source": [
    "# Membuat model word embedding dengan teknik word2vec dengan sg 5\n",
    "\n",
    "# waktu mulai\n",
    "start_time = time.time()\n",
    "\n",
    "model = Word2Vec(sentences=list_of_sentences_for_model, vector_size=10, min_count=1, workers = 10, compute_loss=True,  window=5, sg = 1, alpha = 0.001, seed = 10, epochs = 100)\n",
    "\n",
    "\n",
    "# waktu selesai\n",
    "end_time = time.time()\n",
    "\n",
    "# hitung waktu training\n",
    "training_time = end_time - start_time\n",
    "\n",
    "# convert ke jam, menit, detik\n",
    "hours = int(training_time // 3600)\n",
    "minutes = int((training_time % 3600) // 60)\n",
    "seconds = int(training_time % 60)\n",
    "\n",
    "print(\"Total training time:\", hours, \"hours\", minutes, \"minutes\", seconds, \"seconds\")\n",
    "\n"
   ]
  },
  {
   "cell_type": "code",
   "execution_count": 162,
   "id": "38f781b2",
   "metadata": {},
   "outputs": [],
   "source": [
    "# save model word embedding dengan teknik word2vec dengan sg 5\n",
    "model.save(\"/Users/williamnehemia/Documents/Skripsi/TugasAkhir/WordEmbeddingModel/ModelWord2vecSetelahPembagianData/word2vec_sg_5.model\")\n"
   ]
  },
  {
   "cell_type": "code",
   "execution_count": 163,
   "id": "a05c8df9",
   "metadata": {},
   "outputs": [],
   "source": [
    "# load model word embedding dengan teknik word2vec dengan sg 5\n",
    "model = Word2Vec.load(\"/Users/williamnehemia/Documents/Skripsi/TugasAkhir/WordEmbeddingModel/ModelWord2vecSetelahPembagianData/word2vec_sg_5.model\")\n"
   ]
  },
  {
   "cell_type": "code",
   "execution_count": 164,
   "id": "03551667",
   "metadata": {},
   "outputs": [
    {
     "name": "stdout",
     "output_type": "stream",
     "text": [
      "49249468.0\n"
     ]
    }
   ],
   "source": [
    "# Melihat training loss model word embedding dengan teknik word2vec dengan sg 5\n",
    "training_loss = model.get_latest_training_loss()\n",
    "print(training_loss)"
   ]
  },
  {
   "cell_type": "code",
   "execution_count": 165,
   "id": "f4070cc6",
   "metadata": {},
   "outputs": [
    {
     "name": "stdout",
     "output_type": "stream",
     "text": [
      "banyak kata ada di model 646\n",
      "banyak kata tidak ada di model 255\n",
      "0.18637999998102084\n"
     ]
    }
   ],
   "source": [
    "# nilai relatedness model sg 5\n",
    "print(relatedness(model))"
   ]
  },
  {
   "cell_type": "code",
   "execution_count": 166,
   "id": "52beb67c",
   "metadata": {},
   "outputs": [
    {
     "name": "stdout",
     "output_type": "stream",
     "text": [
      "true_predicted 2 0.0010416666666666667\n",
      "false_predicted 1918 0.9989583333333333\n",
      "banyak kata ada di model 1544\n",
      "banyak kata tidak ada di model 356\n"
     ]
    }
   ],
   "source": [
    "# nilai word analogy model sg 5\n",
    "word_analogy(model)"
   ]
  },
  {
   "cell_type": "code",
   "execution_count": 167,
   "id": "4c179ff9",
   "metadata": {},
   "outputs": [
    {
     "name": "stdout",
     "output_type": "stream",
     "text": [
      "Total training time: 0 hours 1 minutes 7 seconds\n"
     ]
    }
   ],
   "source": [
    "# Membuat model word embedding dengan teknik word2vec dengan cbow 6\n",
    "\n",
    "# waktu mulai\n",
    "start_time = time.time()\n",
    "\n",
    "model = Word2Vec(sentences=list_of_sentences_for_model, vector_size=10, min_count=1, workers = 10, compute_loss=True,  window=5, sg = 0, cbow_mean = 0, alpha = 0.1, seed = 10, epochs = 100)\n",
    "\n",
    "# waktu selesai\n",
    "end_time = time.time()\n",
    "\n",
    "# hitung waktu training\n",
    "training_time = end_time - start_time\n",
    "\n",
    "# convert ke jam, menit, detik\n",
    "hours = int(training_time // 3600)\n",
    "minutes = int((training_time % 3600) // 60)\n",
    "seconds = int(training_time % 60)\n",
    "\n",
    "print(\"Total training time:\", hours, \"hours\", minutes, \"minutes\", seconds, \"seconds\")\n",
    "\n"
   ]
  },
  {
   "cell_type": "code",
   "execution_count": 168,
   "id": "aca9f0ce",
   "metadata": {},
   "outputs": [],
   "source": [
    "# save model word embedding dengan teknik word2vec dengan cbow 6\n",
    "model.save(\"/Users/williamnehemia/Documents/Skripsi/TugasAkhir/WordEmbeddingModel/ModelWord2vecSetelahPembagianData/word2vec_cbow_6.model\")\n"
   ]
  },
  {
   "cell_type": "code",
   "execution_count": 169,
   "id": "66eec1b1",
   "metadata": {},
   "outputs": [],
   "source": [
    "# load model word embedding dengan teknik word2vec dengan cbow 6\n",
    "model = Word2Vec.load(\"/Users/williamnehemia/Documents/Skripsi/TugasAkhir/WordEmbeddingModel/ModelWord2vecSetelahPembagianData/word2vec_cbow_6.model\")\n"
   ]
  },
  {
   "cell_type": "code",
   "execution_count": 170,
   "id": "02025cd7",
   "metadata": {},
   "outputs": [
    {
     "name": "stdout",
     "output_type": "stream",
     "text": [
      "15334991.0\n"
     ]
    }
   ],
   "source": [
    "# Melihat training loss model word embedding dengan teknik word2vec dengan cbow 6\n",
    "training_loss = model.get_latest_training_loss()\n",
    "print(training_loss)\n"
   ]
  },
  {
   "cell_type": "code",
   "execution_count": 171,
   "id": "568657c9",
   "metadata": {},
   "outputs": [
    {
     "name": "stdout",
     "output_type": "stream",
     "text": [
      "banyak kata ada di model 646\n",
      "banyak kata tidak ada di model 255\n",
      "0.02209004116117041\n"
     ]
    }
   ],
   "source": [
    "# nilai relatedness model cbow 6\n",
    "print(relatedness(model))\n"
   ]
  },
  {
   "cell_type": "code",
   "execution_count": 172,
   "id": "333e93bd",
   "metadata": {},
   "outputs": [
    {
     "name": "stdout",
     "output_type": "stream",
     "text": [
      "true_predicted 3 0.0015625\n",
      "false_predicted 1917 0.9984375\n",
      "banyak kata ada di model 1544\n",
      "banyak kata tidak ada di model 356\n"
     ]
    }
   ],
   "source": [
    "# nilai word analogy model cbow 6\n",
    "word_analogy(model)\n"
   ]
  },
  {
   "cell_type": "code",
   "execution_count": 173,
   "id": "13e15d31",
   "metadata": {},
   "outputs": [
    {
     "name": "stdout",
     "output_type": "stream",
     "text": [
      "Total training time: 0 hours 1 minutes 9 seconds\n"
     ]
    }
   ],
   "source": [
    "# Membuat model word embedding dengan teknik word2vec dengan sg 6\n",
    "\n",
    "# waktu mulai\n",
    "start_time = time.time()\n",
    "\n",
    "model = Word2Vec(sentences=list_of_sentences_for_model, vector_size=10, min_count=1, workers = 10, compute_loss=True,  window=5, sg = 1, alpha = 0.1, seed = 10, epochs = 100)\n",
    "\n",
    "\n",
    "# waktu selesai\n",
    "end_time = time.time()\n",
    "\n",
    "# hitung waktu training\n",
    "training_time = end_time - start_time\n",
    "\n",
    "# convert ke jam, menit, detik\n",
    "hours = int(training_time // 3600)\n",
    "minutes = int((training_time % 3600) // 60)\n",
    "seconds = int(training_time % 60)\n",
    "\n",
    "print(\"Total training time:\", hours, \"hours\", minutes, \"minutes\", seconds, \"seconds\")\n",
    "\n"
   ]
  },
  {
   "cell_type": "code",
   "execution_count": 174,
   "id": "83cf0596",
   "metadata": {},
   "outputs": [],
   "source": [
    "# save model word embedding dengan teknik word2vec dengan sg 6\n",
    "model.save(\"/Users/williamnehemia/Documents/Skripsi/TugasAkhir/WordEmbeddingModel/ModelWord2vecSetelahPembagianData/word2vec_sg_6.model\")\n"
   ]
  },
  {
   "cell_type": "code",
   "execution_count": 175,
   "id": "40a6f1a1",
   "metadata": {},
   "outputs": [],
   "source": [
    "# load model word embedding dengan teknik word2vec dengan sg 6\n",
    "model = Word2Vec.load(\"/Users/williamnehemia/Documents/Skripsi/TugasAkhir/WordEmbeddingModel/ModelWord2vecSetelahPembagianData/word2vec_sg_6.model\")\n"
   ]
  },
  {
   "cell_type": "code",
   "execution_count": 176,
   "id": "d7f146b9",
   "metadata": {},
   "outputs": [
    {
     "name": "stdout",
     "output_type": "stream",
     "text": [
      "45994752.0\n"
     ]
    }
   ],
   "source": [
    "# Melihat training loss model word embedding dengan teknik word2vec dengan sg 6\n",
    "training_loss = model.get_latest_training_loss()\n",
    "print(training_loss)"
   ]
  },
  {
   "cell_type": "code",
   "execution_count": 177,
   "id": "5a576660",
   "metadata": {},
   "outputs": [
    {
     "name": "stdout",
     "output_type": "stream",
     "text": [
      "banyak kata ada di model 646\n",
      "banyak kata tidak ada di model 255\n",
      "0.1271137693495935\n"
     ]
    }
   ],
   "source": [
    "# nilai relatedness model sg 6\n",
    "print(relatedness(model))"
   ]
  },
  {
   "cell_type": "code",
   "execution_count": 178,
   "id": "4249b6e1",
   "metadata": {},
   "outputs": [
    {
     "name": "stdout",
     "output_type": "stream",
     "text": [
      "true_predicted 1 0.0005208333333333333\n",
      "false_predicted 1919 0.9994791666666667\n",
      "banyak kata ada di model 1544\n",
      "banyak kata tidak ada di model 356\n"
     ]
    }
   ],
   "source": [
    "# nilai word analogy model sg 6\n",
    "word_analogy(model)"
   ]
  },
  {
   "cell_type": "code",
   "execution_count": 179,
   "id": "e72537bc",
   "metadata": {},
   "outputs": [
    {
     "name": "stdout",
     "output_type": "stream",
     "text": [
      "Total training time: 0 hours 9 minutes 11 seconds\n"
     ]
    }
   ],
   "source": [
    "# Membuat model word embedding dengan teknik word2vec dengan cbow 7\n",
    "\n",
    "# waktu mulai\n",
    "start_time = time.time()\n",
    "\n",
    "model = Word2Vec(sentences=list_of_sentences_for_model, vector_size=10, min_count=1, workers = 10, compute_loss=True,  window=5, sg = 0, cbow_mean = 0, alpha = 0.1, seed = 10, epochs = 1000)\n",
    "\n",
    "# waktu selesai\n",
    "end_time = time.time()\n",
    "\n",
    "# hitung waktu training\n",
    "training_time = end_time - start_time\n",
    "\n",
    "# convert ke jam, menit, detik\n",
    "hours = int(training_time // 3600)\n",
    "minutes = int((training_time % 3600) // 60)\n",
    "seconds = int(training_time % 60)\n",
    "\n",
    "print(\"Total training time:\", hours, \"hours\", minutes, \"minutes\", seconds, \"seconds\")\n",
    "\n"
   ]
  },
  {
   "cell_type": "code",
   "execution_count": 180,
   "id": "48ee9440",
   "metadata": {},
   "outputs": [],
   "source": [
    "# save model word embedding dengan teknik word2vec dengan cbow 7\n",
    "model.save(\"/Users/williamnehemia/Documents/Skripsi/TugasAkhir/WordEmbeddingModel/ModelWord2vecSetelahPembagianData/word2vec_cbow_7.model\")\n"
   ]
  },
  {
   "cell_type": "code",
   "execution_count": 181,
   "id": "443e1cbe",
   "metadata": {},
   "outputs": [],
   "source": [
    "# load model word embedding dengan teknik word2vec dengan cbow 7\n",
    "model = Word2Vec.load(\"/Users/williamnehemia/Documents/Skripsi/TugasAkhir/WordEmbeddingModel/ModelWord2vecSetelahPembagianData/word2vec_cbow_7.model\")\n"
   ]
  },
  {
   "cell_type": "code",
   "execution_count": 182,
   "id": "9fb2b4b0",
   "metadata": {},
   "outputs": [
    {
     "name": "stdout",
     "output_type": "stream",
     "text": [
      "76664208.0\n"
     ]
    }
   ],
   "source": [
    "# Melihat training loss model word embedding dengan teknik word2vec dengan cbow 7\n",
    "training_loss = model.get_latest_training_loss()\n",
    "print(training_loss)\n"
   ]
  },
  {
   "cell_type": "code",
   "execution_count": 183,
   "id": "01aa8b79",
   "metadata": {},
   "outputs": [
    {
     "name": "stdout",
     "output_type": "stream",
     "text": [
      "banyak kata ada di model 646\n",
      "banyak kata tidak ada di model 255\n",
      "-0.002951425688977106\n"
     ]
    }
   ],
   "source": [
    "# nilai relatedness model cbow 7\n",
    "print(relatedness(model))\n"
   ]
  },
  {
   "cell_type": "code",
   "execution_count": 184,
   "id": "296faea1",
   "metadata": {},
   "outputs": [
    {
     "name": "stdout",
     "output_type": "stream",
     "text": [
      "true_predicted 1 0.0005208333333333333\n",
      "false_predicted 1919 0.9994791666666667\n",
      "banyak kata ada di model 1544\n",
      "banyak kata tidak ada di model 356\n"
     ]
    }
   ],
   "source": [
    "# nilai word analogy model cbow 7\n",
    "word_analogy(model)\n"
   ]
  },
  {
   "cell_type": "code",
   "execution_count": 185,
   "id": "2b4282c9",
   "metadata": {},
   "outputs": [
    {
     "name": "stdout",
     "output_type": "stream",
     "text": [
      "Total training time: 0 hours 22 minutes 26 seconds\n"
     ]
    }
   ],
   "source": [
    "# Membuat model word embedding dengan teknik word2vec dengan sg 7\n",
    "\n",
    "# waktu mulai\n",
    "start_time = time.time()\n",
    "\n",
    "model = Word2Vec(sentences=list_of_sentences_for_model, vector_size=10, min_count=1, workers = 10, compute_loss=True,  window=5, sg = 1, alpha = 0.1, seed = 10, epochs = 1000)\n",
    "\n",
    "\n",
    "# waktu selesai\n",
    "end_time = time.time()\n",
    "\n",
    "# hitung waktu training\n",
    "training_time = end_time - start_time\n",
    "\n",
    "# convert ke jam, menit, detik\n",
    "hours = int(training_time // 3600)\n",
    "minutes = int((training_time % 3600) // 60)\n",
    "seconds = int(training_time % 60)\n",
    "\n",
    "print(\"Total training time:\", hours, \"hours\", minutes, \"minutes\", seconds, \"seconds\")\n",
    "\n"
   ]
  },
  {
   "cell_type": "code",
   "execution_count": 186,
   "id": "fc631ce5",
   "metadata": {},
   "outputs": [],
   "source": [
    "# save model word embedding dengan teknik word2vec dengan sg 7\n",
    "model.save(\"/Users/williamnehemia/Documents/Skripsi/TugasAkhir/WordEmbeddingModel/ModelWord2vecSetelahPembagianData/word2vec_sg_7.model\")\n"
   ]
  },
  {
   "cell_type": "code",
   "execution_count": 187,
   "id": "9f3874d1",
   "metadata": {},
   "outputs": [],
   "source": [
    "# load model word embedding dengan teknik word2vec dengan sg 7\n",
    "model = Word2Vec.load(\"/Users/williamnehemia/Documents/Skripsi/TugasAkhir/WordEmbeddingModel/ModelWord2vecSetelahPembagianData/word2vec_sg_7.model\")\n"
   ]
  },
  {
   "cell_type": "code",
   "execution_count": 188,
   "id": "2ad6555a",
   "metadata": {},
   "outputs": [
    {
     "name": "stdout",
     "output_type": "stream",
     "text": [
      "81604304.0\n"
     ]
    }
   ],
   "source": [
    "# Melihat training loss model word embedding dengan teknik word2vec dengan sg 7\n",
    "training_loss = model.get_latest_training_loss()\n",
    "print(training_loss)"
   ]
  },
  {
   "cell_type": "code",
   "execution_count": 189,
   "id": "9b6325dc",
   "metadata": {},
   "outputs": [
    {
     "name": "stdout",
     "output_type": "stream",
     "text": [
      "banyak kata ada di model 646\n",
      "banyak kata tidak ada di model 255\n",
      "0.15355521572191616\n"
     ]
    }
   ],
   "source": [
    "# nilai relatedness model sg 7\n",
    "print(relatedness(model))"
   ]
  },
  {
   "cell_type": "code",
   "execution_count": 190,
   "id": "622f2bdc",
   "metadata": {},
   "outputs": [
    {
     "name": "stdout",
     "output_type": "stream",
     "text": [
      "true_predicted 1 0.0005208333333333333\n",
      "false_predicted 1919 0.9994791666666667\n",
      "banyak kata ada di model 1544\n",
      "banyak kata tidak ada di model 356\n"
     ]
    }
   ],
   "source": [
    "# nilai word analogy model sg 7\n",
    "word_analogy(model)"
   ]
  },
  {
   "cell_type": "code",
   "execution_count": 191,
   "id": "ca7388ca",
   "metadata": {},
   "outputs": [
    {
     "name": "stdout",
     "output_type": "stream",
     "text": [
      "Total training time: 0 hours 40 minutes 40 seconds\n"
     ]
    }
   ],
   "source": [
    "# Membuat model word embedding dengan teknik word2vec dengan cbow 8\n",
    "\n",
    "# waktu mulai\n",
    "start_time = time.time()\n",
    "\n",
    "model = Word2Vec(sentences=list_of_sentences_for_model, vector_size=10, min_count=1, workers = 10, compute_loss=True,  window=5, sg = 0, cbow_mean = 0, alpha = 0.1, seed = 10, epochs = 5000)\n",
    "\n",
    "# waktu selesai\n",
    "end_time = time.time()\n",
    "\n",
    "# hitung waktu training\n",
    "training_time = end_time - start_time\n",
    "\n",
    "# convert ke jam, menit, detik\n",
    "hours = int(training_time // 3600)\n",
    "minutes = int((training_time % 3600) // 60)\n",
    "seconds = int(training_time % 60)\n",
    "\n",
    "print(\"Total training time:\", hours, \"hours\", minutes, \"minutes\", seconds, \"seconds\")\n",
    "\n"
   ]
  },
  {
   "cell_type": "code",
   "execution_count": 192,
   "id": "a37893f4",
   "metadata": {},
   "outputs": [],
   "source": [
    "# save model word embedding dengan teknik word2vec dengan cbow 8\n",
    "model.save(\"/Users/williamnehemia/Documents/Skripsi/TugasAkhir/WordEmbeddingModel/ModelWord2vecSetelahPembagianData/word2vec_cbow_8.model\")\n"
   ]
  },
  {
   "cell_type": "code",
   "execution_count": 193,
   "id": "3e642fa6",
   "metadata": {},
   "outputs": [],
   "source": [
    "# load model word embedding dengan teknik word2vec dengan cbow 8\n",
    "model = Word2Vec.load(\"/Users/williamnehemia/Documents/Skripsi/TugasAkhir/WordEmbeddingModel/ModelWord2vecSetelahPembagianData/word2vec_cbow_8.model\")\n"
   ]
  },
  {
   "cell_type": "code",
   "execution_count": 194,
   "id": "37cbafc2",
   "metadata": {},
   "outputs": [
    {
     "name": "stdout",
     "output_type": "stream",
     "text": [
      "134217728.0\n"
     ]
    }
   ],
   "source": [
    "# Melihat training loss model word embedding dengan teknik word2vec dengan cbow 8\n",
    "training_loss = model.get_latest_training_loss()\n",
    "print(training_loss)\n"
   ]
  },
  {
   "cell_type": "code",
   "execution_count": 195,
   "id": "242935f9",
   "metadata": {},
   "outputs": [
    {
     "name": "stdout",
     "output_type": "stream",
     "text": [
      "banyak kata ada di model 646\n",
      "banyak kata tidak ada di model 255\n",
      "0.0034072357079898146\n"
     ]
    }
   ],
   "source": [
    "# nilai relatedness model cbow 8\n",
    "print(relatedness(model))\n"
   ]
  },
  {
   "cell_type": "code",
   "execution_count": 196,
   "id": "6a6238a4",
   "metadata": {},
   "outputs": [
    {
     "name": "stdout",
     "output_type": "stream",
     "text": [
      "true_predicted 2 0.0010416666666666667\n",
      "false_predicted 1918 0.9989583333333333\n",
      "banyak kata ada di model 1544\n",
      "banyak kata tidak ada di model 356\n"
     ]
    }
   ],
   "source": [
    "# nilai word analogy model cbow 8\n",
    "word_analogy(model)\n"
   ]
  },
  {
   "cell_type": "code",
   "execution_count": 197,
   "id": "3bc64c9e",
   "metadata": {},
   "outputs": [
    {
     "name": "stdout",
     "output_type": "stream",
     "text": [
      "Total training time: 1 hours 17 minutes 31 seconds\n"
     ]
    }
   ],
   "source": [
    "# Membuat model word embedding dengan teknik word2vec dengan sg 8\n",
    "\n",
    "# waktu mulai\n",
    "start_time = time.time()\n",
    "\n",
    "model = Word2Vec(sentences=list_of_sentences_for_model, vector_size=10, min_count=1, workers = 10, compute_loss=True,  window=5, sg = 1, alpha = 0.1, seed = 10, epochs = 5000)\n",
    "\n",
    "\n",
    "# waktu selesai\n",
    "end_time = time.time()\n",
    "\n",
    "# hitung waktu training\n",
    "training_time = end_time - start_time\n",
    "\n",
    "# convert ke jam, menit, detik\n",
    "hours = int(training_time // 3600)\n",
    "minutes = int((training_time % 3600) // 60)\n",
    "seconds = int(training_time % 60)\n",
    "\n",
    "print(\"Total training time:\", hours, \"hours\", minutes, \"minutes\", seconds, \"seconds\")\n",
    "\n"
   ]
  },
  {
   "cell_type": "code",
   "execution_count": 198,
   "id": "2596b82a",
   "metadata": {},
   "outputs": [],
   "source": [
    "# save model word embedding dengan teknik word2vec dengan sg 8\n",
    "model.save(\"/Users/williamnehemia/Documents/Skripsi/TugasAkhir/WordEmbeddingModel/ModelWord2vecSetelahPembagianData/word2vec_sg_8.model\")\n"
   ]
  },
  {
   "cell_type": "code",
   "execution_count": 199,
   "id": "3c26b043",
   "metadata": {},
   "outputs": [],
   "source": [
    "# load model word embedding dengan teknik word2vec dengan sg 8\n",
    "model = Word2Vec.load(\"/Users/williamnehemia/Documents/Skripsi/TugasAkhir/WordEmbeddingModel/ModelWord2vecSetelahPembagianData/word2vec_sg_8.model\")\n"
   ]
  },
  {
   "cell_type": "code",
   "execution_count": 200,
   "id": "a8764903",
   "metadata": {},
   "outputs": [
    {
     "name": "stdout",
     "output_type": "stream",
     "text": [
      "134217728.0\n"
     ]
    }
   ],
   "source": [
    "# Melihat training loss model word embedding dengan teknik word2vec dengan sg 8\n",
    "training_loss = model.get_latest_training_loss()\n",
    "print(training_loss)"
   ]
  },
  {
   "cell_type": "code",
   "execution_count": 201,
   "id": "c0cf8569",
   "metadata": {},
   "outputs": [
    {
     "name": "stdout",
     "output_type": "stream",
     "text": [
      "banyak kata ada di model 646\n",
      "banyak kata tidak ada di model 255\n",
      "0.15468069867167222\n"
     ]
    }
   ],
   "source": [
    "# nilai relatedness model sg 8\n",
    "print(relatedness(model))"
   ]
  },
  {
   "cell_type": "code",
   "execution_count": 202,
   "id": "fadfd717",
   "metadata": {},
   "outputs": [
    {
     "name": "stdout",
     "output_type": "stream",
     "text": [
      "true_predicted 2 0.0010416666666666667\n",
      "false_predicted 1918 0.9989583333333333\n",
      "banyak kata ada di model 1544\n",
      "banyak kata tidak ada di model 356\n"
     ]
    }
   ],
   "source": [
    "# nilai word analogy model sg 8\n",
    "word_analogy(model)"
   ]
  },
  {
   "cell_type": "code",
   "execution_count": 203,
   "id": "f1e4b66b",
   "metadata": {},
   "outputs": [
    {
     "name": "stdout",
     "output_type": "stream",
     "text": [
      "Total training time: 0 hours 41 minutes 27 seconds\n"
     ]
    }
   ],
   "source": [
    "# Membuat model word embedding dengan teknik word2vec dengan cbow 9\n",
    "\n",
    "# waktu mulai\n",
    "start_time = time.time()\n",
    "\n",
    "model = Word2Vec(sentences=list_of_sentences_for_model, vector_size=10, min_count=1, workers = 10, compute_loss=True,  window=5, sg = 0, cbow_mean = 0, alpha = 0.01, seed = 10, epochs = 5000)\n",
    "\n",
    "# waktu selesai\n",
    "end_time = time.time()\n",
    "\n",
    "# hitung waktu training\n",
    "training_time = end_time - start_time\n",
    "\n",
    "# convert ke jam, menit, detik\n",
    "hours = int(training_time // 3600)\n",
    "minutes = int((training_time % 3600) // 60)\n",
    "seconds = int(training_time % 60)\n",
    "\n",
    "print(\"Total training time:\", hours, \"hours\", minutes, \"minutes\", seconds, \"seconds\")\n",
    "\n"
   ]
  },
  {
   "cell_type": "code",
   "execution_count": 204,
   "id": "e33f321e",
   "metadata": {},
   "outputs": [],
   "source": [
    "# save model word embedding dengan teknik word2vec dengan cbow 9\n",
    "model.save(\"/Users/williamnehemia/Documents/Skripsi/TugasAkhir/WordEmbeddingModel/ModelWord2vecSetelahPembagianData/word2vec_cbow_9.model\")\n"
   ]
  },
  {
   "cell_type": "code",
   "execution_count": 205,
   "id": "057f23e0",
   "metadata": {},
   "outputs": [],
   "source": [
    "# load model word embedding dengan teknik word2vec dengan cbow 9\n",
    "model = Word2Vec.load(\"/Users/williamnehemia/Documents/Skripsi/TugasAkhir/WordEmbeddingModel/ModelWord2vecSetelahPembagianData/word2vec_cbow_9.model\")\n"
   ]
  },
  {
   "cell_type": "code",
   "execution_count": 206,
   "id": "037a86ad",
   "metadata": {},
   "outputs": [
    {
     "name": "stdout",
     "output_type": "stream",
     "text": [
      "134217728.0\n"
     ]
    }
   ],
   "source": [
    "# Melihat training loss model word embedding dengan teknik word2vec dengan cbow 9\n",
    "training_loss = model.get_latest_training_loss()\n",
    "print(training_loss)\n"
   ]
  },
  {
   "cell_type": "code",
   "execution_count": 207,
   "id": "8f613d78",
   "metadata": {},
   "outputs": [
    {
     "name": "stdout",
     "output_type": "stream",
     "text": [
      "banyak kata ada di model 646\n",
      "banyak kata tidak ada di model 255\n",
      "0.02974762597916504\n"
     ]
    }
   ],
   "source": [
    "# nilai relatedness model cbow 9\n",
    "print(relatedness(model))\n"
   ]
  },
  {
   "cell_type": "code",
   "execution_count": 208,
   "id": "7d3cb4d4",
   "metadata": {},
   "outputs": [
    {
     "name": "stdout",
     "output_type": "stream",
     "text": [
      "true_predicted 2 0.0010416666666666667\n",
      "false_predicted 1918 0.9989583333333333\n",
      "banyak kata ada di model 1544\n",
      "banyak kata tidak ada di model 356\n"
     ]
    }
   ],
   "source": [
    "# nilai word analogy model cbow 9\n",
    "word_analogy(model)\n"
   ]
  },
  {
   "cell_type": "code",
   "execution_count": 209,
   "id": "30b3065a",
   "metadata": {},
   "outputs": [
    {
     "name": "stdout",
     "output_type": "stream",
     "text": [
      "Total training time: 2 hours 14 minutes 20 seconds\n"
     ]
    }
   ],
   "source": [
    "# Membuat model word embedding dengan teknik word2vec dengan sg 9\n",
    "\n",
    "# waktu mulai\n",
    "start_time = time.time()\n",
    "\n",
    "model = Word2Vec(sentences=list_of_sentences_for_model, vector_size=10, min_count=1, workers = 10, compute_loss=True,  window=5, sg = 1, alpha = 0.01, seed = 10, epochs = 5000)\n",
    "\n",
    "\n",
    "# waktu selesai\n",
    "end_time = time.time()\n",
    "\n",
    "# hitung waktu training\n",
    "training_time = end_time - start_time\n",
    "\n",
    "# convert ke jam, menit, detik\n",
    "hours = int(training_time // 3600)\n",
    "minutes = int((training_time % 3600) // 60)\n",
    "seconds = int(training_time % 60)\n",
    "\n",
    "print(\"Total training time:\", hours, \"hours\", minutes, \"minutes\", seconds, \"seconds\")\n",
    "\n"
   ]
  },
  {
   "cell_type": "code",
   "execution_count": 210,
   "id": "57c5563b",
   "metadata": {},
   "outputs": [],
   "source": [
    "# save model word embedding dengan teknik word2vec dengan sg 9\n",
    "model.save(\"/Users/williamnehemia/Documents/Skripsi/TugasAkhir/WordEmbeddingModel/ModelWord2vecSetelahPembagianData/word2vec_sg_9.model\")\n"
   ]
  },
  {
   "cell_type": "code",
   "execution_count": 211,
   "id": "c1bf86de",
   "metadata": {},
   "outputs": [],
   "source": [
    "# load model word embedding dengan teknik word2vec dengan sg 9\n",
    "model = Word2Vec.load(\"/Users/williamnehemia/Documents/Skripsi/TugasAkhir/WordEmbeddingModel/ModelWord2vecSetelahPembagianData/word2vec_sg_9.model\")\n"
   ]
  },
  {
   "cell_type": "code",
   "execution_count": 212,
   "id": "7ac6dc6e",
   "metadata": {},
   "outputs": [
    {
     "name": "stdout",
     "output_type": "stream",
     "text": [
      "121615504.0\n"
     ]
    }
   ],
   "source": [
    "# Melihat training loss model word embedding dengan teknik word2vec dengan sg 9\n",
    "training_loss = model.get_latest_training_loss()\n",
    "print(training_loss)"
   ]
  },
  {
   "cell_type": "code",
   "execution_count": 213,
   "id": "a28276f9",
   "metadata": {},
   "outputs": [
    {
     "name": "stdout",
     "output_type": "stream",
     "text": [
      "banyak kata ada di model 646\n",
      "banyak kata tidak ada di model 255\n",
      "0.16645690714689693\n"
     ]
    }
   ],
   "source": [
    "# nilai relatedness model sg 9\n",
    "print(relatedness(model))"
   ]
  },
  {
   "cell_type": "code",
   "execution_count": 214,
   "id": "af9ec88e",
   "metadata": {},
   "outputs": [
    {
     "name": "stdout",
     "output_type": "stream",
     "text": [
      "true_predicted 2 0.0010416666666666667\n",
      "false_predicted 1918 0.9989583333333333\n",
      "banyak kata ada di model 1544\n",
      "banyak kata tidak ada di model 356\n"
     ]
    }
   ],
   "source": [
    "# nilai word analogy model sg 9\n",
    "word_analogy(model)"
   ]
  },
  {
   "cell_type": "code",
   "execution_count": 215,
   "id": "f67a2716",
   "metadata": {},
   "outputs": [
    {
     "name": "stdout",
     "output_type": "stream",
     "text": [
      "Total training time: 0 hours 52 minutes 36 seconds\n"
     ]
    }
   ],
   "source": [
    "# Membuat model word embedding dengan teknik word2vec dengan cbow 10\n",
    "\n",
    "# waktu mulai\n",
    "start_time = time.time()\n",
    "\n",
    "model = Word2Vec(sentences=list_of_sentences_for_model, vector_size=10, min_count=1, workers = 10, compute_loss=True,  window=7, sg = 0, cbow_mean = 0, alpha = 0.01, seed = 10, epochs = 5000)\n",
    "\n",
    "# waktu selesai\n",
    "end_time = time.time()\n",
    "\n",
    "# hitung waktu training\n",
    "training_time = end_time - start_time\n",
    "\n",
    "# convert ke jam, menit, detik\n",
    "hours = int(training_time // 3600)\n",
    "minutes = int((training_time % 3600) // 60)\n",
    "seconds = int(training_time % 60)\n",
    "\n",
    "print(\"Total training time:\", hours, \"hours\", minutes, \"minutes\", seconds, \"seconds\")\n",
    "\n"
   ]
  },
  {
   "cell_type": "code",
   "execution_count": 216,
   "id": "2e2fe560",
   "metadata": {},
   "outputs": [],
   "source": [
    "# save model word embedding dengan teknik word2vec dengan cbow 10\n",
    "model.save(\"/Users/williamnehemia/Documents/Skripsi/TugasAkhir/WordEmbeddingModel/ModelWord2vecSetelahPembagianData/word2vec_cbow_10.model\")\n"
   ]
  },
  {
   "cell_type": "code",
   "execution_count": 217,
   "id": "e5847dce",
   "metadata": {},
   "outputs": [],
   "source": [
    "# load model word embedding dengan teknik word2vec dengan cbow 10\n",
    "model = Word2Vec.load(\"/Users/williamnehemia/Documents/Skripsi/TugasAkhir/WordEmbeddingModel/ModelWord2vecSetelahPembagianData/word2vec_cbow_10.model\")\n"
   ]
  },
  {
   "cell_type": "code",
   "execution_count": 218,
   "id": "01cab491",
   "metadata": {},
   "outputs": [
    {
     "name": "stdout",
     "output_type": "stream",
     "text": [
      "134217728.0\n"
     ]
    }
   ],
   "source": [
    "# Melihat training loss model word embedding dengan teknik word2vec dengan cbow 10\n",
    "training_loss = model.get_latest_training_loss()\n",
    "print(training_loss)\n"
   ]
  },
  {
   "cell_type": "code",
   "execution_count": 219,
   "id": "95ef7f47",
   "metadata": {},
   "outputs": [
    {
     "name": "stdout",
     "output_type": "stream",
     "text": [
      "banyak kata ada di model 646\n",
      "banyak kata tidak ada di model 255\n",
      "0.021115084799286303\n"
     ]
    }
   ],
   "source": [
    "# nilai relatedness model cbow 10\n",
    "print(relatedness(model))\n"
   ]
  },
  {
   "cell_type": "code",
   "execution_count": 220,
   "id": "cbd044ed",
   "metadata": {},
   "outputs": [
    {
     "name": "stdout",
     "output_type": "stream",
     "text": [
      "true_predicted 1 0.0005208333333333333\n",
      "false_predicted 1919 0.9994791666666667\n",
      "banyak kata ada di model 1544\n",
      "banyak kata tidak ada di model 356\n"
     ]
    }
   ],
   "source": [
    "# nilai word analogy model cbow 10\n",
    "word_analogy(model)\n"
   ]
  },
  {
   "cell_type": "code",
   "execution_count": 221,
   "id": "9d062252",
   "metadata": {},
   "outputs": [
    {
     "name": "stdout",
     "output_type": "stream",
     "text": [
      "Total training time: 2 hours 54 minutes 28 seconds\n"
     ]
    }
   ],
   "source": [
    "# Membuat model word embedding dengan teknik word2vec dengan sg 10\n",
    "\n",
    "# waktu mulai\n",
    "start_time = time.time()\n",
    "\n",
    "model = Word2Vec(sentences=list_of_sentences_for_model, vector_size=10, min_count=1, workers = 10, compute_loss=True,  window=7, sg = 1, alpha = 0.01, seed = 10, epochs = 5000)\n",
    "\n",
    "\n",
    "# waktu selesai\n",
    "end_time = time.time()\n",
    "\n",
    "# hitung waktu training\n",
    "training_time = end_time - start_time\n",
    "\n",
    "# convert ke jam, menit, detik\n",
    "hours = int(training_time // 3600)\n",
    "minutes = int((training_time % 3600) // 60)\n",
    "seconds = int(training_time % 60)\n",
    "\n",
    "print(\"Total training time:\", hours, \"hours\", minutes, \"minutes\", seconds, \"seconds\")\n",
    "\n"
   ]
  },
  {
   "cell_type": "code",
   "execution_count": 222,
   "id": "8707ecb2",
   "metadata": {},
   "outputs": [],
   "source": [
    "# save model word embedding dengan teknik word2vec dengan sg 10\n",
    "model.save(\"/Users/williamnehemia/Documents/Skripsi/TugasAkhir/WordEmbeddingModel/ModelWord2vecSetelahPembagianData/word2vec_sg_10.model\")\n"
   ]
  },
  {
   "cell_type": "code",
   "execution_count": 223,
   "id": "f82443a4",
   "metadata": {},
   "outputs": [],
   "source": [
    "# load model word embedding dengan teknik word2vec dengan sg 10\n",
    "model = Word2Vec.load(\"/Users/williamnehemia/Documents/Skripsi/TugasAkhir/WordEmbeddingModel/ModelWord2vecSetelahPembagianData/word2vec_sg_10.model\")\n"
   ]
  },
  {
   "cell_type": "code",
   "execution_count": 224,
   "id": "2e35a5b9",
   "metadata": {},
   "outputs": [
    {
     "name": "stdout",
     "output_type": "stream",
     "text": [
      "129177072.0\n"
     ]
    }
   ],
   "source": [
    "# Melihat training loss model word embedding dengan teknik word2vec dengan sg 10\n",
    "training_loss = model.get_latest_training_loss()\n",
    "print(training_loss)"
   ]
  },
  {
   "cell_type": "code",
   "execution_count": 225,
   "id": "3af80185",
   "metadata": {},
   "outputs": [
    {
     "name": "stdout",
     "output_type": "stream",
     "text": [
      "banyak kata ada di model 646\n",
      "banyak kata tidak ada di model 255\n",
      "0.1549939725852293\n"
     ]
    }
   ],
   "source": [
    "# nilai relatedness model sg 10\n",
    "print(relatedness(model))"
   ]
  },
  {
   "cell_type": "code",
   "execution_count": 226,
   "id": "5f3a1586",
   "metadata": {},
   "outputs": [
    {
     "name": "stdout",
     "output_type": "stream",
     "text": [
      "true_predicted 1 0.0005208333333333333\n",
      "false_predicted 1919 0.9994791666666667\n",
      "banyak kata ada di model 1544\n",
      "banyak kata tidak ada di model 356\n"
     ]
    }
   ],
   "source": [
    "# nilai word analogy model sg 10\n",
    "word_analogy(model)"
   ]
  },
  {
   "cell_type": "code",
   "execution_count": 227,
   "id": "3d44dc16",
   "metadata": {},
   "outputs": [
    {
     "name": "stdout",
     "output_type": "stream",
     "text": [
      "Total training time: 0 hours 36 minutes 2 seconds\n"
     ]
    }
   ],
   "source": [
    "# Membuat model word embedding dengan teknik word2vec dengan cbow 11\n",
    "\n",
    "# waktu mulai\n",
    "start_time = time.time()\n",
    "\n",
    "model = Word2Vec(sentences=list_of_sentences_for_model, vector_size=10, min_count=1, workers = 10, compute_loss=True,  window=9, sg = 0, cbow_mean = 0, alpha = 0.01, seed = 10, epochs = 5000)\n",
    "\n",
    "# waktu selesai\n",
    "end_time = time.time()\n",
    "\n",
    "# hitung waktu training\n",
    "training_time = end_time - start_time\n",
    "\n",
    "# convert ke jam, menit, detik\n",
    "hours = int(training_time // 3600)\n",
    "minutes = int((training_time % 3600) // 60)\n",
    "seconds = int(training_time % 60)\n",
    "\n",
    "print(\"Total training time:\", hours, \"hours\", minutes, \"minutes\", seconds, \"seconds\")\n",
    "\n"
   ]
  },
  {
   "cell_type": "code",
   "execution_count": 228,
   "id": "bc22d32f",
   "metadata": {},
   "outputs": [],
   "source": [
    "# save model word embedding dengan teknik word2vec dengan cbow 11\n",
    "model.save(\"/Users/williamnehemia/Documents/Skripsi/TugasAkhir/WordEmbeddingModel/ModelWord2vecSetelahPembagianData/word2vec_cbow_11.model\")\n"
   ]
  },
  {
   "cell_type": "code",
   "execution_count": 229,
   "id": "31ed1ddd",
   "metadata": {},
   "outputs": [],
   "source": [
    "# load model word embedding dengan teknik word2vec dengan cbow 11\n",
    "model = Word2Vec.load(\"/Users/williamnehemia/Documents/Skripsi/TugasAkhir/WordEmbeddingModel/ModelWord2vecSetelahPembagianData/word2vec_cbow_11.model\")\n"
   ]
  },
  {
   "cell_type": "code",
   "execution_count": 230,
   "id": "16d12833",
   "metadata": {},
   "outputs": [
    {
     "name": "stdout",
     "output_type": "stream",
     "text": [
      "134217728.0\n"
     ]
    }
   ],
   "source": [
    "# Melihat training loss model word embedding dengan teknik word2vec dengan cbow 11\n",
    "training_loss = model.get_latest_training_loss()\n",
    "print(training_loss)\n"
   ]
  },
  {
   "cell_type": "code",
   "execution_count": 231,
   "id": "1fab21b9",
   "metadata": {},
   "outputs": [
    {
     "name": "stdout",
     "output_type": "stream",
     "text": [
      "banyak kata ada di model 646\n",
      "banyak kata tidak ada di model 255\n",
      "0.0007860049541572584\n"
     ]
    }
   ],
   "source": [
    "# nilai relatedness model cbow 11\n",
    "print(relatedness(model))\n"
   ]
  },
  {
   "cell_type": "code",
   "execution_count": 232,
   "id": "8041193b",
   "metadata": {},
   "outputs": [
    {
     "name": "stdout",
     "output_type": "stream",
     "text": [
      "true_predicted 0 0.0\n",
      "false_predicted 1920 1.0\n",
      "banyak kata ada di model 1544\n",
      "banyak kata tidak ada di model 356\n"
     ]
    }
   ],
   "source": [
    "# nilai word analogy model cbow 11\n",
    "word_analogy(model)\n"
   ]
  },
  {
   "cell_type": "code",
   "execution_count": 233,
   "id": "e3fe119c",
   "metadata": {},
   "outputs": [
    {
     "name": "stdout",
     "output_type": "stream",
     "text": [
      "Total training time: 2 hours 19 minutes 52 seconds\n"
     ]
    }
   ],
   "source": [
    "# Membuat model word embedding dengan teknik word2vec dengan sg 11\n",
    "\n",
    "# waktu mulai\n",
    "start_time = time.time()\n",
    "\n",
    "model = Word2Vec(sentences=list_of_sentences_for_model, vector_size=10, min_count=1, workers = 10, compute_loss=True,  window=9, sg = 1, alpha = 0.01, seed = 10, epochs = 5000)\n",
    "\n",
    "\n",
    "# waktu selesai\n",
    "end_time = time.time()\n",
    "\n",
    "# hitung waktu training\n",
    "training_time = end_time - start_time\n",
    "\n",
    "# convert ke jam, menit, detik\n",
    "hours = int(training_time // 3600)\n",
    "minutes = int((training_time % 3600) // 60)\n",
    "seconds = int(training_time % 60)\n",
    "\n",
    "print(\"Total training time:\", hours, \"hours\", minutes, \"minutes\", seconds, \"seconds\")\n",
    "\n"
   ]
  },
  {
   "cell_type": "code",
   "execution_count": 234,
   "id": "4ffd35ac",
   "metadata": {},
   "outputs": [],
   "source": [
    "# save model word embedding dengan teknik word2vec dengan sg 11\n",
    "model.save(\"/Users/williamnehemia/Documents/Skripsi/TugasAkhir/WordEmbeddingModel/ModelWord2vecSetelahPembagianData/word2vec_sg_11.model\")\n"
   ]
  },
  {
   "cell_type": "code",
   "execution_count": 235,
   "id": "f9293dfb",
   "metadata": {},
   "outputs": [],
   "source": [
    "# load model word embedding dengan teknik word2vec dengan sg 11\n",
    "model = Word2Vec.load(\"/Users/williamnehemia/Documents/Skripsi/TugasAkhir/WordEmbeddingModel/ModelWord2vecSetelahPembagianData/word2vec_sg_11.model\")\n"
   ]
  },
  {
   "cell_type": "code",
   "execution_count": 236,
   "id": "1fdbde2b",
   "metadata": {},
   "outputs": [
    {
     "name": "stdout",
     "output_type": "stream",
     "text": [
      "134217728.0\n"
     ]
    }
   ],
   "source": [
    "# Melihat training loss model word embedding dengan teknik word2vec dengan sg 11\n",
    "training_loss = model.get_latest_training_loss()\n",
    "print(training_loss)"
   ]
  },
  {
   "cell_type": "code",
   "execution_count": 237,
   "id": "c21bf5f0",
   "metadata": {},
   "outputs": [
    {
     "name": "stdout",
     "output_type": "stream",
     "text": [
      "banyak kata ada di model 646\n",
      "banyak kata tidak ada di model 255\n",
      "0.14738280306950588\n"
     ]
    }
   ],
   "source": [
    "# nilai relatedness model sg 11\n",
    "print(relatedness(model))"
   ]
  },
  {
   "cell_type": "code",
   "execution_count": 238,
   "id": "5f828cb8",
   "metadata": {},
   "outputs": [
    {
     "name": "stdout",
     "output_type": "stream",
     "text": [
      "true_predicted 2 0.0010416666666666667\n",
      "false_predicted 1918 0.9989583333333333\n",
      "banyak kata ada di model 1544\n",
      "banyak kata tidak ada di model 356\n"
     ]
    }
   ],
   "source": [
    "# nilai word analogy model sg 11\n",
    "word_analogy(model)"
   ]
  },
  {
   "cell_type": "code",
   "execution_count": 239,
   "id": "163e76df",
   "metadata": {},
   "outputs": [
    {
     "name": "stdout",
     "output_type": "stream",
     "text": [
      "Total training time: 0 hours 51 minutes 2 seconds\n"
     ]
    }
   ],
   "source": [
    "# Membuat model word embedding dengan teknik word2vec dengan cbow 12\n",
    "\n",
    "# waktu mulai\n",
    "start_time = time.time()\n",
    "\n",
    "model = Word2Vec(sentences=list_of_sentences_for_model, vector_size=10, min_count=1, workers = 10, compute_loss=True,  window=3, sg = 0, cbow_mean = 0, alpha = 0.01, seed = 10, epochs = 5000)\n",
    "\n",
    "# waktu selesai\n",
    "end_time = time.time()\n",
    "\n",
    "# hitung waktu training\n",
    "training_time = end_time - start_time\n",
    "\n",
    "# convert ke jam, menit, detik\n",
    "hours = int(training_time // 3600)\n",
    "minutes = int((training_time % 3600) // 60)\n",
    "seconds = int(training_time % 60)\n",
    "\n",
    "print(\"Total training time:\", hours, \"hours\", minutes, \"minutes\", seconds, \"seconds\")\n",
    "\n"
   ]
  },
  {
   "cell_type": "code",
   "execution_count": 240,
   "id": "6a2ba768",
   "metadata": {},
   "outputs": [],
   "source": [
    "# save model word embedding dengan teknik word2vec dengan cbow 12\n",
    "model.save(\"/Users/williamnehemia/Documents/Skripsi/TugasAkhir/WordEmbeddingModel/ModelWord2vecSetelahPembagianData/word2vec_cbow_12.model\")\n"
   ]
  },
  {
   "cell_type": "code",
   "execution_count": 241,
   "id": "714c58fa",
   "metadata": {},
   "outputs": [],
   "source": [
    "# load model word embedding dengan teknik word2vec dengan cbow 12\n",
    "model = Word2Vec.load(\"/Users/williamnehemia/Documents/Skripsi/TugasAkhir/WordEmbeddingModel/ModelWord2vecSetelahPembagianData/word2vec_cbow_12.model\")\n"
   ]
  },
  {
   "cell_type": "code",
   "execution_count": 242,
   "id": "e8d04a27",
   "metadata": {},
   "outputs": [
    {
     "name": "stdout",
     "output_type": "stream",
     "text": [
      "134217728.0\n"
     ]
    }
   ],
   "source": [
    "# Melihat training loss model word embedding dengan teknik word2vec dengan cbow 12\n",
    "training_loss = model.get_latest_training_loss()\n",
    "print(training_loss)\n"
   ]
  },
  {
   "cell_type": "code",
   "execution_count": 243,
   "id": "f6d82b85",
   "metadata": {},
   "outputs": [
    {
     "name": "stdout",
     "output_type": "stream",
     "text": [
      "banyak kata ada di model 646\n",
      "banyak kata tidak ada di model 255\n",
      "0.0027178215853944135\n"
     ]
    }
   ],
   "source": [
    "# nilai relatedness model cbow 12\n",
    "print(relatedness(model))\n"
   ]
  },
  {
   "cell_type": "code",
   "execution_count": 244,
   "id": "69bf8705",
   "metadata": {},
   "outputs": [
    {
     "name": "stdout",
     "output_type": "stream",
     "text": [
      "true_predicted 0 0.0\n",
      "false_predicted 1920 1.0\n",
      "banyak kata ada di model 1544\n",
      "banyak kata tidak ada di model 356\n"
     ]
    }
   ],
   "source": [
    "# nilai word analogy model cbow 12\n",
    "word_analogy(model)\n"
   ]
  },
  {
   "cell_type": "code",
   "execution_count": 245,
   "id": "e2ed2b87",
   "metadata": {},
   "outputs": [
    {
     "name": "stdout",
     "output_type": "stream",
     "text": [
      "Total training time: 1 hours 29 minutes 47 seconds\n"
     ]
    }
   ],
   "source": [
    "# Membuat model word embedding dengan teknik word2vec dengan sg 12\n",
    "\n",
    "# waktu mulai\n",
    "start_time = time.time()\n",
    "\n",
    "model = Word2Vec(sentences=list_of_sentences_for_model, vector_size=10, min_count=1, workers = 10, compute_loss=True,  window=3, sg = 1, alpha = 0.01, seed = 10, epochs = 5000)\n",
    "\n",
    "\n",
    "# waktu selesai\n",
    "end_time = time.time()\n",
    "\n",
    "# hitung waktu training\n",
    "training_time = end_time - start_time\n",
    "\n",
    "# convert ke jam, menit, detik\n",
    "hours = int(training_time // 3600)\n",
    "minutes = int((training_time % 3600) // 60)\n",
    "seconds = int(training_time % 60)\n",
    "\n",
    "print(\"Total training time:\", hours, \"hours\", minutes, \"minutes\", seconds, \"seconds\")\n",
    "\n"
   ]
  },
  {
   "cell_type": "code",
   "execution_count": 246,
   "id": "0b5e4910",
   "metadata": {},
   "outputs": [],
   "source": [
    "# save model word embedding dengan teknik word2vec dengan sg 12\n",
    "model.save(\"/Users/williamnehemia/Documents/Skripsi/TugasAkhir/WordEmbeddingModel/ModelWord2vecSetelahPembagianData/word2vec_sg_12.model\")\n"
   ]
  },
  {
   "cell_type": "code",
   "execution_count": 247,
   "id": "a5300557",
   "metadata": {},
   "outputs": [],
   "source": [
    "# load model word embedding dengan teknik word2vec dengan sg 12\n",
    "model = Word2Vec.load(\"/Users/williamnehemia/Documents/Skripsi/TugasAkhir/WordEmbeddingModel/ModelWord2vecSetelahPembagianData/word2vec_sg_12.model\")\n"
   ]
  },
  {
   "cell_type": "code",
   "execution_count": 248,
   "id": "2156ce9b",
   "metadata": {},
   "outputs": [
    {
     "name": "stdout",
     "output_type": "stream",
     "text": [
      "113536960.0\n"
     ]
    }
   ],
   "source": [
    "# Melihat training loss model word embedding dengan teknik word2vec dengan sg 12\n",
    "training_loss = model.get_latest_training_loss()\n",
    "print(training_loss)"
   ]
  },
  {
   "cell_type": "code",
   "execution_count": 249,
   "id": "ea971e10",
   "metadata": {},
   "outputs": [
    {
     "name": "stdout",
     "output_type": "stream",
     "text": [
      "banyak kata ada di model 646\n",
      "banyak kata tidak ada di model 255\n",
      "0.1489771393257483\n"
     ]
    }
   ],
   "source": [
    "# nilai relatedness model sg 12\n",
    "print(relatedness(model))"
   ]
  },
  {
   "cell_type": "code",
   "execution_count": 250,
   "id": "5336e8a0",
   "metadata": {},
   "outputs": [
    {
     "name": "stdout",
     "output_type": "stream",
     "text": [
      "true_predicted 0 0.0\n",
      "false_predicted 1920 1.0\n",
      "banyak kata ada di model 1544\n",
      "banyak kata tidak ada di model 356\n"
     ]
    }
   ],
   "source": [
    "# nilai word analogy model sg 12\n",
    "word_analogy(model)"
   ]
  },
  {
   "cell_type": "code",
   "execution_count": 251,
   "id": "41152906",
   "metadata": {},
   "outputs": [
    {
     "name": "stdout",
     "output_type": "stream",
     "text": [
      "Total training time: 0 hours 6 minutes 8 seconds\n"
     ]
    }
   ],
   "source": [
    "# Membuat model word embedding dengan teknik word2vec dengan cbow 13\n",
    "\n",
    "# waktu mulai\n",
    "start_time = time.time()\n",
    "\n",
    "model = Word2Vec(sentences=list_of_sentences_for_model, vector_size=20, min_count=1, workers = 10, compute_loss=True,  window=5, sg = 0, cbow_mean = 0, alpha = 0.01, seed = 10, epochs = 1000)\n",
    "\n",
    "# waktu selesai\n",
    "end_time = time.time()\n",
    "\n",
    "# hitung waktu training\n",
    "training_time = end_time - start_time\n",
    "\n",
    "# convert ke jam, menit, detik\n",
    "hours = int(training_time // 3600)\n",
    "minutes = int((training_time % 3600) // 60)\n",
    "seconds = int(training_time % 60)\n",
    "\n",
    "print(\"Total training time:\", hours, \"hours\", minutes, \"minutes\", seconds, \"seconds\")\n",
    "\n"
   ]
  },
  {
   "cell_type": "code",
   "execution_count": 252,
   "id": "cb4251c0",
   "metadata": {},
   "outputs": [],
   "source": [
    "# save model word embedding dengan teknik word2vec dengan cbow 13\n",
    "model.save(\"/Users/williamnehemia/Documents/Skripsi/TugasAkhir/WordEmbeddingModel/ModelWord2vecSetelahPembagianData/word2vec_cbow_13.model\")\n"
   ]
  },
  {
   "cell_type": "code",
   "execution_count": 253,
   "id": "9eaa16e8",
   "metadata": {},
   "outputs": [],
   "source": [
    "# load model word embedding dengan teknik word2vec dengan cbow 13\n",
    "model = Word2Vec.load(\"/Users/williamnehemia/Documents/Skripsi/TugasAkhir/WordEmbeddingModel/ModelWord2vecSetelahPembagianData/word2vec_cbow_13.model\")\n"
   ]
  },
  {
   "cell_type": "code",
   "execution_count": 254,
   "id": "77b8b0db",
   "metadata": {},
   "outputs": [
    {
     "name": "stdout",
     "output_type": "stream",
     "text": [
      "70112816.0\n"
     ]
    }
   ],
   "source": [
    "# Melihat training loss model word embedding dengan teknik word2vec dengan cbow 13\n",
    "training_loss = model.get_latest_training_loss()\n",
    "print(training_loss)\n"
   ]
  },
  {
   "cell_type": "code",
   "execution_count": 255,
   "id": "6d70c736",
   "metadata": {},
   "outputs": [
    {
     "name": "stdout",
     "output_type": "stream",
     "text": [
      "banyak kata ada di model 646\n",
      "banyak kata tidak ada di model 255\n",
      "-0.019270458432062407\n"
     ]
    }
   ],
   "source": [
    "# nilai relatedness model cbow 13\n",
    "print(relatedness(model))\n"
   ]
  },
  {
   "cell_type": "code",
   "execution_count": 256,
   "id": "385947ce",
   "metadata": {},
   "outputs": [
    {
     "name": "stdout",
     "output_type": "stream",
     "text": [
      "true_predicted 5 0.0026041666666666665\n",
      "false_predicted 1915 0.9973958333333334\n",
      "banyak kata ada di model 1544\n",
      "banyak kata tidak ada di model 356\n"
     ]
    }
   ],
   "source": [
    "# nilai word analogy model cbow 13\n",
    "word_analogy(model)\n"
   ]
  },
  {
   "cell_type": "code",
   "execution_count": 257,
   "id": "74fabef8",
   "metadata": {},
   "outputs": [
    {
     "name": "stdout",
     "output_type": "stream",
     "text": [
      "Total training time: 0 hours 27 minutes 45 seconds\n"
     ]
    }
   ],
   "source": [
    "# Membuat model word embedding dengan teknik word2vec dengan sg 13\n",
    "\n",
    "# waktu mulai\n",
    "start_time = time.time()\n",
    "\n",
    "model = Word2Vec(sentences=list_of_sentences_for_model, vector_size=20, min_count=1, workers = 10, compute_loss=True,  window=5, sg = 1, alpha = 0.01, seed = 10, epochs = 1000)\n",
    "\n",
    "\n",
    "# waktu selesai\n",
    "end_time = time.time()\n",
    "\n",
    "# hitung waktu training\n",
    "training_time = end_time - start_time\n",
    "\n",
    "# convert ke jam, menit, detik\n",
    "hours = int(training_time // 3600)\n",
    "minutes = int((training_time % 3600) // 60)\n",
    "seconds = int(training_time % 60)\n",
    "\n",
    "print(\"Total training time:\", hours, \"hours\", minutes, \"minutes\", seconds, \"seconds\")\n",
    "\n"
   ]
  },
  {
   "cell_type": "code",
   "execution_count": 258,
   "id": "232fc169",
   "metadata": {},
   "outputs": [],
   "source": [
    "# save model word embedding dengan teknik word2vec dengan sg 13\n",
    "model.save(\"/Users/williamnehemia/Documents/Skripsi/TugasAkhir/WordEmbeddingModel/ModelWord2vecSetelahPembagianData/word2vec_sg_13.model\")\n"
   ]
  },
  {
   "cell_type": "code",
   "execution_count": 259,
   "id": "96911c41",
   "metadata": {},
   "outputs": [],
   "source": [
    "# load model word embedding dengan teknik word2vec dengan sg 13\n",
    "model = Word2Vec.load(\"/Users/williamnehemia/Documents/Skripsi/TugasAkhir/WordEmbeddingModel/ModelWord2vecSetelahPembagianData/word2vec_sg_13.model\")\n"
   ]
  },
  {
   "cell_type": "code",
   "execution_count": 260,
   "id": "e82cae04",
   "metadata": {},
   "outputs": [
    {
     "name": "stdout",
     "output_type": "stream",
     "text": [
      "76994824.0\n"
     ]
    }
   ],
   "source": [
    "# Melihat training loss model word embedding dengan teknik word2vec dengan sg 13\n",
    "training_loss = model.get_latest_training_loss()\n",
    "print(training_loss)"
   ]
  },
  {
   "cell_type": "code",
   "execution_count": 261,
   "id": "64018c38",
   "metadata": {},
   "outputs": [
    {
     "name": "stdout",
     "output_type": "stream",
     "text": [
      "banyak kata ada di model 646\n",
      "banyak kata tidak ada di model 255\n",
      "0.17751726240329577\n"
     ]
    }
   ],
   "source": [
    "# nilai relatedness model sg 13\n",
    "print(relatedness(model))"
   ]
  },
  {
   "cell_type": "code",
   "execution_count": 262,
   "id": "6f533b04",
   "metadata": {},
   "outputs": [
    {
     "name": "stdout",
     "output_type": "stream",
     "text": [
      "true_predicted 6 0.003125\n",
      "false_predicted 1914 0.996875\n",
      "banyak kata ada di model 1544\n",
      "banyak kata tidak ada di model 356\n"
     ]
    }
   ],
   "source": [
    "# nilai word analogy model sg 13\n",
    "word_analogy(model)"
   ]
  },
  {
   "cell_type": "code",
   "execution_count": 263,
   "id": "e8551e4d",
   "metadata": {},
   "outputs": [
    {
     "name": "stdout",
     "output_type": "stream",
     "text": [
      "Total training time: 0 hours 12 minutes 18 seconds\n"
     ]
    }
   ],
   "source": [
    "# Membuat model word embedding dengan teknik word2vec dengan cbow 14\n",
    "\n",
    "# waktu mulai\n",
    "start_time = time.time()\n",
    "\n",
    "model = Word2Vec(sentences=list_of_sentences_for_model, vector_size=30, min_count=1, workers = 10, compute_loss=True,  window=5, sg = 0, cbow_mean = 0, alpha = 0.01, seed = 10, epochs = 1000)\n",
    "\n",
    "# waktu selesai\n",
    "end_time = time.time()\n",
    "\n",
    "# hitung waktu training\n",
    "training_time = end_time - start_time\n",
    "\n",
    "# convert ke jam, menit, detik\n",
    "hours = int(training_time // 3600)\n",
    "minutes = int((training_time % 3600) // 60)\n",
    "seconds = int(training_time % 60)\n",
    "\n",
    "print(\"Total training time:\", hours, \"hours\", minutes, \"minutes\", seconds, \"seconds\")\n",
    "\n"
   ]
  },
  {
   "cell_type": "code",
   "execution_count": 264,
   "id": "6e9ac1e3",
   "metadata": {},
   "outputs": [],
   "source": [
    "# save model word embedding dengan teknik word2vec dengan cbow 14\n",
    "model.save(\"/Users/williamnehemia/Documents/Skripsi/TugasAkhir/WordEmbeddingModel/ModelWord2vecSetelahPembagianData/word2vec_cbow_14.model\")\n"
   ]
  },
  {
   "cell_type": "code",
   "execution_count": 265,
   "id": "0d4d3822",
   "metadata": {},
   "outputs": [],
   "source": [
    "# load model word embedding dengan teknik word2vec dengan cbow 14\n",
    "model = Word2Vec.load(\"/Users/williamnehemia/Documents/Skripsi/TugasAkhir/WordEmbeddingModel/ModelWord2vecSetelahPembagianData/word2vec_cbow_14.model\")\n"
   ]
  },
  {
   "cell_type": "code",
   "execution_count": 266,
   "id": "1c82f14a",
   "metadata": {},
   "outputs": [
    {
     "name": "stdout",
     "output_type": "stream",
     "text": [
      "69531368.0\n"
     ]
    }
   ],
   "source": [
    "# Melihat training loss model word embedding dengan teknik word2vec dengan cbow 14\n",
    "training_loss = model.get_latest_training_loss()\n",
    "print(training_loss)\n"
   ]
  },
  {
   "cell_type": "code",
   "execution_count": 267,
   "id": "06781308",
   "metadata": {},
   "outputs": [
    {
     "name": "stdout",
     "output_type": "stream",
     "text": [
      "69531368.0\n"
     ]
    }
   ],
   "source": [
    "# Melihat training loss model word embedding dengan teknik word2vec dengan cbow 14\n",
    "training_loss = model.get_latest_training_loss()\n",
    "print(training_loss)\n"
   ]
  },
  {
   "cell_type": "code",
   "execution_count": 268,
   "id": "778fdcaa",
   "metadata": {},
   "outputs": [
    {
     "name": "stdout",
     "output_type": "stream",
     "text": [
      "banyak kata ada di model 646\n",
      "banyak kata tidak ada di model 255\n",
      "-0.031345134926955134\n"
     ]
    }
   ],
   "source": [
    "# nilai relatedness model cbow 14\n",
    "print(relatedness(model))\n"
   ]
  },
  {
   "cell_type": "code",
   "execution_count": 269,
   "id": "ed9f859d",
   "metadata": {},
   "outputs": [
    {
     "name": "stdout",
     "output_type": "stream",
     "text": [
      "true_predicted 6 0.003125\n",
      "false_predicted 1914 0.996875\n",
      "banyak kata ada di model 1544\n",
      "banyak kata tidak ada di model 356\n"
     ]
    }
   ],
   "source": [
    "# nilai word analogy model cbow 14\n",
    "word_analogy(model)\n"
   ]
  },
  {
   "cell_type": "code",
   "execution_count": 270,
   "id": "3ae71255",
   "metadata": {},
   "outputs": [
    {
     "name": "stdout",
     "output_type": "stream",
     "text": [
      "Total training time: 0 hours 33 minutes 35 seconds\n"
     ]
    }
   ],
   "source": [
    "# Membuat model word embedding dengan teknik word2vec dengan sg 14\n",
    "\n",
    "# waktu mulai\n",
    "start_time = time.time()\n",
    "\n",
    "model = Word2Vec(sentences=list_of_sentences_for_model, vector_size=30, min_count=1, workers = 10, compute_loss=True,  window=5, sg = 1, alpha = 0.01, seed = 10, epochs = 1000)\n",
    "\n",
    "\n",
    "# waktu selesai\n",
    "end_time = time.time()\n",
    "\n",
    "# hitung waktu training\n",
    "training_time = end_time - start_time\n",
    "\n",
    "# convert ke jam, menit, detik\n",
    "hours = int(training_time // 3600)\n",
    "minutes = int((training_time % 3600) // 60)\n",
    "seconds = int(training_time % 60)\n",
    "\n",
    "print(\"Total training time:\", hours, \"hours\", minutes, \"minutes\", seconds, \"seconds\")\n",
    "\n"
   ]
  },
  {
   "cell_type": "code",
   "execution_count": 271,
   "id": "267f4f48",
   "metadata": {},
   "outputs": [],
   "source": [
    "# save model word embedding dengan teknik word2vec dengan sg 14\n",
    "model.save(\"/Users/williamnehemia/Documents/Skripsi/TugasAkhir/WordEmbeddingModel/ModelWord2vecSetelahPembagianData/word2vec_sg_14.model\")\n"
   ]
  },
  {
   "cell_type": "code",
   "execution_count": 272,
   "id": "21bc2f88",
   "metadata": {},
   "outputs": [],
   "source": [
    "# load model word embedding dengan teknik word2vec dengan sg 14\n",
    "model = Word2Vec.load(\"/Users/williamnehemia/Documents/Skripsi/TugasAkhir/WordEmbeddingModel/ModelWord2vecSetelahPembagianData/word2vec_sg_14.model\")\n"
   ]
  },
  {
   "cell_type": "code",
   "execution_count": 273,
   "id": "e3231c36",
   "metadata": {},
   "outputs": [
    {
     "name": "stdout",
     "output_type": "stream",
     "text": [
      "77496840.0\n"
     ]
    }
   ],
   "source": [
    "# Melihat training loss model word embedding dengan teknik word2vec dengan sg 14\n",
    "training_loss = model.get_latest_training_loss()\n",
    "print(training_loss)"
   ]
  },
  {
   "cell_type": "code",
   "execution_count": 274,
   "id": "1d296a7b",
   "metadata": {},
   "outputs": [
    {
     "name": "stdout",
     "output_type": "stream",
     "text": [
      "banyak kata ada di model 646\n",
      "banyak kata tidak ada di model 255\n",
      "0.2108695360089712\n"
     ]
    }
   ],
   "source": [
    "# nilai relatedness model sg 14\n",
    "print(relatedness(model))"
   ]
  },
  {
   "cell_type": "code",
   "execution_count": 275,
   "id": "1ff41029",
   "metadata": {},
   "outputs": [
    {
     "name": "stdout",
     "output_type": "stream",
     "text": [
      "true_predicted 6 0.003125\n",
      "false_predicted 1914 0.996875\n",
      "banyak kata ada di model 1544\n",
      "banyak kata tidak ada di model 356\n"
     ]
    }
   ],
   "source": [
    "# nilai word analogy model sg 14\n",
    "word_analogy(model)"
   ]
  },
  {
   "cell_type": "code",
   "execution_count": 276,
   "id": "0a5c7931",
   "metadata": {},
   "outputs": [
    {
     "name": "stdout",
     "output_type": "stream",
     "text": [
      "Total training time: 0 hours 9 minutes 19 seconds\n"
     ]
    }
   ],
   "source": [
    "# Membuat model word embedding dengan teknik word2vec dengan cbow 15\n",
    "\n",
    "# waktu mulai\n",
    "start_time = time.time()\n",
    "\n",
    "model = Word2Vec(sentences=list_of_sentences_for_model, vector_size=40, min_count=1, workers = 10, compute_loss=True,  window=5, sg = 0, cbow_mean = 0, alpha = 0.01, seed = 10, epochs = 1000)\n",
    "\n",
    "# waktu selesai\n",
    "end_time = time.time()\n",
    "\n",
    "# hitung waktu training\n",
    "training_time = end_time - start_time\n",
    "\n",
    "# convert ke jam, menit, detik\n",
    "hours = int(training_time // 3600)\n",
    "minutes = int((training_time % 3600) // 60)\n",
    "seconds = int(training_time % 60)\n",
    "\n",
    "print(\"Total training time:\", hours, \"hours\", minutes, \"minutes\", seconds, \"seconds\")\n",
    "\n"
   ]
  },
  {
   "cell_type": "code",
   "execution_count": 277,
   "id": "30e4eb3b",
   "metadata": {},
   "outputs": [],
   "source": [
    "# save model word embedding dengan teknik word2vec dengan cbow 15\n",
    "model.save(\"/Users/williamnehemia/Documents/Skripsi/TugasAkhir/WordEmbeddingModel/ModelWord2vecSetelahPembagianData/word2vec_cbow_15.model\")\n"
   ]
  },
  {
   "cell_type": "code",
   "execution_count": 278,
   "id": "478700b9",
   "metadata": {},
   "outputs": [],
   "source": [
    "# load model word embedding dengan teknik word2vec dengan cbow 15\n",
    "model = Word2Vec.load(\"/Users/williamnehemia/Documents/Skripsi/TugasAkhir/WordEmbeddingModel/ModelWord2vecSetelahPembagianData/word2vec_cbow_15.model\")\n"
   ]
  },
  {
   "cell_type": "code",
   "execution_count": 279,
   "id": "03963993",
   "metadata": {},
   "outputs": [
    {
     "name": "stdout",
     "output_type": "stream",
     "text": [
      "68478912.0\n"
     ]
    }
   ],
   "source": [
    "# Melihat training loss model word embedding dengan teknik word2vec dengan cbow 15\n",
    "training_loss = model.get_latest_training_loss()\n",
    "print(training_loss)\n"
   ]
  },
  {
   "cell_type": "code",
   "execution_count": 280,
   "id": "47b6be69",
   "metadata": {},
   "outputs": [
    {
     "name": "stdout",
     "output_type": "stream",
     "text": [
      "banyak kata ada di model 646\n",
      "banyak kata tidak ada di model 255\n",
      "-0.030076645843366008\n"
     ]
    }
   ],
   "source": [
    "# nilai relatedness model cbow 15\n",
    "print(relatedness(model))\n"
   ]
  },
  {
   "cell_type": "code",
   "execution_count": 281,
   "id": "0b9a25c3",
   "metadata": {},
   "outputs": [
    {
     "name": "stdout",
     "output_type": "stream",
     "text": [
      "true_predicted 4 0.0020833333333333333\n",
      "false_predicted 1916 0.9979166666666667\n",
      "banyak kata ada di model 1544\n",
      "banyak kata tidak ada di model 356\n"
     ]
    }
   ],
   "source": [
    "# nilai word analogy model cbow 15\n",
    "word_analogy(model)\n"
   ]
  },
  {
   "cell_type": "code",
   "execution_count": 282,
   "id": "08d59008",
   "metadata": {},
   "outputs": [
    {
     "name": "stdout",
     "output_type": "stream",
     "text": [
      "Total training time: 0 hours 25 minutes 9 seconds\n"
     ]
    }
   ],
   "source": [
    "# Membuat model word embedding dengan teknik word2vec dengan sg 15\n",
    "\n",
    "# waktu mulai\n",
    "start_time = time.time()\n",
    "\n",
    "model = Word2Vec(sentences=list_of_sentences_for_model, vector_size=40, min_count=1, workers = 10, compute_loss=True,  window=5, sg = 1, alpha = 0.01, seed = 10, epochs = 1000)\n",
    "\n",
    "\n",
    "# waktu selesai\n",
    "end_time = time.time()\n",
    "\n",
    "# hitung waktu training\n",
    "training_time = end_time - start_time\n",
    "\n",
    "# convert ke jam, menit, detik\n",
    "hours = int(training_time // 3600)\n",
    "minutes = int((training_time % 3600) // 60)\n",
    "seconds = int(training_time % 60)\n",
    "\n",
    "print(\"Total training time:\", hours, \"hours\", minutes, \"minutes\", seconds, \"seconds\")\n",
    "\n"
   ]
  },
  {
   "cell_type": "code",
   "execution_count": 283,
   "id": "e41963ec",
   "metadata": {},
   "outputs": [],
   "source": [
    "# save model word embedding dengan teknik word2vec dengan sg 15\n",
    "model.save(\"/Users/williamnehemia/Documents/Skripsi/TugasAkhir/WordEmbeddingModel/ModelWord2vecSetelahPembagianData/word2vec_sg_15.model\")\n"
   ]
  },
  {
   "cell_type": "code",
   "execution_count": 284,
   "id": "4a496df4",
   "metadata": {},
   "outputs": [],
   "source": [
    "# load model word embedding dengan teknik word2vec dengan sg 15\n",
    "model = Word2Vec.load(\"/Users/williamnehemia/Documents/Skripsi/TugasAkhir/WordEmbeddingModel/ModelWord2vecSetelahPembagianData/word2vec_sg_15.model\")\n"
   ]
  },
  {
   "cell_type": "code",
   "execution_count": 285,
   "id": "1f12ba0c",
   "metadata": {},
   "outputs": [
    {
     "name": "stdout",
     "output_type": "stream",
     "text": [
      "77828752.0\n"
     ]
    }
   ],
   "source": [
    "# Melihat training loss model word embedding dengan teknik word2vec dengan sg 15\n",
    "training_loss = model.get_latest_training_loss()\n",
    "print(training_loss)"
   ]
  },
  {
   "cell_type": "code",
   "execution_count": 286,
   "id": "cf477cdb",
   "metadata": {},
   "outputs": [
    {
     "name": "stdout",
     "output_type": "stream",
     "text": [
      "banyak kata ada di model 646\n",
      "banyak kata tidak ada di model 255\n",
      "0.17665981313576917\n"
     ]
    }
   ],
   "source": [
    "# nilai relatedness model sg 15\n",
    "print(relatedness(model))"
   ]
  },
  {
   "cell_type": "code",
   "execution_count": 287,
   "id": "4a711cc4",
   "metadata": {},
   "outputs": [
    {
     "name": "stdout",
     "output_type": "stream",
     "text": [
      "true_predicted 14 0.007291666666666667\n",
      "false_predicted 1906 0.9927083333333333\n",
      "banyak kata ada di model 1544\n",
      "banyak kata tidak ada di model 356\n"
     ]
    }
   ],
   "source": [
    "# nilai word analogy model sg 15\n",
    "word_analogy(model)"
   ]
  },
  {
   "cell_type": "code",
   "execution_count": 288,
   "id": "4473dd0b",
   "metadata": {},
   "outputs": [
    {
     "name": "stdout",
     "output_type": "stream",
     "text": [
      "Total training time: 0 hours 9 minutes 45 seconds\n"
     ]
    }
   ],
   "source": [
    "# Membuat model word embedding dengan teknik word2vec dengan cbow 16\n",
    "\n",
    "# waktu mulai\n",
    "start_time = time.time()\n",
    "\n",
    "model = Word2Vec(sentences=list_of_sentences_for_model, vector_size=50, min_count=1, workers = 10, compute_loss=True,  window=5, sg = 0, cbow_mean = 0, alpha = 0.01, seed = 10, epochs = 1000)\n",
    "\n",
    "# waktu selesai\n",
    "end_time = time.time()\n",
    "\n",
    "# hitung waktu training\n",
    "training_time = end_time - start_time\n",
    "\n",
    "# convert ke jam, menit, detik\n",
    "hours = int(training_time // 3600)\n",
    "minutes = int((training_time % 3600) // 60)\n",
    "seconds = int(training_time % 60)\n",
    "\n",
    "print(\"Total training time:\", hours, \"hours\", minutes, \"minutes\", seconds, \"seconds\")\n",
    "\n"
   ]
  },
  {
   "cell_type": "code",
   "execution_count": 289,
   "id": "dff4a518",
   "metadata": {},
   "outputs": [],
   "source": [
    "# save model word embedding dengan teknik word2vec dengan cbow 16\n",
    "model.save(\"/Users/williamnehemia/Documents/Skripsi/TugasAkhir/WordEmbeddingModel/ModelWord2vecSetelahPembagianData/word2vec_cbow_16.model\")\n"
   ]
  },
  {
   "cell_type": "code",
   "execution_count": 290,
   "id": "90e51a5c",
   "metadata": {},
   "outputs": [],
   "source": [
    "# load model word embedding dengan teknik word2vec dengan cbow 16\n",
    "model = Word2Vec.load(\"/Users/williamnehemia/Documents/Skripsi/TugasAkhir/WordEmbeddingModel/ModelWord2vecSetelahPembagianData/word2vec_cbow_16.model\")\n"
   ]
  },
  {
   "cell_type": "code",
   "execution_count": 291,
   "id": "df762742",
   "metadata": {},
   "outputs": [
    {
     "name": "stdout",
     "output_type": "stream",
     "text": [
      "67894496.0\n"
     ]
    }
   ],
   "source": [
    "# Melihat training loss model word embedding dengan teknik word2vec dengan cbow 16\n",
    "training_loss = model.get_latest_training_loss()\n",
    "print(training_loss)\n"
   ]
  },
  {
   "cell_type": "code",
   "execution_count": 292,
   "id": "ef7d359f",
   "metadata": {},
   "outputs": [
    {
     "name": "stdout",
     "output_type": "stream",
     "text": [
      "banyak kata ada di model 646\n",
      "banyak kata tidak ada di model 255\n",
      "-0.025033711381919923\n"
     ]
    }
   ],
   "source": [
    "# nilai relatedness model cbow 16\n",
    "print(relatedness(model))\n"
   ]
  },
  {
   "cell_type": "code",
   "execution_count": 293,
   "id": "0ec6da0e",
   "metadata": {},
   "outputs": [
    {
     "name": "stdout",
     "output_type": "stream",
     "text": [
      "true_predicted 8 0.004166666666666667\n",
      "false_predicted 1912 0.9958333333333333\n",
      "banyak kata ada di model 1544\n",
      "banyak kata tidak ada di model 356\n"
     ]
    }
   ],
   "source": [
    "# nilai word analogy model cbow 16\n",
    "word_analogy(model)\n"
   ]
  },
  {
   "cell_type": "code",
   "execution_count": 294,
   "id": "f8abf4a0",
   "metadata": {},
   "outputs": [
    {
     "name": "stdout",
     "output_type": "stream",
     "text": [
      "Total training time: 0 hours 25 minutes 56 seconds\n"
     ]
    }
   ],
   "source": [
    "# Membuat model word embedding dengan teknik word2vec dengan sg 16\n",
    "\n",
    "# waktu mulai\n",
    "start_time = time.time()\n",
    "\n",
    "model = Word2Vec(sentences=list_of_sentences_for_model, vector_size=50, min_count=1, workers = 10, compute_loss=True,  window=5, sg = 1, alpha = 0.01, seed = 10, epochs = 1000)\n",
    "\n",
    "\n",
    "# waktu selesai\n",
    "end_time = time.time()\n",
    "\n",
    "# hitung waktu training\n",
    "training_time = end_time - start_time\n",
    "\n",
    "# convert ke jam, menit, detik\n",
    "hours = int(training_time // 3600)\n",
    "minutes = int((training_time % 3600) // 60)\n",
    "seconds = int(training_time % 60)\n",
    "\n",
    "print(\"Total training time:\", hours, \"hours\", minutes, \"minutes\", seconds, \"seconds\")\n",
    "\n"
   ]
  },
  {
   "cell_type": "code",
   "execution_count": 295,
   "id": "a8bd2662",
   "metadata": {},
   "outputs": [],
   "source": [
    "# save model word embedding dengan teknik word2vec dengan sg 16\n",
    "model.save(\"/Users/williamnehemia/Documents/Skripsi/TugasAkhir/WordEmbeddingModel/ModelWord2vecSetelahPembagianData/word2vec_sg_16.model\")\n"
   ]
  },
  {
   "cell_type": "code",
   "execution_count": 296,
   "id": "063250f8",
   "metadata": {},
   "outputs": [],
   "source": [
    "# load model word embedding dengan teknik word2vec dengan sg 16\n",
    "model = Word2Vec.load(\"/Users/williamnehemia/Documents/Skripsi/TugasAkhir/WordEmbeddingModel/ModelWord2vecSetelahPembagianData/word2vec_sg_16.model\")\n"
   ]
  },
  {
   "cell_type": "code",
   "execution_count": 297,
   "id": "0f06510c",
   "metadata": {},
   "outputs": [
    {
     "name": "stdout",
     "output_type": "stream",
     "text": [
      "78036656.0\n"
     ]
    }
   ],
   "source": [
    "# Melihat training loss model word embedding dengan teknik word2vec dengan sg 16\n",
    "training_loss = model.get_latest_training_loss()\n",
    "print(training_loss)"
   ]
  },
  {
   "cell_type": "code",
   "execution_count": 298,
   "id": "7a4ec30b",
   "metadata": {},
   "outputs": [
    {
     "name": "stdout",
     "output_type": "stream",
     "text": [
      "banyak kata ada di model 646\n",
      "banyak kata tidak ada di model 255\n",
      "0.22825365305531284\n"
     ]
    }
   ],
   "source": [
    "# nilai relatedness model sg 16\n",
    "print(relatedness(model))"
   ]
  },
  {
   "cell_type": "code",
   "execution_count": 299,
   "id": "de69c026",
   "metadata": {},
   "outputs": [
    {
     "name": "stdout",
     "output_type": "stream",
     "text": [
      "true_predicted 10 0.005208333333333333\n",
      "false_predicted 1910 0.9947916666666666\n",
      "banyak kata ada di model 1544\n",
      "banyak kata tidak ada di model 356\n"
     ]
    }
   ],
   "source": [
    "# nilai word analogy model sg 16\n",
    "word_analogy(model)"
   ]
  },
  {
   "cell_type": "code",
   "execution_count": 300,
   "id": "1de66fc3",
   "metadata": {},
   "outputs": [
    {
     "name": "stdout",
     "output_type": "stream",
     "text": [
      "Total training time: 0 hours 11 minutes 21 seconds\n"
     ]
    }
   ],
   "source": [
    "# Membuat model word embedding dengan teknik word2vec dengan cbow 17\n",
    "\n",
    "# waktu mulai\n",
    "start_time = time.time()\n",
    "\n",
    "model = Word2Vec(sentences=list_of_sentences_for_model, vector_size=60, min_count=1, workers = 10, compute_loss=True,  window=5, sg = 0, cbow_mean = 0, alpha = 0.01, seed = 10, epochs = 1000)\n",
    "\n",
    "# waktu selesai\n",
    "end_time = time.time()\n",
    "\n",
    "# hitung waktu training\n",
    "training_time = end_time - start_time\n",
    "\n",
    "# convert ke jam, menit, detik\n",
    "hours = int(training_time // 3600)\n",
    "minutes = int((training_time % 3600) // 60)\n",
    "seconds = int(training_time % 60)\n",
    "\n",
    "print(\"Total training time:\", hours, \"hours\", minutes, \"minutes\", seconds, \"seconds\")\n",
    "\n"
   ]
  },
  {
   "cell_type": "code",
   "execution_count": 301,
   "id": "88319e1e",
   "metadata": {},
   "outputs": [],
   "source": [
    "# save model word embedding dengan teknik word2vec dengan cbow 17\n",
    "model.save(\"/Users/williamnehemia/Documents/Skripsi/TugasAkhir/WordEmbeddingModel/ModelWord2vecSetelahPembagianData/word2vec_cbow_17.model\")\n"
   ]
  },
  {
   "cell_type": "code",
   "execution_count": 311,
   "id": "b2190038",
   "metadata": {},
   "outputs": [],
   "source": [
    "# load model word embedding dengan teknik word2vec dengan cbow 17\n",
    "model = Word2Vec.load(\"/Users/williamnehemia/Documents/Skripsi/TugasAkhir/WordEmbeddingModel/ModelWord2vecSetelahPembagianData/word2vec_cbow_17.model\")\n"
   ]
  },
  {
   "cell_type": "code",
   "execution_count": 303,
   "id": "e345b126",
   "metadata": {},
   "outputs": [
    {
     "name": "stdout",
     "output_type": "stream",
     "text": [
      "67364464.0\n"
     ]
    }
   ],
   "source": [
    "# Melihat training loss model word embedding dengan teknik word2vec dengan cbow 17\n",
    "training_loss = model.get_latest_training_loss()\n",
    "print(training_loss)\n"
   ]
  },
  {
   "cell_type": "code",
   "execution_count": 304,
   "id": "bceb9f78",
   "metadata": {},
   "outputs": [
    {
     "name": "stdout",
     "output_type": "stream",
     "text": [
      "banyak kata ada di model 646\n",
      "banyak kata tidak ada di model 255\n",
      "-0.029133416396958427\n"
     ]
    }
   ],
   "source": [
    "# nilai relatedness model cbow 17\n",
    "print(relatedness(model))\n"
   ]
  },
  {
   "cell_type": "code",
   "execution_count": 312,
   "id": "fc5b7e91",
   "metadata": {},
   "outputs": [
    {
     "name": "stdout",
     "output_type": "stream",
     "text": [
      "true_predicted 5 0.0026041666666666665\n",
      "false_predicted 1915 0.9973958333333334\n",
      "banyak kata ada di model 1544\n",
      "banyak kata tidak ada di model 356\n"
     ]
    }
   ],
   "source": [
    "# nilai word analogy model cbow 17\n",
    "word_analogy(model)\n"
   ]
  },
  {
   "cell_type": "code",
   "execution_count": 305,
   "id": "daf596fa",
   "metadata": {},
   "outputs": [
    {
     "name": "stdout",
     "output_type": "stream",
     "text": [
      "Total training time: 0 hours 34 minutes 3 seconds\n"
     ]
    }
   ],
   "source": [
    "# Membuat model word embedding dengan teknik word2vec dengan sg 17\n",
    "\n",
    "# waktu mulai\n",
    "start_time = time.time()\n",
    "\n",
    "model = Word2Vec(sentences=list_of_sentences_for_model, vector_size=60, min_count=1, workers = 10, compute_loss=True,  window=5, sg = 1, alpha = 0.01, seed = 10, epochs = 1000)\n",
    "\n",
    "\n",
    "# waktu selesai\n",
    "end_time = time.time()\n",
    "\n",
    "# hitung waktu training\n",
    "training_time = end_time - start_time\n",
    "\n",
    "# convert ke jam, menit, detik\n",
    "hours = int(training_time // 3600)\n",
    "minutes = int((training_time % 3600) // 60)\n",
    "seconds = int(training_time % 60)\n",
    "\n",
    "print(\"Total training time:\", hours, \"hours\", minutes, \"minutes\", seconds, \"seconds\")\n",
    "\n"
   ]
  },
  {
   "cell_type": "code",
   "execution_count": 306,
   "id": "a85accb2",
   "metadata": {},
   "outputs": [],
   "source": [
    "# save model word embedding dengan teknik word2vec dengan sg 17\n",
    "model.save(\"/Users/williamnehemia/Documents/Skripsi/TugasAkhir/WordEmbeddingModel/ModelWord2vecSetelahPembagianData/word2vec_sg_17.model\")\n"
   ]
  },
  {
   "cell_type": "code",
   "execution_count": 307,
   "id": "2af4b766",
   "metadata": {},
   "outputs": [],
   "source": [
    "# load model word embedding dengan teknik word2vec dengan sg 17\n",
    "model = Word2Vec.load(\"/Users/williamnehemia/Documents/Skripsi/TugasAkhir/WordEmbeddingModel/ModelWord2vecSetelahPembagianData/word2vec_sg_17.model\")\n"
   ]
  },
  {
   "cell_type": "code",
   "execution_count": 308,
   "id": "3b490d13",
   "metadata": {},
   "outputs": [
    {
     "name": "stdout",
     "output_type": "stream",
     "text": [
      "78384424.0\n"
     ]
    }
   ],
   "source": [
    "# Melihat training loss model word embedding dengan teknik word2vec dengan sg 17\n",
    "training_loss = model.get_latest_training_loss()\n",
    "print(training_loss)"
   ]
  },
  {
   "cell_type": "code",
   "execution_count": 309,
   "id": "bdacdede",
   "metadata": {},
   "outputs": [
    {
     "name": "stdout",
     "output_type": "stream",
     "text": [
      "banyak kata ada di model 646\n",
      "banyak kata tidak ada di model 255\n",
      "0.19290610898744717\n"
     ]
    }
   ],
   "source": [
    "# nilai relatedness model sg 17\n",
    "print(relatedness(model))"
   ]
  },
  {
   "cell_type": "code",
   "execution_count": 310,
   "id": "b679616d",
   "metadata": {},
   "outputs": [
    {
     "name": "stdout",
     "output_type": "stream",
     "text": [
      "true_predicted 8 0.004166666666666667\n",
      "false_predicted 1912 0.9958333333333333\n",
      "banyak kata ada di model 1544\n",
      "banyak kata tidak ada di model 356\n"
     ]
    }
   ],
   "source": [
    "# nilai word analogy model sg 17\n",
    "word_analogy(model)"
   ]
  },
  {
   "cell_type": "code",
   "execution_count": 313,
   "id": "549acbd7",
   "metadata": {},
   "outputs": [
    {
     "name": "stdout",
     "output_type": "stream",
     "text": [
      "Total training time: 0 hours 8 minutes 0 seconds\n"
     ]
    }
   ],
   "source": [
    "# Membuat model word embedding dengan teknik word2vec dengan cbow 18\n",
    "\n",
    "# waktu mulai\n",
    "start_time = time.time()\n",
    "\n",
    "model = Word2Vec(sentences=list_of_sentences_for_model, vector_size=70, min_count=1, workers = 10, compute_loss=True,  window=5, sg = 0, cbow_mean = 0, alpha = 0.01, seed = 10, epochs = 1000)\n",
    "\n",
    "# waktu selesai\n",
    "end_time = time.time()\n",
    "\n",
    "# hitung waktu training\n",
    "training_time = end_time - start_time\n",
    "\n",
    "# convert ke jam, menit, detik\n",
    "hours = int(training_time // 3600)\n",
    "minutes = int((training_time % 3600) // 60)\n",
    "seconds = int(training_time % 60)\n",
    "\n",
    "print(\"Total training time:\", hours, \"hours\", minutes, \"minutes\", seconds, \"seconds\")\n",
    "\n"
   ]
  },
  {
   "cell_type": "code",
   "execution_count": 314,
   "id": "1c5acd96",
   "metadata": {},
   "outputs": [],
   "source": [
    "# save model word embedding dengan teknik word2vec dengan cbow 18\n",
    "model.save(\"/Users/williamnehemia/Documents/Skripsi/TugasAkhir/WordEmbeddingModel/ModelWord2vecSetelahPembagianData/word2vec_cbow_18.model\")\n"
   ]
  },
  {
   "cell_type": "code",
   "execution_count": 315,
   "id": "ee11f609",
   "metadata": {},
   "outputs": [],
   "source": [
    "# load model word embedding dengan teknik word2vec dengan cbow 18\n",
    "model = Word2Vec.load(\"/Users/williamnehemia/Documents/Skripsi/TugasAkhir/WordEmbeddingModel/ModelWord2vecSetelahPembagianData/word2vec_cbow_18.model\")\n"
   ]
  },
  {
   "cell_type": "code",
   "execution_count": 316,
   "id": "534ece4c",
   "metadata": {},
   "outputs": [
    {
     "name": "stdout",
     "output_type": "stream",
     "text": [
      "65539420.0\n"
     ]
    }
   ],
   "source": [
    "# Melihat training loss model word embedding dengan teknik word2vec dengan cbow 18\n",
    "training_loss = model.get_latest_training_loss()\n",
    "print(training_loss)\n"
   ]
  },
  {
   "cell_type": "code",
   "execution_count": 317,
   "id": "a840076d",
   "metadata": {},
   "outputs": [
    {
     "name": "stdout",
     "output_type": "stream",
     "text": [
      "banyak kata ada di model 646\n",
      "banyak kata tidak ada di model 255\n",
      "-0.03523602983532038\n"
     ]
    }
   ],
   "source": [
    "# nilai relatedness model cbow 18\n",
    "print(relatedness(model))\n"
   ]
  },
  {
   "cell_type": "code",
   "execution_count": 318,
   "id": "77bd5068",
   "metadata": {},
   "outputs": [
    {
     "name": "stdout",
     "output_type": "stream",
     "text": [
      "true_predicted 3 0.0015625\n",
      "false_predicted 1917 0.9984375\n",
      "banyak kata ada di model 1544\n",
      "banyak kata tidak ada di model 356\n"
     ]
    }
   ],
   "source": [
    "# nilai word analogy model cbow 18\n",
    "word_analogy(model)\n"
   ]
  },
  {
   "cell_type": "code",
   "execution_count": 319,
   "id": "76d1041a",
   "metadata": {},
   "outputs": [
    {
     "name": "stdout",
     "output_type": "stream",
     "text": [
      "Total training time: 0 hours 34 minutes 13 seconds\n"
     ]
    }
   ],
   "source": [
    "# Membuat model word embedding dengan teknik word2vec dengan sg 18\n",
    "\n",
    "# waktu mulai\n",
    "start_time = time.time()\n",
    "\n",
    "model = Word2Vec(sentences=list_of_sentences_for_model, vector_size=70, min_count=1, workers = 10, compute_loss=True,  window=5, sg = 1, alpha = 0.01, seed = 10, epochs = 1000)\n",
    "\n",
    "\n",
    "# waktu selesai\n",
    "end_time = time.time()\n",
    "\n",
    "# hitung waktu training\n",
    "training_time = end_time - start_time\n",
    "\n",
    "# convert ke jam, menit, detik\n",
    "hours = int(training_time // 3600)\n",
    "minutes = int((training_time % 3600) // 60)\n",
    "seconds = int(training_time % 60)\n",
    "\n",
    "print(\"Total training time:\", hours, \"hours\", minutes, \"minutes\", seconds, \"seconds\")\n",
    "\n"
   ]
  },
  {
   "cell_type": "code",
   "execution_count": 320,
   "id": "18ad68e2",
   "metadata": {},
   "outputs": [],
   "source": [
    "# save model word embedding dengan teknik word2vec dengan sg 18\n",
    "model.save(\"/Users/williamnehemia/Documents/Skripsi/TugasAkhir/WordEmbeddingModel/ModelWord2vecSetelahPembagianData/word2vec_sg_18.model\")\n"
   ]
  },
  {
   "cell_type": "code",
   "execution_count": 321,
   "id": "3b0d0fc7",
   "metadata": {},
   "outputs": [],
   "source": [
    "# load model word embedding dengan teknik word2vec dengan sg 18\n",
    "model = Word2Vec.load(\"/Users/williamnehemia/Documents/Skripsi/TugasAkhir/WordEmbeddingModel/ModelWord2vecSetelahPembagianData/word2vec_sg_18.model\")\n"
   ]
  },
  {
   "cell_type": "code",
   "execution_count": 322,
   "id": "249ed90a",
   "metadata": {},
   "outputs": [
    {
     "name": "stdout",
     "output_type": "stream",
     "text": [
      "78423800.0\n"
     ]
    }
   ],
   "source": [
    "# Melihat training loss model word embedding dengan teknik word2vec dengan sg 18\n",
    "training_loss = model.get_latest_training_loss()\n",
    "print(training_loss)"
   ]
  },
  {
   "cell_type": "code",
   "execution_count": 323,
   "id": "0e398dda",
   "metadata": {},
   "outputs": [
    {
     "name": "stdout",
     "output_type": "stream",
     "text": [
      "banyak kata ada di model 646\n",
      "banyak kata tidak ada di model 255\n",
      "0.2383916951280997\n"
     ]
    }
   ],
   "source": [
    "# nilai relatedness model sg 18\n",
    "print(relatedness(model))"
   ]
  },
  {
   "cell_type": "code",
   "execution_count": 324,
   "id": "842cfc52",
   "metadata": {},
   "outputs": [
    {
     "name": "stdout",
     "output_type": "stream",
     "text": [
      "true_predicted 7 0.0036458333333333334\n",
      "false_predicted 1913 0.9963541666666667\n",
      "banyak kata ada di model 1544\n",
      "banyak kata tidak ada di model 356\n"
     ]
    }
   ],
   "source": [
    "# nilai word analogy model sg 18\n",
    "word_analogy(model)"
   ]
  },
  {
   "cell_type": "code",
   "execution_count": 325,
   "id": "7f677fe1",
   "metadata": {},
   "outputs": [
    {
     "name": "stdout",
     "output_type": "stream",
     "text": [
      "Total training time: 0 hours 13 minutes 0 seconds\n"
     ]
    }
   ],
   "source": [
    "# Membuat model word embedding dengan teknik word2vec dengan cbow 19\n",
    "\n",
    "# waktu mulai\n",
    "start_time = time.time()\n",
    "\n",
    "model = Word2Vec(sentences=list_of_sentences_for_model, vector_size=80, min_count=1, workers = 10, compute_loss=True,  window=5, sg = 0, cbow_mean = 0, alpha = 0.01, seed = 10, epochs = 1000)\n",
    "\n",
    "# waktu selesai\n",
    "end_time = time.time()\n",
    "\n",
    "# hitung waktu training\n",
    "training_time = end_time - start_time\n",
    "\n",
    "# convert ke jam, menit, detik\n",
    "hours = int(training_time // 3600)\n",
    "minutes = int((training_time % 3600) // 60)\n",
    "seconds = int(training_time % 60)\n",
    "\n",
    "print(\"Total training time:\", hours, \"hours\", minutes, \"minutes\", seconds, \"seconds\")\n",
    "\n"
   ]
  },
  {
   "cell_type": "code",
   "execution_count": 326,
   "id": "249eeab6",
   "metadata": {},
   "outputs": [],
   "source": [
    "# save model word embedding dengan teknik word2vec dengan cbow 19\n",
    "model.save(\"/Users/williamnehemia/Documents/Skripsi/TugasAkhir/WordEmbeddingModel/ModelWord2vecSetelahPembagianData/word2vec_cbow_19.model\")\n"
   ]
  },
  {
   "cell_type": "code",
   "execution_count": 327,
   "id": "93c87118",
   "metadata": {},
   "outputs": [],
   "source": [
    "# load model word embedding dengan teknik word2vec dengan cbow 19\n",
    "model = Word2Vec.load(\"/Users/williamnehemia/Documents/Skripsi/TugasAkhir/WordEmbeddingModel/ModelWord2vecSetelahPembagianData/word2vec_cbow_19.model\")\n"
   ]
  },
  {
   "cell_type": "code",
   "execution_count": 328,
   "id": "1f8a7c5e",
   "metadata": {},
   "outputs": [
    {
     "name": "stdout",
     "output_type": "stream",
     "text": [
      "65042524.0\n"
     ]
    }
   ],
   "source": [
    "# Melihat training loss model word embedding dengan teknik word2vec dengan cbow 19\n",
    "training_loss = model.get_latest_training_loss()\n",
    "print(training_loss)\n"
   ]
  },
  {
   "cell_type": "code",
   "execution_count": 329,
   "id": "a99663c8",
   "metadata": {},
   "outputs": [
    {
     "name": "stdout",
     "output_type": "stream",
     "text": [
      "banyak kata ada di model 646\n",
      "banyak kata tidak ada di model 255\n",
      "-0.03151317007188634\n"
     ]
    }
   ],
   "source": [
    "# nilai relatedness model cbow 19\n",
    "print(relatedness(model))\n"
   ]
  },
  {
   "cell_type": "code",
   "execution_count": 330,
   "id": "b1a9cfc3",
   "metadata": {},
   "outputs": [
    {
     "name": "stdout",
     "output_type": "stream",
     "text": [
      "banyak kata ada di model 646\n",
      "banyak kata tidak ada di model 255\n",
      "-0.03151317007188634\n"
     ]
    }
   ],
   "source": [
    "# nilai relatedness model cbow 19\n",
    "print(relatedness(model))\n"
   ]
  },
  {
   "cell_type": "code",
   "execution_count": 331,
   "id": "e41e97a1",
   "metadata": {},
   "outputs": [
    {
     "name": "stdout",
     "output_type": "stream",
     "text": [
      "true_predicted 4 0.0020833333333333333\n",
      "false_predicted 1916 0.9979166666666667\n",
      "banyak kata ada di model 1544\n",
      "banyak kata tidak ada di model 356\n"
     ]
    }
   ],
   "source": [
    "# nilai word analogy model cbow 19\n",
    "word_analogy(model)\n"
   ]
  },
  {
   "cell_type": "code",
   "execution_count": 332,
   "id": "ef16f2dc",
   "metadata": {},
   "outputs": [
    {
     "name": "stdout",
     "output_type": "stream",
     "text": [
      "Total training time: 0 hours 40 minutes 52 seconds\n"
     ]
    }
   ],
   "source": [
    "# Membuat model word embedding dengan teknik word2vec dengan sg 19\n",
    "\n",
    "# waktu mulai\n",
    "start_time = time.time()\n",
    "\n",
    "model = Word2Vec(sentences=list_of_sentences_for_model, vector_size=80, min_count=1, workers = 10, compute_loss=True,  window=5, sg = 1, alpha = 0.01, seed = 10, epochs = 1000)\n",
    "\n",
    "\n",
    "# waktu selesai\n",
    "end_time = time.time()\n",
    "\n",
    "# hitung waktu training\n",
    "training_time = end_time - start_time\n",
    "\n",
    "# convert ke jam, menit, detik\n",
    "hours = int(training_time // 3600)\n",
    "minutes = int((training_time % 3600) // 60)\n",
    "seconds = int(training_time % 60)\n",
    "\n",
    "print(\"Total training time:\", hours, \"hours\", minutes, \"minutes\", seconds, \"seconds\")\n",
    "\n"
   ]
  },
  {
   "cell_type": "code",
   "execution_count": 333,
   "id": "8670c7ac",
   "metadata": {},
   "outputs": [],
   "source": [
    "# save model word embedding dengan teknik word2vec dengan sg 19\n",
    "model.save(\"/Users/williamnehemia/Documents/Skripsi/TugasAkhir/WordEmbeddingModel/ModelWord2vecSetelahPembagianData/word2vec_sg_19.model\")\n"
   ]
  },
  {
   "cell_type": "code",
   "execution_count": 334,
   "id": "918b3ea6",
   "metadata": {},
   "outputs": [],
   "source": [
    "# load model word embedding dengan teknik word2vec dengan sg 19\n",
    "model = Word2Vec.load(\"/Users/williamnehemia/Documents/Skripsi/TugasAkhir/WordEmbeddingModel/ModelWord2vecSetelahPembagianData/word2vec_sg_19.model\")\n"
   ]
  },
  {
   "cell_type": "code",
   "execution_count": 335,
   "id": "0b1f0c10",
   "metadata": {},
   "outputs": [
    {
     "name": "stdout",
     "output_type": "stream",
     "text": [
      "78661864.0\n"
     ]
    }
   ],
   "source": [
    "# Melihat training loss model word embedding dengan teknik word2vec dengan sg 19\n",
    "training_loss = model.get_latest_training_loss()\n",
    "print(training_loss)"
   ]
  },
  {
   "cell_type": "code",
   "execution_count": 336,
   "id": "c6e11565",
   "metadata": {},
   "outputs": [
    {
     "name": "stdout",
     "output_type": "stream",
     "text": [
      "banyak kata ada di model 646\n",
      "banyak kata tidak ada di model 255\n",
      "0.217856625346562\n"
     ]
    }
   ],
   "source": [
    "# nilai relatedness model sg 19\n",
    "print(relatedness(model))"
   ]
  },
  {
   "cell_type": "code",
   "execution_count": 337,
   "id": "55e4fe51",
   "metadata": {},
   "outputs": [
    {
     "name": "stdout",
     "output_type": "stream",
     "text": [
      "true_predicted 9 0.0046875\n",
      "false_predicted 1911 0.9953125\n",
      "banyak kata ada di model 1544\n",
      "banyak kata tidak ada di model 356\n"
     ]
    }
   ],
   "source": [
    "# nilai word analogy model sg 19\n",
    "word_analogy(model)"
   ]
  },
  {
   "cell_type": "code",
   "execution_count": null,
   "id": "908bb064",
   "metadata": {},
   "outputs": [],
   "source": []
  }
 ],
 "metadata": {
  "kernelspec": {
   "display_name": "Python 3 (ipykernel)",
   "language": "python",
   "name": "python3"
  },
  "language_info": {
   "codemirror_mode": {
    "name": "ipython",
    "version": 3
   },
   "file_extension": ".py",
   "mimetype": "text/x-python",
   "name": "python",
   "nbconvert_exporter": "python",
   "pygments_lexer": "ipython3",
   "version": "3.11.5"
  }
 },
 "nbformat": 4,
 "nbformat_minor": 5
}
