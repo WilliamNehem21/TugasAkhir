{
 "cells": [
  {
   "cell_type": "code",
   "execution_count": 26,
   "id": "2138fb96",
   "metadata": {},
   "outputs": [],
   "source": [
    "# Import library\n",
    "import re\n",
    "import os\n",
    "import shutil\n",
    "from nltk.tokenize import word_tokenize\n",
    "from nltk.tokenize import RegexpTokenizer\n",
    "from gensim.models import Word2Vec"
   ]
  },
  {
   "cell_type": "code",
   "execution_count": 19,
   "id": "dd57b04f",
   "metadata": {},
   "outputs": [],
   "source": [
    "# Ambil file asli dari folder\n",
    "directory_path_real = '/Users/williamnehemia/Documents/Skripsi/TugasAkhir/DataPreprocessing/DataTahap7(DataCleaning)'\n",
    "\n",
    "files_real = os.listdir(directory_path_real)\n",
    "list_files_real = []\n",
    "\n",
    "# Ambil daftar nama file\n",
    "for file in files_real:\n",
    "    if '.DS_Store' not in file:\n",
    "        list_files_real.append(file)\n",
    "        \n",
    "all_text_real = \"\"\n",
    "for file in list_files_real:\n",
    "    with open('/Users/williamnehemia/Documents/Skripsi/TugasAkhir/DataPreprocessing/DataTahap7(DataCleaning)/' + file, 'r') as fileNow:\n",
    "        content = fileNow.read()\n",
    "        all_text_real += content\n"
   ]
  },
  {
   "cell_type": "code",
   "execution_count": 20,
   "id": "07df6ac8",
   "metadata": {},
   "outputs": [],
   "source": [
    "# Ambil file parafrasa dari folder\n",
    "directory_path_paraphrased = '/Users/williamnehemia/Documents/Skripsi/TugasAkhir/DataPreprocessing/DataTahap9(ParaphrasedPaper)'\n",
    "\n",
    "files_paraphrased = os.listdir(directory_path_paraphrased)\n",
    "list_files_paraphrased = []\n",
    "\n",
    "# Ambil daftar nama file\n",
    "for file in files_paraphrased:\n",
    "    if '.DS_Store' not in file:\n",
    "        list_files_paraphrased.append(file)\n",
    "        \n",
    "all_text_paraphrased = \"\"\n",
    "for file in list_files_paraphrased:\n",
    "    with open('/Users/williamnehemia/Documents/Skripsi/TugasAkhir/DataPreprocessing/DataTahap9(ParaphrasedPaper)/' + file, 'r') as fileNow:\n",
    "        content = fileNow.read()\n",
    "        all_text_paraphrased += content\n",
    "        \n"
   ]
  },
  {
   "cell_type": "code",
   "execution_count": 21,
   "id": "78708dc2",
   "metadata": {},
   "outputs": [
    {
     "name": "stderr",
     "output_type": "stream",
     "text": [
      "IOPub data rate exceeded.\n",
      "The notebook server will temporarily stop sending output\n",
      "to the client in order to avoid crashing it.\n",
      "To change this limit, set the config variable\n",
      "`--NotebookApp.iopub_data_rate_limit`.\n",
      "\n",
      "Current values:\n",
      "NotebookApp.iopub_data_rate_limit=1000000.0 (bytes/sec)\n",
      "NotebookApp.rate_limit_window=3.0 (secs)\n",
      "\n"
     ]
    }
   ],
   "source": [
    "# Print text asli\n",
    "print(all_text_real)"
   ]
  },
  {
   "cell_type": "code",
   "execution_count": 22,
   "id": "7739cfed",
   "metadata": {},
   "outputs": [
    {
     "name": "stderr",
     "output_type": "stream",
     "text": [
      "IOPub data rate exceeded.\n",
      "The notebook server will temporarily stop sending output\n",
      "to the client in order to avoid crashing it.\n",
      "To change this limit, set the config variable\n",
      "`--NotebookApp.iopub_data_rate_limit`.\n",
      "\n",
      "Current values:\n",
      "NotebookApp.iopub_data_rate_limit=1000000.0 (bytes/sec)\n",
      "NotebookApp.rate_limit_window=3.0 (secs)\n",
      "\n"
     ]
    }
   ],
   "source": [
    "# Print text paraphrased\n",
    "print(all_text_paraphrased)"
   ]
  },
  {
   "cell_type": "code",
   "execution_count": 23,
   "id": "881764bb",
   "metadata": {},
   "outputs": [],
   "source": [
    "# Melakukan lowercase lagi\n",
    "all_text_real = all_text_real.lower()\n",
    "all_text_paraphrased = all_text_paraphrased.lower()"
   ]
  },
  {
   "cell_type": "code",
   "execution_count": 24,
   "id": "a8b1ee75",
   "metadata": {},
   "outputs": [
    {
     "name": "stdout",
     "output_type": "stream",
     "text": [
      "['computer-aided structure-activity based prediction studies in drug design helps to treat diseases with novel biomarkers', ' prediction of activity spectra for substances(pass) database comprised 46,000 biologically well-known active drugs and screening are performed before the establishment of an in vitro experiment', ' pass gives the significant bioactivities of chemical compounds as pa(probable activity) and pi(probable inactivity) values to mention the compounds, whether they are active are inactive', ' the pa values higher than 0', '7 indicated this compound would be active in experiment and pi values indicate theirs inactivate possibilities', ' the admetsar chemoinformatics based tool used to predict absorption, metabolism, excretion, and toxicity of the particular compound', ' based on these criteria, the outcomes of an in vitro experiment will lower the risk of negative results[13,14]', '\\n\\n\\n\\nclc-pred tools performed to predict cytotoxicity of tumor cell lines, and it is based on structure-cell line cytotoxicity relationships designed by pass special training sets with leave-one-out cross-validation procedure', ' the accuracy of in silico prediction results significantly 96% matches with the results of in vivo experimental', ' the efficiency of compounds against cancer could be found and optimized using this pass based clc-pred database in the future to develop potential anti-cancer drugs']\n",
      "['computer-aided prediction studies in drug design, which utilize activity spectra for substances (pass) database, help in the identification and treatment of diseases using novel biomarkers', ' the pass database, which comprises 46,000 biologically well-known active drugs, is used to screen substances before conducting in vitro experiments', ' the database provides important bioactivity information for chemical compounds, distinguishing between probable activity (pa) and probable inactivity (pi) values', ' compounds with pa values higher than 0', '7 are likely to be active in experiments, while pi values indicate their inactivity possibilities', ' additionally, the admet-sar chemoinformatics tool is employed to predict the absorption, metabolism, excretion, and toxicity of specific compounds, thus aiding in lowering the risk of negative in vitro experiment results', '\\n\\nfurthermore, the clc-pred tool is utilized to predict the cytotoxicity of tumor cell lines based on structure-cell line cytotoxicity relationships crafted by special training sets within the pass database', ' this approach exhibits an accuracy rate of 96% when compared to in vivo experimental results, enabling the identification and optimization of compounds with potential anti-cancer properties', ' predicted cytotoxicity results against various human cell lines are indicated by pa values greater than 0', '5, signifying considerable probability of action, while pi values indicate inactivity']\n"
     ]
    }
   ],
   "source": [
    "# Memisahkan text per kalimat (menggunakan delimiter titik)\n",
    "list_of_sentences_real = []\n",
    "list_of_sentences_paraphrased = []\n",
    "\n",
    "list_of_sentences_real = all_text_real.split('.')\n",
    "list_of_sentences_paraphrased = all_text_paraphrased.split('.')\n",
    "\n",
    "print(list_of_sentences_real[0:10])\n",
    "print(list_of_sentences_paraphrased[0:10])"
   ]
  },
  {
   "cell_type": "code",
   "execution_count": 25,
   "id": "760497a9",
   "metadata": {},
   "outputs": [
    {
     "name": "stdout",
     "output_type": "stream",
     "text": [
      "[['computer', 'aided', 'structure', 'activity', 'based', 'prediction', 'studies', 'in', 'drug', 'design', 'helps', 'to', 'treat', 'diseases', 'with', 'novel', 'biomarkers'], ['prediction', 'of', 'activity', 'spectra', 'for', 'substances', 'pass', 'database', 'comprised', 'biologically', 'well', 'known', 'active', 'drugs', 'and', 'screening', 'are', 'performed', 'before', 'the', 'establishment', 'of', 'an', 'in', 'vitro', 'experiment'], ['pass', 'gives', 'the', 'significant', 'bioactivities', 'of', 'chemical', 'compounds', 'as', 'pa', 'probable', 'activity', 'and', 'pi', 'probable', 'inactivity', 'values', 'to', 'mention', 'the', 'compounds', 'whether', 'they', 'are', 'active', 'are', 'inactive'], ['the', 'pa', 'values', 'higher', 'than'], ['indicated', 'this', 'compound', 'would', 'be', 'active', 'in', 'experiment', 'and', 'pi', 'values', 'indicate', 'theirs', 'inactivate', 'possibilities'], ['the', 'admetsar', 'chemoinformatics', 'based', 'tool', 'used', 'to', 'predict', 'absorption', 'metabolism', 'excretion', 'and', 'toxicity', 'of', 'the', 'particular', 'compound'], ['based', 'on', 'these', 'criteria', 'the', 'outcomes', 'of', 'an', 'in', 'vitro', 'experiment', 'will', 'lower', 'the', 'risk', 'of', 'negative', 'results'], ['clc', 'pred', 'tools', 'performed', 'to', 'predict', 'cytotoxicity', 'of', 'tumor', 'cell', 'lines', 'and', 'it', 'is', 'based', 'on', 'structure', 'cell', 'line', 'cytotoxicity', 'relationships', 'designed', 'by', 'pass', 'special', 'training', 'sets', 'with', 'leave', 'one', 'out', 'cross', 'validation', 'procedure'], ['the', 'accuracy', 'of', 'in', 'silico', 'prediction', 'results', 'significantly', 'matches', 'with', 'the', 'results', 'of', 'in', 'vivo', 'experimental'], ['the', 'efficiency', 'of', 'compounds', 'against', 'cancer', 'could', 'be', 'found', 'and', 'optimized', 'using', 'this', 'pass', 'based', 'clc', 'pred', 'database', 'in', 'the', 'future', 'to', 'develop', 'potential', 'anti', 'cancer', 'drugs']]\n",
      "[['computer', 'aided', 'prediction', 'studies', 'in', 'drug', 'design', 'which', 'utilize', 'activity', 'spectra', 'for', 'substances', 'pass', 'database', 'help', 'in', 'the', 'identification', 'and', 'treatment', 'of', 'diseases', 'using', 'novel', 'biomarkers'], ['the', 'pass', 'database', 'which', 'comprises', 'biologically', 'well', 'known', 'active', 'drugs', 'is', 'used', 'to', 'screen', 'substances', 'before', 'conducting', 'in', 'vitro', 'experiments'], ['the', 'database', 'provides', 'important', 'bioactivity', 'information', 'for', 'chemical', 'compounds', 'distinguishing', 'between', 'probable', 'activity', 'pa', 'and', 'probable', 'inactivity', 'pi', 'values'], ['compounds', 'with', 'pa', 'values', 'higher', 'than'], ['are', 'likely', 'to', 'be', 'active', 'in', 'experiments', 'while', 'pi', 'values', 'indicate', 'their', 'inactivity', 'possibilities'], ['additionally', 'the', 'admet', 'sar', 'chemoinformatics', 'tool', 'is', 'employed', 'to', 'predict', 'the', 'absorption', 'metabolism', 'excretion', 'and', 'toxicity', 'of', 'specific', 'compounds', 'thus', 'aiding', 'in', 'lowering', 'the', 'risk', 'of', 'negative', 'in', 'vitro', 'experiment', 'results'], ['furthermore', 'the', 'clc', 'pred', 'tool', 'is', 'utilized', 'to', 'predict', 'the', 'cytotoxicity', 'of', 'tumor', 'cell', 'lines', 'based', 'on', 'structure', 'cell', 'line', 'cytotoxicity', 'relationships', 'crafted', 'by', 'special', 'training', 'sets', 'within', 'the', 'pass', 'database'], ['this', 'approach', 'exhibits', 'an', 'accuracy', 'rate', 'of', 'when', 'compared', 'to', 'in', 'vivo', 'experimental', 'results', 'enabling', 'the', 'identification', 'and', 'optimization', 'of', 'compounds', 'with', 'potential', 'anti', 'cancer', 'properties'], ['predicted', 'cytotoxicity', 'results', 'against', 'various', 'human', 'cell', 'lines', 'are', 'indicated', 'by', 'pa', 'values', 'greater', 'than'], ['signifying', 'considerable', 'probability', 'of', 'action', 'while', 'pi', 'values', 'indicate', 'inactivity']]\n"
     ]
    }
   ],
   "source": [
    "# melakukan tokenisasi\n",
    "\n",
    "list_of_sentences_real_for_model = []\n",
    "list_of_sentences_paraphrased_for_model = []\n",
    "\n",
    "tokenizer = RegexpTokenizer(r'[a-zA-Z]+')\n",
    "\n",
    "for sentence in list_of_sentences_real:\n",
    "    sentence_tokenized = tokenizer.tokenize(sentence)\n",
    "    list_of_sentences_real_for_model.append(sentence_tokenized)\n",
    "\n",
    "for sentence in list_of_sentences_paraphrased:\n",
    "    sentence_tokenized = tokenizer.tokenize(sentence)\n",
    "    list_of_sentences_paraphrased_for_model.append(sentence_tokenized)\n",
    "\n",
    "print(list_of_sentences_real_for_model[0:10])\n",
    "print(list_of_sentences_paraphrased_for_model[0:10])"
   ]
  },
  {
   "cell_type": "code",
   "execution_count": 27,
   "id": "4d54417a",
   "metadata": {},
   "outputs": [],
   "source": [
    "# Membuat model word embedding dengan teknik word2vec dengan cbow\n",
    "model = Word2Vec(sentences=list_of_sentences_real_for_model, vector_size=20, min_count=1, workers = 10, compute_loss=True,  window=5, sg = 0, cbow_mean = 0, alpha = 0.01, seed = 10, epochs = 1000)\n"
   ]
  },
  {
   "cell_type": "code",
   "execution_count": 30,
   "id": "efd627b0",
   "metadata": {},
   "outputs": [],
   "source": [
    "# Membuat model word embedding dengan teknik word2vec dengan skipgram\n",
    "model_word2vec_skipgram_1 = Word2Vec(sentences=text, vector_size=150, min_count=1, workers = 10, compute_loss=True,  window=5, sg = 1, alpha = 0.01, seed = 10, epochs = 1000)\n"
   ]
  },
  {
   "cell_type": "code",
   "execution_count": 28,
   "id": "26e9d934",
   "metadata": {},
   "outputs": [
    {
     "name": "stdout",
     "output_type": "stream",
     "text": [
      "134217728.0\n"
     ]
    }
   ],
   "source": [
    "# Melihat training loss\n",
    "training_loss = model.get_latest_training_loss()\n",
    "print(training_loss)"
   ]
  },
  {
   "cell_type": "code",
   "execution_count": 29,
   "id": "bb0d7ae6",
   "metadata": {},
   "outputs": [
    {
     "data": {
      "text/plain": [
       "0.99935967"
      ]
     },
     "execution_count": 29,
     "metadata": {},
     "output_type": "execute_result"
    }
   ],
   "source": [
    "# Print kesamaan dari 2 kata dengan model word2vec  \n",
    "model.wv.similarity('network', 'internet')"
   ]
  },
  {
   "cell_type": "code",
   "execution_count": null,
   "id": "3fa1c08a",
   "metadata": {},
   "outputs": [],
   "source": []
  }
 ],
 "metadata": {
  "kernelspec": {
   "display_name": "Python 3 (ipykernel)",
   "language": "python",
   "name": "python3"
  },
  "language_info": {
   "codemirror_mode": {
    "name": "ipython",
    "version": 3
   },
   "file_extension": ".py",
   "mimetype": "text/x-python",
   "name": "python",
   "nbconvert_exporter": "python",
   "pygments_lexer": "ipython3",
   "version": "3.11.5"
  }
 },
 "nbformat": 4,
 "nbformat_minor": 5
}
